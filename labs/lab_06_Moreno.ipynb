{
 "cells": [
  {
   "cell_type": "markdown",
   "metadata": {},
   "source": [
    "# MAT281 - Laboratorio N°06\n",
    "\n"
   ]
  },
  {
   "cell_type": "markdown",
   "metadata": {},
   "source": [
    "## Problema 01\n",
    "<img src=\"./images/logo_iris.jpg\" width=\"360\" height=\"360\" align=\"center\"/>"
   ]
  },
  {
   "cell_type": "markdown",
   "metadata": {},
   "source": [
    "El **Iris dataset** es un conjunto de datos que contine una  muestras de tres especies de Iris (Iris setosa, Iris virginica e Iris versicolor). Se midió cuatro rasgos de cada muestra: el largo y ancho del sépalo y pétalo, en centímetros.\n",
    "\n",
    "Lo primero es cargar el conjunto de datos y ver las primeras filas que lo componen:"
   ]
  },
  {
   "cell_type": "code",
   "execution_count": 1,
   "metadata": {},
   "outputs": [],
   "source": [
    "# librerias\n",
    " \n",
    "import os\n",
    "import numpy as np\n",
    "import pandas as pd\n",
    "\n",
    "import matplotlib.pyplot as plt\n",
    "import matplotlib.cm as cm\n",
    "import seaborn as sns \n",
    "pd.set_option('display.max_columns', 500)  # Ver más columnas de los dataframes\n",
    "\n",
    "\n",
    "# Ver gráficos de matplotlib en jupyter notebook/lab\n",
    "%matplotlib inline"
   ]
  },
  {
   "cell_type": "code",
   "execution_count": 2,
   "metadata": {},
   "outputs": [
    {
     "data": {
      "text/html": [
       "<div>\n",
       "<style scoped>\n",
       "    .dataframe tbody tr th:only-of-type {\n",
       "        vertical-align: middle;\n",
       "    }\n",
       "\n",
       "    .dataframe tbody tr th {\n",
       "        vertical-align: top;\n",
       "    }\n",
       "\n",
       "    .dataframe thead th {\n",
       "        text-align: right;\n",
       "    }\n",
       "</style>\n",
       "<table border=\"1\" class=\"dataframe\">\n",
       "  <thead>\n",
       "    <tr style=\"text-align: right;\">\n",
       "      <th></th>\n",
       "      <th>sepalLength</th>\n",
       "      <th>sepalWidth</th>\n",
       "      <th>petalLength</th>\n",
       "      <th>petalWidth</th>\n",
       "      <th>species</th>\n",
       "    </tr>\n",
       "  </thead>\n",
       "  <tbody>\n",
       "    <tr>\n",
       "      <th>0</th>\n",
       "      <td>4.4</td>\n",
       "      <td>3.2</td>\n",
       "      <td>1.3</td>\n",
       "      <td>3.0</td>\n",
       "      <td>setosa</td>\n",
       "    </tr>\n",
       "    <tr>\n",
       "      <th>1</th>\n",
       "      <td>7.2</td>\n",
       "      <td>3.6</td>\n",
       "      <td>6.1</td>\n",
       "      <td>2.5</td>\n",
       "      <td>virginica</td>\n",
       "    </tr>\n",
       "    <tr>\n",
       "      <th>2</th>\n",
       "      <td>6.3</td>\n",
       "      <td>3.3</td>\n",
       "      <td>6.0</td>\n",
       "      <td>2.5</td>\n",
       "      <td>VIRGINICA</td>\n",
       "    </tr>\n",
       "    <tr>\n",
       "      <th>3</th>\n",
       "      <td>6.7</td>\n",
       "      <td>3.3</td>\n",
       "      <td>5.7</td>\n",
       "      <td>2.5</td>\n",
       "      <td>virginica</td>\n",
       "    </tr>\n",
       "    <tr>\n",
       "      <th>4</th>\n",
       "      <td>6.3</td>\n",
       "      <td>3.4</td>\n",
       "      <td>5.6</td>\n",
       "      <td>2.4</td>\n",
       "      <td>virginica</td>\n",
       "    </tr>\n",
       "  </tbody>\n",
       "</table>\n",
       "</div>"
      ],
      "text/plain": [
       "   sepalLength  sepalWidth  petalLength  petalWidth     species\n",
       "0          4.4         3.2          1.3         3.0      setosa\n",
       "1          7.2         3.6          6.1         2.5   virginica\n",
       "2          6.3         3.3          6.0         2.5   VIRGINICA\n",
       "3          6.7         3.3          5.7         2.5   virginica\n",
       "4          6.3         3.4          5.6         2.4   virginica"
      ]
     },
     "execution_count": 2,
     "metadata": {},
     "output_type": "execute_result"
    }
   ],
   "source": [
    "# cargar datos\n",
    "df = pd.read_csv(os.path.join(\"data\",\"iris_contaminados.csv\"))\n",
    "df.columns = ['sepalLength',\n",
    "                  'sepalWidth',\n",
    "                  'petalLength',\n",
    "                  'petalWidth',\n",
    "                  'species']\n",
    "\n",
    "df.head() "
   ]
  },
  {
   "cell_type": "markdown",
   "metadata": {},
   "source": [
    "### Bases del experimento\n",
    "\n",
    "Lo primero es identificar las variables que influyen en el estudio y la naturaleza de esta.\n",
    "\n",
    "* **species**: \n",
    "    * Descripción: Nombre de la especie de Iris. \n",
    "    * Tipo de dato: *string*\n",
    "    * Limitantes: solo existen tres tipos (setosa, virginia y versicolor).\n",
    "* **sepalLength**: \n",
    "    * Descripción: largo del sépalo. \n",
    "    * Tipo de dato: *integer*. \n",
    "    * Limitantes: los valores se encuentran entre 4.0 y 7.0 cm.\n",
    "* **sepalWidth**: \n",
    "    * Descripción: ancho del sépalo. \n",
    "    * Tipo de dato: *integer*. \n",
    "    * Limitantes: los valores se encuentran entre 2.0 y 4.5 cm.\n",
    "* **petalLength**: \n",
    "    * Descripción: largo del pétalo. \n",
    "    * Tipo de dato: *integer*. \n",
    "    * Limitantes: los valores se encuentran entre 1.0 y 7.0 cm.\n",
    "* **petalWidth**: \n",
    "    * Descripción: ancho del pépalo. \n",
    "    * Tipo de dato: *integer*. \n",
    "    * Limitantes: los valores se encuentran entre 0.1 y 2.5 cm."
   ]
  },
  {
   "cell_type": "markdown",
   "metadata": {},
   "source": [
    "Su objetivo es realizar un correcto **E.D.A.**, para esto debe seguir las siguientes intrucciones:"
   ]
  },
  {
   "cell_type": "markdown",
   "metadata": {},
   "source": [
    "1. Realizar un conteo de elementos de la columna **species** y corregir según su criterio. Reemplace por \"default\" los valores nan.."
   ]
  },
  {
   "cell_type": "code",
   "execution_count": 3,
   "metadata": {},
   "outputs": [],
   "source": [
    "df['species'].astype('str') #la columna species la paso a tipo string\n",
    "df['species'] = df['species'].str.lower().str.strip() #pongo la columna strings en minúscula y saco los espacios\n",
    "df['species'].fillna(\"default\",inplace = True) #reemplazo valores NaN de la columna species por \"default\""
   ]
  },
  {
   "cell_type": "code",
   "execution_count": 4,
   "metadata": {},
   "outputs": [
    {
     "data": {
      "text/plain": [
       "array(['setosa', 'virginica', 'versicolor', 'default'], dtype=object)"
      ]
     },
     "execution_count": 4,
     "metadata": {},
     "output_type": "execute_result"
    }
   ],
   "source": [
    "df['species'].unique() #veo si mi columna species quedó bien."
   ]
  },
  {
   "cell_type": "code",
   "execution_count": 5,
   "metadata": {},
   "outputs": [],
   "source": [
    "#df.loc[df['sepalLength']==\"default\"] = 0\n",
    "\n",
    "#reemplazos en la columna \"sepalLength\"\n",
    "df.loc[df['sepalLength']==\" nan\"] = \"default\"  #\" nan\" por \"default\"\n",
    "df.loc[df['sepalLength']==\"5.\"] = '5.0' #\"5.\" por 5.0\n",
    "df.loc[df['sepalLength']==\"6.\"] = '6.0'#\"6.\" por 6.0\n",
    "df.loc[df['sepalLength']==\"7.\"] = '7.0' #etc...\n",
    "df.loc[df['sepalLength']==\"8.\"] = '8.0'\n",
    "df.loc[df['sepalLength'].isnull(),'sepalLength'] = 0\n",
    "\n",
    "#reemplazos en la columna \"sepalWidth\"\n",
    "df.loc[df['sepalWidth']==\" nan\"] = \"default\"\n",
    "df.loc[df['sepalWidth']==\"2.\"] = '2.0'\n",
    "df.loc[df['sepalWidth']==\"3.\"] = '3.0'\n",
    "df.loc[df['sepalWidth']==\"4.\"] = '4.0'\n",
    "df.loc[df['sepalWidth']==\"5.\"] = '5.0'\n",
    "df.loc[df['sepalWidth'].isnull(),'sepalWidth'] = 0\n",
    "\n",
    "#reemplazos en la columna \"petalLength\"\n",
    "df.loc[df['petalLength']==\" nan\"] = \"default\"\n",
    "df.loc[df['petalLength']==\"1.\"] = '1.0'\n",
    "df.loc[df['petalLength']==\"3.\"] = '3.0'\n",
    "df.loc[df['petalLength']==\"4.\"] = '4.0'\n",
    "df.loc[df['petalLength']==\"5.\"] = '5.0'\n",
    "df.loc[df['petalLength']==\"6.\"] = '6.0'\n",
    "df.loc[df['petalLength']==\"8.\"] = '8.0'\n",
    "df.loc[df['petalLength'].isnull(),'petalLength'] = 0\n",
    "\n",
    "#reemplazos en la columna \"petalWidth\"            \n",
    "df.loc[df['petalWidth']==\" nan\"] = \"default\"\n",
    "df.loc[df['petalWidth']==\"1.\"] = '1.0'\n",
    "df.loc[df['petalWidth']==\"2.\"] = '2.0'\n",
    "df.loc[df['petalWidth']==\"3.\"] = '3.0'\n",
    "df.loc[df['petalWidth'].isnull(),'petalWidth'] = 0\n",
    "\n"
   ]
  },
  {
   "cell_type": "code",
   "execution_count": 6,
   "metadata": {},
   "outputs": [],
   "source": [
    "#df.dtypes"
   ]
  },
  {
   "cell_type": "code",
   "execution_count": 7,
   "metadata": {},
   "outputs": [],
   "source": [
    "df['species'] = df['species'].astype(str)\n",
    "df['sepalLength'] = df['sepalLength'].astype(float)\n",
    "df['sepalWidth'] = df['sepalWidth'].astype(float)\n",
    "df['petalLength'] = df['petalLength'].astype(float)\n",
    "df['petalWidth'] = df['petalWidth'].astype(float)"
   ]
  },
  {
   "cell_type": "code",
   "execution_count": 8,
   "metadata": {},
   "outputs": [
    {
     "data": {
      "text/plain": [
       "sepalLength    float64\n",
       "sepalWidth     float64\n",
       "petalLength    float64\n",
       "petalWidth     float64\n",
       "species         object\n",
       "dtype: object"
      ]
     },
     "execution_count": 8,
     "metadata": {},
     "output_type": "execute_result"
    }
   ],
   "source": [
    "df.dtypes"
   ]
  },
  {
   "cell_type": "markdown",
   "metadata": {},
   "source": [
    "2. Realizar un gráfico de box-plot sobre el largo y ancho de los petalos y sépalos. Reemplace por **0** los valores nan."
   ]
  },
  {
   "cell_type": "code",
   "execution_count": 9,
   "metadata": {},
   "outputs": [
    {
     "data": {
      "image/png": "[encoded data removed]",
      "text/plain": [
       "<Figure size 720x432 with 1 Axes>"
      ]
     },
     "metadata": {
      "needs_background": "light"
     },
     "output_type": "display_data"
    }
   ],
   "source": [
    "#comienzo reemplazando por 0 los valores NaN (en cada columna)\n",
    "df['sepalLength'].fillna(0,inplace = True)\n",
    "df['sepalWidth'].fillna(0,inplace = True)\n",
    "df['petalLength'].fillna(0,inplace = True)\n",
    "df['petalWidth'].fillna(0,inplace = True)\n",
    "\n",
    "# Pre-format DataFrame\n",
    "stats_df = df.drop([\"species\"], axis=1) #acá pongo todas las columnas que quiero sacar del gráfico\n",
    " \n",
    "# New boxplot using stats_df\n",
    "plt.figure(figsize=(10, 6))\n",
    "sns.boxplot(data=df) #instancio boxplot y le doy el conjunto de datos (un boxplot para cada columna)\n",
    "plt.show()\n"
   ]
  },
  {
   "cell_type": "markdown",
   "metadata": {},
   "source": [
    "3. Anteriormente se define un rango de valores válidos para los valores del largo y ancho de los petalos y sépalos. Agregue una columna denominada **label**  que identifique cuál de estos valores esta fuera del rango de valores válidos."
   ]
  },
  {
   "cell_type": "code",
   "execution_count": 10,
   "metadata": {},
   "outputs": [
    {
     "data": {
      "text/html": [
       "<div>\n",
       "<style scoped>\n",
       "    .dataframe tbody tr th:only-of-type {\n",
       "        vertical-align: middle;\n",
       "    }\n",
       "\n",
       "    .dataframe tbody tr th {\n",
       "        vertical-align: top;\n",
       "    }\n",
       "\n",
       "    .dataframe thead th {\n",
       "        text-align: right;\n",
       "    }\n",
       "</style>\n",
       "<table border=\"1\" class=\"dataframe\">\n",
       "  <thead>\n",
       "    <tr style=\"text-align: right;\">\n",
       "      <th></th>\n",
       "      <th>sepalLength</th>\n",
       "      <th>sepalWidth</th>\n",
       "      <th>petalLength</th>\n",
       "      <th>petalWidth</th>\n",
       "      <th>species</th>\n",
       "      <th>label</th>\n",
       "    </tr>\n",
       "  </thead>\n",
       "  <tbody>\n",
       "    <tr>\n",
       "      <th>0</th>\n",
       "      <td>4.4</td>\n",
       "      <td>3.2</td>\n",
       "      <td>1.3</td>\n",
       "      <td>3.0</td>\n",
       "      <td>setosa</td>\n",
       "      <td>Fuera del rango</td>\n",
       "    </tr>\n",
       "    <tr>\n",
       "      <th>1</th>\n",
       "      <td>7.2</td>\n",
       "      <td>3.6</td>\n",
       "      <td>6.1</td>\n",
       "      <td>2.5</td>\n",
       "      <td>virginica</td>\n",
       "      <td>Fuera del rango</td>\n",
       "    </tr>\n",
       "    <tr>\n",
       "      <th>2</th>\n",
       "      <td>6.3</td>\n",
       "      <td>3.3</td>\n",
       "      <td>6.0</td>\n",
       "      <td>2.5</td>\n",
       "      <td>virginica</td>\n",
       "      <td>Dentro del rango</td>\n",
       "    </tr>\n",
       "    <tr>\n",
       "      <th>3</th>\n",
       "      <td>6.7</td>\n",
       "      <td>3.3</td>\n",
       "      <td>5.7</td>\n",
       "      <td>2.5</td>\n",
       "      <td>virginica</td>\n",
       "      <td>Dentro del rango</td>\n",
       "    </tr>\n",
       "    <tr>\n",
       "      <th>4</th>\n",
       "      <td>6.3</td>\n",
       "      <td>3.4</td>\n",
       "      <td>5.6</td>\n",
       "      <td>2.4</td>\n",
       "      <td>virginica</td>\n",
       "      <td>Dentro del rango</td>\n",
       "    </tr>\n",
       "    <tr>\n",
       "      <th>...</th>\n",
       "      <td>...</td>\n",
       "      <td>...</td>\n",
       "      <td>...</td>\n",
       "      <td>...</td>\n",
       "      <td>...</td>\n",
       "      <td>...</td>\n",
       "    </tr>\n",
       "    <tr>\n",
       "      <th>145</th>\n",
       "      <td>5.3</td>\n",
       "      <td>3.0</td>\n",
       "      <td>1.1</td>\n",
       "      <td>0.1</td>\n",
       "      <td>setosa</td>\n",
       "      <td>Dentro del rango</td>\n",
       "    </tr>\n",
       "    <tr>\n",
       "      <th>146</th>\n",
       "      <td>4.8</td>\n",
       "      <td>3.0</td>\n",
       "      <td>1.4</td>\n",
       "      <td>0.1</td>\n",
       "      <td>setosa</td>\n",
       "      <td>Dentro del rango</td>\n",
       "    </tr>\n",
       "    <tr>\n",
       "      <th>147</th>\n",
       "      <td>4.9</td>\n",
       "      <td>3.1</td>\n",
       "      <td>1.5</td>\n",
       "      <td>0.1</td>\n",
       "      <td>setosa</td>\n",
       "      <td>Dentro del rango</td>\n",
       "    </tr>\n",
       "    <tr>\n",
       "      <th>148</th>\n",
       "      <td>4.9</td>\n",
       "      <td>3.6</td>\n",
       "      <td>1.4</td>\n",
       "      <td>0.1</td>\n",
       "      <td>setosa</td>\n",
       "      <td>Dentro del rango</td>\n",
       "    </tr>\n",
       "    <tr>\n",
       "      <th>149</th>\n",
       "      <td>5.2</td>\n",
       "      <td>4.1</td>\n",
       "      <td>1.5</td>\n",
       "      <td>0.1</td>\n",
       "      <td>setosa</td>\n",
       "      <td>Dentro del rango</td>\n",
       "    </tr>\n",
       "  </tbody>\n",
       "</table>\n",
       "<p>150 rows × 6 columns</p>\n",
       "</div>"
      ],
      "text/plain": [
       "     sepalLength  sepalWidth  petalLength  petalWidth    species  \\\n",
       "0            4.4         3.2          1.3         3.0     setosa   \n",
       "1            7.2         3.6          6.1         2.5  virginica   \n",
       "2            6.3         3.3          6.0         2.5  virginica   \n",
       "3            6.7         3.3          5.7         2.5  virginica   \n",
       "4            6.3         3.4          5.6         2.4  virginica   \n",
       "..           ...         ...          ...         ...        ...   \n",
       "145          5.3         3.0          1.1         0.1     setosa   \n",
       "146          4.8         3.0          1.4         0.1     setosa   \n",
       "147          4.9         3.1          1.5         0.1     setosa   \n",
       "148          4.9         3.6          1.4         0.1     setosa   \n",
       "149          5.2         4.1          1.5         0.1     setosa   \n",
       "\n",
       "                label  \n",
       "0     Fuera del rango  \n",
       "1     Fuera del rango  \n",
       "2    Dentro del rango  \n",
       "3    Dentro del rango  \n",
       "4    Dentro del rango  \n",
       "..                ...  \n",
       "145  Dentro del rango  \n",
       "146  Dentro del rango  \n",
       "147  Dentro del rango  \n",
       "148  Dentro del rango  \n",
       "149  Dentro del rango  \n",
       "\n",
       "[150 rows x 6 columns]"
      ]
     },
     "execution_count": 10,
     "metadata": {},
     "output_type": "execute_result"
    }
   ],
   "source": [
    "lista = list()\n",
    "largo = len(df)\n",
    "\n",
    "#condiciones\n",
    "for i in range(largo):\n",
    "    \n",
    "    if df['sepalLength'][i]<4.0 or df['sepalLength'][i]>7.0:\n",
    "        lista.append(\"Fuera del rango\")\n",
    "        \n",
    "    elif df['sepalWidth'][i]<2.0 or df['sepalWidth'][i]>4.5:\n",
    "        lista.append(\"Fuera del rango\")\n",
    "        \n",
    "    elif df['petalLength'][i]<1.0 or df['petalLength'][i]>7.0:\n",
    "        lista.append(\"Fuera del rango\")\n",
    "        \n",
    "    elif df['petalWidth'][i]<0.1 or df['petalWidth'][i]>2.5:\n",
    "        lista.append(\"Fuera del rango\")\n",
    "        \n",
    "    else:           \n",
    "        lista.append(\"Dentro del rango\")\n",
    "        \n",
    "\n",
    "#añado la lista a la nueva columna label        \n",
    "df[\"label\"]=lista\n",
    "\n",
    "df"
   ]
  },
  {
   "cell_type": "markdown",
   "metadata": {},
   "source": [
    "4. Realice un gráfico de *sepalLength* vs *petalLength* y otro de *sepalWidth* vs *petalWidth* categorizados por la etiqueta **label**. Concluya sus resultados."
   ]
  },
  {
   "cell_type": "code",
   "execution_count": 11,
   "metadata": {},
   "outputs": [
    {
     "data": {
      "image/png": "[encoded data removed]",
      "text/plain": [
       "<Figure size 720x1152 with 1 Axes>"
      ]
     },
     "metadata": {
      "needs_background": "light"
     },
     "output_type": "display_data"
    },
    {
     "data": {
      "image/png": "[encoded data removed]",
      "text/plain": [
       "<Figure size 720x1152 with 1 Axes>"
      ]
     },
     "metadata": {
      "needs_background": "light"
     },
     "output_type": "display_data"
    }
   ],
   "source": [
    "plt.figure(figsize=(10,16))\n",
    "\n",
    "plt.subplot(2, 1, 1)\n",
    "\n",
    "#plt.figure(figsize=(10, 6))\n",
    "\n",
    "sns.scatterplot( #gráfico de dispersión - de ptos. \n",
    "    x='petalLength',\n",
    "    y='sepalLength',\n",
    "    hue='label',# color por label\n",
    "    data=df,\n",
    "    #palette=palette\n",
    ")   \n",
    "plt.title('sepalLength vs petalLength',font=\"Serif\", size=15)\n",
    "plt.show()\n",
    "\n",
    "plt.figure(figsize=(10,16))\n",
    "plt.subplot(2, 1, 2)\n",
    "\n",
    "\n",
    "sns.scatterplot( #gráfico de dispersión - de ptos. \n",
    "    x='petalWidth',\n",
    "    y='sepalWidth',\n",
    "    hue='label',# color por label\n",
    "    data=df,\n",
    "    #palette=palette\n",
    ")   \n",
    "\n",
    "plt.title('sepalWidth vs petalWidth',font=\"Serif\", size=15)\n",
    "plt.show()"
   ]
  },
  {
   "cell_type": "markdown",
   "metadata": {},
   "source": [
    "Se concluye que muy pocos datos están fuera de los rangos establecidos para las variables petalLength y sepalLength (gráfico 1) y lo mismo para las variables petalWidth y sepalWidth (gráfico 2). \n",
    "(En el gráfico los datos fuera de rango están representados por puntos azules). "
   ]
  },
  {
   "cell_type": "markdown",
   "metadata": {},
   "source": [
    "5. Filtre los datos válidos y realice un gráfico de *sepalLength* vs *petalLength* categorizados por la etiqueta **species**."
   ]
  },
  {
   "cell_type": "code",
   "execution_count": 12,
   "metadata": {},
   "outputs": [],
   "source": [
    "mask_df = df[\"label\"] == \"Dentro del rango\" #filtro para que labels estén dentro del rango\n",
    "\n",
    "mask2_df = ((df[\"species\"] == \"virginica\") | (df[\"species\"] == \"setosa\") | (df[\"species\"] == \"versicolor\")) #filtro para que species no tome el valor \"default\" (y sólo tome los otros tres valores)\n",
    "\n",
    "\n",
    "df_filtrado = df[mask_df & mask2_df] #junto ambos filtros en df_filtrado\n"
   ]
  },
  {
   "cell_type": "code",
   "execution_count": 13,
   "metadata": {},
   "outputs": [
    {
     "data": {
      "image/png": "[encoded data removed]",
      "text/plain": [
       "<Figure size 720x432 with 1 Axes>"
      ]
     },
     "metadata": {
      "needs_background": "light"
     },
     "output_type": "display_data"
    }
   ],
   "source": [
    "plt.figure(figsize=(10,6))\n",
    "\n",
    "\n",
    "sns.scatterplot( #gráfico de dispersión - de ptos. \n",
    "    x='petalLength',\n",
    "    y='sepalLength',\n",
    "    hue='species',# color por species\n",
    "    data=df_filtrado,\n",
    "    #palette=palette\n",
    ")   \n",
    "plt.title('sepalLength vs petalLength with mask',font=\"Serif\", size=15)\n",
    "plt.show()"
   ]
  }
 ],
 "metadata": {
  "kernelspec": {
   "display_name": "Python 3",
   "language": "python",
   "name": "python3"
  },
  "language_info": {
   "codemirror_mode": {
    "name": "ipython",
    "version": 3
   },
   "file_extension": ".py",
   "mimetype": "text/x-python",
   "name": "python",
   "nbconvert_exporter": "python",
   "pygments_lexer": "ipython3",
   "version": "3.8.8"
  }
 },
 "nbformat": 4,
 "nbformat_minor": 4
}
