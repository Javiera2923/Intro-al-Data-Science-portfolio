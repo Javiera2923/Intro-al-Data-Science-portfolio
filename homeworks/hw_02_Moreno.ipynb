{
 "cells": [
  {
   "cell_type": "markdown",
   "metadata": {},
   "source": [
    "# Tarea N°02\n",
    "\n",
    "## Instrucciones\n",
    "\n",
    "1.- Completa tus datos personales (nombre y rol USM) en siguiente celda.\n",
    "\n",
    "\n",
    "* __Nombre__: Javiera Moreno Peña\n",
    "\n",
    "* __Rol__: 201710506-2\n",
    "\n",
    "2.- Debes _pushear_ este archivo con tus cambios a tu repositorio personal del curso, incluyendo datos, imágenes, scripts, etc.\n",
    "\n",
    "3.- Se evaluará:\n",
    "    - Soluciones\n",
    "    - Código\n",
    "    - Que Binder esté bien configurado.\n",
    "    - Al presionar  `Kernel -> Restart Kernel and Run All Cells` deben ejecutarse todas las celdas sin error."
   ]
  },
  {
   "cell_type": "markdown",
   "metadata": {},
   "source": [
    "## I.- Clasificación de dígitos\n",
    "\n",
    "\n",
    "En este laboratorio realizaremos el trabajo de reconocer un dígito a partir de una imagen.\n"
   ]
  },
  {
   "cell_type": "markdown",
   "metadata": {},
   "source": [
    "![rgb](https://www.wolfram.com/language/11/neural-networks/assets.en/digit-classification/smallthumb_1.png)"
   ]
  },
  {
   "cell_type": "markdown",
   "metadata": {},
   "source": [
    "El objetivo es a partir de los datos, hacer la mejor predicción de cada imagen. Para ellos es necesario realizar los pasos clásicos de un proyecto de _Machine Learning_, como estadística descriptiva, visualización y preprocesamiento. \n",
    "\n",
    "* Se solicita ajustar al menos tres modelos de clasificación:\n",
    " * Regresión logística\n",
    " * K-Nearest Neighbours \n",
    " * Uno o más algoritmos a su elección [link](https://scikit-learn.org/stable/supervised_learning.html#supervised-learning) (es obligación escoger un _estimator_ que tenga por lo menos un hiperparámetro). \n",
    " \n",
    " \n",
    "* En los modelos que posean hiperparámetros es mandatorio buscar el/los mejores con alguna técnica disponible en `scikit-learn` ([ver más](https://scikit-learn.org/stable/modules/grid_search.html#tuning-the-hyper-parameters-of-an-estimator)).\n",
    "* Para cada modelo, se debe realizar _Cross Validation_ con 10 _folds_ utilizando los datos de entrenamiento con tal de determinar un intervalo de confianza para el _score_ del modelo.\n",
    "* Realizar una predicción con cada uno de los tres modelos con los datos _test_ y obtener el _score_. \n",
    "* Analizar sus métricas de error (**accuracy**, **precision**, **recall**, **f-score**)\n",
    "\n"
   ]
  },
  {
   "cell_type": "markdown",
   "metadata": {},
   "source": [
    "### Exploración de los datos\n",
    "A continuación se carga el conjunto de datos a utilizar, a través del sub-módulo `datasets` de `sklearn`."
   ]
  },
  {
   "cell_type": "code",
   "execution_count": 1,
   "metadata": {},
   "outputs": [],
   "source": [
    "import numpy as np\n",
    "import pandas as pd\n",
    "from sklearn import datasets\n",
    "import matplotlib.pyplot as plt\n",
    "\n",
    "%matplotlib inline"
   ]
  },
  {
   "cell_type": "code",
   "execution_count": 2,
   "metadata": {},
   "outputs": [
    {
     "name": "stdout",
     "output_type": "stream",
     "text": [
      ".. _digits_dataset:\n",
      "\n",
      "Optical recognition of handwritten digits dataset\n",
      "--------------------------------------------------\n",
      "\n",
      "**Data Set Characteristics:**\n",
      "\n",
      "    :Number of Instances: 1797\n",
      "    :Number of Attributes: 64\n",
      "    :Attribute Information: 8x8 image of integer pixels in the range 0..16.\n",
      "    :Missing Attribute Values: None\n",
      "    :Creator: E. Alpaydin (alpaydin '@' boun.edu.tr)\n",
      "    :Date: July; 1998\n",
      "\n",
      "This is a copy of the test set of the UCI ML hand-written digits datasets\n",
      "https://archive.ics.uci.edu/ml/datasets/Optical+Recognition+of+Handwritten+Digits\n",
      "\n",
      "The data set contains images of hand-written digits: 10 classes where\n",
      "each class refers to a digit.\n",
      "\n",
      "Preprocessing programs made available by NIST were used to extract\n",
      "normalized bitmaps of handwritten digits from a preprinted form. From a\n",
      "total of 43 people, 30 contributed to the training set and different 13\n",
      "to the test set. 32x32 bitmaps are divided into nonoverlapping blocks of\n",
      "4x4 and the number of on pixels are counted in each block. This generates\n",
      "an input matrix of 8x8 where each element is an integer in the range\n",
      "0..16. This reduces dimensionality and gives invariance to small\n",
      "distortions.\n",
      "\n",
      "For info on NIST preprocessing routines, see M. D. Garris, J. L. Blue, G.\n",
      "T. Candela, D. L. Dimmick, J. Geist, P. J. Grother, S. A. Janet, and C.\n",
      "L. Wilson, NIST Form-Based Handprint Recognition System, NISTIR 5469,\n",
      "1994.\n",
      "\n",
      ".. topic:: References\n",
      "\n",
      "  - C. Kaynak (1995) Methods of Combining Multiple Classifiers and Their\n",
      "    Applications to Handwritten Digit Recognition, MSc Thesis, Institute of\n",
      "    Graduate Studies in Science and Engineering, Bogazici University.\n",
      "  - E. Alpaydin, C. Kaynak (1998) Cascading Classifiers, Kybernetika.\n",
      "  - Ken Tang and Ponnuthurai N. Suganthan and Xi Yao and A. Kai Qin.\n",
      "    Linear dimensionalityreduction using relevance weighted LDA. School of\n",
      "    Electrical and Electronic Engineering Nanyang Technological University.\n",
      "    2005.\n",
      "  - Claudio Gentile. A New Approximate Maximal Margin Classification\n",
      "    Algorithm. NIPS. 2000.\n",
      "\n"
     ]
    }
   ],
   "source": [
    "digits_dict = datasets.load_digits()\n",
    "print(digits_dict[\"DESCR\"])"
   ]
  },
  {
   "cell_type": "code",
   "execution_count": 3,
   "metadata": {},
   "outputs": [
    {
     "data": {
      "text/plain": [
       "dict_keys(['data', 'target', 'frame', 'feature_names', 'target_names', 'images', 'DESCR'])"
      ]
     },
     "execution_count": 3,
     "metadata": {},
     "output_type": "execute_result"
    }
   ],
   "source": [
    "digits_dict.keys()"
   ]
  },
  {
   "cell_type": "code",
   "execution_count": 4,
   "metadata": {},
   "outputs": [
    {
     "data": {
      "text/plain": [
       "array([0, 1, 2, ..., 8, 9, 8])"
      ]
     },
     "execution_count": 4,
     "metadata": {},
     "output_type": "execute_result"
    }
   ],
   "source": [
    "digits_dict[\"target\"]"
   ]
  },
  {
   "cell_type": "markdown",
   "metadata": {},
   "source": [
    "A continuación se crea dataframe declarado como `digits` con los datos de `digits_dict` tal que tenga 65 columnas, las 6 primeras a la representación de la imagen en escala de grises (0-blanco, 255-negro) y la última correspondiente al dígito (`target`) con el nombre _target_."
   ]
  },
  {
   "cell_type": "code",
   "execution_count": 5,
   "metadata": {},
   "outputs": [
    {
     "data": {
      "text/html": [
       "<div>\n",
       "<style scoped>\n",
       "    .dataframe tbody tr th:only-of-type {\n",
       "        vertical-align: middle;\n",
       "    }\n",
       "\n",
       "    .dataframe tbody tr th {\n",
       "        vertical-align: top;\n",
       "    }\n",
       "\n",
       "    .dataframe thead th {\n",
       "        text-align: right;\n",
       "    }\n",
       "</style>\n",
       "<table border=\"1\" class=\"dataframe\">\n",
       "  <thead>\n",
       "    <tr style=\"text-align: right;\">\n",
       "      <th></th>\n",
       "      <th>c00</th>\n",
       "      <th>c01</th>\n",
       "      <th>c02</th>\n",
       "      <th>c03</th>\n",
       "      <th>c04</th>\n",
       "      <th>c05</th>\n",
       "      <th>c06</th>\n",
       "      <th>c07</th>\n",
       "      <th>c08</th>\n",
       "      <th>c09</th>\n",
       "      <th>...</th>\n",
       "      <th>c55</th>\n",
       "      <th>c56</th>\n",
       "      <th>c57</th>\n",
       "      <th>c58</th>\n",
       "      <th>c59</th>\n",
       "      <th>c60</th>\n",
       "      <th>c61</th>\n",
       "      <th>c62</th>\n",
       "      <th>c63</th>\n",
       "      <th>target</th>\n",
       "    </tr>\n",
       "  </thead>\n",
       "  <tbody>\n",
       "    <tr>\n",
       "      <th>0</th>\n",
       "      <td>0</td>\n",
       "      <td>0</td>\n",
       "      <td>5</td>\n",
       "      <td>13</td>\n",
       "      <td>9</td>\n",
       "      <td>1</td>\n",
       "      <td>0</td>\n",
       "      <td>0</td>\n",
       "      <td>0</td>\n",
       "      <td>0</td>\n",
       "      <td>...</td>\n",
       "      <td>0</td>\n",
       "      <td>0</td>\n",
       "      <td>0</td>\n",
       "      <td>6</td>\n",
       "      <td>13</td>\n",
       "      <td>10</td>\n",
       "      <td>0</td>\n",
       "      <td>0</td>\n",
       "      <td>0</td>\n",
       "      <td>0</td>\n",
       "    </tr>\n",
       "    <tr>\n",
       "      <th>1</th>\n",
       "      <td>0</td>\n",
       "      <td>0</td>\n",
       "      <td>0</td>\n",
       "      <td>12</td>\n",
       "      <td>13</td>\n",
       "      <td>5</td>\n",
       "      <td>0</td>\n",
       "      <td>0</td>\n",
       "      <td>0</td>\n",
       "      <td>0</td>\n",
       "      <td>...</td>\n",
       "      <td>0</td>\n",
       "      <td>0</td>\n",
       "      <td>0</td>\n",
       "      <td>0</td>\n",
       "      <td>11</td>\n",
       "      <td>16</td>\n",
       "      <td>10</td>\n",
       "      <td>0</td>\n",
       "      <td>0</td>\n",
       "      <td>1</td>\n",
       "    </tr>\n",
       "    <tr>\n",
       "      <th>2</th>\n",
       "      <td>0</td>\n",
       "      <td>0</td>\n",
       "      <td>0</td>\n",
       "      <td>4</td>\n",
       "      <td>15</td>\n",
       "      <td>12</td>\n",
       "      <td>0</td>\n",
       "      <td>0</td>\n",
       "      <td>0</td>\n",
       "      <td>0</td>\n",
       "      <td>...</td>\n",
       "      <td>0</td>\n",
       "      <td>0</td>\n",
       "      <td>0</td>\n",
       "      <td>0</td>\n",
       "      <td>3</td>\n",
       "      <td>11</td>\n",
       "      <td>16</td>\n",
       "      <td>9</td>\n",
       "      <td>0</td>\n",
       "      <td>2</td>\n",
       "    </tr>\n",
       "    <tr>\n",
       "      <th>3</th>\n",
       "      <td>0</td>\n",
       "      <td>0</td>\n",
       "      <td>7</td>\n",
       "      <td>15</td>\n",
       "      <td>13</td>\n",
       "      <td>1</td>\n",
       "      <td>0</td>\n",
       "      <td>0</td>\n",
       "      <td>0</td>\n",
       "      <td>8</td>\n",
       "      <td>...</td>\n",
       "      <td>0</td>\n",
       "      <td>0</td>\n",
       "      <td>0</td>\n",
       "      <td>7</td>\n",
       "      <td>13</td>\n",
       "      <td>13</td>\n",
       "      <td>9</td>\n",
       "      <td>0</td>\n",
       "      <td>0</td>\n",
       "      <td>3</td>\n",
       "    </tr>\n",
       "    <tr>\n",
       "      <th>4</th>\n",
       "      <td>0</td>\n",
       "      <td>0</td>\n",
       "      <td>0</td>\n",
       "      <td>1</td>\n",
       "      <td>11</td>\n",
       "      <td>0</td>\n",
       "      <td>0</td>\n",
       "      <td>0</td>\n",
       "      <td>0</td>\n",
       "      <td>0</td>\n",
       "      <td>...</td>\n",
       "      <td>0</td>\n",
       "      <td>0</td>\n",
       "      <td>0</td>\n",
       "      <td>0</td>\n",
       "      <td>2</td>\n",
       "      <td>16</td>\n",
       "      <td>4</td>\n",
       "      <td>0</td>\n",
       "      <td>0</td>\n",
       "      <td>4</td>\n",
       "    </tr>\n",
       "  </tbody>\n",
       "</table>\n",
       "<p>5 rows × 65 columns</p>\n",
       "</div>"
      ],
      "text/plain": [
       "   c00  c01  c02  c03  c04  c05  c06  c07  c08  c09  ...  c55  c56  c57  c58  \\\n",
       "0    0    0    5   13    9    1    0    0    0    0  ...    0    0    0    6   \n",
       "1    0    0    0   12   13    5    0    0    0    0  ...    0    0    0    0   \n",
       "2    0    0    0    4   15   12    0    0    0    0  ...    0    0    0    0   \n",
       "3    0    0    7   15   13    1    0    0    0    8  ...    0    0    0    7   \n",
       "4    0    0    0    1   11    0    0    0    0    0  ...    0    0    0    0   \n",
       "\n",
       "   c59  c60  c61  c62  c63  target  \n",
       "0   13   10    0    0    0       0  \n",
       "1   11   16   10    0    0       1  \n",
       "2    3   11   16    9    0       2  \n",
       "3   13   13    9    0    0       3  \n",
       "4    2   16    4    0    0       4  \n",
       "\n",
       "[5 rows x 65 columns]"
      ]
     },
     "execution_count": 5,
     "metadata": {},
     "output_type": "execute_result"
    }
   ],
   "source": [
    "digits = (\n",
    "    pd.DataFrame(\n",
    "        digits_dict[\"data\"],\n",
    "    )\n",
    "    .rename(columns=lambda x: f\"c{x:02d}\")\n",
    "    .assign(target=digits_dict[\"target\"])\n",
    "    .astype(int)\n",
    ")\n",
    "\n",
    "digits.head()"
   ]
  },
  {
   "cell_type": "code",
   "execution_count": 6,
   "metadata": {},
   "outputs": [],
   "source": [
    "#for i in digits[\"target\"]:\n",
    "#    print(digits[\"target\"][i])"
   ]
  },
  {
   "cell_type": "markdown",
   "metadata": {},
   "source": [
    "# Ejercicio 1\n",
    "**Análisis exploratorio:** Realiza tu análisis exploratorio, no debes olvidar nada! Recuerda, cada análisis debe responder una pregunta.\n",
    "\n",
    "Algunas sugerencias:\n",
    "\n",
    "* ¿Cómo se distribuyen los datos?\n",
    "* ¿Cuánta memoria estoy utilizando?\n",
    "* ¿Qué tipo de datos son?\n",
    "* ¿Cuántos registros por clase hay?\n",
    "* ¿Hay registros que no se correspondan con tu conocimiento previo de los datos?"
   ]
  },
  {
   "cell_type": "code",
   "execution_count": 7,
   "metadata": {},
   "outputs": [
    {
     "data": {
      "text/plain": [
       "c00       int32\n",
       "c01       int32\n",
       "c02       int32\n",
       "c03       int32\n",
       "c04       int32\n",
       "          ...  \n",
       "c60       int32\n",
       "c61       int32\n",
       "c62       int32\n",
       "c63       int32\n",
       "target    int32\n",
       "Length: 65, dtype: object"
      ]
     },
     "execution_count": 7,
     "metadata": {},
     "output_type": "execute_result"
    }
   ],
   "source": [
    "#¿Qué tipo de datos son?\n",
    "digits.dtypes"
   ]
  },
  {
   "cell_type": "code",
   "execution_count": 8,
   "metadata": {},
   "outputs": [
    {
     "data": {
      "text/plain": [
       "c00       1797\n",
       "c01       1797\n",
       "c02       1797\n",
       "c03       1797\n",
       "c04       1797\n",
       "          ... \n",
       "c60       1797\n",
       "c61       1797\n",
       "c62       1797\n",
       "c63       1797\n",
       "target    1797\n",
       "Length: 65, dtype: int64"
      ]
     },
     "execution_count": 8,
     "metadata": {},
     "output_type": "execute_result"
    }
   ],
   "source": [
    "#¿Cuántos registros por clase hay?\n",
    "\n",
    "digits.count()"
   ]
  },
  {
   "cell_type": "code",
   "execution_count": 9,
   "metadata": {},
   "outputs": [
    {
     "name": "stdout",
     "output_type": "stream",
     "text": [
      "<class 'pandas.core.frame.DataFrame'>\n",
      "RangeIndex: 1797 entries, 0 to 1796\n",
      "Data columns (total 65 columns):\n",
      " #   Column  Non-Null Count  Dtype\n",
      "---  ------  --------------  -----\n",
      " 0   c00     1797 non-null   int32\n",
      " 1   c01     1797 non-null   int32\n",
      " 2   c02     1797 non-null   int32\n",
      " 3   c03     1797 non-null   int32\n",
      " 4   c04     1797 non-null   int32\n",
      " 5   c05     1797 non-null   int32\n",
      " 6   c06     1797 non-null   int32\n",
      " 7   c07     1797 non-null   int32\n",
      " 8   c08     1797 non-null   int32\n",
      " 9   c09     1797 non-null   int32\n",
      " 10  c10     1797 non-null   int32\n",
      " 11  c11     1797 non-null   int32\n",
      " 12  c12     1797 non-null   int32\n",
      " 13  c13     1797 non-null   int32\n",
      " 14  c14     1797 non-null   int32\n",
      " 15  c15     1797 non-null   int32\n",
      " 16  c16     1797 non-null   int32\n",
      " 17  c17     1797 non-null   int32\n",
      " 18  c18     1797 non-null   int32\n",
      " 19  c19     1797 non-null   int32\n",
      " 20  c20     1797 non-null   int32\n",
      " 21  c21     1797 non-null   int32\n",
      " 22  c22     1797 non-null   int32\n",
      " 23  c23     1797 non-null   int32\n",
      " 24  c24     1797 non-null   int32\n",
      " 25  c25     1797 non-null   int32\n",
      " 26  c26     1797 non-null   int32\n",
      " 27  c27     1797 non-null   int32\n",
      " 28  c28     1797 non-null   int32\n",
      " 29  c29     1797 non-null   int32\n",
      " 30  c30     1797 non-null   int32\n",
      " 31  c31     1797 non-null   int32\n",
      " 32  c32     1797 non-null   int32\n",
      " 33  c33     1797 non-null   int32\n",
      " 34  c34     1797 non-null   int32\n",
      " 35  c35     1797 non-null   int32\n",
      " 36  c36     1797 non-null   int32\n",
      " 37  c37     1797 non-null   int32\n",
      " 38  c38     1797 non-null   int32\n",
      " 39  c39     1797 non-null   int32\n",
      " 40  c40     1797 non-null   int32\n",
      " 41  c41     1797 non-null   int32\n",
      " 42  c42     1797 non-null   int32\n",
      " 43  c43     1797 non-null   int32\n",
      " 44  c44     1797 non-null   int32\n",
      " 45  c45     1797 non-null   int32\n",
      " 46  c46     1797 non-null   int32\n",
      " 47  c47     1797 non-null   int32\n",
      " 48  c48     1797 non-null   int32\n",
      " 49  c49     1797 non-null   int32\n",
      " 50  c50     1797 non-null   int32\n",
      " 51  c51     1797 non-null   int32\n",
      " 52  c52     1797 non-null   int32\n",
      " 53  c53     1797 non-null   int32\n",
      " 54  c54     1797 non-null   int32\n",
      " 55  c55     1797 non-null   int32\n",
      " 56  c56     1797 non-null   int32\n",
      " 57  c57     1797 non-null   int32\n",
      " 58  c58     1797 non-null   int32\n",
      " 59  c59     1797 non-null   int32\n",
      " 60  c60     1797 non-null   int32\n",
      " 61  c61     1797 non-null   int32\n",
      " 62  c62     1797 non-null   int32\n",
      " 63  c63     1797 non-null   int32\n",
      " 64  target  1797 non-null   int32\n",
      "dtypes: int32(65)\n",
      "memory usage: 456.4 KB\n"
     ]
    }
   ],
   "source": [
    "#¿Cuánta memoria estoy utilizando?\n",
    "digits.info()"
   ]
  },
  {
   "cell_type": "markdown",
   "metadata": {},
   "source": [
    "- Los datos de digits se distribuyen en columnas llamadas C_i con i entre 0 y 63 más una columna llamada Target. Estos datos son del tipo int32.\n",
    "- memory usage: 456.4 KB."
   ]
  },
  {
   "cell_type": "code",
   "execution_count": 10,
   "metadata": {},
   "outputs": [],
   "source": [
    "#¿Hay registros que no se correspondan con tu conocimiento previo de los datos?\n",
    "\n",
    "#No hay registros que no corresponda a mi conocimiento previo de los datos."
   ]
  },
  {
   "cell_type": "code",
   "execution_count": 11,
   "metadata": {},
   "outputs": [
    {
     "data": {
      "text/html": [
       "<div>\n",
       "<style scoped>\n",
       "    .dataframe tbody tr th:only-of-type {\n",
       "        vertical-align: middle;\n",
       "    }\n",
       "\n",
       "    .dataframe tbody tr th {\n",
       "        vertical-align: top;\n",
       "    }\n",
       "\n",
       "    .dataframe thead th {\n",
       "        text-align: right;\n",
       "    }\n",
       "</style>\n",
       "<table border=\"1\" class=\"dataframe\">\n",
       "  <thead>\n",
       "    <tr style=\"text-align: right;\">\n",
       "      <th></th>\n",
       "      <th>c00</th>\n",
       "      <th>c01</th>\n",
       "      <th>c02</th>\n",
       "      <th>c03</th>\n",
       "      <th>c04</th>\n",
       "      <th>c05</th>\n",
       "      <th>c06</th>\n",
       "      <th>c07</th>\n",
       "      <th>c08</th>\n",
       "      <th>c09</th>\n",
       "      <th>...</th>\n",
       "      <th>c55</th>\n",
       "      <th>c56</th>\n",
       "      <th>c57</th>\n",
       "      <th>c58</th>\n",
       "      <th>c59</th>\n",
       "      <th>c60</th>\n",
       "      <th>c61</th>\n",
       "      <th>c62</th>\n",
       "      <th>c63</th>\n",
       "      <th>target</th>\n",
       "    </tr>\n",
       "  </thead>\n",
       "  <tbody>\n",
       "    <tr>\n",
       "      <th>count</th>\n",
       "      <td>1797.0</td>\n",
       "      <td>1797.000000</td>\n",
       "      <td>1797.000000</td>\n",
       "      <td>1797.000000</td>\n",
       "      <td>1797.000000</td>\n",
       "      <td>1797.000000</td>\n",
       "      <td>1797.000000</td>\n",
       "      <td>1797.000000</td>\n",
       "      <td>1797.000000</td>\n",
       "      <td>1797.000000</td>\n",
       "      <td>...</td>\n",
       "      <td>1797.000000</td>\n",
       "      <td>1797.000000</td>\n",
       "      <td>1797.000000</td>\n",
       "      <td>1797.000000</td>\n",
       "      <td>1797.000000</td>\n",
       "      <td>1797.000000</td>\n",
       "      <td>1797.000000</td>\n",
       "      <td>1797.000000</td>\n",
       "      <td>1797.000000</td>\n",
       "      <td>1797.000000</td>\n",
       "    </tr>\n",
       "    <tr>\n",
       "      <th>mean</th>\n",
       "      <td>0.0</td>\n",
       "      <td>0.303840</td>\n",
       "      <td>5.204786</td>\n",
       "      <td>11.835838</td>\n",
       "      <td>11.848080</td>\n",
       "      <td>5.781859</td>\n",
       "      <td>1.362270</td>\n",
       "      <td>0.129661</td>\n",
       "      <td>0.005565</td>\n",
       "      <td>1.993879</td>\n",
       "      <td>...</td>\n",
       "      <td>0.206455</td>\n",
       "      <td>0.000556</td>\n",
       "      <td>0.279354</td>\n",
       "      <td>5.557596</td>\n",
       "      <td>12.089037</td>\n",
       "      <td>11.809126</td>\n",
       "      <td>6.764051</td>\n",
       "      <td>2.067891</td>\n",
       "      <td>0.364496</td>\n",
       "      <td>4.490818</td>\n",
       "    </tr>\n",
       "    <tr>\n",
       "      <th>std</th>\n",
       "      <td>0.0</td>\n",
       "      <td>0.907192</td>\n",
       "      <td>4.754826</td>\n",
       "      <td>4.248842</td>\n",
       "      <td>4.287388</td>\n",
       "      <td>5.666418</td>\n",
       "      <td>3.325775</td>\n",
       "      <td>1.037383</td>\n",
       "      <td>0.094222</td>\n",
       "      <td>3.196160</td>\n",
       "      <td>...</td>\n",
       "      <td>0.984401</td>\n",
       "      <td>0.023590</td>\n",
       "      <td>0.934302</td>\n",
       "      <td>5.103019</td>\n",
       "      <td>4.374694</td>\n",
       "      <td>4.933947</td>\n",
       "      <td>5.900623</td>\n",
       "      <td>4.090548</td>\n",
       "      <td>1.860122</td>\n",
       "      <td>2.865304</td>\n",
       "    </tr>\n",
       "    <tr>\n",
       "      <th>min</th>\n",
       "      <td>0.0</td>\n",
       "      <td>0.000000</td>\n",
       "      <td>0.000000</td>\n",
       "      <td>0.000000</td>\n",
       "      <td>0.000000</td>\n",
       "      <td>0.000000</td>\n",
       "      <td>0.000000</td>\n",
       "      <td>0.000000</td>\n",
       "      <td>0.000000</td>\n",
       "      <td>0.000000</td>\n",
       "      <td>...</td>\n",
       "      <td>0.000000</td>\n",
       "      <td>0.000000</td>\n",
       "      <td>0.000000</td>\n",
       "      <td>0.000000</td>\n",
       "      <td>0.000000</td>\n",
       "      <td>0.000000</td>\n",
       "      <td>0.000000</td>\n",
       "      <td>0.000000</td>\n",
       "      <td>0.000000</td>\n",
       "      <td>0.000000</td>\n",
       "    </tr>\n",
       "    <tr>\n",
       "      <th>25%</th>\n",
       "      <td>0.0</td>\n",
       "      <td>0.000000</td>\n",
       "      <td>1.000000</td>\n",
       "      <td>10.000000</td>\n",
       "      <td>10.000000</td>\n",
       "      <td>0.000000</td>\n",
       "      <td>0.000000</td>\n",
       "      <td>0.000000</td>\n",
       "      <td>0.000000</td>\n",
       "      <td>0.000000</td>\n",
       "      <td>...</td>\n",
       "      <td>0.000000</td>\n",
       "      <td>0.000000</td>\n",
       "      <td>0.000000</td>\n",
       "      <td>1.000000</td>\n",
       "      <td>11.000000</td>\n",
       "      <td>10.000000</td>\n",
       "      <td>0.000000</td>\n",
       "      <td>0.000000</td>\n",
       "      <td>0.000000</td>\n",
       "      <td>2.000000</td>\n",
       "    </tr>\n",
       "    <tr>\n",
       "      <th>50%</th>\n",
       "      <td>0.0</td>\n",
       "      <td>0.000000</td>\n",
       "      <td>4.000000</td>\n",
       "      <td>13.000000</td>\n",
       "      <td>13.000000</td>\n",
       "      <td>4.000000</td>\n",
       "      <td>0.000000</td>\n",
       "      <td>0.000000</td>\n",
       "      <td>0.000000</td>\n",
       "      <td>0.000000</td>\n",
       "      <td>...</td>\n",
       "      <td>0.000000</td>\n",
       "      <td>0.000000</td>\n",
       "      <td>0.000000</td>\n",
       "      <td>4.000000</td>\n",
       "      <td>13.000000</td>\n",
       "      <td>14.000000</td>\n",
       "      <td>6.000000</td>\n",
       "      <td>0.000000</td>\n",
       "      <td>0.000000</td>\n",
       "      <td>4.000000</td>\n",
       "    </tr>\n",
       "    <tr>\n",
       "      <th>75%</th>\n",
       "      <td>0.0</td>\n",
       "      <td>0.000000</td>\n",
       "      <td>9.000000</td>\n",
       "      <td>15.000000</td>\n",
       "      <td>15.000000</td>\n",
       "      <td>11.000000</td>\n",
       "      <td>0.000000</td>\n",
       "      <td>0.000000</td>\n",
       "      <td>0.000000</td>\n",
       "      <td>3.000000</td>\n",
       "      <td>...</td>\n",
       "      <td>0.000000</td>\n",
       "      <td>0.000000</td>\n",
       "      <td>0.000000</td>\n",
       "      <td>10.000000</td>\n",
       "      <td>16.000000</td>\n",
       "      <td>16.000000</td>\n",
       "      <td>12.000000</td>\n",
       "      <td>2.000000</td>\n",
       "      <td>0.000000</td>\n",
       "      <td>7.000000</td>\n",
       "    </tr>\n",
       "    <tr>\n",
       "      <th>max</th>\n",
       "      <td>0.0</td>\n",
       "      <td>8.000000</td>\n",
       "      <td>16.000000</td>\n",
       "      <td>16.000000</td>\n",
       "      <td>16.000000</td>\n",
       "      <td>16.000000</td>\n",
       "      <td>16.000000</td>\n",
       "      <td>15.000000</td>\n",
       "      <td>2.000000</td>\n",
       "      <td>16.000000</td>\n",
       "      <td>...</td>\n",
       "      <td>13.000000</td>\n",
       "      <td>1.000000</td>\n",
       "      <td>9.000000</td>\n",
       "      <td>16.000000</td>\n",
       "      <td>16.000000</td>\n",
       "      <td>16.000000</td>\n",
       "      <td>16.000000</td>\n",
       "      <td>16.000000</td>\n",
       "      <td>16.000000</td>\n",
       "      <td>9.000000</td>\n",
       "    </tr>\n",
       "  </tbody>\n",
       "</table>\n",
       "<p>8 rows × 65 columns</p>\n",
       "</div>"
      ],
      "text/plain": [
       "          c00          c01          c02          c03          c04  \\\n",
       "count  1797.0  1797.000000  1797.000000  1797.000000  1797.000000   \n",
       "mean      0.0     0.303840     5.204786    11.835838    11.848080   \n",
       "std       0.0     0.907192     4.754826     4.248842     4.287388   \n",
       "min       0.0     0.000000     0.000000     0.000000     0.000000   \n",
       "25%       0.0     0.000000     1.000000    10.000000    10.000000   \n",
       "50%       0.0     0.000000     4.000000    13.000000    13.000000   \n",
       "75%       0.0     0.000000     9.000000    15.000000    15.000000   \n",
       "max       0.0     8.000000    16.000000    16.000000    16.000000   \n",
       "\n",
       "               c05          c06          c07          c08          c09  ...  \\\n",
       "count  1797.000000  1797.000000  1797.000000  1797.000000  1797.000000  ...   \n",
       "mean      5.781859     1.362270     0.129661     0.005565     1.993879  ...   \n",
       "std       5.666418     3.325775     1.037383     0.094222     3.196160  ...   \n",
       "min       0.000000     0.000000     0.000000     0.000000     0.000000  ...   \n",
       "25%       0.000000     0.000000     0.000000     0.000000     0.000000  ...   \n",
       "50%       4.000000     0.000000     0.000000     0.000000     0.000000  ...   \n",
       "75%      11.000000     0.000000     0.000000     0.000000     3.000000  ...   \n",
       "max      16.000000    16.000000    15.000000     2.000000    16.000000  ...   \n",
       "\n",
       "               c55          c56          c57          c58          c59  \\\n",
       "count  1797.000000  1797.000000  1797.000000  1797.000000  1797.000000   \n",
       "mean      0.206455     0.000556     0.279354     5.557596    12.089037   \n",
       "std       0.984401     0.023590     0.934302     5.103019     4.374694   \n",
       "min       0.000000     0.000000     0.000000     0.000000     0.000000   \n",
       "25%       0.000000     0.000000     0.000000     1.000000    11.000000   \n",
       "50%       0.000000     0.000000     0.000000     4.000000    13.000000   \n",
       "75%       0.000000     0.000000     0.000000    10.000000    16.000000   \n",
       "max      13.000000     1.000000     9.000000    16.000000    16.000000   \n",
       "\n",
       "               c60          c61          c62          c63       target  \n",
       "count  1797.000000  1797.000000  1797.000000  1797.000000  1797.000000  \n",
       "mean     11.809126     6.764051     2.067891     0.364496     4.490818  \n",
       "std       4.933947     5.900623     4.090548     1.860122     2.865304  \n",
       "min       0.000000     0.000000     0.000000     0.000000     0.000000  \n",
       "25%      10.000000     0.000000     0.000000     0.000000     2.000000  \n",
       "50%      14.000000     6.000000     0.000000     0.000000     4.000000  \n",
       "75%      16.000000    12.000000     2.000000     0.000000     7.000000  \n",
       "max      16.000000    16.000000    16.000000    16.000000     9.000000  \n",
       "\n",
       "[8 rows x 65 columns]"
      ]
     },
     "execution_count": 11,
     "metadata": {},
     "output_type": "execute_result"
    }
   ],
   "source": [
    "digits.describe()"
   ]
  },
  {
   "cell_type": "markdown",
   "metadata": {},
   "source": [
    "Notamos que hay tres columnas con valores ceros en todas sus casillas (lo podemos ver en la tabla anterior ya que mean = 0): c00, c32 y c39."
   ]
  },
  {
   "cell_type": "markdown",
   "metadata": {},
   "source": [
    "### Ejercicio 2\n",
    "**Visualización:** Para visualizar los datos utilizaremos el método `imshow` de `matplotlib`. Resulta necesario convertir el arreglo desde las dimensiones (1,64)  a (8,8) para que la imagen sea cuadrada y pueda distinguirse el dígito. Superpondremos además el label correspondiente al dígito, mediante el método `text`. Esto nos permitirá comparar la imagen generada con la etiqueta asociada a los valores. Realizaremos lo anterior para los primeros 25 datos del archivo."
   ]
  },
  {
   "cell_type": "code",
   "execution_count": 12,
   "metadata": {},
   "outputs": [
    {
     "data": {
      "text/plain": [
       "array([[ 0.,  0.,  5., 13.,  9.,  1.,  0.,  0.],\n",
       "       [ 0.,  0., 13., 15., 10., 15.,  5.,  0.],\n",
       "       [ 0.,  3., 15.,  2.,  0., 11.,  8.,  0.],\n",
       "       [ 0.,  4., 12.,  0.,  0.,  8.,  8.,  0.],\n",
       "       [ 0.,  5.,  8.,  0.,  0.,  9.,  8.,  0.],\n",
       "       [ 0.,  4., 11.,  0.,  1., 12.,  7.,  0.],\n",
       "       [ 0.,  2., 14.,  5., 10., 12.,  0.,  0.],\n",
       "       [ 0.,  0.,  6., 13., 10.,  0.,  0.,  0.]])"
      ]
     },
     "execution_count": 12,
     "metadata": {},
     "output_type": "execute_result"
    }
   ],
   "source": [
    "digits_dict[\"images\"][0]"
   ]
  },
  {
   "cell_type": "code",
   "execution_count": 13,
   "metadata": {},
   "outputs": [
    {
     "data": {
      "text/plain": [
       "array([[ 0.,  0.,  0., 12., 13.,  5.,  0.,  0.],\n",
       "       [ 0.,  0.,  0., 11., 16.,  9.,  0.,  0.],\n",
       "       [ 0.,  0.,  3., 15., 16.,  6.,  0.,  0.],\n",
       "       [ 0.,  7., 15., 16., 16.,  2.,  0.,  0.],\n",
       "       [ 0.,  0.,  1., 16., 16.,  3.,  0.,  0.],\n",
       "       [ 0.,  0.,  1., 16., 16.,  6.,  0.,  0.],\n",
       "       [ 0.,  0.,  1., 16., 16.,  6.,  0.,  0.],\n",
       "       [ 0.,  0.,  0., 11., 16., 10.,  0.,  0.]])"
      ]
     },
     "execution_count": 13,
     "metadata": {},
     "output_type": "execute_result"
    }
   ],
   "source": [
    "digits_dict[\"images\"][1]"
   ]
  },
  {
   "cell_type": "markdown",
   "metadata": {},
   "source": [
    "Visualiza imágenes de los dígitos utilizando la llave `images` de `digits_dict`. \n",
    "\n",
    "Sugerencia: Utiliza `plt.subplots` y el método `imshow`. Puedes hacer una grilla de varias imágenes al mismo tiempo!"
   ]
  },
  {
   "cell_type": "code",
   "execution_count": 14,
   "metadata": {},
   "outputs": [
    {
     "data": {
      "image/png": "[encoded data removed]",
      "text/plain": [
       "<Figure size 864x864 with 25 Axes>"
      ]
     },
     "metadata": {
      "needs_background": "light"
     },
     "output_type": "display_data"
    }
   ],
   "source": [
    "nx, ny = 5, 5\n",
    "fig, axs = plt.subplots(nx, ny, figsize=(12, 12))\n",
    "labels = [\"0\", \"1\", \"2\", \"3\", \"4\", \"5\", \"6\", \"7\", \"8\", \"9\"]\n",
    "\n",
    "for i in range(0, nx):\n",
    "    for j in range(0, ny):\n",
    "        axs[i, j].text(2 ,5 , labels[(5*i+j) % 10], fontsize = 80, color = 'hotpink')\n",
    "        axs[i, j].imshow(digits_dict[\"images\"][5*i+j] )"
   ]
  },
  {
   "cell_type": "markdown",
   "metadata": {},
   "source": [
    "### Ejercicio 3\n",
    "\n",
    "**Machine Learning**: En esta parte usted debe entrenar los distintos modelos escogidos desde la librería de `skelearn`. Para cada modelo, debe realizar los siguientes pasos:\n",
    "\n",
    "* **train-test** \n",
    " * Crear conjunto de entrenamiento y testeo (usted determine las proporciones adecuadas).\n",
    " * Imprimir por pantalla el largo del conjunto de entrenamiento y de testeo.\n",
    " \n",
    " \n",
    "* **modelo**:\n",
    " * Instanciar el modelo objetivo desde la librería sklearn.\n",
    " * *Hiper-parámetros*: Utiliza `sklearn.model_selection.GridSearchCV` para obtener la mejor estimación de los parámetros del modelo objetivo.\n",
    "\n",
    "\n",
    "\n",
    "\n",
    "* **Métricas**:\n",
    " * Graficar matriz de confusión.\n",
    " * Analizar métricas de error.\n",
    "\n",
    "\n",
    "\n",
    "__Preguntas a responder:__\n",
    "\n",
    "* ¿Cuál modelo es mejor basado en sus métricas?\n",
    "* ¿Cuál modelo demora menos tiempo en ajustarse?\n",
    "* ¿Qué modelo escoges?\n"
   ]
  },
  {
   "cell_type": "code",
   "execution_count": 108,
   "metadata": {},
   "outputs": [],
   "source": [
    "import os\n",
    "import numpy as np\n",
    "import pandas as pd\n",
    "\n",
    "from sklearn import datasets\n",
    "from sklearn.model_selection import train_test_split\n",
    "\n",
    "import matplotlib.pyplot as plt\n",
    "import seaborn as sns \n",
    "pd.set_option('display.max_columns', 500)  # Ver más columnas de los dataframes\n",
    "\n",
    "# Ver gráficos de matplotlib en jupyter notebook/lab\n",
    "%matplotlib inline\n",
    "\n",
    "from sklearn import linear_model\n",
    "from sklearn import tree\n",
    "from sklearn import svm\n",
    "from sklearn.metrics import confusion_matrix\n",
    "from sklearn.tree import DecisionTreeRegressor\n",
    "from sklearn.ensemble import RandomForestClassifier\n",
    "from time import time\n",
    "\n",
    "\n",
    "#Regresion Logistica\n",
    "from metrics_classification import *\n",
    "from sklearn.metrics import r2_score\n",
    "from sklearn.linear_model import LogisticRegression\n",
    "\n",
    "#KNeighbors\n",
    "from sklearn.neighbors import KNeighborsClassifier\n",
    "from sklearn import neighbors\n",
    "from sklearn import preprocessing\n",
    "\n",
    "#Tree Classifier\n",
    "from sklearn.tree import DecisionTreeClassifier\n",
    "\n",
    "#Matriz de Confusion\n",
    "from sklearn.metrics import confusion_matrix\n",
    "\n",
    "import time"
   ]
  },
  {
   "cell_type": "code",
   "execution_count": 16,
   "metadata": {},
   "outputs": [],
   "source": [
    "X = digits.drop(columns=\"target\").values\n",
    "Y = digits[\"target\"].values"
   ]
  },
  {
   "cell_type": "code",
   "execution_count": 17,
   "metadata": {},
   "outputs": [],
   "source": [
    "X_train, X_test, Y_train, Y_test = train_test_split(X, Y, test_size=0.2, random_state=42) "
   ]
  },
  {
   "cell_type": "code",
   "execution_count": 18,
   "metadata": {},
   "outputs": [
    {
     "name": "stdout",
     "output_type": "stream",
     "text": [
      "Separando informacion:\n",
      "\n",
      "numero de filas data original :  1797\n",
      "numero de filas train set     :  1437\n",
      "numero de filas test set      :  360\n"
     ]
    }
   ],
   "source": [
    "# print rows train and test sets\n",
    "print('Separando informacion:\\n')\n",
    "print('numero de filas data original : ',len(X))\n",
    "print('numero de filas train set     : ',len(X_train))\n",
    "print('numero de filas test set      : ',len(X_test))"
   ]
  },
  {
   "cell_type": "markdown",
   "metadata": {},
   "source": [
    "### Regresión logística"
   ]
  },
  {
   "cell_type": "code",
   "execution_count": 20,
   "metadata": {},
   "outputs": [
    {
     "name": "stderr",
     "output_type": "stream",
     "text": [
      "C:\\Users\\Javiera\\anaconda3\\lib\\site-packages\\sklearn\\linear_model\\_logistic.py:763: ConvergenceWarning: lbfgs failed to converge (status=1):\n",
      "STOP: TOTAL NO. of ITERATIONS REACHED LIMIT.\n",
      "\n",
      "Increase the number of iterations (max_iter) or scale the data as shown in:\n",
      "    https://scikit-learn.org/stable/modules/preprocessing.html\n",
      "Please also refer to the documentation for alternative solver options:\n",
      "    https://scikit-learn.org/stable/modules/linear_model.html#logistic-regression\n",
      "  n_iter_i = _check_optimize_result(\n"
     ]
    },
    {
     "data": {
      "text/plain": [
       "LogisticRegression()"
      ]
     },
     "execution_count": 20,
     "metadata": {},
     "output_type": "execute_result"
    }
   ],
   "source": [
    "# Creando el modelo\n",
    "rlog = LogisticRegression()\n",
    "rlog.fit(X_train, Y_train) # ajustando el modelo"
   ]
  },
  {
   "cell_type": "code",
   "execution_count": 21,
   "metadata": {},
   "outputs": [
    {
     "name": "stdout",
     "output_type": "stream",
     "text": [
      "Valores:\n",
      "\n",
      "originales:\n",
      "  [6, 9, 3, 7, 2, 1, 5, 2, 5, 2, 1, 9, 4, 0, 4, 2, 3, 7, 8, 8, 4, 3, 9, 7, 5, 6, 3, 5, 6, 3, 4, 9, 1, 4, 4, 6, 9, 4, 7, 6, 6, 9, 1, 3, 6, 1, 3, 0, 6, 5, 5, 1, 9, 5, 6, 0, 9, 0, 0, 1, 0, 4, 5, 2, 4, 5, 7, 0, 7, 5, 9, 5, 5, 4, 7, 0, 4, 5, 5, 9, 9, 0, 2, 3, 8, 0, 6, 4, 4, 9, 1, 2, 8, 3, 5, 2, 9, 0, 4, 4, 4, 3, 5, 3, 1, 3, 5, 9, 4, 2, 7, 7, 4, 4, 1, 9, 2, 7, 8, 7, 2, 6, 9, 4, 0, 7, 2, 7, 5, 8, 7, 5, 7, 7, 0, 6, 6, 4, 2, 8, 0, 9, 4, 6, 9, 9, 6, 9, 0, 3, 5, 6, 6, 0, 6, 4, 3, 9, 3, 9, 7, 2, 9, 0, 4, 5, 3, 6, 5, 9, 9, 8, 4, 2, 1, 3, 7, 7, 2, 2, 3, 9, 8, 0, 3, 2, 2, 5, 6, 9, 9, 4, 1, 5, 4, 2, 3, 6, 4, 8, 5, 9, 5, 7, 8, 9, 4, 8, 1, 5, 4, 4, 9, 6, 1, 8, 6, 0, 4, 5, 2, 7, 4, 6, 4, 5, 6, 0, 3, 2, 3, 6, 7, 1, 5, 1, 4, 7, 6, 8, 8, 5, 5, 1, 6, 2, 8, 8, 9, 9, 7, 6, 2, 2, 2, 3, 4, 8, 8, 3, 6, 0, 9, 7, 7, 0, 1, 0, 4, 5, 1, 5, 3, 6, 0, 4, 1, 0, 0, 3, 6, 5, 9, 7, 3, 5, 5, 9, 9, 8, 5, 3, 3, 2, 0, 5, 8, 3, 4, 0, 2, 4, 6, 4, 3, 4, 5, 0, 5, 2, 1, 3, 1, 4, 1, 1, 7, 0, 1, 5, 2, 1, 2, 8, 7, 0, 6, 4, 8, 8, 5, 1, 8, 4, 5, 8, 7, 9, 8, 5, 0, 6, 2, 0, 7, 9, 8, 9, 5, 2, 7, 7, 1, 8, 7, 4, 3, 8, 3, 5]\n",
      "\n",
      "predicho: \n",
      "   [6, 9, 3, 7, 2, 1, 5, 2, 5, 2, 1, 9, 4, 0, 4, 2, 3, 7, 8, 8, 4, 3, 9, 7, 5, 6, 3, 5, 6, 3, 4, 9, 1, 4, 4, 6, 9, 4, 7, 6, 6, 9, 1, 3, 6, 1, 3, 0, 6, 5, 5, 1, 3, 5, 6, 0, 9, 0, 0, 1, 0, 4, 5, 2, 4, 5, 7, 0, 7, 5, 9, 5, 5, 4, 7, 0, 4, 5, 5, 9, 9, 0, 2, 3, 8, 0, 6, 4, 4, 9, 1, 2, 8, 3, 5, 2, 9, 0, 4, 4, 4, 3, 5, 3, 1, 3, 5, 9, 4, 2, 7, 7, 4, 4, 1, 9, 2, 7, 8, 7, 2, 6, 9, 4, 0, 7, 2, 7, 5, 8, 7, 5, 7, 5, 0, 6, 6, 4, 2, 8, 0, 9, 4, 6, 9, 9, 6, 9, 0, 5, 5, 6, 6, 0, 6, 4, 3, 9, 3, 8, 7, 2, 9, 0, 6, 5, 3, 6, 5, 9, 9, 8, 4, 2, 1, 3, 7, 7, 2, 2, 3, 9, 8, 0, 3, 2, 2, 5, 6, 9, 9, 4, 1, 2, 4, 2, 3, 6, 4, 8, 5, 9, 5, 7, 8, 9, 4, 8, 1, 5, 4, 4, 9, 6, 1, 8, 6, 0, 4, 5, 2, 7, 1, 6, 4, 5, 6, 0, 3, 2, 3, 6, 7, 1, 9, 1, 4, 7, 6, 5, 8, 5, 5, 1, 5, 2, 8, 8, 9, 9, 7, 6, 2, 2, 2, 3, 4, 8, 8, 3, 6, 0, 9, 7, 7, 0, 1, 0, 4, 5, 1, 5, 3, 6, 0, 4, 1, 0, 0, 3, 6, 5, 9, 7, 3, 5, 5, 9, 9, 8, 5, 3, 3, 2, 0, 5, 8, 3, 4, 0, 2, 4, 6, 4, 3, 4, 5, 0, 5, 2, 1, 3, 1, 4, 1, 1, 7, 0, 1, 5, 2, 1, 2, 8, 7, 0, 6, 4, 8, 8, 5, 1, 8, 4, 5, 8, 7, 9, 8, 6, 0, 6, 2, 0, 7, 9, 8, 9, 5, 2, 7, 7, 1, 8, 7, 4, 3, 8, 3, 5]\n"
     ]
    }
   ],
   "source": [
    "# metrics\n",
    "\n",
    "from metrics_classification import *\n",
    "from sklearn.metrics import confusion_matrix\n",
    "\n",
    "y_true =  list(Y_test)\n",
    "y_pred = list(rlog.predict(X_test))\n",
    "\n",
    "\n",
    "print('Valores:\\n')\n",
    "print('originales:\\n ', y_true)\n",
    "print('\\npredicho: \\n  ', y_pred)"
   ]
  },
  {
   "cell_type": "code",
   "execution_count": 22,
   "metadata": {},
   "outputs": [
    {
     "name": "stdout",
     "output_type": "stream",
     "text": [
      "\n",
      "Matriz de confusion:\n",
      " \n",
      "[[33  0  0  0  0  0  0  0  0  0]\n",
      " [ 0 28  0  0  0  0  0  0  0  0]\n",
      " [ 0  0 33  0  0  0  0  0  0  0]\n",
      " [ 0  0  0 33  0  1  0  0  0  0]\n",
      " [ 0  1  0  0 44  0  1  0  0  0]\n",
      " [ 0  0  1  0  0 44  1  0  0  1]\n",
      " [ 0  0  0  0  0  1 34  0  0  0]\n",
      " [ 0  0  0  0  0  1  0 33  0  0]\n",
      " [ 0  0  0  0  0  1  0  0 29  0]\n",
      " [ 0  0  0  1  0  0  0  0  1 38]]\n"
     ]
    }
   ],
   "source": [
    "print('\\nMatriz de confusion:\\n ')\n",
    "print(confusion_matrix(y_true,y_pred))"
   ]
  },
  {
   "cell_type": "code",
   "execution_count": 23,
   "metadata": {},
   "outputs": [
    {
     "name": "stdout",
     "output_type": "stream",
     "text": [
      "\n",
      "Metricas para los regresores:\n",
      "\n"
     ]
    },
    {
     "data": {
      "text/html": [
       "<div>\n",
       "<style scoped>\n",
       "    .dataframe tbody tr th:only-of-type {\n",
       "        vertical-align: middle;\n",
       "    }\n",
       "\n",
       "    .dataframe tbody tr th {\n",
       "        vertical-align: top;\n",
       "    }\n",
       "\n",
       "    .dataframe thead th {\n",
       "        text-align: right;\n",
       "    }\n",
       "</style>\n",
       "<table border=\"1\" class=\"dataframe\">\n",
       "  <thead>\n",
       "    <tr style=\"text-align: right;\">\n",
       "      <th></th>\n",
       "      <th>accuracy</th>\n",
       "      <th>recall</th>\n",
       "      <th>precision</th>\n",
       "      <th>fscore</th>\n",
       "    </tr>\n",
       "  </thead>\n",
       "  <tbody>\n",
       "    <tr>\n",
       "      <th>0</th>\n",
       "      <td>0.9694</td>\n",
       "      <td>0.9722</td>\n",
       "      <td>0.9709</td>\n",
       "      <td>0.9714</td>\n",
       "    </tr>\n",
       "  </tbody>\n",
       "</table>\n",
       "</div>"
      ],
      "text/plain": [
       "   accuracy  recall  precision  fscore\n",
       "0    0.9694  0.9722     0.9709  0.9714"
      ]
     },
     "execution_count": 23,
     "metadata": {},
     "output_type": "execute_result"
    }
   ],
   "source": [
    "# ejemplo \n",
    "df_temp = pd.DataFrame(\n",
    "    {\n",
    "        'y':y_true,\n",
    "        'yhat':y_pred\n",
    "        }\n",
    ")\n",
    "\n",
    "df_metrics = summary_metrics(df_temp)\n",
    "print(\"\\nMetricas para los regresores:\")\n",
    "print(\"\")\n",
    "df_metrics"
   ]
  },
  {
   "cell_type": "code",
   "execution_count": 24,
   "metadata": {
    "scrolled": false
   },
   "outputs": [
    {
     "name": "stdout",
     "output_type": "stream",
     "text": [
      "Este modelo se ajustó en 19.828184604644775 segundos.\n"
     ]
    }
   ],
   "source": [
    "from sklearn.svm import SVC \n",
    "from sklearn.model_selection import GridSearchCV\n",
    "from sklearn.model_selection import train_test_split \n",
    "\n",
    "#Diccionario de Hiperparámetros\n",
    "dicc_rlog = {\n",
    "          'penalty' : ['l1', 'l2'],\n",
    "          'C' : [100, 10 , 1, 0.1, 0.01],\n",
    "          'class_weight' : ['balanced', None],\n",
    "          'solver' : ['liblinear'],\n",
    "          }\n",
    "\n",
    "\n",
    "grid_rlog = GridSearchCV(estimator = rlog, param_grid = dicc_rlog, refit = True, n_jobs=-1) \n",
    "\n",
    "start_time = time.time() #Tiempo de inicio \n",
    "\n",
    "grid_result_rlog = grid_rlog.fit(X_train, Y_train)\n",
    "\n",
    "print(\"Este modelo se ajustó en\",(time.time() - start_time),\"segundos.\") \n"
   ]
  },
  {
   "cell_type": "code",
   "execution_count": 25,
   "metadata": {},
   "outputs": [
    {
     "name": "stdout",
     "output_type": "stream",
     "text": [
      "El mejor score tuvo un valor de: 0.9672861014324429\n",
      "usando los siguientes parámetros: {'C': 0.1, 'class_weight': None, 'penalty': 'l1', 'solver': 'liblinear'}\n"
     ]
    }
   ],
   "source": [
    "# print best parameter after tuning \n",
    "print(\"El mejor score tuvo un valor de:\", grid_result_rlog.best_score_)\n",
    "print(\"usando los siguientes parámetros:\",grid_result_rlog.best_params_) \n",
    "grid_predictions = grid_result_rlog.predict(X_test) \n"
   ]
  },
  {
   "cell_type": "markdown",
   "metadata": {},
   "source": [
    "### KNN:"
   ]
  },
  {
   "cell_type": "code",
   "execution_count": 26,
   "metadata": {},
   "outputs": [
    {
     "data": {
      "text/plain": [
       "KNeighborsClassifier()"
      ]
     },
     "execution_count": 26,
     "metadata": {},
     "output_type": "execute_result"
    }
   ],
   "source": [
    "reg_knn = neighbors.KNeighborsClassifier(5,weights='uniform')\n",
    "reg_knn.fit(X_train, Y_train)"
   ]
  },
  {
   "cell_type": "code",
   "execution_count": 27,
   "metadata": {},
   "outputs": [
    {
     "name": "stdout",
     "output_type": "stream",
     "text": [
      "Valores:\n",
      "\n",
      "originales:\n",
      "  [6, 9, 3, 7, 2, 1, 5, 2, 5, 2, 1, 9, 4, 0, 4, 2, 3, 7, 8, 8, 4, 3, 9, 7, 5, 6, 3, 5, 6, 3, 4, 9, 1, 4, 4, 6, 9, 4, 7, 6, 6, 9, 1, 3, 6, 1, 3, 0, 6, 5, 5, 1, 9, 5, 6, 0, 9, 0, 0, 1, 0, 4, 5, 2, 4, 5, 7, 0, 7, 5, 9, 5, 5, 4, 7, 0, 4, 5, 5, 9, 9, 0, 2, 3, 8, 0, 6, 4, 4, 9, 1, 2, 8, 3, 5, 2, 9, 0, 4, 4, 4, 3, 5, 3, 1, 3, 5, 9, 4, 2, 7, 7, 4, 4, 1, 9, 2, 7, 8, 7, 2, 6, 9, 4, 0, 7, 2, 7, 5, 8, 7, 5, 7, 7, 0, 6, 6, 4, 2, 8, 0, 9, 4, 6, 9, 9, 6, 9, 0, 3, 5, 6, 6, 0, 6, 4, 3, 9, 3, 9, 7, 2, 9, 0, 4, 5, 3, 6, 5, 9, 9, 8, 4, 2, 1, 3, 7, 7, 2, 2, 3, 9, 8, 0, 3, 2, 2, 5, 6, 9, 9, 4, 1, 5, 4, 2, 3, 6, 4, 8, 5, 9, 5, 7, 8, 9, 4, 8, 1, 5, 4, 4, 9, 6, 1, 8, 6, 0, 4, 5, 2, 7, 4, 6, 4, 5, 6, 0, 3, 2, 3, 6, 7, 1, 5, 1, 4, 7, 6, 8, 8, 5, 5, 1, 6, 2, 8, 8, 9, 9, 7, 6, 2, 2, 2, 3, 4, 8, 8, 3, 6, 0, 9, 7, 7, 0, 1, 0, 4, 5, 1, 5, 3, 6, 0, 4, 1, 0, 0, 3, 6, 5, 9, 7, 3, 5, 5, 9, 9, 8, 5, 3, 3, 2, 0, 5, 8, 3, 4, 0, 2, 4, 6, 4, 3, 4, 5, 0, 5, 2, 1, 3, 1, 4, 1, 1, 7, 0, 1, 5, 2, 1, 2, 8, 7, 0, 6, 4, 8, 8, 5, 1, 8, 4, 5, 8, 7, 9, 8, 5, 0, 6, 2, 0, 7, 9, 8, 9, 5, 2, 7, 7, 1, 8, 7, 4, 3, 8, 3, 5]\n",
      "\n",
      "predicho: \n",
      "   [6, 9, 3, 7, 2, 1, 5, 2, 5, 2, 1, 9, 4, 0, 4, 2, 3, 7, 8, 8, 4, 3, 9, 7, 5, 6, 3, 5, 6, 3, 4, 9, 1, 4, 4, 6, 9, 4, 7, 6, 6, 9, 1, 3, 6, 1, 3, 0, 6, 5, 5, 1, 9, 5, 6, 0, 9, 0, 0, 1, 0, 4, 5, 2, 4, 5, 7, 0, 7, 5, 9, 9, 5, 4, 7, 0, 4, 5, 5, 9, 9, 0, 2, 3, 8, 0, 6, 4, 4, 9, 1, 2, 8, 3, 5, 2, 9, 0, 4, 4, 4, 3, 5, 3, 1, 3, 5, 9, 4, 2, 7, 7, 4, 4, 1, 9, 2, 7, 8, 7, 2, 6, 9, 4, 0, 7, 2, 7, 5, 8, 7, 5, 7, 9, 0, 6, 6, 4, 2, 8, 0, 9, 4, 6, 9, 9, 6, 9, 0, 3, 5, 6, 6, 0, 6, 4, 3, 9, 3, 4, 7, 2, 9, 0, 4, 5, 3, 6, 5, 9, 9, 8, 4, 2, 1, 3, 7, 7, 2, 2, 3, 9, 8, 0, 3, 2, 2, 5, 6, 9, 9, 4, 1, 5, 4, 2, 3, 6, 4, 8, 5, 9, 5, 7, 8, 9, 4, 8, 1, 5, 4, 4, 9, 6, 1, 8, 6, 0, 4, 5, 2, 7, 4, 6, 4, 5, 6, 0, 3, 2, 3, 6, 7, 1, 5, 1, 4, 7, 6, 8, 8, 5, 5, 1, 6, 2, 8, 8, 9, 5, 7, 6, 2, 2, 2, 3, 4, 8, 8, 3, 6, 0, 9, 7, 7, 0, 1, 0, 4, 5, 1, 5, 3, 6, 0, 4, 1, 0, 0, 3, 6, 5, 9, 7, 3, 5, 5, 9, 9, 8, 5, 3, 3, 2, 0, 5, 8, 3, 4, 0, 2, 4, 6, 4, 3, 4, 5, 0, 5, 2, 1, 3, 1, 4, 1, 1, 7, 0, 1, 5, 2, 1, 2, 8, 7, 0, 6, 4, 8, 8, 5, 1, 8, 4, 5, 8, 7, 9, 8, 6, 0, 6, 2, 0, 7, 9, 8, 9, 5, 2, 7, 7, 1, 8, 7, 4, 3, 8, 3, 5]\n"
     ]
    }
   ],
   "source": [
    "# metrics\n",
    "\n",
    "from metrics_classification import *\n",
    "from sklearn.metrics import confusion_matrix\n",
    "\n",
    "y_true =  list(Y_test)\n",
    "y_pred = list(reg_knn.predict(X_test))\n",
    "\n",
    "\n",
    "\n",
    "print('Valores:\\n')\n",
    "print('originales:\\n ', y_true)\n",
    "print('\\npredicho: \\n  ', y_pred)"
   ]
  },
  {
   "cell_type": "code",
   "execution_count": 28,
   "metadata": {},
   "outputs": [
    {
     "name": "stdout",
     "output_type": "stream",
     "text": [
      "\n",
      "Metricas para los regresores:\n",
      "\n"
     ]
    },
    {
     "data": {
      "text/html": [
       "<div>\n",
       "<style scoped>\n",
       "    .dataframe tbody tr th:only-of-type {\n",
       "        vertical-align: middle;\n",
       "    }\n",
       "\n",
       "    .dataframe tbody tr th {\n",
       "        vertical-align: top;\n",
       "    }\n",
       "\n",
       "    .dataframe thead th {\n",
       "        text-align: right;\n",
       "    }\n",
       "</style>\n",
       "<table border=\"1\" class=\"dataframe\">\n",
       "  <thead>\n",
       "    <tr style=\"text-align: right;\">\n",
       "      <th></th>\n",
       "      <th>accuracy</th>\n",
       "      <th>recall</th>\n",
       "      <th>precision</th>\n",
       "      <th>fscore</th>\n",
       "    </tr>\n",
       "  </thead>\n",
       "  <tbody>\n",
       "    <tr>\n",
       "      <th>0</th>\n",
       "      <td>0.9861</td>\n",
       "      <td>0.9878</td>\n",
       "      <td>0.9879</td>\n",
       "      <td>0.9878</td>\n",
       "    </tr>\n",
       "  </tbody>\n",
       "</table>\n",
       "</div>"
      ],
      "text/plain": [
       "   accuracy  recall  precision  fscore\n",
       "0    0.9861  0.9878     0.9879  0.9878"
      ]
     },
     "execution_count": 28,
     "metadata": {},
     "output_type": "execute_result"
    }
   ],
   "source": [
    "# ejemplo \n",
    "df_temp = pd.DataFrame(\n",
    "    {\n",
    "        'y':y_true,\n",
    "        'yhat':y_pred\n",
    "        }\n",
    ")\n",
    "\n",
    "df_metrics = summary_metrics(df_temp)\n",
    "print(\"\\nMetricas para los regresores:\")\n",
    "print(\"\")\n",
    "df_metrics"
   ]
  },
  {
   "cell_type": "code",
   "execution_count": 29,
   "metadata": {},
   "outputs": [
    {
     "name": "stdout",
     "output_type": "stream",
     "text": [
      "Este modelo se ajustó en 12.135024070739746 segundos.\n"
     ]
    }
   ],
   "source": [
    "#Diccionario de Hiperparámetros\n",
    "dicc_knn = {\n",
    "          'n_neighbors' : [3, 6, 15,30],\n",
    "          'weights' : ['uniform', 'distance'],\n",
    "          'metric' : ['euclidean', 'minkowski'],\n",
    "          'algorithm' : ['auto','brute', 'kd_tree']\n",
    "          }\n",
    "\n",
    "\n",
    "grid_knn = GridSearchCV(estimator = reg_knn, param_grid = dicc_knn, cv = 10) \n",
    "\n",
    "start_time = time.time() #Tiempo de inicio \n",
    "\n",
    "grid_result_knn = grid_knn.fit(X_train, Y_train)\n",
    "\n",
    "print(\"Este modelo se ajustó en\",(time.time() - start_time),\"segundos.\") "
   ]
  },
  {
   "cell_type": "code",
   "execution_count": 30,
   "metadata": {},
   "outputs": [
    {
     "name": "stdout",
     "output_type": "stream",
     "text": [
      "El mejor score tuvo un valor de: 0.9874757187257188\n",
      "usando los siguientes parámetros: {'algorithm': 'auto', 'metric': 'euclidean', 'n_neighbors': 3, 'weights': 'distance'}\n"
     ]
    }
   ],
   "source": [
    "# print best parameter after tuning \n",
    "print(\"El mejor score tuvo un valor de:\", grid_result_knn.best_score_)\n",
    "print(\"usando los siguientes parámetros:\",grid_result_knn.best_params_) \n",
    "grid_predictions = grid_result_knn.predict(X_test) "
   ]
  },
  {
   "cell_type": "markdown",
   "metadata": {},
   "source": [
    "### Decision Tree:"
   ]
  },
  {
   "cell_type": "code",
   "execution_count": 31,
   "metadata": {},
   "outputs": [
    {
     "data": {
      "text/plain": [
       "DecisionTreeClassifier(max_depth=5)"
      ]
     },
     "execution_count": 31,
     "metadata": {},
     "output_type": "execute_result"
    }
   ],
   "source": [
    "reg_tree = tree.DecisionTreeClassifier(max_depth=5)\n",
    "reg_tree.fit(X_train, Y_train)\n"
   ]
  },
  {
   "cell_type": "code",
   "execution_count": 32,
   "metadata": {},
   "outputs": [
    {
     "name": "stdout",
     "output_type": "stream",
     "text": [
      "Valores:\n",
      "\n",
      "originales:\n",
      "  [6, 9, 3, 7, 2, 1, 5, 2, 5, 2, 1, 9, 4, 0, 4, 2, 3, 7, 8, 8, 4, 3, 9, 7, 5, 6, 3, 5, 6, 3, 4, 9, 1, 4, 4, 6, 9, 4, 7, 6, 6, 9, 1, 3, 6, 1, 3, 0, 6, 5, 5, 1, 9, 5, 6, 0, 9, 0, 0, 1, 0, 4, 5, 2, 4, 5, 7, 0, 7, 5, 9, 5, 5, 4, 7, 0, 4, 5, 5, 9, 9, 0, 2, 3, 8, 0, 6, 4, 4, 9, 1, 2, 8, 3, 5, 2, 9, 0, 4, 4, 4, 3, 5, 3, 1, 3, 5, 9, 4, 2, 7, 7, 4, 4, 1, 9, 2, 7, 8, 7, 2, 6, 9, 4, 0, 7, 2, 7, 5, 8, 7, 5, 7, 7, 0, 6, 6, 4, 2, 8, 0, 9, 4, 6, 9, 9, 6, 9, 0, 3, 5, 6, 6, 0, 6, 4, 3, 9, 3, 9, 7, 2, 9, 0, 4, 5, 3, 6, 5, 9, 9, 8, 4, 2, 1, 3, 7, 7, 2, 2, 3, 9, 8, 0, 3, 2, 2, 5, 6, 9, 9, 4, 1, 5, 4, 2, 3, 6, 4, 8, 5, 9, 5, 7, 8, 9, 4, 8, 1, 5, 4, 4, 9, 6, 1, 8, 6, 0, 4, 5, 2, 7, 4, 6, 4, 5, 6, 0, 3, 2, 3, 6, 7, 1, 5, 1, 4, 7, 6, 8, 8, 5, 5, 1, 6, 2, 8, 8, 9, 9, 7, 6, 2, 2, 2, 3, 4, 8, 8, 3, 6, 0, 9, 7, 7, 0, 1, 0, 4, 5, 1, 5, 3, 6, 0, 4, 1, 0, 0, 3, 6, 5, 9, 7, 3, 5, 5, 9, 9, 8, 5, 3, 3, 2, 0, 5, 8, 3, 4, 0, 2, 4, 6, 4, 3, 4, 5, 0, 5, 2, 1, 3, 1, 4, 1, 1, 7, 0, 1, 5, 2, 1, 2, 8, 7, 0, 6, 4, 8, 8, 5, 1, 8, 4, 5, 8, 7, 9, 8, 5, 0, 6, 2, 0, 7, 9, 8, 9, 5, 2, 7, 7, 1, 8, 7, 4, 3, 8, 3, 5]\n",
      "\n",
      "predicho: \n",
      "   [6, 3, 3, 8, 2, 1, 5, 3, 5, 7, 8, 1, 4, 0, 4, 8, 3, 8, 8, 8, 4, 3, 3, 7, 5, 6, 3, 5, 6, 3, 4, 3, 2, 4, 4, 6, 9, 4, 7, 6, 6, 3, 1, 3, 6, 8, 3, 0, 6, 5, 5, 8, 3, 5, 6, 0, 3, 0, 0, 8, 5, 4, 3, 2, 4, 5, 7, 0, 7, 5, 3, 5, 5, 4, 7, 0, 4, 5, 5, 9, 3, 0, 2, 3, 8, 0, 6, 4, 4, 3, 8, 8, 8, 3, 5, 8, 9, 4, 2, 7, 4, 3, 4, 3, 8, 8, 5, 3, 4, 8, 8, 7, 4, 1, 4, 9, 8, 7, 3, 3, 8, 6, 3, 4, 0, 2, 6, 7, 5, 3, 7, 5, 7, 3, 0, 6, 6, 4, 8, 8, 0, 3, 4, 6, 3, 3, 6, 9, 0, 1, 5, 6, 6, 0, 6, 4, 3, 9, 3, 3, 7, 2, 9, 0, 4, 5, 8, 6, 5, 4, 3, 8, 4, 8, 8, 1, 7, 7, 2, 8, 3, 9, 8, 0, 3, 8, 8, 5, 6, 3, 9, 4, 4, 5, 4, 8, 3, 6, 4, 3, 5, 3, 5, 7, 8, 3, 4, 8, 1, 5, 4, 4, 3, 6, 8, 8, 6, 0, 4, 5, 8, 7, 8, 6, 4, 5, 6, 8, 3, 2, 3, 6, 7, 3, 5, 1, 4, 7, 6, 3, 8, 5, 5, 8, 4, 8, 8, 3, 9, 9, 7, 4, 8, 8, 8, 3, 1, 8, 8, 3, 6, 0, 3, 7, 4, 0, 8, 0, 4, 5, 8, 5, 3, 6, 0, 8, 1, 0, 2, 3, 6, 5, 3, 7, 8, 5, 5, 3, 9, 3, 5, 3, 2, 8, 0, 5, 3, 3, 4, 0, 8, 4, 6, 8, 3, 4, 5, 0, 5, 8, 1, 3, 1, 4, 8, 8, 8, 0, 4, 5, 6, 8, 8, 8, 7, 0, 6, 4, 8, 8, 5, 8, 8, 4, 5, 8, 1, 3, 3, 1, 0, 1, 8, 0, 9, 3, 8, 9, 5, 2, 8, 1, 3, 8, 7, 4, 3, 8, 3, 5]\n"
     ]
    }
   ],
   "source": [
    "# metrics\n",
    "\n",
    "from metrics_classification import *\n",
    "from sklearn.metrics import confusion_matrix\n",
    "\n",
    "y_true =  list(Y_test)\n",
    "y_pred = list(reg_tree.predict(X_test))\n",
    "\n",
    "\n",
    "\n",
    "print('Valores:\\n')\n",
    "print('originales:\\n ', y_true)\n",
    "print('\\npredicho: \\n  ', y_pred)"
   ]
  },
  {
   "cell_type": "code",
   "execution_count": 33,
   "metadata": {},
   "outputs": [
    {
     "name": "stdout",
     "output_type": "stream",
     "text": [
      "\n",
      "Metricas para los regresores:\n",
      "\n"
     ]
    },
    {
     "data": {
      "text/html": [
       "<div>\n",
       "<style scoped>\n",
       "    .dataframe tbody tr th:only-of-type {\n",
       "        vertical-align: middle;\n",
       "    }\n",
       "\n",
       "    .dataframe tbody tr th {\n",
       "        vertical-align: top;\n",
       "    }\n",
       "\n",
       "    .dataframe thead th {\n",
       "        text-align: right;\n",
       "    }\n",
       "</style>\n",
       "<table border=\"1\" class=\"dataframe\">\n",
       "  <thead>\n",
       "    <tr style=\"text-align: right;\">\n",
       "      <th></th>\n",
       "      <th>accuracy</th>\n",
       "      <th>recall</th>\n",
       "      <th>precision</th>\n",
       "      <th>fscore</th>\n",
       "    </tr>\n",
       "  </thead>\n",
       "  <tbody>\n",
       "    <tr>\n",
       "      <th>0</th>\n",
       "      <td>0.675</td>\n",
       "      <td>0.6568</td>\n",
       "      <td>0.7325</td>\n",
       "      <td>0.6509</td>\n",
       "    </tr>\n",
       "  </tbody>\n",
       "</table>\n",
       "</div>"
      ],
      "text/plain": [
       "   accuracy  recall  precision  fscore\n",
       "0     0.675  0.6568     0.7325  0.6509"
      ]
     },
     "execution_count": 33,
     "metadata": {},
     "output_type": "execute_result"
    }
   ],
   "source": [
    "# ejemplo \n",
    "df_temp = pd.DataFrame(\n",
    "    {\n",
    "        'y':y_true,\n",
    "        'yhat':y_pred\n",
    "        }\n",
    ")\n",
    "\n",
    "df_metrics = summary_metrics(df_temp)\n",
    "print(\"\\nMetricas para los regresores:\")\n",
    "print(\"\")\n",
    "df_metrics"
   ]
  },
  {
   "cell_type": "code",
   "execution_count": 34,
   "metadata": {},
   "outputs": [
    {
     "name": "stdout",
     "output_type": "stream",
     "text": [
      "Este modelo se ajustó en 2.4788401126861572 segundos.\n"
     ]
    }
   ],
   "source": [
    "#Diccionario de Hiperparámetros\n",
    "dicc_tree = {\n",
    "    'criterion' : ['gini', 'entropy'],\n",
    "    'splitter' : ['best', 'random'],\n",
    "    'max_features' : ['auto', 'sqrt', 'log2'],\n",
    "    'max_depth': [6,10,15,20,30]\n",
    "    }\n",
    "\n",
    "#grid_rlog = GridSearchCV(estimator = rlog, param_grid = dicc, refit = True, cv = 10)\n",
    "grid_tree = GridSearchCV(estimator = reg_tree, param_grid = dicc_tree, cv = 10) \n",
    "\n",
    "start_time = time.time() #Tiempo de inicio \n",
    "\n",
    "grid_result_tree = grid_tree.fit(X_train, Y_train)\n",
    "\n",
    "print(\"Este modelo se ajustó en\",(time.time() - start_time),\"segundos.\") "
   ]
  },
  {
   "cell_type": "code",
   "execution_count": 35,
   "metadata": {},
   "outputs": [
    {
     "name": "stdout",
     "output_type": "stream",
     "text": [
      "El mejor score tuvo un valor de: 0.8142385392385393\n",
      "usando los siguientes parámetros: {'criterion': 'entropy', 'max_depth': 15, 'max_features': 'auto', 'splitter': 'best'}\n"
     ]
    }
   ],
   "source": [
    "# print best parameter after tuning \n",
    "print(\"El mejor score tuvo un valor de:\", grid_result_tree.best_score_)\n",
    "print(\"usando los siguientes parámetros:\",grid_result_tree.best_params_) \n",
    "grid_predictions = grid_result_tree.predict(X_test) "
   ]
  },
  {
   "cell_type": "markdown",
   "metadata": {},
   "source": [
    "- ¿Cuál modelo es mejor basado en sus métricas?: el mejor modelo según las métrias es el modelo de K-Nearest Neighbors.\n",
    "- ¿Cuál modelo demora menos tiempo en ajustarse?: el modelo que demora menos tiempo en ajustarse es el Decission Tree Classifier con 2.4 segundos aproximadamente.\n",
    "- ¿Qué modelo escoges?: escojo el modelo de K-Nearest Neighbors porque tiene las mejores métricas y aunque su tiempo de ejecución fue de alrededor 11 segundos creo que no es tampoco un tiempo de ejecución tan elevado."
   ]
  },
  {
   "cell_type": "markdown",
   "metadata": {},
   "source": [
    "### Ejercicio 4\n",
    "\n",
    "__Comprensión del modelo:__ Tomando en cuenta el mejor modelo entontrado en el `Ejercicio 3`, debe comprender e interpretar minuciosamente los resultados y gráficos asocados al modelo en estudio, para ello debe resolver los siguientes puntos:\n",
    "\n",
    "\n",
    "\n",
    " * **Cross validation**: usando **cv** (con n_fold = 10), sacar una especie de \"intervalo de confianza\" sobre alguna de las métricas estudiadas en clases: \n",
    "  * $\\mu \\pm \\sigma$ = promedio $\\pm$ desviación estandar\n",
    " * **Curva de Validación**: Replica el ejemplo del siguiente [link](https://scikit-learn.org/stable/auto_examples/model_selection/plot_validation_curve.html#sphx-glr-auto-examples-model-selection-plot-validation-curve-py) pero con el modelo, parámetros y métrica adecuada. Saque conclusiones del gráfico.\n",
    " * **Curva AUC–ROC**: Replica el ejemplo del siguiente  [link](https://scikit-learn.org/stable/auto_examples/model_selection/plot_roc.html#sphx-glr-auto-examples-model-selection-plot-roc-py) pero con el modelo, parámetros y métrica adecuada. Saque conclusiones del gráfico."
   ]
  },
  {
   "cell_type": "code",
   "execution_count": 36,
   "metadata": {},
   "outputs": [
    {
     "name": "stdout",
     "output_type": "stream",
     "text": [
      "La precisión es de: 0.99 ± 0.02\n"
     ]
    }
   ],
   "source": [
    "#Cross validation\n",
    "from sklearn.model_selection import cross_val_score\n",
    "\n",
    "scores = cross_val_score(estimator = reg_knn,\n",
    "                            X = X_train,\n",
    "                            y = Y_train,\n",
    "                            cv = 10)\n",
    "\n",
    "\n",
    "print(\"La precisión es de: %0.2f ± %0.2f\" % (scores.mean(), scores.std() * 2))"
   ]
  },
  {
   "cell_type": "code",
   "execution_count": 37,
   "metadata": {
    "scrolled": false
   },
   "outputs": [
    {
     "data": {
      "image/png": "[encoded data removed]",
      "text/plain": [
       "<Figure size 432x288 with 1 Axes>"
      ]
     },
     "metadata": {
      "needs_background": "light"
     },
     "output_type": "display_data"
    }
   ],
   "source": [
    "#Curva de Validación:\n",
    "import matplotlib.pyplot as plt\n",
    "import numpy as np\n",
    "\n",
    "from sklearn.datasets import load_digits\n",
    "from sklearn.svm import SVC\n",
    "from sklearn.model_selection import validation_curve\n",
    "\n",
    "#X, y = load_digits(return_X_y=True)\n",
    "\n",
    "param_range = np.array([i for i in range (1,10)])\n",
    "train_scores, test_scores = validation_curve(\n",
    "    #KNeighborsClassifier(algorithm = 'auto', metric = 'euclidean', weights = 'distance'),\n",
    "    KNeighborsClassifier(5,weights='uniform'),\n",
    "    X_train,\n",
    "    Y_train,\n",
    "    param_name=\"n_neighbors\",\n",
    "    param_range=param_range,\n",
    "    scoring=\"accuracy\",\n",
    "    n_jobs=1,\n",
    ")\n",
    "train_scores_mean = np.mean(train_scores, axis=1)\n",
    "train_scores_std = np.std(train_scores, axis=1)\n",
    "test_scores_mean = np.mean(test_scores, axis=1)\n",
    "test_scores_std = np.std(test_scores, axis=1)\n",
    "\n",
    "plt.title(\"Validation Curve for KNN\")\n",
    "plt.xlabel(\"n_neighbors\")\n",
    "plt.ylabel(\"Score\")\n",
    "\n",
    "plt.ylim(0.95, 1.05)\n",
    "lw = 2\n",
    "plt.semilogx(\n",
    "    param_range, train_scores_mean, label=\"Training score\", color=\"darkorange\", lw=lw\n",
    ")\n",
    "plt.fill_between(\n",
    "    param_range,\n",
    "    train_scores_mean - train_scores_std,\n",
    "    train_scores_mean + train_scores_std,\n",
    "    alpha=0.2,\n",
    "    color=\"darkorange\",\n",
    "    lw=lw,\n",
    ")\n",
    "plt.semilogx(\n",
    "    param_range, test_scores_mean, label=\"Cross-validation score\", color=\"navy\", lw=lw\n",
    ")\n",
    "plt.fill_between(\n",
    "    param_range,\n",
    "    test_scores_mean - test_scores_std,\n",
    "    test_scores_mean + test_scores_std,\n",
    "    alpha=0.2,\n",
    "    color=\"navy\",\n",
    "    lw=lw,\n",
    ")\n",
    "plt.legend(loc=\"best\")\n",
    "plt.show()"
   ]
  },
  {
   "cell_type": "code",
   "execution_count": 38,
   "metadata": {},
   "outputs": [],
   "source": [
    "#Curva AUC-ROC\n",
    "\n",
    "import numpy as np\n",
    "import matplotlib.pyplot as plt\n",
    "from itertools import cycle\n",
    "\n",
    "from sklearn import svm, datasets\n",
    "from sklearn.metrics import roc_curve, auc\n",
    "from sklearn.model_selection import train_test_split\n",
    "from sklearn.preprocessing import label_binarize\n",
    "from sklearn.multiclass import OneVsRestClassifier\n",
    "from scipy import interp\n",
    "from sklearn.metrics import roc_auc_score\n",
    "\n",
    "\n",
    "# Binarize the output\n",
    "y = label_binarize(Y, classes=digits[\"target\"].unique())\n",
    "n_classes = y.shape[1]\n",
    "\n",
    "n_samples, n_features = X.shape\n",
    "\n",
    "# shuffle and split training and test sets\n",
    "X_train, X_test, y_train, y_test = train_test_split(X, y,\n",
    "                                                    test_size=0.3,\n",
    "                                                    train_size = 0.7)\n",
    "                                                    \n",
    "\n",
    "# Learn to predict each class against the other\n",
    "classifier = OneVsRestClassifier(KNeighborsClassifier())\n",
    "y_score = classifier.fit(X_train, y_train).predict(X_test)\n",
    "\n",
    "# Compute ROC curve and ROC area for each class\n",
    "fpr = dict()\n",
    "tpr = dict()\n",
    "roc_auc = dict()\n",
    "for i in range(n_classes):\n",
    "    fpr[i], tpr[i], _ = roc_curve(y_test[:, i], y_score[:, i])\n",
    "    roc_auc[i] = auc(fpr[i], tpr[i])\n",
    "\n",
    "# Compute micro-average ROC curve and ROC area\n",
    "fpr[\"micro\"], tpr[\"micro\"], _ = roc_curve(y_test.ravel(), y_score.ravel())\n",
    "roc_auc[\"micro\"] = auc(fpr[\"micro\"], tpr[\"micro\"])"
   ]
  },
  {
   "cell_type": "code",
   "execution_count": 39,
   "metadata": {},
   "outputs": [
    {
     "name": "stderr",
     "output_type": "stream",
     "text": [
      "<ipython-input-39-f87f6eed5040>:8: DeprecationWarning: scipy.interp is deprecated and will be removed in SciPy 2.0.0, use numpy.interp instead\n",
      "  mean_tpr += interp(all_fpr, fpr[i], tpr[i])\n"
     ]
    },
    {
     "data": {
      "image/png": "[encoded data removed]",
      "text/plain": [
       "<Figure size 432x288 with 1 Axes>"
      ]
     },
     "metadata": {
      "needs_background": "light"
     },
     "output_type": "display_data"
    }
   ],
   "source": [
    "#Plot ROC curves for the multiclass problem\n",
    "# First aggregate all false positive rates\n",
    "all_fpr = np.unique(np.concatenate([fpr[i] for i in range(n_classes)]))\n",
    "\n",
    "# Then interpolate all ROC curves at this points\n",
    "mean_tpr = np.zeros_like(all_fpr)\n",
    "for i in range(n_classes):\n",
    "    mean_tpr += interp(all_fpr, fpr[i], tpr[i])\n",
    "\n",
    "# Finally average it and compute AUC\n",
    "mean_tpr /= n_classes\n",
    "\n",
    "fpr[\"macro\"] = all_fpr\n",
    "tpr[\"macro\"] = mean_tpr\n",
    "roc_auc[\"macro\"] = auc(fpr[\"macro\"], tpr[\"macro\"])\n",
    "\n",
    "# Plot all ROC curves\n",
    "plt.figure()\n",
    "plt.plot(\n",
    "    fpr[\"micro\"],\n",
    "    tpr[\"micro\"],\n",
    "    label=\"micro-average ROC curve (area = {0:0.2f})\".format(roc_auc[\"micro\"]),\n",
    "    color=\"deeppink\",\n",
    "    linestyle=\":\",\n",
    "    linewidth=4,\n",
    ")\n",
    "\n",
    "plt.plot(\n",
    "    fpr[\"macro\"],\n",
    "    tpr[\"macro\"],\n",
    "    label=\"macro-average ROC curve (area = {0:0.2f})\".format(roc_auc[\"macro\"]),\n",
    "    color=\"navy\",\n",
    "    linestyle=\":\",\n",
    "    linewidth=4,\n",
    ")\n",
    "\n",
    "colors = cycle([\"aqua\", \"darkorange\", \"cornflowerblue\"])\n",
    "for i, color in zip(range(n_classes), colors):\n",
    "    plt.plot(\n",
    "        fpr[i],\n",
    "        tpr[i],\n",
    "        color=color,\n",
    "        lw=lw,\n",
    "        label=\"ROC curve of class {0} (area = {1:0.2f})\".format(i, roc_auc[i]),\n",
    "    )\n",
    "\n",
    "plt.plot([0, 1], [0, 1], \"k--\", lw=lw)\n",
    "plt.xlim([0.0, 1.0])\n",
    "plt.ylim([0.0, 1.05])\n",
    "plt.xlabel(\"False Positive Rate\")\n",
    "plt.ylabel(\"True Positive Rate\")\n",
    "plt.title(\"Some extension of Receiver operating characteristic to multiclass\")\n",
    "plt.legend(loc=\"lower right\")\n",
    "plt.show()"
   ]
  },
  {
   "cell_type": "markdown",
   "metadata": {},
   "source": [
    "### Ejercicio 5\n",
    "__Reducción de la dimensión:__ Tomando en cuenta el mejor modelo encontrado en el `Ejercicio 3`, debe realizar una redcción de dimensionalidad del conjunto de datos. Para ello debe abordar el problema ocupando los dos criterios visto en clases:  \n",
    "\n",
    "* **Selección de atributos**\n",
    "* **Extracción de atributos**\n",
    "\n",
    "__Preguntas a responder:__\n",
    "\n",
    "Una vez realizado la reducción de dimensionalidad, debe sacar algunas estadísticas y gráficas comparativas entre el conjunto de datos original y el nuevo conjunto de datos (tamaño del dataset, tiempo de ejecución del modelo, etc.)\n"
   ]
  },
  {
   "cell_type": "code",
   "execution_count": 40,
   "metadata": {},
   "outputs": [],
   "source": [
    "from sklearn.feature_selection import SelectKBest\n",
    "from sklearn.feature_selection import f_classif"
   ]
  },
  {
   "cell_type": "markdown",
   "metadata": {},
   "source": [
    "### Selección de atributos:"
   ]
  },
  {
   "cell_type": "code",
   "execution_count": 41,
   "metadata": {},
   "outputs": [
    {
     "data": {
      "text/plain": [
       "['c02',\n",
       " 'c10',\n",
       " 'c13',\n",
       " 'c20',\n",
       " 'c21',\n",
       " 'c26',\n",
       " 'c28',\n",
       " 'c30',\n",
       " 'c33',\n",
       " 'c34',\n",
       " 'c36',\n",
       " 'c38',\n",
       " 'c42',\n",
       " 'c43',\n",
       " 'c44',\n",
       " 'c46',\n",
       " 'c54',\n",
       " 'c58',\n",
       " 'c60',\n",
       " 'c61']"
      ]
     },
     "execution_count": 41,
     "metadata": {},
     "output_type": "execute_result"
    }
   ],
   "source": [
    "# Separamos las columnas objetivo\n",
    "#x_training = digits.drop(columns = \"target\")\n",
    "x_training = digits.drop(['c00','c32','c39',\"target\"], axis = 1)\n",
    "y_training = digits[\"target\"]\n",
    "\n",
    "# Aplicando el algoritmo univariante de prueba F.\n",
    "k = 20  # número de atributos a seleccionar\n",
    "columnas = list(x_training.columns.values)\n",
    "seleccionadas = SelectKBest(f_classif, k=k).fit(x_training, y_training)\n",
    "\n",
    "catrib = seleccionadas.get_support()\n",
    "atributos = [columnas[i] for i in list(catrib.nonzero()[0])]\n",
    "atributos #printea la selección de atributos con la cual trabajaremos."
   ]
  },
  {
   "cell_type": "markdown",
   "metadata": {},
   "source": [
    "### Extracción de atributos: PCA"
   ]
  },
  {
   "cell_type": "code",
   "execution_count": 42,
   "metadata": {},
   "outputs": [],
   "source": [
    "from sklearn.preprocessing import StandardScaler\n",
    "from sklearn.decomposition import PCA"
   ]
  },
  {
   "cell_type": "code",
   "execution_count": 43,
   "metadata": {},
   "outputs": [],
   "source": [
    "X2 = StandardScaler().fit_transform(X_train) #reescala los datos\n",
    "#ajuste del modelo\n",
    "embedding = PCA(n_components=64)\n",
    "X_transform = embedding.fit_transform(X)\n",
    "    "
   ]
  },
  {
   "cell_type": "code",
   "execution_count": 79,
   "metadata": {},
   "outputs": [
    {
     "data": {
      "image/png": "[encoded data removed]",
      "text/plain": [
       "<Figure size 1440x288 with 1 Axes>"
      ]
     },
     "metadata": {
      "needs_background": "light"
     },
     "output_type": "display_data"
    }
   ],
   "source": [
    "# graficar varianza por componente\n",
    "percent_variance = embedding.explained_variance_ratio_* 100\n",
    "\n",
    "    \n",
    "plt.figure(figsize=(20,4))\n",
    "plt.bar(x= range(1,65), height=percent_variance)\n",
    "plt.xticks(rotation=90)\n",
    "\n",
    "plt.ylabel('Componente principal')\n",
    "plt.xlabel('Por. varianza explicada')\n",
    "plt.title('Porcentaje de varianza explicada por cada componente')\n",
    "plt.show()"
   ]
  },
  {
   "cell_type": "code",
   "execution_count": 91,
   "metadata": {},
   "outputs": [
    {
     "data": {
      "image/png": "[encoded data removed]",
      "text/plain": [
       "<Figure size 1440x288 with 1 Axes>"
      ]
     },
     "metadata": {
      "needs_background": "light"
     },
     "output_type": "display_data"
    }
   ],
   "source": [
    "# graficar varianza por la suma acumulada de los componente\n",
    "percent_variance_cum = np.cumsum(percent_variance)\n",
    "\n",
    "\n",
    "plt.figure(figsize=(20,4))\n",
    "plt.bar(x= range(1,65), height=percent_variance_cum)\n",
    "plt.ylabel('Percentate of Variance Explained')\n",
    "plt.xlabel('Principal Component Cumsum')\n",
    "plt.title('PCA Scree Plot')\n",
    "plt.show()"
   ]
  },
  {
   "cell_type": "code",
   "execution_count": 47,
   "metadata": {},
   "outputs": [],
   "source": [
    "from sklearn.model_selection import train_test_split\n",
    "from sklearn.linear_model import LogisticRegression\n",
    "from metrics_classification import summary_metrics\n"
   ]
  },
  {
   "cell_type": "code",
   "execution_count": 48,
   "metadata": {},
   "outputs": [
    {
     "name": "stdout",
     "output_type": "stream",
     "text": [
      "El tiempo de ejecución es; 0.072174072265625\n"
     ]
    }
   ],
   "source": [
    "import time\n",
    "\n",
    "start_time = time.time()\n",
    "# Entrenamiento con todas las variables \n",
    "X = digits.drop(columns = \"target\")\n",
    "Y = digits[\"target\"]\n",
    "\n",
    "# split dataset\n",
    "X_train, X_test, Y_train, Y_test = train_test_split(X, Y, test_size=0.2, random_state = 2) \n",
    "\n",
    "# Creando el modelo\n",
    "knn = KNeighborsClassifier()\n",
    "knn.fit(X_train, Y_train) # ajustando el modelo\n",
    "\n",
    "predicciones = knn.predict(X_test)\n",
    "\n",
    "\n",
    "time = time.time() - start_time\n",
    "print(\"El tiempo de ejecución es;\", time)\n",
    "\n",
    "df_pred = pd.DataFrame({\n",
    "    'y':Y_test,\n",
    "    'yhat':predicciones\n",
    "})\n",
    "\n",
    "df_s1 = summary_metrics(df_pred).assign(name = 'Todas las variables')\n"
   ]
  },
  {
   "cell_type": "code",
   "execution_count": 49,
   "metadata": {},
   "outputs": [
    {
     "name": "stdout",
     "output_type": "stream",
     "text": [
      "El tiempo de ejecución es: 0.09474968910217285\n"
     ]
    }
   ],
   "source": [
    "import time\n",
    "\n",
    "start_time = time.time()\n",
    "# Entrenamiento con las variables seleccionadas\n",
    "X = digits[atributos]\n",
    "Y = digits['target']\n",
    "\n",
    "\n",
    "\n",
    "# split dataset\n",
    "X_train, X_test, Y_train, Y_test = train_test_split(X, Y, test_size=0.2, random_state = 2) \n",
    "\n",
    "# Creando el modelo\n",
    "knn = KNeighborsClassifier()\n",
    "knn.fit(X_train, Y_train) # ajustando el modelo\n",
    "\n",
    "predicciones = knn.predict(X_test)\n",
    "\n",
    "time = time.time() - start_time\n",
    "print(\"El tiempo de ejecución es:\", time)\n",
    "\n",
    "df_pred = pd.DataFrame({\n",
    "    'y':Y_test,\n",
    "    'yhat':predicciones\n",
    "})\n",
    "\n",
    "df_s2 = summary_metrics(df_pred).assign(name = 'Variables Seleccionadas')\n"
   ]
  },
  {
   "cell_type": "code",
   "execution_count": 50,
   "metadata": {},
   "outputs": [
    {
     "data": {
      "text/html": [
       "<div>\n",
       "<style scoped>\n",
       "    .dataframe tbody tr th:only-of-type {\n",
       "        vertical-align: middle;\n",
       "    }\n",
       "\n",
       "    .dataframe tbody tr th {\n",
       "        vertical-align: top;\n",
       "    }\n",
       "\n",
       "    .dataframe thead th {\n",
       "        text-align: right;\n",
       "    }\n",
       "</style>\n",
       "<table border=\"1\" class=\"dataframe\">\n",
       "  <thead>\n",
       "    <tr style=\"text-align: right;\">\n",
       "      <th></th>\n",
       "      <th>accuracy</th>\n",
       "      <th>recall</th>\n",
       "      <th>precision</th>\n",
       "      <th>fscore</th>\n",
       "      <th>name</th>\n",
       "    </tr>\n",
       "  </thead>\n",
       "  <tbody>\n",
       "    <tr>\n",
       "      <th>0</th>\n",
       "      <td>0.9806</td>\n",
       "      <td>0.9787</td>\n",
       "      <td>0.9831</td>\n",
       "      <td>0.9805</td>\n",
       "      <td>Todas las variables</td>\n",
       "    </tr>\n",
       "    <tr>\n",
       "      <th>0</th>\n",
       "      <td>0.9389</td>\n",
       "      <td>0.9371</td>\n",
       "      <td>0.9400</td>\n",
       "      <td>0.9375</td>\n",
       "      <td>Variables Seleccionadas</td>\n",
       "    </tr>\n",
       "  </tbody>\n",
       "</table>\n",
       "</div>"
      ],
      "text/plain": [
       "   accuracy  recall  precision  fscore                     name\n",
       "0    0.9806  0.9787     0.9831  0.9805      Todas las variables\n",
       "0    0.9389  0.9371     0.9400  0.9375  Variables Seleccionadas"
      ]
     },
     "execution_count": 50,
     "metadata": {},
     "output_type": "execute_result"
    }
   ],
   "source": [
    "# juntar resultados en formato dataframe\n",
    "pd.concat([df_s1,df_s2])"
   ]
  },
  {
   "cell_type": "markdown",
   "metadata": {},
   "source": [
    "Notamos que el tiempo de ejecución es menor para el modelo con menos variables. También las métricas para el modelo con variables seleccionadas es un poco mejor que el modelo con todas las variables."
   ]
  },
  {
   "cell_type": "markdown",
   "metadata": {},
   "source": [
    "### Ejercicio 6\n",
    "\n",
    "\n",
    "__Visualizando Resultados:__ A continuación se provee código para comparar las etiquetas predichas vs las etiquetas reales del conjunto de _test_. \n"
   ]
  },
  {
   "cell_type": "code",
   "execution_count": 94,
   "metadata": {},
   "outputs": [],
   "source": [
    "def mostar_resultados(digits,model,nx=5, ny=5,label = \"correctos\"):\n",
    "    \"\"\"\n",
    "    Muestra los resultados de las prediciones de un modelo \n",
    "    de clasificacion en particular. Se toman aleatoriamente los valores\n",
    "    de los resultados.\n",
    "    \n",
    "    - label == 'correcto': retorna los valores en que el modelo acierta.\n",
    "    - label == 'incorrecto': retorna los valores en que el modelo no acierta.\n",
    "\n",
    "    \n",
    "    Observacion: El modelo que recibe como argumento debe NO encontrarse\n",
    "    'entrenado'.\n",
    "    \n",
    "    \n",
    "    :param digits: dataset 'digits'\n",
    "    :param model: modelo de sklearn\n",
    "    :param nx: numero de filas (subplots)\n",
    "    :param ny: numero de columnas (subplots)\n",
    "    :param label: datos correctos o incorrectos\n",
    "    :return: graficos matplotlib\n",
    "    \"\"\"\n",
    "    \n",
    "    \n",
    "    X = digits.drop(columns=\"target\").values\n",
    "    y = digits[\"target\"].values\n",
    "    X_train, X_test, Y_train, Y_test = train_test_split(X, y, test_size=0.2, random_state = 42) \n",
    "    model.fit(X_train, Y_train) # ajustando el modelo\n",
    "    y_pred = list(model.predict(X_test))\n",
    "\n",
    "    \n",
    "    # Mostrar los datos correctos\n",
    "    if label==\"correctos\":\n",
    "        mask = (y_pred == Y_test)\n",
    "        color = \"green\"\n",
    "        \n",
    "    # Mostrar los datos correctos\n",
    "    elif label==\"incorrectos\":\n",
    "        mask = (y_pred != Y_test)\n",
    "        color = \"red\"\n",
    "    \n",
    "    else:\n",
    "        raise ValueError(\"Valor incorrecto\")\n",
    "        \n",
    "    X_aux = X_test[mask]\n",
    "    #y_aux_true = Y_test[mask]\n",
    "    #y_aux_pred = y_pred[mask]\n",
    "        \n",
    "\n",
    "    y_aux_true = np.array(Y_test)[mask]\n",
    "  \n",
    "    y_aux_pred = np.array(y_pred)[mask]\n",
    "\n",
    "    # We'll plot the first 100 examples, randomly choosen\n",
    "    fig, ax = plt.subplots(nx, ny, figsize=(12,12))\n",
    "    for i in range(nx):\n",
    "        for j in range(ny):\n",
    "            index = j + ny * i\n",
    "            data  = X_aux[index, :].reshape(8,8)\n",
    "            label_pred = str(int(y_aux_pred[index]))\n",
    "            label_true = str(int(y_aux_true[index]))\n",
    "            ax[i][j].imshow(data, interpolation='nearest', cmap='gray_r')\n",
    "            ax[i][j].text(0, 0, label_pred, horizontalalignment='center', verticalalignment='center', fontsize=10, color=color)\n",
    "            ax[i][j].text(7, 0, label_true, horizontalalignment='center', verticalalignment='center', fontsize=10, color='blue')\n",
    "            ax[i][j].get_xaxis().set_visible(False)\n",
    "            ax[i][j].get_yaxis().set_visible(False)\n",
    "    plt.show()"
   ]
  },
  {
   "cell_type": "markdown",
   "metadata": {},
   "source": [
    "**Pregunta**\n",
    "\n",
    "* Tomando en cuenta el mejor modelo entontrado en el `Ejercicio 3`, grafique los resultados cuando:\n",
    " * el valor predicho y original son iguales\n",
    " * el valor predicho y original son distintos \n",
    "\n",
    "\n",
    "* Cuando el valor predicho y original son distintos ,  ¿Por qué ocurren estas fallas?"
   ]
  },
  {
   "cell_type": "code",
   "execution_count": 95,
   "metadata": {},
   "outputs": [
    {
     "data": {
      "image/png": "[encoded data removed]",
      "text/plain": [
       "<Figure size 864x864 with 25 Axes>"
      ]
     },
     "metadata": {
      "needs_background": "light"
     },
     "output_type": "display_data"
    }
   ],
   "source": [
    "mostar_resultados(digits,KNeighborsClassifier(),nx=5, ny=5,label = \"correctos\")"
   ]
  },
  {
   "cell_type": "code",
   "execution_count": 98,
   "metadata": {},
   "outputs": [
    {
     "data": {
      "image/png": "[encoded data removed]",
      "text/plain": [
       "<Figure size 864x864 with 4 Axes>"
      ]
     },
     "metadata": {
      "needs_background": "light"
     },
     "output_type": "display_data"
    }
   ],
   "source": [
    "mostar_resultados(digits,KNeighborsClassifier(),nx=2, ny=2,label = \"incorrectos\")"
   ]
  },
  {
   "cell_type": "markdown",
   "metadata": {},
   "source": [
    "### Ejercicio 7\n",
    "**Conclusiones**: Entrega tu veredicto, responde las preguntas iniciales, visualizaciones, trabajos futuros, dificultades, etc."
   ]
  },
  {
   "cell_type": "markdown",
   "metadata": {},
   "source": [
    "Las principales dificultades que encontré fueron que no entendía lo que se pedía y, por ejemplo, la función dada en el ejercicio 6 estaba mal escrita y me demoré mucho en entender qué estaba mal para que funcionase. Creo también que la parte de Machine Learning se dictó muy rápido por parte del profesor por lo que me costó aún más desarrollar los ejercicios porque constantemente debía volver a la documentación de la clase o ir a google para entender qué debía hacer."
   ]
  },
  {
   "cell_type": "markdown",
   "metadata": {},
   "source": [
    "## II.- California Housing Prices\n",
    "\n",
    "\n",
    "<img src=\"https://www.wartsila.com/images/default-source/default-album/california_housing.tmb-1920x690.jpg?sfvrsn=126bc44_1\" width=\"480\" height=\"240\" align=\"center\"/>\n",
    "\n",
    "Los datos se refieren a las casas encontradas en un distrito determinado de California y algunas estadísticas resumidas sobre ellas basadas en los datos del censo de 1990. Tenga en cuenta que los datos no se limpian, por lo que se requieren algunos pasos de procesamiento previo.\n",
    "\n",
    "Las columnas son las siguientes, sus nombres se explican por sí mismos:\n",
    "\n",
    "* longitude\n",
    "* latitude\n",
    "* housingmedianage\n",
    "* total_rooms\n",
    "* total_bedrooms\n",
    "* population\n",
    "* households\n",
    "* median_income\n",
    "* medianhousevalue\n",
    "* ocean_proximity\n",
    "\n",
    "\n",
    "El objetivo es poder predecir el valor promedio de cada propiedad. \n",
    "Para poder completar correctamente este laboratorio, es necesario seguir la siguiente rúbrica de trabajo:\n",
    "\n",
    "1. Definición del problema\n",
    "2. Estadística descriptiva\n",
    "3. Visualización descriptiva\n",
    "4. Preprocesamiento\n",
    "5. Selección de modelo \n",
    "    1. Por lo menos debe comparar cuatro modelos\n",
    "    2. Al menos tres de estos modelos tienen que tener hiperparámetros.\n",
    "    3. Realizar optimización de hiperparámetros.\n",
    "6. Métricas y análisis de resultados\n",
    "7. Visualizaciones del modelo\n",
    "8. Conclusiones\n",
    "\n",
    "> **Observación**: Puede tomar como referencia lo realizado en la sección **I.- Clasificación de dígitos**. El alumno tiene la libertad de desarrollar un análisis más completo del problema (si así lo desea). Puede tomar como referencia el siguiente [link](https://www.kaggle.com/camnugent/california-housing-prices)."
   ]
  },
  {
   "cell_type": "code",
   "execution_count": 54,
   "metadata": {},
   "outputs": [
    {
     "data": {
      "text/html": [
       "<div>\n",
       "<style scoped>\n",
       "    .dataframe tbody tr th:only-of-type {\n",
       "        vertical-align: middle;\n",
       "    }\n",
       "\n",
       "    .dataframe tbody tr th {\n",
       "        vertical-align: top;\n",
       "    }\n",
       "\n",
       "    .dataframe thead th {\n",
       "        text-align: right;\n",
       "    }\n",
       "</style>\n",
       "<table border=\"1\" class=\"dataframe\">\n",
       "  <thead>\n",
       "    <tr style=\"text-align: right;\">\n",
       "      <th></th>\n",
       "      <th>longitude</th>\n",
       "      <th>latitude</th>\n",
       "      <th>housing_median_age</th>\n",
       "      <th>total_rooms</th>\n",
       "      <th>total_bedrooms</th>\n",
       "      <th>population</th>\n",
       "      <th>households</th>\n",
       "      <th>median_income</th>\n",
       "      <th>median_house_value</th>\n",
       "      <th>ocean_proximity</th>\n",
       "    </tr>\n",
       "  </thead>\n",
       "  <tbody>\n",
       "    <tr>\n",
       "      <th>0</th>\n",
       "      <td>-122.23</td>\n",
       "      <td>37.88</td>\n",
       "      <td>41.0</td>\n",
       "      <td>880.0</td>\n",
       "      <td>129.0</td>\n",
       "      <td>322.0</td>\n",
       "      <td>126.0</td>\n",
       "      <td>8.3252</td>\n",
       "      <td>452600.0</td>\n",
       "      <td>NEAR BAY</td>\n",
       "    </tr>\n",
       "    <tr>\n",
       "      <th>1</th>\n",
       "      <td>-122.22</td>\n",
       "      <td>37.86</td>\n",
       "      <td>21.0</td>\n",
       "      <td>7099.0</td>\n",
       "      <td>1106.0</td>\n",
       "      <td>2401.0</td>\n",
       "      <td>1138.0</td>\n",
       "      <td>8.3014</td>\n",
       "      <td>358500.0</td>\n",
       "      <td>NEAR BAY</td>\n",
       "    </tr>\n",
       "    <tr>\n",
       "      <th>2</th>\n",
       "      <td>-122.24</td>\n",
       "      <td>37.85</td>\n",
       "      <td>52.0</td>\n",
       "      <td>1467.0</td>\n",
       "      <td>190.0</td>\n",
       "      <td>496.0</td>\n",
       "      <td>177.0</td>\n",
       "      <td>7.2574</td>\n",
       "      <td>352100.0</td>\n",
       "      <td>NEAR BAY</td>\n",
       "    </tr>\n",
       "    <tr>\n",
       "      <th>3</th>\n",
       "      <td>-122.25</td>\n",
       "      <td>37.85</td>\n",
       "      <td>52.0</td>\n",
       "      <td>1274.0</td>\n",
       "      <td>235.0</td>\n",
       "      <td>558.0</td>\n",
       "      <td>219.0</td>\n",
       "      <td>5.6431</td>\n",
       "      <td>341300.0</td>\n",
       "      <td>NEAR BAY</td>\n",
       "    </tr>\n",
       "    <tr>\n",
       "      <th>4</th>\n",
       "      <td>-122.25</td>\n",
       "      <td>37.85</td>\n",
       "      <td>52.0</td>\n",
       "      <td>1627.0</td>\n",
       "      <td>280.0</td>\n",
       "      <td>565.0</td>\n",
       "      <td>259.0</td>\n",
       "      <td>3.8462</td>\n",
       "      <td>342200.0</td>\n",
       "      <td>NEAR BAY</td>\n",
       "    </tr>\n",
       "  </tbody>\n",
       "</table>\n",
       "</div>"
      ],
      "text/plain": [
       "   longitude  latitude  housing_median_age  total_rooms  total_bedrooms  \\\n",
       "0    -122.23     37.88                41.0        880.0           129.0   \n",
       "1    -122.22     37.86                21.0       7099.0          1106.0   \n",
       "2    -122.24     37.85                52.0       1467.0           190.0   \n",
       "3    -122.25     37.85                52.0       1274.0           235.0   \n",
       "4    -122.25     37.85                52.0       1627.0           280.0   \n",
       "\n",
       "   population  households  median_income  median_house_value ocean_proximity  \n",
       "0       322.0       126.0         8.3252            452600.0        NEAR BAY  \n",
       "1      2401.0      1138.0         8.3014            358500.0        NEAR BAY  \n",
       "2       496.0       177.0         7.2574            352100.0        NEAR BAY  \n",
       "3       558.0       219.0         5.6431            341300.0        NEAR BAY  \n",
       "4       565.0       259.0         3.8462            342200.0        NEAR BAY  "
      ]
     },
     "execution_count": 54,
     "metadata": {},
     "output_type": "execute_result"
    }
   ],
   "source": [
    "# read data\n",
    "housing = pd.read_csv('data/housing.csv',sep=',')\n",
    "housing.head()"
   ]
  },
  {
   "cell_type": "code",
   "execution_count": 55,
   "metadata": {},
   "outputs": [
    {
     "name": "stdout",
     "output_type": "stream",
     "text": [
      "Shape: (20640, 10)\n",
      "Types:\n",
      " longitude             float64\n",
      "latitude              float64\n",
      "housing_median_age    float64\n",
      "total_rooms           float64\n",
      "total_bedrooms        float64\n",
      "population            float64\n",
      "households            float64\n",
      "median_income         float64\n",
      "median_house_value    float64\n",
      "ocean_proximity        object\n",
      "dtype: object\n"
     ]
    }
   ],
   "source": [
    "print(\"Shape:\", housing.shape)\n",
    "print(\"Types:\\n\", housing.dtypes)\n"
   ]
  },
  {
   "cell_type": "code",
   "execution_count": 56,
   "metadata": {},
   "outputs": [
    {
     "name": "stdout",
     "output_type": "stream",
     "text": [
      "<class 'pandas.core.frame.DataFrame'>\n",
      "RangeIndex: 20640 entries, 0 to 20639\n",
      "Data columns (total 10 columns):\n",
      " #   Column              Non-Null Count  Dtype  \n",
      "---  ------              --------------  -----  \n",
      " 0   longitude           20640 non-null  float64\n",
      " 1   latitude            20640 non-null  float64\n",
      " 2   housing_median_age  20640 non-null  float64\n",
      " 3   total_rooms         20640 non-null  float64\n",
      " 4   total_bedrooms      20433 non-null  float64\n",
      " 5   population          20640 non-null  float64\n",
      " 6   households          20640 non-null  float64\n",
      " 7   median_income       20640 non-null  float64\n",
      " 8   median_house_value  20640 non-null  float64\n",
      " 9   ocean_proximity     20640 non-null  object \n",
      "dtypes: float64(9), object(1)\n",
      "memory usage: 1.6+ MB\n"
     ]
    }
   ],
   "source": [
    "housing.info()"
   ]
  },
  {
   "cell_type": "code",
   "execution_count": 57,
   "metadata": {},
   "outputs": [
    {
     "name": "stdout",
     "output_type": "stream",
     "text": [
      "longitude               0\n",
      "latitude                0\n",
      "housing_median_age      0\n",
      "total_rooms             0\n",
      "total_bedrooms        207\n",
      "population              0\n",
      "households              0\n",
      "median_income           0\n",
      "median_house_value      0\n",
      "ocean_proximity         0\n",
      "dtype: int64\n"
     ]
    }
   ],
   "source": [
    "print(housing.isnull().sum())"
   ]
  },
  {
   "cell_type": "markdown",
   "metadata": {},
   "source": [
    "Notamos que en total_bedroom hay 207 valores nulos que reemplazaremos con el promedio de total_bedrooms:"
   ]
  },
  {
   "cell_type": "code",
   "execution_count": 58,
   "metadata": {},
   "outputs": [],
   "source": [
    "housing['total_bedrooms'] = housing['total_bedrooms'].fillna(housing['total_bedrooms'].mean())"
   ]
  },
  {
   "cell_type": "code",
   "execution_count": 59,
   "metadata": {},
   "outputs": [
    {
     "data": {
      "text/plain": [
       "<AxesSubplot:>"
      ]
     },
     "execution_count": 59,
     "metadata": {},
     "output_type": "execute_result"
    },
    {
     "data": {
      "image/png": "[encoded data removed]",
      "text/plain": [
       "<Figure size 432x288 with 1 Axes>"
      ]
     },
     "metadata": {
      "needs_background": "light"
     },
     "output_type": "display_data"
    }
   ],
   "source": [
    "housing.boxplot(column=['median_house_value'])"
   ]
  },
  {
   "cell_type": "code",
   "execution_count": 60,
   "metadata": {},
   "outputs": [
    {
     "data": {
      "text/plain": [
       "count     20640.000000\n",
       "mean     206855.816909\n",
       "std      115395.615874\n",
       "min       14999.000000\n",
       "25%      119600.000000\n",
       "50%      179700.000000\n",
       "75%      264725.000000\n",
       "max      500001.000000\n",
       "Name: median_house_value, dtype: float64"
      ]
     },
     "execution_count": 60,
     "metadata": {},
     "output_type": "execute_result"
    }
   ],
   "source": [
    "housing['median_house_value'].describe()"
   ]
  },
  {
   "cell_type": "markdown",
   "metadata": {},
   "source": [
    "Se puede inferir que el valor max: 500001.000000  posiblemente es un outlier (se aleja mucho de los otros valores). Contemos cuántos valores hay con ese número y su porcentaje con respecto al total de los valores (que son 20640)."
   ]
  },
  {
   "cell_type": "code",
   "execution_count": 61,
   "metadata": {},
   "outputs": [
    {
     "data": {
      "text/plain": [
       "965"
      ]
     },
     "execution_count": 61,
     "metadata": {},
     "output_type": "execute_result"
    }
   ],
   "source": [
    "housing[housing['median_house_value'] == 500001]['median_house_value'].count()"
   ]
  },
  {
   "cell_type": "code",
   "execution_count": 62,
   "metadata": {},
   "outputs": [
    {
     "name": "stdout",
     "output_type": "stream",
     "text": [
      "4.675387596899225\n"
     ]
    }
   ],
   "source": [
    "print((965/ 20640)*100)"
   ]
  },
  {
   "cell_type": "markdown",
   "metadata": {},
   "source": [
    "Los outliers representan al rededor del 4.7% de los datos totales. Decidiremos no quitarlos porque es un bajo porcentaje."
   ]
  },
  {
   "cell_type": "code",
   "execution_count": 63,
   "metadata": {},
   "outputs": [
    {
     "data": {
      "image/png": "[encoded data removed]",
      "text/plain": [
       "<Figure size 1440x1080 with 9 Axes>"
      ]
     },
     "metadata": {
      "needs_background": "light"
     },
     "output_type": "display_data"
    }
   ],
   "source": [
    "%matplotlib inline\n",
    "import matplotlib.pyplot as plt\n",
    "housing.hist(bins=50,figsize=(20,15))\n",
    "plt.show()"
   ]
  },
  {
   "cell_type": "code",
   "execution_count": 64,
   "metadata": {},
   "outputs": [
    {
     "data": {
      "text/plain": [
       "<AxesSubplot:xlabel='longitude', ylabel='latitude'>"
      ]
     },
     "execution_count": 64,
     "metadata": {},
     "output_type": "execute_result"
    },
    {
     "data": {
      "image/png": "[encoded data removed]",
      "text/plain": [
       "<Figure size 432x288 with 1 Axes>"
      ]
     },
     "metadata": {
      "needs_background": "light"
     },
     "output_type": "display_data"
    }
   ],
   "source": [
    "housing.plot(kind=\"scatter\",x=\"longitude\",y=\"latitude\", alpha = 0.1)"
   ]
  },
  {
   "cell_type": "code",
   "execution_count": 66,
   "metadata": {},
   "outputs": [],
   "source": [
    "X = housing.drop(columns=[\"median_house_value\",\"ocean_proximity\"]).values\n",
    "Y = housing[\"median_house_value\"].values"
   ]
  },
  {
   "cell_type": "code",
   "execution_count": 67,
   "metadata": {},
   "outputs": [],
   "source": [
    "X_train, X_test, Y_train, Y_test = train_test_split(X, Y, test_size=0.2, random_state=42) "
   ]
  },
  {
   "cell_type": "code",
   "execution_count": 68,
   "metadata": {},
   "outputs": [
    {
     "name": "stdout",
     "output_type": "stream",
     "text": [
      "Separando informacion:\n",
      "\n",
      "numero de filas data original :  20640\n",
      "numero de filas train set     :  16512\n",
      "numero de filas test set      :  4128\n"
     ]
    }
   ],
   "source": [
    "# print rows train and test sets\n",
    "print('Separando informacion:\\n')\n",
    "print('numero de filas data original : ',len(X))\n",
    "print('numero de filas train set     : ',len(X_train))\n",
    "print('numero de filas test set      : ',len(X_test))"
   ]
  },
  {
   "cell_type": "markdown",
   "metadata": {},
   "source": [
    "Logistic Regression:"
   ]
  },
  {
   "cell_type": "code",
   "execution_count": 69,
   "metadata": {},
   "outputs": [
    {
     "name": "stderr",
     "output_type": "stream",
     "text": [
      "C:\\Users\\Javiera\\anaconda3\\lib\\site-packages\\sklearn\\linear_model\\_logistic.py:763: ConvergenceWarning: lbfgs failed to converge (status=1):\n",
      "STOP: TOTAL NO. of ITERATIONS REACHED LIMIT.\n",
      "\n",
      "Increase the number of iterations (max_iter) or scale the data as shown in:\n",
      "    https://scikit-learn.org/stable/modules/preprocessing.html\n",
      "Please also refer to the documentation for alternative solver options:\n",
      "    https://scikit-learn.org/stable/modules/linear_model.html#logistic-regression\n",
      "  n_iter_i = _check_optimize_result(\n"
     ]
    },
    {
     "data": {
      "text/plain": [
       "LogisticRegression()"
      ]
     },
     "execution_count": 69,
     "metadata": {},
     "output_type": "execute_result"
    }
   ],
   "source": [
    "# Creando el modelo\n",
    "rlog = LogisticRegression()\n",
    "rlog.fit(X_train, Y_train) # ajustando el modelo"
   ]
  },
  {
   "cell_type": "code",
   "execution_count": 70,
   "metadata": {},
   "outputs": [
    {
     "name": "stdout",
     "output_type": "stream",
     "text": [
      "Valores:\n",
      "\n",
      "originales:\n",
      "  [47700.0, 45800.0, 500001.0, 218600.0, 278000.0, 158700.0, 198200.0, 157500.0, 340000.0, 446600.0, 123200.0, 253900.0, 215100.0, 220500.0, 219800.0, 136200.0, 178400.0, 187500.0, 139800.0, 137500.0, 425000.0, 405600.0, 138800.0, 500001.0, 162100.0, 51400.0, 151300.0, 94800.0, 204100.0, 361500.0, 85100.0, 138400.0, 137500.0, 465000.0, 271800.0, 239400.0, 340900.0, 150400.0, 128100.0, 156000.0, 258100.0, 90500.0, 71300.0, 219700.0, 151000.0, 290100.0, 142000.0, 291500.0, 255400.0, 98100.0, 251900.0, 162100.0, 129400.0, 89400.0, 150500.0, 133800.0, 80400.0, 211100.0, 255600.0, 214500.0, 500001.0, 202100.0, 81500.0, 98800.0, 281900.0, 184600.0, 254700.0, 143100.0, 162500.0, 142600.0, 85900.0, 186900.0, 71300.0, 174400.0, 225000.0, 146500.0, 405000.0, 189600.0, 164400.0, 337500.0, 72500.0, 143800.0, 160000.0, 118100.0, 374000.0, 202700.0, 96600.0, 65800.0, 167400.0, 179800.0, 96700.0, 266100.0, 91100.0, 49800.0, 90700.0, 115800.0, 278600.0, 250000.0, 85000.0, 177000.0, 99700.0, 357600.0, 475000.0, 273600.0, 182400.0, 157800.0, 193800.0, 333600.0, 264600.0, 58400.0, 173400.0, 214800.0, 200000.0, 422800.0, 93600.0, 122200.0, 167600.0, 303600.0, 269300.0, 264400.0, 191000.0, 153800.0, 275500.0, 208800.0, 142300.0, 63500.0, 95800.0, 231700.0, 221500.0, 89500.0, 226000.0, 500001.0, 270200.0, 59600.0, 193300.0, 133600.0, 161900.0, 357500.0, 276500.0, 410700.0, 375000.0, 135200.0, 167200.0, 252000.0, 308400.0, 172100.0, 500001.0, 193800.0, 105200.0, 90800.0, 168800.0, 162100.0, 161200.0, 137500.0, 289300.0, 278700.0, 161700.0, 231000.0, 87500.0, 95700.0, 240600.0, 214100.0, 428600.0, 125000.0, 76400.0, 263800.0, 120400.0, 109100.0, 170600.0, 257400.0, 320000.0, 289600.0, 307300.0, 325500.0, 58400.0, 48500.0, 216700.0, 97900.0, 158600.0, 69000.0, 322300.0, 467700.0, 163000.0, 287100.0, 54600.0, 90400.0, 155500.0, 175000.0, 411200.0, 332100.0, 141200.0, 247100.0, 153000.0, 155000.0, 390800.0, 90000.0, 196700.0, 68200.0, 500001.0, 92100.0, 297900.0, 500001.0, 332300.0, 171100.0, 152100.0, 232000.0, 127100.0, 87500.0, 203400.0, 228600.0, 116700.0, 416700.0, 227600.0, 267900.0, 97200.0, 137500.0, 198800.0, 68600.0, 352500.0, 103800.0, 107800.0, 131700.0, 271300.0, 97300.0, 95000.0, 67500.0, 326100.0, 65600.0, 225600.0, 263800.0, 348300.0, 325000.0, 108800.0, 400000.0, 138400.0, 61000.0, 453100.0, 500001.0, 120200.0, 329200.0, 196300.0, 150000.0, 152000.0, 169900.0, 137500.0, 283000.0, 404500.0, 193500.0, 205100.0, 145600.0, 225000.0, 215900.0, 158500.0, 124700.0, 65400.0, 280200.0, 180500.0, 105400.0, 100000.0, 166300.0, 158000.0, 243800.0, 362900.0, 201900.0, 52600.0, 500001.0, 112000.0, 225000.0, 439900.0, 88300.0, 500001.0, 276800.0, 179200.0, 199700.0, 132000.0, 61300.0, 171900.0, 123800.0, 135300.0, 137100.0, 129300.0, 227900.0, 94400.0, 103500.0, 320800.0, 125000.0, 332400.0, 159100.0, 236900.0, 461600.0, 156900.0, 148200.0, 166500.0, 196900.0, 167800.0, 126700.0, 500001.0, 57900.0, 238000.0, 142000.0, 86900.0, 56000.0, 500001.0, 112400.0, 63600.0, 431300.0, 265900.0, 58000.0, 194100.0, 142800.0, 178700.0, 187500.0, 225000.0, 313000.0, 500001.0, 153600.0, 62300.0, 194500.0, 163900.0, 398800.0, 204100.0, 199300.0, 176700.0, 500001.0, 248900.0, 150000.0, 231700.0, 58000.0, 126000.0, 163300.0, 113400.0, 300000.0, 310900.0, 218800.0, 70400.0, 237700.0, 118800.0, 73100.0, 75000.0, 450700.0, 240200.0, 65800.0, 64700.0, 175100.0, 223700.0, 96300.0, 405100.0, 376800.0, 500001.0, 350000.0, 162500.0, 177300.0, 98400.0, 138800.0, 175000.0, 260900.0, 104700.0, 159500.0, 295900.0, 137500.0, 500001.0, 227000.0, 263900.0, 160400.0, 142000.0, 162500.0, 230400.0, 500001.0, 217700.0, 183000.0, 245800.0, 129200.0, 60400.0, 67500.0, 295200.0, 192600.0, 150600.0, 125700.0, 63400.0, 151300.0, 245600.0, 500001.0, 165500.0, 113500.0, 322200.0, 362500.0, 69600.0, 156100.0, 87500.0, 193100.0, 218000.0, 101800.0, 129100.0, 156300.0, 183200.0, 148100.0, 500001.0, 222100.0, 167600.0, 184500.0, 370000.0, 239400.0, 166700.0, 233300.0, 240000.0, 91300.0, 483500.0, 150500.0, 99500.0, 240200.0, 95500.0, 500001.0, 251600.0, 120800.0, 135700.0, 225400.0, 500001.0, 85100.0, 500001.0, 164800.0, 111600.0, 161000.0, 213700.0, 116500.0, 350000.0, 159900.0, 438300.0, 171100.0, 271100.0, 500001.0, 68000.0, 191700.0, 255900.0, 112500.0, 182200.0, 347600.0, 332000.0, 110900.0, 211900.0, 262500.0, 237900.0, 90000.0, 427200.0, 370500.0, 116300.0, 170800.0, 285500.0, 111500.0, 83200.0, 248200.0, 395500.0, 218300.0, 500001.0, 88900.0, 181000.0, 280900.0, 345300.0, 181000.0, 192200.0, 78100.0, 75000.0, 433300.0, 160100.0, 109200.0, 96200.0, 191400.0, 360000.0, 185600.0, 118800.0, 122700.0, 206300.0, 195600.0, 75600.0, 104300.0, 385900.0, 113900.0, 79400.0, 81300.0, 129200.0, 73500.0, 175900.0, 142400.0, 234100.0, 286700.0, 92500.0, 170100.0, 161800.0, 225300.0, 170600.0, 319400.0, 95800.0, 73400.0, 93600.0, 51700.0, 358700.0, 64700.0, 344200.0, 314000.0, 185700.0, 279300.0, 119400.0, 280400.0, 187100.0, 83800.0, 309300.0, 229200.0, 245000.0, 227600.0, 500001.0, 320800.0, 147300.0, 162300.0, 265900.0, 500001.0, 189100.0, 316400.0, 181900.0, 261500.0, 69000.0, 181300.0, 293000.0, 111100.0, 218300.0, 147200.0, 243800.0, 223000.0, 137500.0, 60600.0, 275000.0, 350000.0, 171200.0, 83500.0, 225000.0, 165600.0, 152000.0, 192000.0, 254200.0, 150000.0, 212500.0, 80400.0, 206500.0, 331100.0, 201400.0, 188400.0, 195400.0, 442500.0, 152700.0, 500001.0, 239800.0, 159400.0, 91800.0, 240900.0, 136400.0, 103600.0, 132500.0, 292900.0, 62800.0, 112100.0, 89100.0, 120700.0, 471400.0, 314700.0, 226400.0, 409700.0, 149000.0, 171700.0, 235500.0, 322800.0, 244500.0, 162200.0, 340900.0, 57400.0, 198900.0, 109700.0, 137500.0, 85700.0, 98300.0, 178200.0, 137500.0, 275000.0, 381500.0, 500001.0, 500001.0, 179200.0, 204500.0, 394100.0, 184400.0, 174000.0, 80700.0, 189600.0, 60000.0, 126600.0, 262500.0, 139200.0, 51300.0, 229200.0, 101100.0, 97700.0, 158300.0, 349100.0, 85500.0, 214100.0, 227100.0, 155700.0, 66800.0, 207300.0, 222800.0, 354500.0, 340500.0, 52900.0, 140600.0, 150800.0, 56100.0, 259600.0, 318900.0, 148400.0, 289900.0, 161800.0, 255000.0, 87500.0, 245000.0, 305000.0, 215000.0, 249000.0, 500001.0, 320000.0, 174000.0, 292500.0, 500001.0, 289900.0, 438400.0, 182000.0, 170500.0, 69200.0, 95600.0, 272800.0, 81300.0, 272400.0, 152600.0, 55900.0, 213500.0, 331300.0, 201800.0, 57100.0, 331800.0, 365900.0, 127500.0, 111800.0, 353700.0, 229300.0, 87500.0, 237500.0, 113300.0, 112500.0, 138500.0, 307400.0, 100900.0, 97800.0, 176700.0, 218000.0, 290600.0, 157700.0, 348000.0, 67200.0, 260400.0, 123600.0, 67500.0, 130700.0, 66000.0, 166600.0, 225600.0, 257100.0, 500001.0, 113900.0, 91000.0, 217400.0, 96000.0, 129200.0, 350200.0, 442100.0, 222900.0, 81300.0, 160600.0, 500001.0, 341200.0, 287900.0, 344700.0, 180000.0, 167800.0, 55000.0, 50800.0, 142600.0, 235800.0, 112700.0, 210200.0, 210700.0, 65400.0, 162500.0, 150300.0, 500001.0, 101400.0, 221800.0, 260300.0, 178800.0, 170400.0, 319400.0, 190600.0, 184100.0, 191100.0, 149600.0, 500001.0, 183400.0, 444100.0, 242700.0, 76200.0, 132900.0, 409800.0, 112500.0, 376600.0, 50500.0, 500001.0, 209500.0, 77800.0, 299700.0, 375000.0, 156500.0, 240000.0, 77200.0, 98500.0, 500001.0, 110400.0, 86400.0, 230400.0, 163900.0, 500001.0, 49500.0, 107400.0, 362500.0, 145000.0, 218500.0, 130100.0, 146000.0, 152500.0, 457200.0, 165200.0, 394700.0, 144400.0, 136600.0, 216400.0, 139000.0, 103800.0, 488500.0, 227100.0, 238000.0, 215600.0, 292300.0, 145900.0, 187300.0, 185400.0, 280000.0, 141100.0, 190900.0, 262500.0, 442000.0, 274800.0, 85500.0, 231800.0, 302000.0, 235800.0, 72200.0, 182400.0, 500001.0, 78700.0, 181300.0, 198000.0, 199600.0, 63300.0, 94000.0, 186800.0, 117000.0, 117800.0, 121000.0, 230900.0, 427300.0, 128100.0, 384700.0, 290400.0, 91300.0, 61900.0, 232200.0, 129600.0, 127500.0, 150500.0, 187500.0, 437900.0, 126500.0, 453400.0, 229400.0, 364900.0, 191900.0, 87500.0, 30000.0, 335700.0, 242100.0, 173700.0, 54100.0, 207800.0, 112500.0, 166700.0, 271800.0, 141100.0, 375000.0, 161600.0, 159400.0, 86300.0, 256300.0, 213200.0, 254100.0, 132600.0, 169300.0, 347700.0, 159700.0, 90900.0, 290500.0, 189900.0, 495600.0, 333300.0, 183800.0, 189000.0, 157500.0, 66600.0, 132400.0, 156000.0, 348100.0, 226400.0, 74200.0, 158300.0, 500001.0, 165500.0, 329500.0, 139600.0, 152900.0, 367300.0, 70000.0, 97400.0, 65900.0, 49300.0, 154100.0, 272800.0, 247100.0, 268800.0, 247600.0, 416800.0, 121600.0, 171700.0, 173800.0, 235600.0, 260100.0, 200000.0, 296600.0, 374600.0, 177800.0, 269500.0, 62000.0, 197600.0, 52700.0, 191400.0, 317700.0, 329400.0, 330700.0, 187400.0, 286500.0, 500001.0, 133900.0, 199800.0, 45000.0, 354600.0, 263800.0, 278400.0, 160400.0, 241300.0, 208300.0, 263600.0, 145000.0, 132500.0, 183800.0, 81100.0, 176500.0, 255500.0, 166100.0, 102000.0, 86100.0, 100600.0, 500000.0, 209900.0, 52500.0, 262900.0, 158800.0, 209500.0, 350000.0, 217100.0, 141400.0, 93400.0, 198200.0, 187200.0, 185300.0, 500001.0, 281300.0, 103600.0, 287900.0, 208300.0, 175000.0, 132700.0, 172000.0, 500001.0, 64000.0, 227900.0, 63100.0, 84100.0, 339200.0, 156300.0, 383600.0, 137100.0, 56800.0, 70000.0, 96300.0, 92600.0, 359100.0, 158700.0, 500001.0, 114600.0, 410200.0, 281900.0, 101700.0, 169300.0, 207800.0, 327200.0, 277900.0, 111400.0, 80600.0, 207500.0, 275300.0, 421000.0, 128800.0, 313900.0, 67600.0, 64400.0, 153900.0, 130700.0, 238500.0, 379600.0, 146500.0, 150300.0, 80300.0, 293300.0, 288000.0, 144100.0, 127000.0, 152100.0, 156800.0, 104900.0, 500001.0, 134400.0, 500001.0, 272800.0, 151600.0, 362600.0, 169200.0, 140400.0, 43700.0, 136000.0, 264400.0, 152200.0, 137500.0, 214700.0, 170900.0, 236200.0, 297800.0, 88500.0, 127600.0, 80200.0, 306000.0, 436400.0, 238900.0, 231700.0, 122900.0, 218200.0, 397000.0, 260300.0, 435700.0, 164000.0, 440500.0, 85400.0, 101900.0, 159400.0, 190300.0, 100000.0, 139600.0, 500001.0, 154500.0, 170500.0, 110600.0, 191200.0, 287200.0, 150100.0, 238300.0, 154200.0, 280500.0, 161900.0, 265600.0, 122700.0, 231200.0, 319100.0, 231300.0, 500001.0, 121200.0, 222500.0, 450000.0, 102100.0, 201200.0, 104200.0, 500001.0, 132000.0, 221100.0, 151600.0, 146900.0, 151200.0, 165100.0, 213600.0, 213500.0, 500001.0, 438000.0, 183800.0, 350000.0, 159300.0, 129100.0, 76600.0, 225000.0, 230800.0, 431800.0, 191000.0, 84700.0, 152500.0, 67600.0, 198200.0, 306300.0, 122100.0, 276100.0, 103000.0, 409100.0, 135200.0, 121600.0, 182800.0, 228000.0, 110000.0, 111200.0, 84700.0, 447300.0, 88300.0, 87100.0, 187500.0, 146900.0, 103100.0, 343700.0, 98200.0, 262500.0, 77400.0, 135100.0, 134700.0, 231300.0, 158600.0, 101600.0, 122000.0, 380000.0, 189400.0, 440000.0, 70000.0, 70000.0, 333500.0, 101800.0, 500001.0, 360500.0, 169500.0, 205600.0, 166300.0, 32500.0, 362700.0, 174500.0, 197600.0, 183000.0, 158300.0, 100200.0, 87500.0, 461100.0, 190200.0, 232300.0, 221600.0, 226900.0, 224200.0, 119800.0, 78200.0, 165100.0, 213900.0, 69700.0, 105800.0, 75000.0, 91700.0, 269500.0, 68200.0, 165800.0, 154600.0, 472700.0, 345900.0, 230700.0, 300000.0, 249400.0, 435700.0, 225800.0, 175000.0, 178400.0, 276000.0, 115900.0, 214300.0, 118300.0, 500001.0, 152100.0, 140400.0, 222600.0, 444500.0, 500000.0, 163300.0, 193800.0, 90500.0, 115200.0, 147000.0, 273900.0, 190900.0, 74800.0, 500001.0, 118500.0, 500001.0, 55000.0, 58400.0, 95800.0, 99200.0, 167400.0, 70500.0, 67500.0, 75700.0, 183000.0, 500001.0, 97300.0, 230000.0, 82900.0, 52200.0, 114800.0, 88000.0, 224200.0, 150000.0, 341700.0, 181700.0, 140600.0, 72700.0, 210900.0, 97700.0, 109700.0, 165600.0, 230600.0, 163800.0, 95800.0, 48100.0, 44400.0, 237900.0, 284800.0, 164800.0, 200000.0, 77800.0, 186000.0, 169700.0, 418800.0, 73300.0, 87000.0, 168200.0, 154300.0, 225000.0, 333000.0, 225900.0, 138100.0, 112700.0, 231600.0, 419100.0, 221100.0, 155400.0, 151700.0, 248900.0, 153200.0, 126500.0, 240000.0, 186100.0, 500001.0, 181600.0, 178100.0, 69200.0, 66800.0, 500001.0, 181300.0, 396400.0, 187500.0, 297900.0, 345400.0, 245100.0, 105500.0, 101100.0, 141700.0, 430900.0, 286300.0, 113000.0, 466700.0, 168600.0, 360500.0, 256400.0, 113900.0, 350400.0, 209100.0, 131500.0, 216700.0, 101300.0, 202800.0, 117600.0, 292600.0, 500001.0, 130300.0, 92400.0, 112500.0, 154200.0, 104000.0, 121600.0, 206300.0, 108300.0, 349400.0, 83300.0, 245800.0, 91500.0, 500001.0, 500001.0, 190500.0, 108300.0, 89600.0, 500001.0, 94600.0, 67500.0, 177500.0, 261300.0, 500001.0, 168400.0, 245300.0, 240000.0, 156500.0, 500001.0, 235600.0, 185600.0, 316700.0, 118800.0, 248500.0, 236500.0, 94600.0, 176800.0, 148600.0, 195300.0, 215900.0, 126600.0, 173900.0, 183000.0, 74300.0, 224700.0, 101600.0, 391000.0, 265000.0, 500001.0, 186500.0, 78000.0, 80800.0, 189600.0, 199200.0, 189600.0, 160000.0, 375300.0, 166700.0, 215600.0, 228600.0, 171300.0, 431000.0, 275100.0, 276800.0, 46300.0, 144000.0, 94300.0, 157600.0, 194500.0, 351100.0, 453400.0, 224600.0, 155600.0, 242000.0, 70000.0, 71300.0, 66800.0, 153100.0, 137500.0, 230400.0, 242200.0, 301900.0, 415800.0, 156500.0, 78600.0, 441400.0, 184300.0, 276500.0, 232800.0, 60400.0, 224100.0, 439000.0, 123100.0, 255700.0, 57600.0, 199800.0, 51300.0, 348200.0, 362800.0, 240300.0, 73600.0, 172600.0, 229000.0, 166300.0, 83300.0, 500001.0, 332900.0, 54300.0, 241700.0, 387500.0, 136400.0, 98300.0, 176000.0, 63000.0, 236900.0, 97200.0, 220000.0, 105800.0, 270900.0, 99400.0, 166300.0, 143800.0, 140600.0, 330900.0, 156900.0, 500001.0, 162500.0, 124800.0, 216100.0, 171400.0, 325600.0, 109800.0, 276200.0, 129900.0, 292300.0, 341500.0, 66800.0, 238800.0, 77400.0, 82400.0, 359900.0, 465700.0, 214000.0, 107100.0, 157800.0, 119300.0, 232900.0, 179500.0, 70100.0, 55000.0, 65900.0, 99600.0, 500001.0, 164100.0, 77000.0, 140300.0, 172900.0, 500001.0, 314300.0, 500001.0, 500001.0, 143000.0, 280600.0, 375000.0, 137500.0, 337100.0, 128000.0, 185400.0, 63000.0, 109500.0, 400000.0, 151900.0, 56300.0, 102500.0, 225000.0, 145500.0, 363100.0, 249000.0, 415300.0, 267400.0, 75000.0, 250000.0, 161800.0, 97500.0, 111500.0, 87300.0, 272900.0, 124400.0, 228700.0, 229500.0, 162500.0, 80000.0, 118800.0, 244200.0, 187500.0, 246000.0, 102600.0, 116700.0, 137500.0, 171900.0, 103100.0, 239100.0, 194000.0, 219900.0, 380000.0, 155700.0, 89900.0, 89300.0, 55000.0, 49800.0, 146400.0, 278000.0, 288700.0, 129200.0, 221600.0, 85600.0, 160400.0, 57600.0, 348500.0, 199400.0, 97100.0, 58100.0, 301000.0, 74200.0, 249400.0, 267000.0, 119900.0, 77700.0, 143400.0, 61200.0, 206800.0, 328200.0, 360600.0, 107800.0, 51500.0, 67500.0, 184100.0, 200000.0, 354000.0, 393800.0, 132100.0, 306500.0, 134900.0, 319300.0, 303900.0, 350000.0, 231200.0, 131300.0, 120800.0, 135200.0, 68900.0, 425000.0, 160500.0, 151000.0, 349500.0, 60200.0, 396400.0, 278500.0, 239300.0, 224900.0, 91300.0, 111400.0, 150800.0, 64700.0, 358800.0, 232800.0, 54400.0, 98200.0, 225800.0, 116100.0, 196400.0, 123200.0, 156400.0, 166800.0, 215900.0, 117300.0, 243200.0, 72900.0, 191700.0, 60000.0, 195400.0, 111600.0, 268500.0, 260000.0, 89400.0, 235200.0, 386100.0, 187500.0, 223400.0, 120300.0, 135800.0, 307400.0, 326800.0, 70300.0, 68200.0, 114600.0, 177200.0, 81900.0, 90600.0, 56800.0, 323800.0, 244400.0, 144300.0, 164200.0, 237600.0, 243000.0, 83300.0, 87500.0, 131700.0, 47000.0, 195300.0, 184100.0, 128800.0, 118200.0, 212800.0, 141300.0, 227100.0, 80800.0, 201300.0, 183300.0, 155000.0, 143800.0, 137500.0, 280100.0, 245900.0, 243600.0, 103000.0, 103800.0, 235900.0, 161900.0, 394400.0, 145800.0, 184800.0, 242300.0, 335500.0, 165500.0, 204800.0, 159700.0, 169100.0, 478600.0, 258900.0, 324000.0, 103100.0, 138100.0, 91600.0, 228900.0, 138800.0, 252200.0, 420300.0, 243600.0, 142100.0, 67500.0, 92800.0, 190800.0, 223900.0, 143400.0, 132700.0, 99000.0, 67700.0, 227400.0, 228600.0, 135800.0, 362100.0, 281300.0, 500001.0, 90600.0, 66300.0, 150200.0, 170300.0, 99300.0, 322900.0, 213200.0, 217000.0, 267900.0, 206300.0, 376800.0, 87500.0, 304700.0, 460200.0, 128500.0, 284600.0, 119600.0, 208600.0, 117500.0, 66900.0, 204800.0, 74600.0, 109100.0, 114300.0, 308300.0, 113000.0, 91700.0, 134200.0, 425000.0, 53900.0, 310600.0, 241700.0, 226800.0, 100800.0, 238000.0, 245500.0, 156500.0, 115600.0, 66400.0, 58800.0, 223600.0, 169300.0, 166700.0, 225000.0, 72600.0, 160300.0, 147500.0, 91200.0, 208300.0, 335300.0, 58000.0, 226500.0, 345200.0, 106800.0, 500001.0, 275000.0, 95800.0, 97200.0, 155000.0, 400000.0, 500001.0, 304300.0, 359200.0, 144700.0, 352800.0, 355600.0, 99100.0, 250400.0, 105600.0, 500001.0, 162000.0, 272200.0, 245900.0, 183300.0, 220700.0, 161000.0, 303900.0, 266200.0, 90100.0, 87500.0, 209400.0, 188700.0, 101400.0, 387500.0, 359100.0, 327300.0, 279200.0, 233600.0, 163500.0, 124200.0, 450000.0, 111900.0, 90800.0, 120600.0, 483800.0, 366700.0, 201000.0, 333600.0, 362500.0, 170100.0, 246700.0, 161200.0, 147000.0, 117900.0, 111300.0, 266500.0, 113500.0, 329100.0, 500001.0, 236500.0, 122200.0, 81900.0, 386400.0, 184800.0, 160700.0, 101600.0, 424000.0, 262500.0, 369400.0, 115100.0, 281700.0, 98100.0, 131100.0, 251800.0, 232700.0, 139200.0, 71500.0, 340500.0, 270800.0, 155600.0, 89200.0, 167000.0, 103100.0, 180500.0, 51200.0, 204600.0, 387200.0, 162500.0, 120400.0, 139700.0, 98200.0, 269400.0, 269100.0, 500001.0, 49600.0, 58000.0, 65900.0, 175400.0, 391800.0, 280800.0, 90700.0, 500001.0, 92300.0, 227100.0, 162500.0, 290900.0, 183100.0, 283200.0, 177400.0, 238700.0, 321300.0, 261500.0, 99300.0, 226100.0, 51700.0, 156900.0, 160900.0, 222400.0, 305200.0, 138800.0, 230700.0, 94300.0, 97200.0, 382100.0, 193200.0, 209500.0, 231400.0, 89300.0, 196100.0, 113500.0, 178400.0, 406500.0, 228200.0, 234800.0, 231300.0, 500001.0, 184100.0, 213700.0, 500001.0, 169200.0, 232400.0, 351700.0, 234600.0, 112500.0, 145200.0, 87200.0, 53500.0, 43800.0, 94200.0, 218800.0, 191900.0, 132200.0, 46800.0, 149700.0, 126300.0, 255900.0, 94500.0, 237100.0, 500001.0, 87500.0, 126600.0, 245100.0, 157400.0, 78400.0, 218100.0, 350000.0, 198400.0, 143900.0, 337900.0, 76300.0, 160100.0, 130600.0, 112500.0, 329200.0, 233300.0, 99200.0, 197900.0, 204100.0, 350000.0, 62100.0, 140400.0, 152100.0, 130500.0, 195100.0, 199500.0, 137500.0, 275000.0, 122900.0, 109000.0, 121700.0, 302000.0, 241700.0, 153200.0, 169300.0, 358500.0, 175000.0, 112500.0, 376000.0, 118800.0, 401000.0, 107900.0, 339700.0, 158000.0, 468800.0, 63100.0, 184600.0, 189700.0, 190900.0, 67500.0, 85300.0, 173600.0, 129700.0, 181000.0, 500001.0, 376200.0, 243000.0, 148200.0, 238100.0, 450000.0, 240000.0, 500001.0, 274100.0, 190100.0, 268400.0, 349300.0, 275700.0, 182800.0, 500001.0, 213200.0, 179500.0, 138500.0, 181300.0, 340500.0, 225000.0, 68300.0, 237900.0, 149700.0, 125800.0, 87600.0, 125000.0, 168800.0, 135000.0, 86300.0, 64900.0, 106300.0, 285700.0, 272400.0, 217700.0, 91800.0, 163000.0, 195100.0, 32500.0, 275300.0, 136900.0, 194100.0, 230200.0, 143600.0, 39600.0, 59800.0, 210700.0, 156300.0, 215600.0, 177500.0, 218900.0, 128400.0, 190600.0, 398300.0, 367100.0, 122500.0, 376100.0, 157600.0, 178100.0, 72400.0, 287600.0, 175000.0, 280800.0, 160500.0, 158600.0, 144300.0, 136300.0, 218200.0, 466400.0, 386100.0, 251200.0, 190400.0, 223100.0, 361000.0, 275000.0, 70800.0, 460000.0, 67500.0, 225000.0, 176100.0, 52400.0, 167600.0, 99700.0, 88900.0, 223700.0, 180500.0, 93200.0, 173800.0, 490800.0, 104200.0, 276100.0, 254700.0, 212300.0, 87500.0, 94200.0, 163500.0, 500001.0, 125000.0, 182300.0, 111700.0, 146000.0, 500001.0, 320500.0, 48000.0, 168800.0, 67500.0, 173100.0, 150000.0, 329200.0, 141000.0, 378000.0, 80200.0, 203300.0, 394900.0, 84500.0, 327300.0, 201200.0, 162500.0, 266000.0, 221200.0, 176500.0, 206300.0, 500001.0, 186700.0, 112500.0, 90500.0, 190800.0, 198800.0, 165600.0, 500001.0, 145700.0, 91300.0, 140400.0, 191700.0, 61100.0, 153000.0, 85500.0, 164500.0, 386200.0, 341300.0, 246400.0, 121800.0, 132500.0, 98000.0, 241400.0, 171300.0, 120100.0, 500001.0, 192700.0, 232800.0, 191800.0, 196300.0, 293900.0, 84600.0, 500001.0, 500001.0, 107300.0, 150000.0, 204200.0, 268300.0, 103500.0, 161500.0, 222400.0, 166900.0, 229200.0, 205900.0, 95500.0, 162500.0, 240700.0, 82800.0, 230200.0, 185900.0, 105800.0, 118800.0, 194400.0, 183300.0, 292500.0, 144200.0, 500001.0, 134200.0, 52800.0, 188700.0, 204000.0, 179500.0, 98900.0, 279900.0, 327700.0, 208000.0, 208300.0, 112500.0, 234700.0, 214500.0, 338500.0, 500001.0, 284100.0, 500001.0, 181300.0, 125000.0, 412500.0, 112500.0, 90300.0, 96000.0, 142500.0, 266300.0, 165000.0, 118000.0, 156400.0, 426800.0, 308600.0, 239200.0, 109400.0, 66600.0, 368500.0, 330500.0, 273600.0, 500001.0, 321100.0, 242600.0, 231900.0, 151400.0, 227800.0, 380000.0, 95200.0, 193900.0, 260700.0, 191000.0, 64900.0, 128300.0, 189800.0, 183300.0, 151800.0, 257300.0, 137500.0, 125000.0, 218100.0, 168100.0, 231800.0, 149000.0, 170300.0, 391300.0, 282300.0, 500001.0, 135400.0, 328400.0, 350000.0, 182300.0, 500001.0, 192000.0, 240800.0, 175000.0, 126400.0, 125900.0, 194700.0, 341800.0, 211900.0, 137500.0, 270600.0, 172300.0, 262100.0, 149100.0, 339100.0, 248600.0, 128700.0, 343900.0, 175000.0, 287500.0, 143600.0, 346200.0, 232200.0, 200000.0, 241500.0, 67500.0, 191700.0, 178300.0, 178200.0, 133200.0, 273800.0, 152200.0, 187100.0, 137500.0, 110400.0, 240600.0, 162500.0, 83800.0, 265600.0, 211500.0, 173400.0, 310000.0, 99500.0, 191400.0, 220100.0, 167300.0, 65000.0, 141800.0, 290600.0, 319200.0, 118800.0, 200000.0, 219500.0, 289400.0, 116400.0, 162300.0, 114100.0, 71300.0, 190500.0, 197300.0, 72200.0, 103300.0, 143000.0, 244900.0, 500001.0, 183300.0, 86100.0, 218400.0, 110800.0, 211300.0, 338800.0, 123100.0, 269500.0, 321400.0, 81900.0, 500001.0, 304600.0, 72900.0, 158000.0, 62200.0, 116300.0, 314100.0, 362500.0, 500001.0, 74100.0, 150000.0, 270000.0, 120800.0, 250000.0, 72200.0, 375000.0, 239600.0, 183300.0, 161200.0, 251000.0, 45500.0, 178100.0, 258900.0, 145800.0, 84700.0, 216700.0, 130400.0, 158500.0, 117800.0, 215000.0, 268600.0, 100000.0, 332700.0, 186700.0, 53000.0, 149700.0, 345800.0, 124500.0, 475800.0, 500001.0, 500001.0, 175900.0, 183300.0, 253100.0, 117800.0, 143500.0, 500001.0, 142300.0, 121000.0, 268800.0, 330200.0, 121800.0, 416900.0, 266700.0, 189400.0, 443600.0, 163000.0, 382500.0, 106300.0, 57800.0, 57500.0, 238000.0, 218900.0, 118600.0, 309100.0, 213200.0, 180200.0, 470800.0, 337200.0, 95300.0, 103900.0, 500001.0, 215000.0, 189400.0, 171400.0, 357000.0, 196200.0, 98500.0, 178800.0, 226600.0, 171400.0, 271400.0, 216800.0, 67900.0, 171300.0, 110900.0, 332500.0, 150000.0, 173400.0, 237500.0, 65800.0, 173100.0, 321200.0, 265000.0, 87500.0, 210300.0, 247800.0, 375700.0, 113700.0, 500001.0, 45600.0, 130600.0, 198600.0, 436700.0, 92600.0, 150000.0, 359900.0, 500001.0, 93800.0, 383300.0, 191700.0, 267200.0, 280200.0, 52100.0, 110200.0, 164600.0, 324800.0, 122700.0, 216700.0, 73600.0, 254100.0, 187500.0, 166000.0, 157900.0, 193800.0, 140800.0, 95300.0, 227000.0, 265600.0, 90200.0, 183200.0, 184600.0, 162500.0, 125000.0, 97200.0, 355300.0, 136200.0, 125000.0, 305600.0, 176600.0, 348600.0, 299200.0, 72100.0, 109500.0, 281100.0, 156300.0, 234200.0, 59700.0, 250000.0, 203300.0, 173100.0, 300300.0, 238000.0, 179000.0, 166000.0, 160700.0, 147500.0, 192100.0, 56400.0, 304800.0, 439800.0, 137500.0, 137500.0, 134600.0, 262500.0, 83400.0, 113500.0, 71400.0, 204500.0, 282400.0, 145700.0, 264700.0, 275000.0, 171600.0, 216700.0, 180700.0, 212500.0, 167700.0, 42500.0, 238400.0, 144000.0, 43600.0, 363500.0, 186200.0, 67500.0, 159600.0, 195600.0, 154800.0, 450700.0, 69900.0, 132200.0, 328000.0, 272800.0, 66300.0, 129300.0, 77100.0, 155500.0, 126000.0, 240300.0, 133000.0, 94900.0, 203900.0, 61000.0, 139200.0, 229200.0, 260600.0, 251100.0, 327600.0, 167900.0, 212000.0, 233300.0, 255400.0, 67500.0, 162000.0, 117200.0, 109700.0, 275000.0, 111800.0, 166000.0, 92700.0, 186000.0, 97300.0, 241300.0, 258500.0, 138200.0, 196100.0, 419200.0, 138800.0, 376600.0, 165100.0, 181800.0, 211800.0, 112500.0, 144300.0, 222000.0, 53600.0, 130800.0, 227600.0, 275000.0, 191900.0, 64100.0, 68100.0, 255200.0, 244100.0, 337000.0, 208300.0, 500001.0, 172100.0, 128900.0, 144900.0, 72000.0, 142900.0, 436100.0, 204200.0, 195700.0, 90500.0, 236100.0, 186900.0, 162500.0, 112500.0, 58000.0, 307400.0, 353800.0, 290900.0, 358600.0, 246200.0, 72100.0, 107500.0, 78600.0, 187600.0, 97900.0, 186600.0, 196900.0, 111500.0, 156300.0, 218200.0, 293500.0, 59000.0, 162800.0, 102900.0, 54300.0, 166300.0, 152500.0, 142600.0, 150000.0, 84400.0, 210000.0, 137500.0, 350000.0, 171900.0, 143100.0, 452300.0, 176000.0, 112700.0, 68400.0, 190700.0, 331800.0, 184000.0, 162500.0, 129400.0, 172800.0, 191100.0, 294900.0, 188600.0, 63800.0, 466100.0, 186800.0, 139300.0, 330300.0, 284800.0, 198800.0, 69300.0, 145500.0, 166200.0, 273800.0, 149000.0, 215400.0, 287800.0, 406300.0, 160300.0, 240000.0, 60900.0, 142300.0, 84800.0, 205400.0, 396800.0, 135400.0, 115400.0, 162500.0, 425000.0, 114300.0, 500001.0, 500001.0, 48700.0, 294700.0, 300500.0, 343200.0, 92000.0, 278100.0, 380900.0, 339800.0, 96800.0, 270000.0, 190000.0, 181300.0, 100600.0, 170800.0, 152700.0, 353600.0, 200000.0, 213400.0, 153100.0, 379700.0, 275000.0, 78600.0, 188300.0, 138000.0, 500001.0, 197400.0, 244600.0, 165300.0, 300400.0, 88200.0, 500001.0, 163100.0, 191900.0, 355300.0, 430300.0, 42700.0, 378100.0, 264000.0, 111900.0, 224500.0, 125000.0, 64100.0, 88400.0, 389200.0, 193800.0, 500001.0, 187500.0, 210300.0, 212800.0, 177500.0, 181300.0, 159500.0, 177500.0, 116100.0, 500001.0, 162500.0, 135500.0, 99600.0, 118500.0, 156900.0, 147200.0, 85800.0, 500001.0, 170900.0, 257900.0, 164300.0, 438900.0, 98000.0, 288700.0, 203200.0, 283600.0, 162500.0, 95300.0, 161700.0, 187500.0, 158000.0, 456100.0, 102900.0, 165400.0, 54400.0, 147200.0, 95000.0, 143000.0, 97200.0, 112900.0, 173300.0, 393100.0, 63000.0, 297300.0, 242100.0, 293900.0, 113100.0, 137200.0, 297100.0, 243500.0, 98800.0, 244800.0, 327800.0, 437500.0, 163500.0, 102400.0, 112200.0, 165900.0, 250000.0, 158100.0, 87500.0, 135000.0, 79500.0, 162100.0, 228400.0, 140600.0, 71300.0, 266300.0, 81300.0, 185000.0, 329300.0, 168800.0, 110400.0, 500001.0, 85700.0, 63300.0, 500001.0, 183800.0, 150700.0, 242900.0, 326700.0, 220400.0, 240700.0, 500001.0, 98400.0, 166900.0, 205400.0, 90100.0, 189800.0, 162500.0, 333700.0, 85100.0, 134400.0, 144600.0, 215000.0, 97500.0, 210000.0, 312000.0, 300000.0, 202400.0, 254100.0, 116000.0, 167000.0, 396900.0, 227000.0, 500001.0, 500001.0, 199000.0, 369100.0, 22500.0, 95700.0, 365900.0, 215800.0, 205500.0, 500001.0, 250800.0, 363600.0, 294200.0, 171400.0, 261300.0, 114900.0, 258400.0, 106300.0, 98900.0, 242000.0, 146100.0, 154600.0, 197500.0, 289600.0, 325700.0, 53300.0, 87800.0, 178300.0, 197100.0, 123400.0, 292900.0, 109800.0, 124200.0, 57300.0, 404700.0, 187500.0, 63700.0, 101200.0, 500000.0, 45500.0, 463500.0, 181300.0, 307400.0, 371800.0, 56000.0, 289300.0, 128200.0, 271400.0, 182100.0, 219400.0, 78400.0, 96100.0, 394700.0, 222500.0, 87500.0, 137500.0, 246100.0, 175700.0, 164100.0, 132800.0, 129200.0, 224100.0, 103900.0, 112800.0, 243800.0, 88600.0, 186100.0, 186100.0, 160900.0, 149200.0, 76400.0, 500001.0, 95600.0, 237500.0, 418300.0, 197500.0, 66400.0, 269000.0, 219000.0, 156900.0, 134200.0, 204200.0, 218800.0, 181800.0, 168500.0, 299200.0, 166000.0, 193500.0, 212500.0, 386200.0, 268400.0, 128100.0, 271200.0, 88400.0, 101500.0, 495500.0, 167300.0, 141300.0, 500001.0, 321300.0, 82100.0, 92900.0, 168000.0, 135000.0, 243100.0, 157100.0, 97900.0, 177700.0, 131800.0, 268800.0, 314300.0, 183600.0, 100000.0, 232200.0, 138100.0, 162500.0, 457300.0, 139200.0, 244500.0, 61600.0, 237000.0, 112500.0, 122300.0, 500001.0, 110100.0, 300900.0, 167500.0, 246400.0, 279300.0, 414000.0, 58700.0, 294900.0, 365200.0, 368300.0, 239200.0, 121400.0, 215000.0, 113900.0, 236400.0, 171700.0, 248500.0, 58200.0, 67800.0, 75700.0, 178000.0, 60400.0, 226100.0, 179500.0, 158200.0, 278600.0, 480800.0, 192300.0, 141700.0, 330800.0, 100000.0, 103200.0, 53500.0, 185700.0, 192900.0, 256000.0, 138500.0, 69600.0, 246800.0, 265900.0, 162500.0, 322700.0, 148900.0, 429000.0, 500001.0, 254100.0, 328100.0, 169100.0, 255400.0, 76400.0, 151400.0, 311100.0, 187500.0, 213200.0, 208300.0, 202800.0, 90100.0, 92400.0, 136500.0, 92200.0, 79400.0, 95500.0, 249200.0, 111700.0, 190600.0, 191800.0, 500001.0, 50800.0, 163500.0, 368900.0, 57000.0, 75000.0, 229000.0, 340900.0, 276600.0, 188400.0, 73900.0, 150000.0, 147100.0, 186300.0, 234900.0, 122500.0, 398900.0, 250000.0, 113600.0, 244800.0, 225000.0, 186900.0, 309700.0, 130600.0, 342300.0, 65000.0, 278900.0, 168800.0, 418400.0, 109000.0, 160100.0, 345000.0, 418800.0, 209100.0, 97500.0, 500001.0, 108600.0, 133300.0, 50900.0, 311600.0, 365500.0, 175000.0, 170300.0, 279500.0, 125900.0, 155700.0, 83300.0, 156300.0, 214800.0, 110300.0, 165000.0, 349500.0, 500001.0, 125700.0, 193100.0, 500001.0, 199600.0, 500001.0, 163400.0, 137500.0, 121500.0, 381200.0, 111900.0, 58000.0, 63800.0, 363200.0, 206400.0, 370800.0, 81800.0, 271500.0, 197000.0, 73400.0, 301700.0, 119600.0, 258100.0, 17500.0, 145700.0, 102000.0, 400000.0, 99200.0, 485400.0, 477100.0, 66900.0, 375400.0, 169600.0, 247600.0, 164700.0, 309400.0, 185300.0, 230200.0, 156100.0, 302500.0, 97800.0, 251300.0, 281300.0, 153100.0, 355600.0, 101300.0, 266000.0, 160700.0, 305800.0, 147500.0, 186300.0, 162600.0, 484700.0, 175000.0, 127200.0, 365100.0, 236500.0, 214000.0, 225800.0, 128900.0, 73500.0, 114700.0, 175000.0, 318100.0, 331200.0, 192500.0, 159500.0, 162700.0, 67300.0, 212900.0, 140600.0, 186500.0, 393200.0, 55300.0, 409800.0, 191800.0, 99500.0, 175000.0, 158000.0, 106900.0, 277200.0, 326700.0, 96000.0, 431800.0, 172200.0, 112500.0, 225000.0, 259500.0, 291500.0, 50400.0, 150000.0, 224600.0, 130600.0, 69700.0, 353000.0, 231200.0, 205100.0, 398100.0, 141300.0, 173300.0, 127900.0, 289500.0, 95900.0, 133400.0, 146800.0, 181300.0, 54600.0, 55500.0, 150000.0, 102800.0, 93300.0, 123100.0, 231800.0, 159500.0, 108300.0, 43100.0, 105600.0, 168300.0, 28300.0, 282900.0, 234300.0, 212500.0, 205600.0, 150000.0, 193000.0, 14999.0, 170000.0, 168300.0, 93500.0, 191800.0, 181500.0, 195400.0, 121900.0, 142600.0, 158300.0, 165300.0, 155000.0, 92100.0, 68100.0, 276300.0, 335200.0, 121100.0, 177100.0, 187500.0, 192000.0, 301200.0, 159100.0, 500001.0, 273700.0, 233900.0, 500001.0, 222800.0, 140200.0, 159800.0, 118800.0, 500001.0, 105500.0, 217800.0, 187500.0, 287300.0, 131000.0, 55800.0, 161900.0, 253600.0, 155000.0, 311500.0, 87800.0, 105800.0, 137000.0, 156300.0, 154700.0, 167400.0, 457800.0, 500001.0, 188300.0, 442900.0, 500001.0, 500001.0, 187500.0, 57400.0, 387500.0, 272000.0, 167600.0, 403700.0, 191700.0, 500001.0, 187100.0, 96400.0, 92400.0, 213900.0, 155000.0, 133000.0, 275000.0, 238500.0, 158300.0, 70500.0, 222300.0, 411900.0, 185100.0, 500001.0, 139800.0, 178100.0, 159300.0, 125000.0, 197100.0, 64000.0, 194600.0, 162500.0, 84400.0, 61300.0, 368200.0, 122100.0, 86100.0, 209900.0, 170800.0, 175000.0, 126600.0, 282200.0, 207700.0, 104200.0, 214300.0, 80300.0, 273100.0, 237500.0, 73800.0, 184400.0, 342000.0, 129700.0, 224000.0, 156900.0, 394900.0, 157700.0, 119900.0, 316900.0, 212500.0, 68300.0, 165100.0, 93600.0, 88800.0, 184700.0, 327100.0, 134300.0, 500001.0, 162100.0, 500001.0, 229200.0, 112500.0, 354200.0, 362100.0, 162500.0, 100500.0, 67700.0, 57100.0, 164800.0, 204200.0, 342400.0, 181500.0, 304500.0, 235300.0, 105300.0, 291400.0, 159600.0, 111800.0, 119600.0, 329700.0, 136700.0, 101400.0, 118600.0, 133300.0, 52500.0, 234600.0, 75000.0, 176300.0, 346800.0, 251800.0, 54200.0, 67500.0, 142500.0, 101600.0, 227300.0, 337200.0, 118800.0, 67500.0, 202000.0, 94200.0, 96200.0, 225000.0, 258700.0, 103100.0, 117200.0, 164800.0, 144000.0, 500001.0, 155400.0, 114700.0, 123100.0, 226800.0, 180400.0, 310900.0, 148800.0, 84700.0, 63700.0, 262000.0, 438100.0, 226500.0, 87600.0, 345500.0, 140100.0, 366700.0, 270800.0, 168800.0, 293800.0, 251800.0, 85100.0, 267500.0, 140900.0, 285500.0, 151300.0, 225000.0, 44600.0, 450000.0, 229300.0, 225000.0, 138000.0, 96900.0, 161200.0, 144300.0, 450000.0, 122500.0, 248700.0, 134200.0, 348100.0, 78300.0, 107800.0, 146900.0, 188300.0, 162500.0, 58600.0, 183700.0, 180400.0, 175000.0, 137200.0, 110000.0, 233400.0, 128300.0, 350000.0, 155200.0, 256700.0, 85900.0, 73200.0, 258300.0, 62800.0, 485000.0, 124000.0, 158500.0, 97300.0, 186700.0, 344100.0, 166700.0, 108900.0, 482900.0, 204400.0, 230700.0, 53000.0, 178500.0, 500001.0, 500001.0, 84900.0, 500001.0, 246800.0, 156300.0, 234600.0, 48800.0, 145800.0, 271500.0, 500001.0, 87500.0, 69100.0, 139300.0, 273400.0, 229700.0, 68200.0, 114300.0, 159900.0, 116600.0, 209900.0, 68900.0, 101400.0, 214000.0, 355300.0, 90300.0, 159300.0, 63900.0, 218200.0, 253600.0, 81300.0, 188600.0, 165400.0, 106300.0, 210100.0, 147600.0, 112500.0, 175000.0, 156600.0, 117300.0, 229200.0, 350000.0, 171900.0, 199300.0, 251600.0, 300000.0, 158900.0, 216800.0, 198000.0, 356100.0, 192300.0, 314500.0, 50000.0, 162500.0, 167100.0, 138800.0, 147600.0, 238500.0, 110700.0, 333800.0, 192100.0, 294000.0, 154500.0, 151900.0, 500001.0, 322900.0, 165600.0, 221200.0, 170400.0, 198700.0, 162500.0, 411200.0, 335500.0, 149100.0, 381500.0, 183900.0, 91200.0, 411500.0, 220300.0, 158100.0, 69600.0, 270500.0, 261600.0, 389500.0, 75000.0, 177600.0, 170400.0, 154200.0, 131900.0, 44400.0, 145000.0, 224100.0, 187500.0, 192900.0, 88600.0, 183900.0, 225000.0, 182800.0, 137600.0, 265300.0, 36600.0, 125500.0, 138600.0, 487100.0, 178600.0, 134500.0, 306700.0, 115800.0, 91400.0, 210900.0, 259200.0, 347300.0, 168400.0, 150900.0, 113500.0, 302600.0, 423300.0, 492200.0, 190600.0, 245000.0, 55700.0, 84000.0, 275000.0, 189600.0, 275900.0, 319800.0, 291700.0, 67900.0, 189000.0, 90000.0, 335000.0, 176700.0, 98500.0, 200600.0, 60200.0, 191900.0, 191100.0, 337300.0, 225000.0, 290600.0, 121500.0, 293200.0, 107000.0, 266400.0, 76900.0, 220300.0, 101100.0, 474600.0, 65300.0, 113700.0, 214200.0, 216700.0, 198400.0, 212200.0, 222700.0, 265900.0, 37500.0, 265000.0, 108700.0, 46700.0, 187500.0, 61600.0, 343000.0, 166000.0, 500001.0, 137500.0, 90600.0, 77000.0, 148100.0, 91600.0, 150900.0, 155100.0, 89200.0, 215400.0, 55100.0, 197400.0, 154400.0, 141700.0, 98400.0, 152600.0, 109600.0, 171300.0, 104100.0, 153900.0, 270000.0, 286500.0, 335000.0, 137700.0, 232000.0, 393800.0, 70300.0, 141700.0, 156300.0, 450000.0, 199800.0, 95300.0, 86900.0, 187500.0, 221800.0, 58800.0, 134400.0, 238600.0, 160900.0, 136400.0, 144000.0, 159300.0, 155300.0, 142600.0, 120700.0, 126200.0, 213400.0, 116900.0, 185800.0, 356000.0, 150000.0, 88900.0, 259100.0, 500001.0, 127600.0, 69900.0, 137000.0, 273700.0, 92000.0, 118300.0, 410800.0, 100500.0, 492900.0, 118500.0, 113500.0, 89900.0, 500001.0, 500001.0, 146300.0, 113500.0, 275000.0, 102500.0, 147100.0, 225000.0, 139400.0, 175800.0, 57000.0, 269600.0, 272900.0, 76200.0, 484100.0, 180600.0, 238000.0, 137500.0, 186300.0, 192900.0, 84500.0, 107600.0, 55500.0, 265300.0, 388300.0, 482700.0, 198100.0, 92700.0, 346200.0, 38800.0, 56700.0, 123700.0, 93800.0, 93200.0, 44000.0, 69200.0, 301800.0, 254200.0, 209800.0, 184500.0, 73400.0, 339000.0, 93100.0, 202300.0, 133300.0, 270700.0, 240200.0, 139300.0, 57000.0, 170700.0, 119200.0, 177300.0, 289600.0, 297600.0, 109900.0, 147500.0, 78700.0, 160300.0, 77700.0, 473500.0, 500001.0, 133100.0, 93500.0, 280100.0, 256700.0, 288000.0, 161100.0, 137000.0, 62000.0, 443800.0, 68300.0, 262100.0, 109400.0, 409300.0, 175200.0, 147700.0, 287500.0, 93200.0, 93800.0, 172400.0, 318600.0, 185200.0, 65200.0, 179700.0, 159200.0, 151900.0, 71700.0, 245200.0, 228300.0, 196400.0, 192400.0, 65900.0, 282300.0, 185300.0, 88600.0, 67500.0, 143400.0, 119400.0, 215800.0, 257400.0, 373400.0, 152300.0, 245700.0, 80000.0, 137200.0, 266900.0, 395300.0, 222100.0, 500001.0, 500001.0, 232900.0, 259700.0, 215700.0, 243200.0, 221400.0, 112500.0, 388500.0, 410000.0, 163000.0, 500000.0, 231300.0, 76100.0, 458600.0, 366300.0, 296800.0, 58600.0, 84800.0, 117300.0, 126600.0, 170800.0, 149300.0, 119000.0, 375000.0, 284900.0, 170100.0, 500001.0, 98700.0, 60800.0, 142800.0, 223900.0, 137500.0, 297800.0, 112700.0, 113300.0, 121400.0, 248400.0, 407800.0, 356600.0, 106300.0, 121400.0, 240900.0, 247100.0, 137900.0, 86300.0, 500001.0, 216300.0, 305600.0, 158300.0, 452100.0, 95000.0, 105700.0, 84600.0, 240100.0, 162500.0, 96600.0, 92200.0, 228200.0, 113700.0, 69000.0, 500001.0, 225000.0, 174000.0, 500001.0, 253000.0, 277600.0, 285200.0, 90300.0, 189900.0, 316600.0, 301900.0, 93100.0, 94200.0, 213800.0, 187500.0, 500001.0, 325700.0, 300000.0, 143900.0, 500001.0, 264100.0, 62300.0, 138800.0, 105400.0, 63500.0, 500001.0, 97800.0, 127400.0, 135300.0, 156100.0, 446800.0, 65000.0, 151800.0, 192200.0, 153100.0, 165800.0, 254200.0, 234200.0, 112500.0, 118700.0, 240900.0, 283300.0, 450000.0, 52100.0, 55900.0, 88100.0, 248900.0, 68600.0, 156300.0, 272700.0, 340400.0, 218800.0, 70100.0, 500001.0, 162500.0, 111800.0, 110200.0, 74200.0, 103200.0, 172100.0, 132000.0, 166300.0, 107300.0, 107900.0, 94600.0, 66100.0, 158200.0, 95800.0, 117000.0, 170900.0, 92900.0, 162500.0, 193800.0, 134600.0, 123100.0, 115700.0, 83500.0, 62200.0, 74400.0, 180100.0, 195800.0, 500001.0, 144300.0, 125400.0, 80800.0, 65900.0, 157900.0, 500001.0, 180800.0, 236200.0, 103000.0, 216900.0, 383300.0, 500001.0, 83500.0, 214400.0, 100000.0, 78800.0, 97600.0, 178400.0, 287100.0, 270100.0, 185500.0, 90600.0, 213600.0, 124300.0, 205000.0, 256700.0, 392700.0, 133300.0, 187100.0, 255400.0, 347400.0, 171700.0, 112500.0, 82600.0, 48600.0, 134100.0, 225800.0, 500001.0, 470000.0, 225800.0, 158000.0, 117100.0, 416300.0, 120800.0, 226300.0, 122200.0, 100000.0, 229500.0, 195800.0, 85000.0, 264700.0, 455500.0, 176000.0, 81100.0, 166400.0, 82600.0, 272200.0, 271100.0, 239400.0, 171800.0, 121800.0, 173600.0, 239300.0, 58800.0, 287500.0, 70700.0, 181700.0, 113700.0, 224100.0, 351300.0, 301300.0, 80700.0, 152600.0, 237400.0, 179400.0, 500001.0, 170200.0, 165300.0, 225900.0, 159700.0, 363500.0, 132100.0, 376800.0, 96900.0, 316200.0, 323800.0, 387500.0, 149100.0, 500001.0, 225000.0, 178800.0, 87500.0, 130100.0, 500001.0, 349000.0, 73000.0, 244700.0, 275400.0, 246200.0, 236200.0, 232200.0, 53300.0, 163100.0, 72400.0, 234500.0, 150000.0, 116100.0, 181300.0, 121000.0, 88700.0, 182500.0, 197400.0, 128100.0, 76500.0, 300000.0, 500001.0, 160300.0, 335600.0, 157600.0, 190600.0, 180800.0, 104200.0, 111800.0, 194100.0, 253800.0, 129500.0, 117600.0, 339800.0, 342900.0, 195500.0, 83800.0, 94200.0, 140600.0, 160900.0, 169300.0, 275900.0, 146200.0, 202300.0, 154000.0, 135500.0, 235900.0, 128800.0, 249600.0, 300000.0, 134100.0, 308600.0, 350000.0, 110800.0, 190800.0, 108800.0, 144400.0, 162900.0, 163900.0, 98000.0, 132700.0, 283100.0, 407200.0, 248200.0, 64500.0, 500001.0, 194400.0, 137500.0, 127300.0, 85300.0, 194900.0, 221100.0, 192200.0, 404500.0, 73500.0, 233700.0, 118800.0, 70000.0, 182800.0, 500001.0, 157700.0, 247900.0, 500001.0, 357900.0, 56900.0, 302400.0, 125400.0, 386400.0, 175600.0, 110500.0, 386700.0, 137500.0, 228700.0, 149400.0, 73700.0, 500001.0, 132100.0, 86500.0, 417900.0, 172600.0, 99700.0, 72500.0, 180800.0, 308400.0, 288300.0, 302200.0, 288800.0, 100000.0, 233000.0, 136900.0, 209400.0, 246600.0, 65200.0, 491200.0, 356700.0, 164300.0, 88200.0, 155900.0, 191700.0, 84400.0, 190100.0, 112500.0, 115200.0, 174600.0, 113500.0, 152400.0, 250300.0, 183700.0, 500001.0, 310900.0, 230600.0, 68500.0, 267400.0, 145300.0, 282000.0, 282100.0, 189800.0, 254400.0, 161700.0, 188800.0, 500001.0, 94400.0, 342800.0, 191500.0, 209600.0, 235000.0, 231400.0, 130200.0, 208200.0, 500001.0, 168600.0, 228100.0, 126900.0, 135500.0, 156700.0, 208600.0, 436700.0, 71000.0, 88800.0, 341600.0, 120200.0, 148200.0, 500001.0, 375000.0, 137500.0, 64800.0, 231800.0, 160700.0, 251000.0, 142500.0, 176500.0, 177100.0, 311800.0, 84600.0, 122600.0, 198200.0, 500000.0, 279800.0, 195000.0, 202800.0, 354100.0, 259500.0, 500001.0, 272400.0, 183900.0, 285800.0, 225000.0, 292600.0, 55200.0, 262000.0, 158900.0, 172100.0, 191700.0, 225000.0, 108300.0, 113600.0, 100000.0, 191700.0, 117200.0, 110600.0, 80200.0, 98100.0, 253800.0, 48100.0, 192800.0, 132800.0, 196300.0, 320800.0, 319400.0, 203700.0, 207100.0, 79900.0, 500001.0, 330000.0, 139000.0, 187500.0, 448300.0, 176300.0, 175900.0, 104200.0, 162200.0, 166800.0, 161200.0, 153100.0, 156900.0, 158100.0, 76900.0, 165400.0, 73500.0, 118400.0, 142400.0, 280300.0, 107200.0, 183300.0, 98800.0, 234500.0, 143500.0, 108000.0, 97800.0, 70500.0, 225900.0, 239800.0, 136400.0, 180600.0, 239600.0, 265700.0, 204200.0, 122500.0, 204000.0, 195300.0, 215800.0, 500001.0, 75800.0, 265400.0, 273700.0, 116400.0, 59400.0, 137000.0, 119200.0, 244200.0, 170000.0, 280300.0, 285000.0, 102600.0, 120500.0, 361600.0, 455300.0, 213400.0, 158000.0, 217000.0, 63700.0, 244300.0, 151100.0, 110800.0, 433800.0, 72900.0, 108500.0, 452600.0, 467600.0, 263300.0, 266800.0, 500001.0, 72300.0, 151500.0]\n",
      "\n",
      "predicho: \n",
      "   [137500.0, 500001.0, 500001.0, 137500.0, 500001.0, 500001.0, 137500.0, 137500.0, 500001.0, 500001.0, 137500.0, 137500.0, 134400.0, 182100.0, 500001.0, 134400.0, 137500.0, 137500.0, 137500.0, 137500.0, 500001.0, 500001.0, 500001.0, 500001.0, 500001.0, 137500.0, 81300.0, 137500.0, 500001.0, 500001.0, 137500.0, 137500.0, 137500.0, 137500.0, 137500.0, 500001.0, 137500.0, 137500.0, 137500.0, 137500.0, 500001.0, 137500.0, 137500.0, 500001.0, 67500.0, 500001.0, 137500.0, 500001.0, 137500.0, 500001.0, 137500.0, 500001.0, 137500.0, 137500.0, 162500.0, 500001.0, 137500.0, 137500.0, 137500.0, 500001.0, 500001.0, 137500.0, 162500.0, 137500.0, 500001.0, 162500.0, 137500.0, 500001.0, 170800.0, 137500.0, 500001.0, 500001.0, 137500.0, 500001.0, 137500.0, 500001.0, 500001.0, 500001.0, 137500.0, 137500.0, 137500.0, 137500.0, 162500.0, 162500.0, 137500.0, 137500.0, 500001.0, 137500.0, 225000.0, 162500.0, 137500.0, 500001.0, 137500.0, 137500.0, 137500.0, 137500.0, 500001.0, 112500.0, 500001.0, 162500.0, 137500.0, 500001.0, 137500.0, 137500.0, 137500.0, 162500.0, 137500.0, 137500.0, 500001.0, 137500.0, 500001.0, 137500.0, 137500.0, 137500.0, 500001.0, 137500.0, 137500.0, 137500.0, 137500.0, 160600.0, 500001.0, 137500.0, 137500.0, 162500.0, 500001.0, 137500.0, 137500.0, 500001.0, 500001.0, 500001.0, 500001.0, 137500.0, 137500.0, 137500.0, 500001.0, 500001.0, 137500.0, 137500.0, 500001.0, 500001.0, 500001.0, 500001.0, 162500.0, 500001.0, 500001.0, 134400.0, 500001.0, 137500.0, 500001.0, 137500.0, 137500.0, 137500.0, 137500.0, 162500.0, 112500.0, 500001.0, 500001.0, 137500.0, 137500.0, 137500.0, 137500.0, 500001.0, 500001.0, 137500.0, 137500.0, 500001.0, 137500.0, 137500.0, 500001.0, 500001.0, 500001.0, 137500.0, 500001.0, 137500.0, 500001.0, 137500.0, 137500.0, 500001.0, 500001.0, 500001.0, 500001.0, 500001.0, 500001.0, 137500.0, 137500.0, 137500.0, 162500.0, 500001.0, 137500.0, 500001.0, 137500.0, 137500.0, 162500.0, 137500.0, 500001.0, 137500.0, 137500.0, 137500.0, 500001.0, 137500.0, 500001.0, 137500.0, 500001.0, 500001.0, 162500.0, 137500.0, 137500.0, 500001.0, 500001.0, 137500.0, 137500.0, 500001.0, 137500.0, 500001.0, 500001.0, 137500.0, 137500.0, 137500.0, 500001.0, 162500.0, 500001.0, 500001.0, 500001.0, 500001.0, 500001.0, 500001.0, 500001.0, 158500.0, 500001.0, 500001.0, 500001.0, 137500.0, 500001.0, 500001.0, 500001.0, 500001.0, 500001.0, 500001.0, 137500.0, 500001.0, 87500.0, 137500.0, 137500.0, 500001.0, 112500.0, 500001.0, 500001.0, 500001.0, 500001.0, 500001.0, 137500.0, 500001.0, 137500.0, 500001.0, 162500.0, 142900.0, 137500.0, 162500.0, 162500.0, 275000.0, 500001.0, 112500.0, 500001.0, 162500.0, 500001.0, 500001.0, 137500.0, 500001.0, 500001.0, 275000.0, 500001.0, 500001.0, 162500.0, 137500.0, 225000.0, 500001.0, 500001.0, 500001.0, 275000.0, 500001.0, 162500.0, 500001.0, 137500.0, 500001.0, 500001.0, 500001.0, 500001.0, 500001.0, 137500.0, 500001.0, 162500.0, 500001.0, 500001.0, 112500.0, 137500.0, 137500.0, 500001.0, 500001.0, 162500.0, 500001.0, 500001.0, 137500.0, 500001.0, 137500.0, 500001.0, 500001.0, 187500.0, 137500.0, 500001.0, 162500.0, 162500.0, 500001.0, 500001.0, 500001.0, 500001.0, 137500.0, 500001.0, 353100.0, 153700.0, 500001.0, 137500.0, 137500.0, 112500.0, 500001.0, 500001.0, 162500.0, 153700.0, 500001.0, 500001.0, 137500.0, 500001.0, 137500.0, 500001.0, 137500.0, 500001.0, 500001.0, 137500.0, 137500.0, 137500.0, 500001.0, 500001.0, 137500.0, 137500.0, 500001.0, 137500.0, 500001.0, 500001.0, 500001.0, 500001.0, 500001.0, 500001.0, 137500.0, 162500.0, 500001.0, 500001.0, 137500.0, 500001.0, 500001.0, 500001.0, 500001.0, 500001.0, 500001.0, 500001.0, 500001.0, 500001.0, 137500.0, 500001.0, 500001.0, 500001.0, 500001.0, 137500.0, 137500.0, 137500.0, 500001.0, 500001.0, 500001.0, 162500.0, 500001.0, 500001.0, 174300.0, 500001.0, 500001.0, 137500.0, 137500.0, 112500.0, 500001.0, 137500.0, 162500.0, 137500.0, 500001.0, 500001.0, 137500.0, 500001.0, 162500.0, 137500.0, 137500.0, 500001.0, 500001.0, 137500.0, 250000.0, 500001.0, 137500.0, 162500.0, 137500.0, 500001.0, 137500.0, 500001.0, 137500.0, 500001.0, 500001.0, 137500.0, 500001.0, 500001.0, 225000.0, 500001.0, 137500.0, 500001.0, 500001.0, 500001.0, 162500.0, 500001.0, 500001.0, 289600.0, 353100.0, 500001.0, 500001.0, 500001.0, 500001.0, 275000.0, 500001.0, 162500.0, 137500.0, 500001.0, 500001.0, 500001.0, 500001.0, 500001.0, 500001.0, 137500.0, 500001.0, 142900.0, 500001.0, 500001.0, 500001.0, 106300.0, 137500.0, 67500.0, 500001.0, 500001.0, 153700.0, 500001.0, 225000.0, 500001.0, 500001.0, 500001.0, 500001.0, 500001.0, 81300.0, 500001.0, 500001.0, 500001.0, 500001.0, 162500.0, 500001.0, 137500.0, 500001.0, 500001.0, 146400.0, 500001.0, 500001.0, 153700.0, 137500.0, 137500.0, 500001.0, 500001.0, 500001.0, 500001.0, 500001.0, 137500.0, 500001.0, 500001.0, 162500.0, 137500.0, 225000.0, 500001.0, 500001.0, 500001.0, 500001.0, 162500.0, 225000.0, 500001.0, 137500.0, 500001.0, 162500.0, 500001.0, 137500.0, 500001.0, 500001.0, 137500.0, 500001.0, 500001.0, 500001.0, 500001.0, 500001.0, 500001.0, 153700.0, 500001.0, 500001.0, 500001.0, 500001.0, 500001.0, 500001.0, 500001.0, 500001.0, 106300.0, 500001.0, 162500.0, 500001.0, 137500.0, 500001.0, 500001.0, 500001.0, 500001.0, 162500.0, 137500.0, 142900.0, 500001.0, 137500.0, 500001.0, 500001.0, 162500.0, 500001.0, 500001.0, 137500.0, 137500.0, 500001.0, 500001.0, 500001.0, 500001.0, 500001.0, 500001.0, 500001.0, 500001.0, 500001.0, 500001.0, 500001.0, 500001.0, 500001.0, 500001.0, 500001.0, 67500.0, 137500.0, 137500.0, 162500.0, 500001.0, 500001.0, 500001.0, 137500.0, 500001.0, 500001.0, 225000.0, 500001.0, 500001.0, 500001.0, 500001.0, 500001.0, 500001.0, 500001.0, 137500.0, 153700.0, 500001.0, 137500.0, 137500.0, 500001.0, 162500.0, 500001.0, 500001.0, 137500.0, 500001.0, 137500.0, 500001.0, 500001.0, 500001.0, 500001.0, 500001.0, 500001.0, 137500.0, 500001.0, 137500.0, 500001.0, 500001.0, 162500.0, 500001.0, 137500.0, 500001.0, 500001.0, 500001.0, 500001.0, 162500.0, 500001.0, 500001.0, 500001.0, 500001.0, 500001.0, 500001.0, 500001.0, 500001.0, 500001.0, 500001.0, 137500.0, 500001.0, 137500.0, 500001.0, 500001.0, 500001.0, 500001.0, 146400.0, 500001.0, 500001.0, 500001.0, 500001.0, 500001.0, 500001.0, 500001.0, 500001.0, 137500.0, 137500.0, 137500.0, 500001.0, 500001.0, 500001.0, 137500.0, 500001.0, 500001.0, 137500.0, 500001.0, 500001.0, 137500.0, 137500.0, 137500.0, 137500.0, 500001.0, 137500.0, 500001.0, 500001.0, 500001.0, 137500.0, 137500.0, 500001.0, 500001.0, 137500.0, 500001.0, 500001.0, 500001.0, 500001.0, 500001.0, 137500.0, 137500.0, 500001.0, 112500.0, 500001.0, 162500.0, 500001.0, 500001.0, 137500.0, 500001.0, 137500.0, 500001.0, 500001.0, 500001.0, 67500.0, 137500.0, 500001.0, 162500.0, 162500.0, 500001.0, 137500.0, 500001.0, 500001.0, 500001.0, 137500.0, 137500.0, 162500.0, 500001.0, 500001.0, 500001.0, 500001.0, 162500.0, 500001.0, 137500.0, 137500.0, 500001.0, 500001.0, 500001.0, 500001.0, 137500.0, 500001.0, 112500.0, 275000.0, 500001.0, 137500.0, 500001.0, 153700.0, 137500.0, 162500.0, 500001.0, 137500.0, 134500.0, 137500.0, 500001.0, 500001.0, 500001.0, 500001.0, 137500.0, 137500.0, 137500.0, 500001.0, 81300.0, 500001.0, 137500.0, 500001.0, 500001.0, 500001.0, 500001.0, 500001.0, 162500.0, 275000.0, 137500.0, 500001.0, 500001.0, 500001.0, 137500.0, 187500.0, 500001.0, 500001.0, 500001.0, 137500.0, 500001.0, 162500.0, 500001.0, 162500.0, 162500.0, 137500.0, 500001.0, 500001.0, 500001.0, 118800.0, 500001.0, 500001.0, 81300.0, 137500.0, 500001.0, 500001.0, 500001.0, 500001.0, 500001.0, 500001.0, 450400.0, 500001.0, 275000.0, 162500.0, 500001.0, 500001.0, 500001.0, 500001.0, 500001.0, 67500.0, 500001.0, 500001.0, 500001.0, 162500.0, 500001.0, 500001.0, 187500.0, 137500.0, 500001.0, 137500.0, 500001.0, 137500.0, 137500.0, 137500.0, 500001.0, 137500.0, 500001.0, 500001.0, 500001.0, 137500.0, 137500.0, 500001.0, 142900.0, 103400.0, 137500.0, 162500.0, 162500.0, 500001.0, 500001.0, 500001.0, 500001.0, 500001.0, 500001.0, 162500.0, 500001.0, 500001.0, 500001.0, 500001.0, 162500.0, 500001.0, 500001.0, 137500.0, 137500.0, 162500.0, 500001.0, 162500.0, 137500.0, 500001.0, 500001.0, 137500.0, 275000.0, 153700.0, 500001.0, 500001.0, 182100.0, 500001.0, 500001.0, 500001.0, 500001.0, 500001.0, 500001.0, 500001.0, 500001.0, 137500.0, 500001.0, 162500.0, 137500.0, 500001.0, 500001.0, 500001.0, 500001.0, 137500.0, 500001.0, 500001.0, 81300.0, 500001.0, 137500.0, 137500.0, 500001.0, 137500.0, 162500.0, 112500.0, 500001.0, 500001.0, 137500.0, 500001.0, 500001.0, 162500.0, 275000.0, 500001.0, 500001.0, 500001.0, 500001.0, 500001.0, 137500.0, 500001.0, 500001.0, 137500.0, 137500.0, 137500.0, 500001.0, 500001.0, 500001.0, 162500.0, 500001.0, 500001.0, 500001.0, 137500.0, 137500.0, 500001.0, 137500.0, 500001.0, 137500.0, 500001.0, 500001.0, 500001.0, 500001.0, 87500.0, 500001.0, 500001.0, 500001.0, 500001.0, 137500.0, 137500.0, 500001.0, 500001.0, 500001.0, 500001.0, 162500.0, 137500.0, 500001.0, 500001.0, 137500.0, 500001.0, 500001.0, 500001.0, 500001.0, 176800.0, 500001.0, 500001.0, 500001.0, 162500.0, 500001.0, 137500.0, 500001.0, 500001.0, 137500.0, 500001.0, 162500.0, 500001.0, 137500.0, 137500.0, 500001.0, 500001.0, 500001.0, 106300.0, 137500.0, 500001.0, 500001.0, 500001.0, 500001.0, 500001.0, 500001.0, 500001.0, 500001.0, 500001.0, 500001.0, 137500.0, 225000.0, 500001.0, 137500.0, 78500.0, 137500.0, 500001.0, 500001.0, 500001.0, 500001.0, 500001.0, 137500.0, 137500.0, 162500.0, 275000.0, 500001.0, 500001.0, 500001.0, 500001.0, 500001.0, 500001.0, 500001.0, 500001.0, 162500.0, 500001.0, 500001.0, 500001.0, 500001.0, 500001.0, 500001.0, 500001.0, 500001.0, 500001.0, 142900.0, 137500.0, 137500.0, 500001.0, 500001.0, 500001.0, 187500.0, 137500.0, 137500.0, 500001.0, 500001.0, 500001.0, 137500.0, 500001.0, 500001.0, 500001.0, 67500.0, 500001.0, 162500.0, 500001.0, 500001.0, 500001.0, 500001.0, 500001.0, 500001.0, 500001.0, 67500.0, 500001.0, 500001.0, 500001.0, 162500.0, 500001.0, 500001.0, 137500.0, 137500.0, 500001.0, 500001.0, 162500.0, 500001.0, 500001.0, 500001.0, 500001.0, 500001.0, 500001.0, 81300.0, 500001.0, 500001.0, 500001.0, 500001.0, 137500.0, 500001.0, 137500.0, 137500.0, 275000.0, 500001.0, 500001.0, 137500.0, 137500.0, 500001.0, 137500.0, 137500.0, 500001.0, 225000.0, 500001.0, 500001.0, 162500.0, 137500.0, 87500.0, 137500.0, 500001.0, 137500.0, 137500.0, 500001.0, 500001.0, 500001.0, 137500.0, 162500.0, 137500.0, 500001.0, 500001.0, 500001.0, 191100.0, 500001.0, 137500.0, 500001.0, 500001.0, 500001.0, 137500.0, 500001.0, 137500.0, 500001.0, 500001.0, 500001.0, 500001.0, 137500.0, 500001.0, 500001.0, 500001.0, 162500.0, 500001.0, 500001.0, 500001.0, 137500.0, 137500.0, 500001.0, 106300.0, 500001.0, 500001.0, 500001.0, 137500.0, 500001.0, 500001.0, 137500.0, 500001.0, 500001.0, 500001.0, 137500.0, 137500.0, 500001.0, 500001.0, 162500.0, 137500.0, 500001.0, 162500.0, 137500.0, 500001.0, 500001.0, 500001.0, 500001.0, 137500.0, 500001.0, 500001.0, 500001.0, 137500.0, 162500.0, 500001.0, 500001.0, 137500.0, 500001.0, 500001.0, 153700.0, 137500.0, 137500.0, 182200.0, 500001.0, 500001.0, 137500.0, 250000.0, 500001.0, 500001.0, 500001.0, 500001.0, 137500.0, 137500.0, 500001.0, 500001.0, 80100.0, 500001.0, 81300.0, 137500.0, 500001.0, 500001.0, 500001.0, 500001.0, 87500.0, 500001.0, 500001.0, 112500.0, 500001.0, 500001.0, 137500.0, 187500.0, 137500.0, 500001.0, 500001.0, 137500.0, 500001.0, 162500.0, 500001.0, 137500.0, 137500.0, 500001.0, 137500.0, 500001.0, 500001.0, 500001.0, 162500.0, 500001.0, 500001.0, 137500.0, 500001.0, 162500.0, 238800.0, 500001.0, 350000.0, 500001.0, 500001.0, 500001.0, 500001.0, 500001.0, 500001.0, 500001.0, 500001.0, 137500.0, 137500.0, 137500.0, 153700.0, 500001.0, 162500.0, 500001.0, 137500.0, 162500.0, 500001.0, 500001.0, 162500.0, 137500.0, 67500.0, 500001.0, 500001.0, 500001.0, 132600.0, 500001.0, 500001.0, 500001.0, 150000.0, 500001.0, 500001.0, 500001.0, 500001.0, 137500.0, 500001.0, 137500.0, 500001.0, 250000.0, 500001.0, 162500.0, 162500.0, 500001.0, 500001.0, 500001.0, 500001.0, 162500.0, 271300.0, 500001.0, 137500.0, 137500.0, 500001.0, 500001.0, 500001.0, 137500.0, 500001.0, 137500.0, 500001.0, 500001.0, 500001.0, 500001.0, 500001.0, 500001.0, 500001.0, 137500.0, 500001.0, 500001.0, 500001.0, 500001.0, 137500.0, 137500.0, 137500.0, 500001.0, 500001.0, 500001.0, 500001.0, 500001.0, 500001.0, 500001.0, 500001.0, 137500.0, 500001.0, 500001.0, 500001.0, 500001.0, 137500.0, 500001.0, 500001.0, 500001.0, 500001.0, 500001.0, 500001.0, 500001.0, 500001.0, 500001.0, 137500.0, 500001.0, 500001.0, 137500.0, 112500.0, 500001.0, 500001.0, 500001.0, 500001.0, 137500.0, 500001.0, 500001.0, 118800.0, 137500.0, 162500.0, 500001.0, 500001.0, 500001.0, 500001.0, 500001.0, 500001.0, 500001.0, 137500.0, 500001.0, 137500.0, 500001.0, 500001.0, 500001.0, 500001.0, 500001.0, 137500.0, 500001.0, 500001.0, 137500.0, 500001.0, 67500.0, 137500.0, 137500.0, 153700.0, 500001.0, 162500.0, 500001.0, 225000.0, 500001.0, 500001.0, 162500.0, 500001.0, 500001.0, 500001.0, 500001.0, 137500.0, 137500.0, 500001.0, 137500.0, 153700.0, 500001.0, 153700.0, 500001.0, 500001.0, 137500.0, 126500.0, 500001.0, 162500.0, 500001.0, 500001.0, 500001.0, 500001.0, 500001.0, 137500.0, 500001.0, 500001.0, 500001.0, 137500.0, 500001.0, 500001.0, 275000.0, 162500.0, 500001.0, 500001.0, 500001.0, 137500.0, 500001.0, 500001.0, 500001.0, 500001.0, 500001.0, 137500.0, 500001.0, 145200.0, 187500.0, 500001.0, 500001.0, 162500.0, 137500.0, 500001.0, 500001.0, 500001.0, 500001.0, 500001.0, 500001.0, 500001.0, 87500.0, 500001.0, 500001.0, 500001.0, 146400.0, 137500.0, 137500.0, 500001.0, 145200.0, 500001.0, 500001.0, 137500.0, 500001.0, 500001.0, 500001.0, 500001.0, 142900.0, 500001.0, 500001.0, 153700.0, 162500.0, 500001.0, 137500.0, 500001.0, 500001.0, 137500.0, 400000.0, 500001.0, 500001.0, 500001.0, 500001.0, 500001.0, 500001.0, 162500.0, 500001.0, 275000.0, 500001.0, 500001.0, 145200.0, 500001.0, 500001.0, 137500.0, 187500.0, 500001.0, 137500.0, 500001.0, 500000.0, 162500.0, 500001.0, 500001.0, 500001.0, 500001.0, 137500.0, 137500.0, 500001.0, 137500.0, 500001.0, 137500.0, 275000.0, 153700.0, 500001.0, 137500.0, 162500.0, 500001.0, 162500.0, 500001.0, 137500.0, 500001.0, 162500.0, 137500.0, 500001.0, 500001.0, 500001.0, 137500.0, 500001.0, 146400.0, 500001.0, 162500.0, 500001.0, 500001.0, 500001.0, 137500.0, 162500.0, 500001.0, 500001.0, 137500.0, 500001.0, 80100.0, 162500.0, 500001.0, 500001.0, 500001.0, 162500.0, 500001.0, 103400.0, 500001.0, 500001.0, 153700.0, 275000.0, 137500.0, 500001.0, 137500.0, 182100.0, 500001.0, 500001.0, 137500.0, 137500.0, 162500.0, 500001.0, 500001.0, 500001.0, 225000.0, 162500.0, 500001.0, 162500.0, 500001.0, 500001.0, 162500.0, 500001.0, 137500.0, 137500.0, 238800.0, 500001.0, 500001.0, 137500.0, 500001.0, 500001.0, 137500.0, 500001.0, 500001.0, 353100.0, 500001.0, 137500.0, 225000.0, 500001.0, 162500.0, 500001.0, 137500.0, 137500.0, 106300.0, 137500.0, 137500.0, 500001.0, 500001.0, 500001.0, 137500.0, 500001.0, 103400.0, 500001.0, 137500.0, 500001.0, 500001.0, 137500.0, 500001.0, 137500.0, 500001.0, 500001.0, 500001.0, 500001.0, 137500.0, 500001.0, 162500.0, 500001.0, 500001.0, 500001.0, 500001.0, 500001.0, 500001.0, 137500.0, 500001.0, 500001.0, 162500.0, 500001.0, 500001.0, 162500.0, 162500.0, 81300.0, 500001.0, 500001.0, 500001.0, 500001.0, 137500.0, 137500.0, 142900.0, 500001.0, 500001.0, 137500.0, 500001.0, 162500.0, 162500.0, 500001.0, 500001.0, 137500.0, 500001.0, 148900.0, 500001.0, 500001.0, 500001.0, 137500.0, 106300.0, 137500.0, 500001.0, 500001.0, 500001.0, 500001.0, 137500.0, 137500.0, 500001.0, 500001.0, 500001.0, 500001.0, 500001.0, 500001.0, 500001.0, 162500.0, 500001.0, 137500.0, 500001.0, 350000.0, 500001.0, 500001.0, 500001.0, 67500.0, 500001.0, 500001.0, 275000.0, 137500.0, 162500.0, 500001.0, 137500.0, 137500.0, 500001.0, 500001.0, 137500.0, 500001.0, 500001.0, 500001.0, 500001.0, 500001.0, 500001.0, 162500.0, 137500.0, 500001.0, 500001.0, 500001.0, 500001.0, 137500.0, 500001.0, 500001.0, 500001.0, 500001.0, 500001.0, 500001.0, 137500.0, 106300.0, 112500.0, 500001.0, 137500.0, 500001.0, 162500.0, 137500.0, 500001.0, 500001.0, 500001.0, 500001.0, 500001.0, 162500.0, 500001.0, 500001.0, 137500.0, 500001.0, 137500.0, 500001.0, 137500.0, 500001.0, 500001.0, 137500.0, 289600.0, 170800.0, 137500.0, 500001.0, 137500.0, 500001.0, 225000.0, 500001.0, 500001.0, 137500.0, 500001.0, 500001.0, 500001.0, 500001.0, 500001.0, 237500.0, 500001.0, 162500.0, 500001.0, 500001.0, 500001.0, 81300.0, 500001.0, 275000.0, 500001.0, 500001.0, 137500.0, 500001.0, 500001.0, 500001.0, 137500.0, 500001.0, 500001.0, 162500.0, 500001.0, 500001.0, 500001.0, 500001.0, 137500.0, 500001.0, 500001.0, 500001.0, 162500.0, 500001.0, 500001.0, 112500.0, 500001.0, 137500.0, 500001.0, 500001.0, 500001.0, 137500.0, 80100.0, 137500.0, 500001.0, 500001.0, 137500.0, 500001.0, 500001.0, 162500.0, 137500.0, 500001.0, 500001.0, 500001.0, 106300.0, 137500.0, 500001.0, 500001.0, 500001.0, 500001.0, 500001.0, 500001.0, 500001.0, 137500.0, 500001.0, 500001.0, 500001.0, 500001.0, 500001.0, 137500.0, 137500.0, 500001.0, 137500.0, 500001.0, 106300.0, 191100.0, 500001.0, 500001.0, 500001.0, 137500.0, 500001.0, 162500.0, 275000.0, 162500.0, 162500.0, 500001.0, 500001.0, 137500.0, 137500.0, 500001.0, 500001.0, 500001.0, 500001.0, 500001.0, 500001.0, 137500.0, 137500.0, 500001.0, 500001.0, 500001.0, 500001.0, 500001.0, 137500.0, 500001.0, 500001.0, 500001.0, 162500.0, 500001.0, 500001.0, 500001.0, 500001.0, 500001.0, 137500.0, 153700.0, 162500.0, 500001.0, 500001.0, 500001.0, 500001.0, 162500.0, 137500.0, 500001.0, 137500.0, 500001.0, 500001.0, 500001.0, 162500.0, 137500.0, 500001.0, 500001.0, 500001.0, 137500.0, 137500.0, 137500.0, 500001.0, 500001.0, 137500.0, 500001.0, 500001.0, 137500.0, 500001.0, 500001.0, 137500.0, 500001.0, 500001.0, 500001.0, 275000.0, 500001.0, 500001.0, 187500.0, 289600.0, 500001.0, 162500.0, 500001.0, 106300.0, 500001.0, 162500.0, 500001.0, 500001.0, 137500.0, 500001.0, 500001.0, 275000.0, 500001.0, 137500.0, 500001.0, 137500.0, 162500.0, 500001.0, 137500.0, 500001.0, 162500.0, 137500.0, 500001.0, 500001.0, 137500.0, 106300.0, 162500.0, 500001.0, 162500.0, 137500.0, 142900.0, 500001.0, 500001.0, 500001.0, 162500.0, 137500.0, 500001.0, 500001.0, 275000.0, 500001.0, 500001.0, 500001.0, 500001.0, 500001.0, 500001.0, 500001.0, 500001.0, 500001.0, 500001.0, 142900.0, 500001.0, 137500.0, 500001.0, 137500.0, 137500.0, 283200.0, 283200.0, 137500.0, 500001.0, 137500.0, 137500.0, 500001.0, 500001.0, 500001.0, 500001.0, 500001.0, 500001.0, 500001.0, 500001.0, 162500.0, 500001.0, 500001.0, 500001.0, 137500.0, 500001.0, 500001.0, 500001.0, 500001.0, 162500.0, 137500.0, 500001.0, 500001.0, 137500.0, 500001.0, 137500.0, 162500.0, 500001.0, 500001.0, 162500.0, 500001.0, 162500.0, 137500.0, 500001.0, 500001.0, 500001.0, 81300.0, 500001.0, 500001.0, 137500.0, 160600.0, 500001.0, 162500.0, 500001.0, 162500.0, 500001.0, 500001.0, 162500.0, 137500.0, 500001.0, 500001.0, 500001.0, 137500.0, 500001.0, 162500.0, 137500.0, 500001.0, 500001.0, 500001.0, 137500.0, 162500.0, 500001.0, 137500.0, 500001.0, 500001.0, 287500.0, 162500.0, 500001.0, 500001.0, 137500.0, 137500.0, 500001.0, 500001.0, 137500.0, 137500.0, 500001.0, 500001.0, 500001.0, 500001.0, 500001.0, 500001.0, 500001.0, 500001.0, 137500.0, 162500.0, 500001.0, 137500.0, 137500.0, 500001.0, 137500.0, 137500.0, 500001.0, 162500.0, 500001.0, 137500.0, 500001.0, 137500.0, 500001.0, 500001.0, 500001.0, 500001.0, 500001.0, 137500.0, 137500.0, 500001.0, 500001.0, 137500.0, 500001.0, 162500.0, 162500.0, 500001.0, 500001.0, 500001.0, 500001.0, 137500.0, 137500.0, 500001.0, 146400.0, 275000.0, 500001.0, 500001.0, 500001.0, 500001.0, 500001.0, 500001.0, 287500.0, 500001.0, 500001.0, 137500.0, 500001.0, 500001.0, 500001.0, 500001.0, 162500.0, 500001.0, 500001.0, 399200.0, 137500.0, 162500.0, 500001.0, 500001.0, 500001.0, 500001.0, 500001.0, 137500.0, 500001.0, 137500.0, 137500.0, 137500.0, 500001.0, 500001.0, 150000.0, 162500.0, 500001.0, 500001.0, 500001.0, 500001.0, 500001.0, 500001.0, 137500.0, 500001.0, 500001.0, 137500.0, 500001.0, 162500.0, 399200.0, 137500.0, 500001.0, 137500.0, 500001.0, 500001.0, 500001.0, 500001.0, 148900.0, 162500.0, 137500.0, 500001.0, 500001.0, 500001.0, 500001.0, 162500.0, 500001.0, 500001.0, 137500.0, 500001.0, 275000.0, 137500.0, 500001.0, 137500.0, 500001.0, 137500.0, 500001.0, 500001.0, 500001.0, 137500.0, 500001.0, 500001.0, 500001.0, 500001.0, 170800.0, 500001.0, 187500.0, 137500.0, 500001.0, 500001.0, 500001.0, 500001.0, 137500.0, 500001.0, 137500.0, 500001.0, 225000.0, 500001.0, 500001.0, 162500.0, 500001.0, 500001.0, 500001.0, 500001.0, 500001.0, 500001.0, 500001.0, 500001.0, 500001.0, 500001.0, 500001.0, 162500.0, 137500.0, 137500.0, 137500.0, 137500.0, 500001.0, 162500.0, 500001.0, 500001.0, 500001.0, 137500.0, 137500.0, 137500.0, 318100.0, 500001.0, 137500.0, 500001.0, 500001.0, 500001.0, 500001.0, 500001.0, 137500.0, 500001.0, 500001.0, 500001.0, 500001.0, 137500.0, 162500.0, 500001.0, 500001.0, 500001.0, 500001.0, 134400.0, 500001.0, 500001.0, 500001.0, 137500.0, 137500.0, 500001.0, 500001.0, 500001.0, 112500.0, 112500.0, 137500.0, 500001.0, 500001.0, 500001.0, 283200.0, 500001.0, 500001.0, 500001.0, 137500.0, 142900.0, 153700.0, 500001.0, 289600.0, 170800.0, 137500.0, 250000.0, 137500.0, 500001.0, 137500.0, 500001.0, 500001.0, 500001.0, 500001.0, 162500.0, 137500.0, 137500.0, 137500.0, 500001.0, 500001.0, 500001.0, 500001.0, 500001.0, 225000.0, 500001.0, 500001.0, 162500.0, 500001.0, 500001.0, 137500.0, 500001.0, 137500.0, 500001.0, 500001.0, 153700.0, 500001.0, 162500.0, 162500.0, 500001.0, 137500.0, 137500.0, 500001.0, 500001.0, 500001.0, 137500.0, 67500.0, 500001.0, 500001.0, 500001.0, 162500.0, 137500.0, 500001.0, 500001.0, 153700.0, 500001.0, 500001.0, 137500.0, 137500.0, 500001.0, 500001.0, 500001.0, 500001.0, 500001.0, 500001.0, 500001.0, 137500.0, 162500.0, 137500.0, 500001.0, 500001.0, 500001.0, 162500.0, 500001.0, 500001.0, 500001.0, 137500.0, 500001.0, 500001.0, 500001.0, 106300.0, 137500.0, 500001.0, 500001.0, 277300.0, 500001.0, 500001.0, 500001.0, 162500.0, 500001.0, 500001.0, 162500.0, 500001.0, 500001.0, 500001.0, 162500.0, 500001.0, 500001.0, 162500.0, 500001.0, 500001.0, 500001.0, 500001.0, 137500.0, 500001.0, 137500.0, 500001.0, 500001.0, 500001.0, 500001.0, 500001.0, 500001.0, 137500.0, 137500.0, 500001.0, 500001.0, 137500.0, 137500.0, 500001.0, 500001.0, 500001.0, 500001.0, 500001.0, 500001.0, 162500.0, 137500.0, 500001.0, 150000.0, 187500.0, 500001.0, 500001.0, 153700.0, 500001.0, 500001.0, 112500.0, 500001.0, 500001.0, 137500.0, 137500.0, 500001.0, 500001.0, 500001.0, 500001.0, 500001.0, 500001.0, 500001.0, 500001.0, 137500.0, 87500.0, 275000.0, 500001.0, 137500.0, 500001.0, 500001.0, 500001.0, 500001.0, 500001.0, 500001.0, 67500.0, 137200.0, 137500.0, 500001.0, 500001.0, 500001.0, 500001.0, 500001.0, 500001.0, 500001.0, 162500.0, 500001.0, 160600.0, 137500.0, 145200.0, 500001.0, 500001.0, 137500.0, 162500.0, 500001.0, 500001.0, 112500.0, 500001.0, 500001.0, 500001.0, 500001.0, 137500.0, 500001.0, 162500.0, 500001.0, 500001.0, 87500.0, 500001.0, 500001.0, 275000.0, 500001.0, 500001.0, 500001.0, 187500.0, 137500.0, 500001.0, 500001.0, 170800.0, 500001.0, 137500.0, 137500.0, 137500.0, 162500.0, 500001.0, 500001.0, 500001.0, 137500.0, 137500.0, 137500.0, 500001.0, 500001.0, 500001.0, 500001.0, 500001.0, 137500.0, 137500.0, 500001.0, 500001.0, 500001.0, 137500.0, 500001.0, 500001.0, 137500.0, 500001.0, 500001.0, 137500.0, 500001.0, 500001.0, 137500.0, 500001.0, 137500.0, 500001.0, 500001.0, 137500.0, 137500.0, 500001.0, 137500.0, 500001.0, 191100.0, 500001.0, 500001.0, 162500.0, 500001.0, 137500.0, 500001.0, 500001.0, 500001.0, 137500.0, 137500.0, 500001.0, 137500.0, 500001.0, 500001.0, 500001.0, 67500.0, 500001.0, 500001.0, 500001.0, 162500.0, 500001.0, 500001.0, 500001.0, 500001.0, 137500.0, 137500.0, 500001.0, 500001.0, 500001.0, 500001.0, 500001.0, 500001.0, 500001.0, 500001.0, 162500.0, 500001.0, 500001.0, 500001.0, 500001.0, 500001.0, 137500.0, 500001.0, 500001.0, 112500.0, 137500.0, 137500.0, 500001.0, 137500.0, 500001.0, 275000.0, 137500.0, 500001.0, 500001.0, 137500.0, 137500.0, 137500.0, 500001.0, 500001.0, 137500.0, 500001.0, 137500.0, 137500.0, 500001.0, 500001.0, 500001.0, 137500.0, 500001.0, 500001.0, 500001.0, 500001.0, 500001.0, 500001.0, 500001.0, 137500.0, 137500.0, 500001.0, 500001.0, 500001.0, 500001.0, 137500.0, 106300.0, 500001.0, 137500.0, 137500.0, 137500.0, 500001.0, 500001.0, 162500.0, 162500.0, 162500.0, 500001.0, 137500.0, 500001.0, 500001.0, 500001.0, 162500.0, 500001.0, 67500.0, 137500.0, 500001.0, 162500.0, 500001.0, 500001.0, 137500.0, 500001.0, 500001.0, 500001.0, 500001.0, 500001.0, 500001.0, 500001.0, 137500.0, 137500.0, 500001.0, 500001.0, 500001.0, 500001.0, 500001.0, 137500.0, 500001.0, 500001.0, 137500.0, 500001.0, 500001.0, 162500.0, 500001.0, 500001.0, 137500.0, 500001.0, 118800.0, 500001.0, 225000.0, 137500.0, 500001.0, 225000.0, 137500.0, 160600.0, 500001.0, 137500.0, 500001.0, 500001.0, 500001.0, 87500.0, 500001.0, 500001.0, 500001.0, 500001.0, 250000.0, 142900.0, 500001.0, 500001.0, 500001.0, 500001.0, 500001.0, 500001.0, 500001.0, 500001.0, 500001.0, 500001.0, 500001.0, 500001.0, 153700.0, 500001.0, 500001.0, 500001.0, 137500.0, 500001.0, 500001.0, 500001.0, 137500.0, 162500.0, 500001.0, 500001.0, 137500.0, 500001.0, 500001.0, 500001.0, 137500.0, 500001.0, 500001.0, 148900.0, 500001.0, 137500.0, 500001.0, 148900.0, 500001.0, 153700.0, 250000.0, 500001.0, 67500.0, 137500.0, 137500.0, 500001.0, 137500.0, 137500.0, 137500.0, 500001.0, 500001.0, 137500.0, 500001.0, 187500.0, 500001.0, 500001.0, 162500.0, 500001.0, 500001.0, 67500.0, 500001.0, 500001.0, 500001.0, 500001.0, 500001.0, 137500.0, 500001.0, 500001.0, 500001.0, 137500.0, 137500.0, 162500.0, 162500.0, 500001.0, 500001.0, 137500.0, 500001.0, 153700.0, 137500.0, 81300.0, 137500.0, 289600.0, 500001.0, 162500.0, 162500.0, 146400.0, 106300.0, 500001.0, 500001.0, 500001.0, 500001.0, 137500.0, 500001.0, 500001.0, 112500.0, 500001.0, 500001.0, 275000.0, 500001.0, 500001.0, 137500.0, 500001.0, 500001.0, 500001.0, 500001.0, 500001.0, 500001.0, 162500.0, 500001.0, 500001.0, 500001.0, 162500.0, 500001.0, 137500.0, 162500.0, 500001.0, 500001.0, 500001.0, 162500.0, 500001.0, 500001.0, 500001.0, 137500.0, 137500.0, 500001.0, 162500.0, 500001.0, 500001.0, 137500.0, 137500.0, 137500.0, 137500.0, 500001.0, 500001.0, 500001.0, 137500.0, 500001.0, 500001.0, 137500.0, 500001.0, 500001.0, 275000.0, 500001.0, 500001.0, 500001.0, 500001.0, 162500.0, 500001.0, 500001.0, 162500.0, 500001.0, 500001.0, 500001.0, 500001.0, 500001.0, 500001.0, 137500.0, 137500.0, 500001.0, 500001.0, 137500.0, 137500.0, 500001.0, 500001.0, 500001.0, 500001.0, 500001.0, 500001.0, 137500.0, 500001.0, 162500.0, 500001.0, 137500.0, 500001.0, 162500.0, 500001.0, 500001.0, 137500.0, 500001.0, 500001.0, 137500.0, 500001.0, 500001.0, 500001.0, 500001.0, 162500.0, 500001.0, 137500.0, 500001.0, 500001.0, 162500.0, 500001.0, 500001.0, 500001.0, 500001.0, 500001.0, 137500.0, 500001.0, 162500.0, 162500.0, 67500.0, 500001.0, 137500.0, 500001.0, 145200.0, 187500.0, 500001.0, 500001.0, 500001.0, 134500.0, 137500.0, 500001.0, 500001.0, 500001.0, 500001.0, 283200.0, 500001.0, 137500.0, 500001.0, 500001.0, 81300.0, 81300.0, 500001.0, 500001.0, 500001.0, 137500.0, 500001.0, 162500.0, 500001.0, 187500.0, 500001.0, 137500.0, 137500.0, 500001.0, 500001.0, 137500.0, 500001.0, 137500.0, 382400.0, 500001.0, 339700.0, 500001.0, 162500.0, 162500.0, 137500.0, 137500.0, 80100.0, 500001.0, 137500.0, 500001.0, 275000.0, 500001.0, 137500.0, 137500.0, 500001.0, 500001.0, 137500.0, 500001.0, 81300.0, 500001.0, 137500.0, 137500.0, 500001.0, 500001.0, 500001.0, 500001.0, 500001.0, 137500.0, 500001.0, 500001.0, 500001.0, 137500.0, 500001.0, 500001.0, 500001.0, 137500.0, 150000.0, 137500.0, 500001.0, 500001.0, 500001.0, 500001.0, 137500.0, 137500.0, 500001.0, 500001.0, 137500.0, 500001.0, 137500.0, 500001.0, 500001.0, 500001.0, 137500.0, 500001.0, 500001.0, 137500.0, 162500.0, 137500.0, 162500.0, 162500.0, 500001.0, 137500.0, 145200.0, 500001.0, 500001.0, 137500.0, 500001.0, 137500.0, 500001.0, 500001.0, 500001.0, 500001.0, 137500.0, 500001.0, 275000.0, 500001.0, 500001.0, 150000.0, 137500.0, 162500.0, 500001.0, 500001.0, 137500.0, 500001.0, 137500.0, 500001.0, 137500.0, 153700.0, 137500.0, 137500.0, 137500.0, 500001.0, 500001.0, 500001.0, 500001.0, 500001.0, 500001.0, 500001.0, 500001.0, 350000.0, 500001.0, 162500.0, 500001.0, 500001.0, 137500.0, 500001.0, 500001.0, 500001.0, 500001.0, 137500.0, 500001.0, 500001.0, 500001.0, 500001.0, 153700.0, 500001.0, 137500.0, 500001.0, 187500.0, 500001.0, 162500.0, 137500.0, 500001.0, 500001.0, 500001.0, 500001.0, 500001.0, 500001.0, 137500.0, 137500.0, 500001.0, 500001.0, 153400.0, 137500.0, 500001.0, 500001.0, 81300.0, 162500.0, 500001.0, 153700.0, 137500.0, 500001.0, 500001.0, 500001.0, 500001.0, 160600.0, 500001.0, 137500.0, 500001.0, 87500.0, 500001.0, 137500.0, 500001.0, 500001.0, 137500.0, 500001.0, 500001.0, 500001.0, 500001.0, 87500.0, 225000.0, 137500.0, 500001.0, 500001.0, 500001.0, 137500.0, 500001.0, 137500.0, 137500.0, 500001.0, 500001.0, 500001.0, 500001.0, 500001.0, 500001.0, 500001.0, 500001.0, 162500.0, 500001.0, 500001.0, 500001.0, 162500.0, 500001.0, 500001.0, 500001.0, 500001.0, 137500.0, 500001.0, 500001.0, 500001.0, 500001.0, 225000.0, 500001.0, 137500.0, 162500.0, 500001.0, 500001.0, 118500.0, 500001.0, 500001.0, 500001.0, 500001.0, 500001.0, 275000.0, 137500.0, 137500.0, 137500.0, 500001.0, 187500.0, 400000.0, 500001.0, 162500.0, 500001.0, 275000.0, 500001.0, 500001.0, 137500.0, 500001.0, 137500.0, 500001.0, 187500.0, 500001.0, 137500.0, 500001.0, 500001.0, 500001.0, 500001.0, 500001.0, 500001.0, 500001.0, 500001.0, 500001.0, 500001.0, 500001.0, 500001.0, 67500.0, 137500.0, 500001.0, 500001.0, 500001.0, 500001.0, 162500.0, 500001.0, 500001.0, 500001.0, 137500.0, 67500.0, 137500.0, 225000.0, 137500.0, 137500.0, 137500.0, 500001.0, 162500.0, 500001.0, 500001.0, 162500.0, 500001.0, 162500.0, 500001.0, 162500.0, 160600.0, 500001.0, 137500.0, 137500.0, 137500.0, 500001.0, 500001.0, 137500.0, 162500.0, 137500.0, 500001.0, 500001.0, 500001.0, 137500.0, 103400.0, 500001.0, 500001.0, 137500.0, 162500.0, 137500.0, 500001.0, 267400.0, 500001.0, 500001.0, 500001.0, 500001.0, 500001.0, 500001.0, 137500.0, 500001.0, 500001.0, 67500.0, 500001.0, 500001.0, 145200.0, 137500.0, 162500.0, 500001.0, 500001.0, 137500.0, 137500.0, 500001.0, 87500.0, 137500.0, 162500.0, 225000.0, 137500.0, 500001.0, 500001.0, 500001.0, 162500.0, 162500.0, 162500.0, 500001.0, 275000.0, 500001.0, 500001.0, 500001.0, 500001.0, 500001.0, 137500.0, 137500.0, 170800.0, 500001.0, 500001.0, 500001.0, 162500.0, 500001.0, 500001.0, 500001.0, 500001.0, 137500.0, 500001.0, 162500.0, 187500.0, 500001.0, 500001.0, 500001.0, 162500.0, 500001.0, 137500.0, 500001.0, 225000.0, 137500.0, 500001.0, 162500.0, 500001.0, 162500.0, 137500.0, 500001.0, 500001.0, 500001.0, 500001.0, 137500.0, 500001.0, 500001.0, 162500.0, 500001.0, 137500.0, 500001.0, 137500.0, 112500.0, 500001.0, 500001.0, 500001.0, 137500.0, 500001.0, 137500.0, 500001.0, 500001.0, 137500.0, 137500.0, 500001.0, 500001.0, 500001.0, 500001.0, 500001.0, 500001.0, 500001.0, 162500.0, 500001.0, 500001.0, 500001.0, 162500.0, 191100.0, 500001.0, 500001.0, 500001.0, 162500.0, 500001.0, 500001.0, 162500.0, 162500.0, 162500.0, 500001.0, 500001.0, 500001.0, 500001.0, 137500.0, 500001.0, 137500.0, 500001.0, 500001.0, 137500.0, 500001.0, 500001.0, 500001.0, 500001.0, 500001.0, 137500.0, 225000.0, 162500.0, 81300.0, 500001.0, 162500.0, 500001.0, 153700.0, 500001.0, 500001.0, 500001.0, 137500.0, 500001.0, 500001.0, 106300.0, 500001.0, 500001.0, 137500.0, 500001.0, 137500.0, 95300.0, 500001.0, 137500.0, 500001.0, 500001.0, 500001.0, 500001.0, 137500.0, 162500.0, 500001.0, 500001.0, 500001.0, 137500.0, 500001.0, 162500.0, 500001.0, 500001.0, 500001.0, 500001.0, 500001.0, 137500.0, 275000.0, 500001.0, 500001.0, 500001.0, 500001.0, 500001.0, 500001.0, 162500.0, 137500.0, 500001.0, 187500.0, 103400.0, 187500.0, 500001.0, 137500.0, 137500.0, 500001.0, 500001.0, 500001.0, 187500.0, 137500.0, 153700.0, 500001.0, 500001.0, 500001.0, 500001.0, 162500.0, 500001.0, 500001.0, 137500.0, 162500.0, 500001.0, 500001.0, 500001.0, 500001.0, 153700.0, 500001.0, 237500.0, 137500.0, 500001.0, 500001.0, 137500.0, 500001.0, 500001.0, 500001.0, 162500.0, 67500.0, 162500.0, 500001.0, 500001.0, 137500.0, 500001.0, 500001.0, 500001.0, 500001.0, 162500.0, 150000.0, 500001.0, 500001.0, 500001.0, 500001.0, 137500.0, 162500.0, 500001.0, 500001.0, 500001.0, 500001.0, 400000.0, 500001.0, 500001.0, 137500.0, 275000.0, 153700.0, 500001.0, 137500.0, 500001.0, 500001.0, 162500.0, 500001.0, 500001.0, 500001.0, 67500.0, 162500.0, 162500.0, 137500.0, 500001.0, 500001.0, 500001.0, 500001.0, 500001.0, 137500.0, 137500.0, 162500.0, 500001.0, 500001.0, 162500.0, 162500.0, 250000.0, 137500.0, 187500.0, 137500.0, 500001.0, 500000.0, 162500.0, 142900.0, 500001.0, 500001.0, 137500.0, 137500.0, 137500.0, 137500.0, 137500.0, 500001.0, 162500.0, 137500.0, 500001.0, 500001.0, 500001.0, 500001.0, 170800.0, 162500.0, 500001.0, 162500.0, 500001.0, 137500.0, 162500.0, 500001.0, 137500.0, 500001.0, 500001.0, 137500.0, 500001.0, 112500.0, 500001.0, 500001.0, 500001.0, 162500.0, 500001.0, 500001.0, 500001.0, 500001.0, 500001.0, 137500.0, 500001.0, 137500.0, 162500.0, 137500.0, 137500.0, 500001.0, 500001.0, 225000.0, 137500.0, 500001.0, 500001.0, 500001.0, 137500.0, 500001.0, 500001.0, 500001.0, 500001.0, 500001.0, 150000.0, 500001.0, 500001.0, 500001.0, 162500.0, 500001.0, 500001.0, 500001.0, 353100.0, 500001.0, 500001.0, 500001.0, 500001.0, 500001.0, 137500.0, 137500.0, 137500.0, 500001.0, 500001.0, 153700.0, 500001.0, 500001.0, 500001.0, 137500.0, 500001.0, 137500.0, 500001.0, 137500.0, 500001.0, 137500.0, 137500.0, 500001.0, 500001.0, 339700.0, 500000.0, 187500.0, 142900.0, 500001.0, 162500.0, 137500.0, 500001.0, 500001.0, 137500.0, 500001.0, 275000.0, 150000.0, 500001.0, 500001.0, 137500.0, 500001.0, 500001.0, 137500.0, 500001.0, 137500.0, 500001.0, 137500.0, 500001.0, 137500.0, 500001.0, 137500.0, 500001.0, 137500.0, 500001.0, 137500.0, 162500.0, 500001.0, 500001.0, 137500.0, 137500.0, 137500.0, 500001.0, 137500.0, 500001.0, 500001.0, 162500.0, 353100.0, 137500.0, 500001.0, 137500.0, 162500.0, 500001.0, 160600.0, 500001.0, 162500.0, 137500.0, 500001.0, 137500.0, 162500.0, 162500.0, 500001.0, 500001.0, 137500.0, 500001.0, 162500.0, 500001.0, 137500.0, 137500.0, 500001.0, 137500.0, 500001.0, 162500.0, 500001.0, 137500.0, 500001.0, 500001.0, 137500.0, 500001.0, 500001.0, 500001.0, 500001.0, 500001.0, 500001.0, 500001.0, 500001.0, 137500.0, 500001.0, 137500.0, 500001.0, 137500.0, 162500.0, 500001.0, 137500.0, 500001.0, 137500.0, 137500.0, 500001.0, 500001.0, 500001.0, 500001.0, 137500.0, 500001.0, 500001.0, 137500.0, 112500.0, 67500.0, 162500.0, 500001.0, 137500.0, 339700.0, 500001.0, 500001.0, 162500.0, 500001.0, 137500.0, 500001.0, 500001.0, 500001.0, 500001.0, 137500.0, 137500.0, 500001.0, 500001.0, 500001.0, 500001.0, 500001.0, 162500.0, 137500.0, 162500.0, 500001.0, 162500.0, 137500.0, 500001.0, 153700.0, 137500.0, 500001.0, 137500.0, 500001.0, 500001.0, 500001.0, 160600.0, 500001.0, 500001.0, 500001.0, 275000.0, 137500.0, 500001.0, 137500.0, 162500.0, 500001.0, 500001.0, 500001.0, 500001.0, 500001.0, 137500.0, 500001.0, 500001.0, 500001.0, 137500.0, 500001.0, 275000.0, 500001.0, 500001.0, 500001.0, 500001.0, 500001.0, 500001.0, 500001.0, 160600.0, 500001.0, 500001.0, 162500.0, 225000.0, 500001.0, 137500.0, 500001.0, 137500.0, 500001.0, 500001.0, 500001.0, 500001.0, 162500.0, 225000.0, 500001.0, 145200.0, 500000.0, 500001.0, 162500.0, 137500.0, 275000.0, 500001.0, 137500.0, 500001.0, 87500.0, 500001.0, 500001.0, 153700.0, 500001.0, 137500.0, 137500.0, 137500.0, 137500.0, 137500.0, 500001.0, 500001.0, 275000.0, 500001.0, 500001.0, 500001.0, 87500.0, 137500.0, 162500.0, 500001.0, 500001.0, 500001.0, 500001.0, 500001.0, 500001.0, 500001.0, 500001.0, 399200.0, 500001.0, 162500.0, 137500.0, 137500.0, 500001.0, 137500.0, 500001.0, 500001.0, 137500.0, 67500.0, 500001.0, 500001.0, 78500.0, 87500.0, 162500.0, 500001.0, 187500.0, 500001.0, 137500.0, 500001.0, 142900.0, 500001.0, 500001.0, 500001.0, 162500.0, 137500.0, 500001.0, 137500.0, 500001.0, 500001.0, 500001.0, 500001.0, 500001.0, 500001.0, 500001.0, 500001.0, 500001.0, 500001.0, 500001.0, 106300.0, 137500.0, 137500.0, 137500.0, 162500.0, 137500.0, 500001.0, 187500.0, 500001.0, 500001.0, 500001.0, 500001.0, 500001.0, 137500.0, 500001.0, 500001.0, 500001.0, 67500.0, 137500.0, 500001.0, 500001.0, 500001.0, 500001.0, 500001.0, 500001.0, 500001.0, 500001.0, 500001.0, 500001.0, 137500.0, 137500.0, 500001.0, 137500.0, 500001.0, 137500.0, 170800.0, 500001.0, 162500.0, 137500.0, 500001.0, 137500.0, 500001.0, 500001.0, 500001.0, 137500.0, 500001.0, 137500.0, 500001.0, 500001.0, 137500.0, 137500.0, 500001.0, 137500.0, 500001.0, 162500.0, 500001.0, 500001.0, 500001.0, 137500.0, 500001.0, 80100.0, 191100.0, 500001.0, 500001.0, 162500.0, 500001.0, 500001.0, 500001.0, 500001.0, 275000.0, 162500.0, 500001.0, 500001.0, 500001.0, 118800.0, 137500.0, 500001.0, 162500.0, 162500.0, 137500.0, 137500.0, 275000.0, 137500.0, 137500.0, 500001.0, 500001.0, 500001.0, 500001.0, 500001.0, 137500.0, 106300.0, 500001.0, 162500.0, 500001.0, 500001.0, 500001.0, 137500.0, 137500.0, 500001.0, 187500.0, 500001.0, 500001.0, 500001.0, 162500.0, 500001.0, 500001.0, 500001.0, 500001.0, 500001.0, 500001.0, 187500.0, 137500.0, 170800.0, 500001.0, 500001.0, 137500.0, 500001.0, 500001.0, 500001.0, 191100.0, 112500.0, 500001.0, 162500.0, 500001.0, 500001.0, 500001.0, 500001.0, 500001.0, 137500.0, 500001.0, 500001.0, 500001.0, 500001.0, 500001.0, 137500.0, 162500.0, 500001.0, 500001.0, 500001.0, 500001.0, 137500.0, 137500.0, 191100.0, 137500.0, 500001.0, 500001.0, 275000.0, 137500.0, 500001.0, 275000.0, 500001.0, 137500.0, 500001.0, 500001.0, 162500.0, 137500.0, 500001.0, 500001.0, 500001.0, 500001.0, 339700.0, 500001.0, 137500.0, 500001.0, 137500.0, 162500.0, 500001.0, 162500.0, 500001.0, 137500.0, 275000.0, 500001.0, 275000.0, 500001.0, 500001.0, 137500.0, 500001.0, 500001.0, 500001.0, 500001.0, 500001.0, 500001.0, 500001.0, 500001.0, 500001.0, 500001.0, 162500.0, 137500.0, 500001.0, 137500.0, 137500.0, 500001.0, 500001.0, 500001.0, 137500.0, 225000.0, 162500.0, 500001.0, 137500.0, 500001.0, 162500.0, 500001.0, 500001.0, 399200.0, 162500.0, 160600.0, 500001.0, 500001.0, 500001.0, 500001.0, 137500.0, 500001.0, 500001.0, 500001.0, 500001.0, 500001.0, 500001.0, 500001.0, 500001.0, 500001.0, 500001.0, 500001.0, 500001.0, 500001.0, 170800.0, 137500.0, 500001.0, 162500.0, 137500.0, 137500.0, 137500.0, 500001.0, 500001.0, 500001.0, 500001.0, 500001.0, 500001.0, 137500.0, 500001.0, 500001.0, 500001.0, 162500.0, 162500.0, 500001.0, 500001.0, 500001.0, 500001.0, 500001.0, 145200.0, 137500.0, 137500.0, 500001.0, 137500.0, 500001.0, 500001.0, 137500.0, 500001.0, 500001.0, 500001.0, 500001.0, 137500.0, 339700.0, 500001.0, 500001.0, 500001.0, 500001.0, 162500.0, 500001.0, 500001.0, 500001.0, 137500.0, 500001.0, 500001.0, 500001.0, 162500.0, 162500.0, 500001.0, 112500.0, 500001.0, 137500.0, 500001.0, 500001.0, 500001.0, 500001.0, 500001.0, 500001.0, 500001.0, 500001.0, 500001.0, 500001.0, 137500.0, 137500.0, 225000.0, 500001.0, 500001.0, 283200.0, 500001.0, 137500.0, 500001.0, 500001.0, 500001.0, 500001.0, 500001.0, 162500.0, 162500.0, 500001.0, 106300.0, 137500.0, 500001.0, 500001.0, 500001.0, 500001.0, 500001.0, 500001.0, 500001.0, 137500.0, 500001.0, 500001.0, 500001.0, 137500.0, 500001.0, 500001.0, 500001.0, 137500.0, 500001.0, 500001.0, 275000.0, 500001.0, 500001.0, 500001.0, 137500.0, 500001.0, 137500.0, 500001.0, 500001.0, 500001.0, 137500.0, 500001.0, 67500.0, 137500.0, 500001.0, 500001.0, 137500.0, 137500.0, 500001.0, 187500.0, 500001.0, 500001.0, 500001.0, 162500.0, 500001.0, 500001.0, 500001.0, 275000.0, 500001.0, 137500.0, 500001.0, 500001.0, 500001.0, 500001.0, 500001.0, 500001.0, 275000.0, 500001.0, 500001.0, 500001.0, 500001.0, 500001.0, 500001.0, 500001.0, 162500.0, 500001.0, 500001.0, 500001.0, 137500.0, 500001.0, 500001.0, 500001.0, 137500.0, 500001.0, 162500.0, 162500.0, 137500.0, 500001.0, 500001.0, 137500.0, 500001.0, 137500.0, 137500.0, 500001.0, 500001.0, 500001.0, 500001.0, 500001.0, 500001.0, 500001.0, 137500.0, 137500.0, 500001.0, 500001.0, 137500.0, 500001.0, 137500.0, 162500.0, 137500.0, 162500.0, 162500.0, 118800.0, 500001.0, 137500.0, 500001.0, 275000.0, 162500.0, 153700.0, 500001.0, 112500.0, 500001.0, 137500.0, 162500.0, 500001.0, 500001.0, 137500.0, 137500.0, 137500.0, 153700.0, 500001.0, 500001.0, 500001.0, 289600.0, 137500.0, 500001.0, 137500.0, 137500.0, 500001.0, 500001.0, 500001.0, 500001.0, 137500.0, 162500.0, 137500.0, 500001.0, 500001.0, 162500.0, 500001.0, 500001.0, 137500.0, 500001.0, 500001.0, 500001.0, 500001.0, 500001.0, 500001.0, 137500.0, 500001.0, 137500.0, 137500.0, 500001.0, 137500.0, 500001.0, 500001.0, 500001.0, 500001.0, 500001.0, 500001.0, 500001.0, 162500.0]\n"
     ]
    }
   ],
   "source": [
    "# metrics\n",
    "\n",
    "from metrics_classification import *\n",
    "from sklearn.metrics import confusion_matrix\n",
    "\n",
    "y_true =  list(Y_test)\n",
    "y_pred = list(rlog.predict(X_test))\n",
    "\n",
    "\n",
    "print('Valores:\\n')\n",
    "print('originales:\\n ', y_true)\n",
    "print('\\npredicho: \\n  ', y_pred)"
   ]
  },
  {
   "cell_type": "code",
   "execution_count": 71,
   "metadata": {},
   "outputs": [
    {
     "name": "stdout",
     "output_type": "stream",
     "text": [
      "\n",
      "Matriz de confusion:\n",
      " \n",
      "[[  0   0   0 ...   0   0   0]\n",
      " [  0   0   0 ...   0   0   1]\n",
      " [  0   0   0 ...   0   0   1]\n",
      " ...\n",
      " [  0   0   0 ...   0   0   1]\n",
      " [  0   0   0 ...   0   0   5]\n",
      " [  0   0   0 ...   0   0 164]]\n"
     ]
    }
   ],
   "source": [
    "print('\\nMatriz de confusion:\\n ')\n",
    "print(confusion_matrix(y_true,y_pred))"
   ]
  },
  {
   "cell_type": "code",
   "execution_count": 72,
   "metadata": {},
   "outputs": [
    {
     "name": "stdout",
     "output_type": "stream",
     "text": [
      "\n",
      "Metricas para los regresores:\n",
      "\n"
     ]
    },
    {
     "name": "stderr",
     "output_type": "stream",
     "text": [
      "C:\\Users\\Javiera\\anaconda3\\lib\\site-packages\\sklearn\\metrics\\_classification.py:1245: UndefinedMetricWarning: Recall is ill-defined and being set to 0.0 in labels with no true samples. Use `zero_division` parameter to control this behavior.\n",
      "  _warn_prf(average, modifier, msg_start, len(result))\n",
      "C:\\Users\\Javiera\\anaconda3\\lib\\site-packages\\sklearn\\metrics\\_classification.py:1245: UndefinedMetricWarning: Precision is ill-defined and being set to 0.0 in labels with no predicted samples. Use `zero_division` parameter to control this behavior.\n",
      "  _warn_prf(average, modifier, msg_start, len(result))\n"
     ]
    },
    {
     "data": {
      "text/html": [
       "<div>\n",
       "<style scoped>\n",
       "    .dataframe tbody tr th:only-of-type {\n",
       "        vertical-align: middle;\n",
       "    }\n",
       "\n",
       "    .dataframe tbody tr th {\n",
       "        vertical-align: top;\n",
       "    }\n",
       "\n",
       "    .dataframe thead th {\n",
       "        text-align: right;\n",
       "    }\n",
       "</style>\n",
       "<table border=\"1\" class=\"dataframe\">\n",
       "  <thead>\n",
       "    <tr style=\"text-align: right;\">\n",
       "      <th></th>\n",
       "      <th>accuracy</th>\n",
       "      <th>recall</th>\n",
       "      <th>precision</th>\n",
       "      <th>fscore</th>\n",
       "    </tr>\n",
       "  </thead>\n",
       "  <tbody>\n",
       "    <tr>\n",
       "      <th>0</th>\n",
       "      <td>0.0431</td>\n",
       "      <td>0.0006</td>\n",
       "      <td>0.0001</td>\n",
       "      <td>0.0001</td>\n",
       "    </tr>\n",
       "  </tbody>\n",
       "</table>\n",
       "</div>"
      ],
      "text/plain": [
       "   accuracy  recall  precision  fscore\n",
       "0    0.0431  0.0006     0.0001  0.0001"
      ]
     },
     "execution_count": 72,
     "metadata": {},
     "output_type": "execute_result"
    }
   ],
   "source": [
    "# ejemplo \n",
    "df_temp = pd.DataFrame(\n",
    "    {\n",
    "        'y':y_true,\n",
    "        'yhat':y_pred\n",
    "        }\n",
    ")\n",
    "\n",
    "df_metrics = summary_metrics(df_temp)\n",
    "print(\"\\nMetricas para los regresores:\")\n",
    "print(\"\")\n",
    "df_metrics"
   ]
  },
  {
   "cell_type": "code",
   "execution_count": 107,
   "metadata": {},
   "outputs": [
    {
     "data": {
      "text/plain": [
       "'#Diccionario de Hiperparámetros\\ndicc_rlog = {\\n          \\'penalty\\' : [\\'l1\\', \\'l2\\'],\\n          \\'C\\' : [100, 10 , 1, 0.1, 0.01],\\n          \\'class_weight\\' : [\\'balanced\\', None],\\n          \\'solver\\' : [\\'liblinear\\'],\\n          }\\n\\n\\ngrid_rlog = GridSearchCV(estimator = rlog, param_grid = dicc_rlog, refit = True, n_jobs=-1) \\n\\nstart_time = time.time() #Tiempo de inicio \\n\\ngrid_result_rlog = grid_rlog.fit(X_train, Y_train)\\n\\nprint(\"Este modelo se ajustó en\",(time.time() - start_time),\"segundos.\") \\n'"
      ]
     },
     "execution_count": 107,
     "metadata": {},
     "output_type": "execute_result"
    }
   ],
   "source": [
    "#NO PUDE HACER CORRER EL SIGUIENTE CÓDIGO: estuvo media hora ejecutándose y nada, nunca se ejecutó.\n",
    "\n",
    "\"\"\"#Diccionario de Hiperparámetros\n",
    "dicc_rlog = {\n",
    "          'penalty' : ['l1', 'l2'],\n",
    "          'C' : [100, 10 , 1, 0.1, 0.01],\n",
    "          'class_weight' : ['balanced', None],\n",
    "          'solver' : ['liblinear'],\n",
    "          }\n",
    "\n",
    "\n",
    "grid_rlog = GridSearchCV(estimator = rlog, param_grid = dicc_rlog, refit = True, n_jobs=-1) \n",
    "\n",
    "start_time = time.time() #Tiempo de inicio \n",
    "\n",
    "grid_result_rlog = grid_rlog.fit(X_train, Y_train)\n",
    "\n",
    "print(\"Este modelo se ajustó en\",(time.time() - start_time),\"segundos.\") \n",
    "\"\"\"\n",
    "\n"
   ]
  },
  {
   "cell_type": "code",
   "execution_count": null,
   "metadata": {},
   "outputs": [],
   "source": [
    "\"\"\"# print best parameter after tuning \n",
    "print(\"El mejor score tuvo un valor de:\", grid_result_rlog.best_score_)\n",
    "print(\"usando los siguientes parámetros:\",grid_result_rlog.best_params_) \n",
    "grid_predictions = grid_result_rlog.predict(X_test) \n",
    "\"\"\""
   ]
  },
  {
   "cell_type": "markdown",
   "metadata": {},
   "source": [
    "K-Neighbors Classifier:"
   ]
  },
  {
   "cell_type": "code",
   "execution_count": 73,
   "metadata": {},
   "outputs": [
    {
     "data": {
      "text/plain": [
       "KNeighborsClassifier()"
      ]
     },
     "execution_count": 73,
     "metadata": {},
     "output_type": "execute_result"
    }
   ],
   "source": [
    "reg_knn = neighbors.KNeighborsClassifier(5,weights='uniform')\n",
    "reg_knn.fit(X_train, Y_train)"
   ]
  },
  {
   "cell_type": "code",
   "execution_count": 74,
   "metadata": {},
   "outputs": [
    {
     "name": "stdout",
     "output_type": "stream",
     "text": [
      "Valores:\n",
      "\n",
      "originales:\n",
      "  [47700.0, 45800.0, 500001.0, 218600.0, 278000.0, 158700.0, 198200.0, 157500.0, 340000.0, 446600.0, 123200.0, 253900.0, 215100.0, 220500.0, 219800.0, 136200.0, 178400.0, 187500.0, 139800.0, 137500.0, 425000.0, 405600.0, 138800.0, 500001.0, 162100.0, 51400.0, 151300.0, 94800.0, 204100.0, 361500.0, 85100.0, 138400.0, 137500.0, 465000.0, 271800.0, 239400.0, 340900.0, 150400.0, 128100.0, 156000.0, 258100.0, 90500.0, 71300.0, 219700.0, 151000.0, 290100.0, 142000.0, 291500.0, 255400.0, 98100.0, 251900.0, 162100.0, 129400.0, 89400.0, 150500.0, 133800.0, 80400.0, 211100.0, 255600.0, 214500.0, 500001.0, 202100.0, 81500.0, 98800.0, 281900.0, 184600.0, 254700.0, 143100.0, 162500.0, 142600.0, 85900.0, 186900.0, 71300.0, 174400.0, 225000.0, 146500.0, 405000.0, 189600.0, 164400.0, 337500.0, 72500.0, 143800.0, 160000.0, 118100.0, 374000.0, 202700.0, 96600.0, 65800.0, 167400.0, 179800.0, 96700.0, 266100.0, 91100.0, 49800.0, 90700.0, 115800.0, 278600.0, 250000.0, 85000.0, 177000.0, 99700.0, 357600.0, 475000.0, 273600.0, 182400.0, 157800.0, 193800.0, 333600.0, 264600.0, 58400.0, 173400.0, 214800.0, 200000.0, 422800.0, 93600.0, 122200.0, 167600.0, 303600.0, 269300.0, 264400.0, 191000.0, 153800.0, 275500.0, 208800.0, 142300.0, 63500.0, 95800.0, 231700.0, 221500.0, 89500.0, 226000.0, 500001.0, 270200.0, 59600.0, 193300.0, 133600.0, 161900.0, 357500.0, 276500.0, 410700.0, 375000.0, 135200.0, 167200.0, 252000.0, 308400.0, 172100.0, 500001.0, 193800.0, 105200.0, 90800.0, 168800.0, 162100.0, 161200.0, 137500.0, 289300.0, 278700.0, 161700.0, 231000.0, 87500.0, 95700.0, 240600.0, 214100.0, 428600.0, 125000.0, 76400.0, 263800.0, 120400.0, 109100.0, 170600.0, 257400.0, 320000.0, 289600.0, 307300.0, 325500.0, 58400.0, 48500.0, 216700.0, 97900.0, 158600.0, 69000.0, 322300.0, 467700.0, 163000.0, 287100.0, 54600.0, 90400.0, 155500.0, 175000.0, 411200.0, 332100.0, 141200.0, 247100.0, 153000.0, 155000.0, 390800.0, 90000.0, 196700.0, 68200.0, 500001.0, 92100.0, 297900.0, 500001.0, 332300.0, 171100.0, 152100.0, 232000.0, 127100.0, 87500.0, 203400.0, 228600.0, 116700.0, 416700.0, 227600.0, 267900.0, 97200.0, 137500.0, 198800.0, 68600.0, 352500.0, 103800.0, 107800.0, 131700.0, 271300.0, 97300.0, 95000.0, 67500.0, 326100.0, 65600.0, 225600.0, 263800.0, 348300.0, 325000.0, 108800.0, 400000.0, 138400.0, 61000.0, 453100.0, 500001.0, 120200.0, 329200.0, 196300.0, 150000.0, 152000.0, 169900.0, 137500.0, 283000.0, 404500.0, 193500.0, 205100.0, 145600.0, 225000.0, 215900.0, 158500.0, 124700.0, 65400.0, 280200.0, 180500.0, 105400.0, 100000.0, 166300.0, 158000.0, 243800.0, 362900.0, 201900.0, 52600.0, 500001.0, 112000.0, 225000.0, 439900.0, 88300.0, 500001.0, 276800.0, 179200.0, 199700.0, 132000.0, 61300.0, 171900.0, 123800.0, 135300.0, 137100.0, 129300.0, 227900.0, 94400.0, 103500.0, 320800.0, 125000.0, 332400.0, 159100.0, 236900.0, 461600.0, 156900.0, 148200.0, 166500.0, 196900.0, 167800.0, 126700.0, 500001.0, 57900.0, 238000.0, 142000.0, 86900.0, 56000.0, 500001.0, 112400.0, 63600.0, 431300.0, 265900.0, 58000.0, 194100.0, 142800.0, 178700.0, 187500.0, 225000.0, 313000.0, 500001.0, 153600.0, 62300.0, 194500.0, 163900.0, 398800.0, 204100.0, 199300.0, 176700.0, 500001.0, 248900.0, 150000.0, 231700.0, 58000.0, 126000.0, 163300.0, 113400.0, 300000.0, 310900.0, 218800.0, 70400.0, 237700.0, 118800.0, 73100.0, 75000.0, 450700.0, 240200.0, 65800.0, 64700.0, 175100.0, 223700.0, 96300.0, 405100.0, 376800.0, 500001.0, 350000.0, 162500.0, 177300.0, 98400.0, 138800.0, 175000.0, 260900.0, 104700.0, 159500.0, 295900.0, 137500.0, 500001.0, 227000.0, 263900.0, 160400.0, 142000.0, 162500.0, 230400.0, 500001.0, 217700.0, 183000.0, 245800.0, 129200.0, 60400.0, 67500.0, 295200.0, 192600.0, 150600.0, 125700.0, 63400.0, 151300.0, 245600.0, 500001.0, 165500.0, 113500.0, 322200.0, 362500.0, 69600.0, 156100.0, 87500.0, 193100.0, 218000.0, 101800.0, 129100.0, 156300.0, 183200.0, 148100.0, 500001.0, 222100.0, 167600.0, 184500.0, 370000.0, 239400.0, 166700.0, 233300.0, 240000.0, 91300.0, 483500.0, 150500.0, 99500.0, 240200.0, 95500.0, 500001.0, 251600.0, 120800.0, 135700.0, 225400.0, 500001.0, 85100.0, 500001.0, 164800.0, 111600.0, 161000.0, 213700.0, 116500.0, 350000.0, 159900.0, 438300.0, 171100.0, 271100.0, 500001.0, 68000.0, 191700.0, 255900.0, 112500.0, 182200.0, 347600.0, 332000.0, 110900.0, 211900.0, 262500.0, 237900.0, 90000.0, 427200.0, 370500.0, 116300.0, 170800.0, 285500.0, 111500.0, 83200.0, 248200.0, 395500.0, 218300.0, 500001.0, 88900.0, 181000.0, 280900.0, 345300.0, 181000.0, 192200.0, 78100.0, 75000.0, 433300.0, 160100.0, 109200.0, 96200.0, 191400.0, 360000.0, 185600.0, 118800.0, 122700.0, 206300.0, 195600.0, 75600.0, 104300.0, 385900.0, 113900.0, 79400.0, 81300.0, 129200.0, 73500.0, 175900.0, 142400.0, 234100.0, 286700.0, 92500.0, 170100.0, 161800.0, 225300.0, 170600.0, 319400.0, 95800.0, 73400.0, 93600.0, 51700.0, 358700.0, 64700.0, 344200.0, 314000.0, 185700.0, 279300.0, 119400.0, 280400.0, 187100.0, 83800.0, 309300.0, 229200.0, 245000.0, 227600.0, 500001.0, 320800.0, 147300.0, 162300.0, 265900.0, 500001.0, 189100.0, 316400.0, 181900.0, 261500.0, 69000.0, 181300.0, 293000.0, 111100.0, 218300.0, 147200.0, 243800.0, 223000.0, 137500.0, 60600.0, 275000.0, 350000.0, 171200.0, 83500.0, 225000.0, 165600.0, 152000.0, 192000.0, 254200.0, 150000.0, 212500.0, 80400.0, 206500.0, 331100.0, 201400.0, 188400.0, 195400.0, 442500.0, 152700.0, 500001.0, 239800.0, 159400.0, 91800.0, 240900.0, 136400.0, 103600.0, 132500.0, 292900.0, 62800.0, 112100.0, 89100.0, 120700.0, 471400.0, 314700.0, 226400.0, 409700.0, 149000.0, 171700.0, 235500.0, 322800.0, 244500.0, 162200.0, 340900.0, 57400.0, 198900.0, 109700.0, 137500.0, 85700.0, 98300.0, 178200.0, 137500.0, 275000.0, 381500.0, 500001.0, 500001.0, 179200.0, 204500.0, 394100.0, 184400.0, 174000.0, 80700.0, 189600.0, 60000.0, 126600.0, 262500.0, 139200.0, 51300.0, 229200.0, 101100.0, 97700.0, 158300.0, 349100.0, 85500.0, 214100.0, 227100.0, 155700.0, 66800.0, 207300.0, 222800.0, 354500.0, 340500.0, 52900.0, 140600.0, 150800.0, 56100.0, 259600.0, 318900.0, 148400.0, 289900.0, 161800.0, 255000.0, 87500.0, 245000.0, 305000.0, 215000.0, 249000.0, 500001.0, 320000.0, 174000.0, 292500.0, 500001.0, 289900.0, 438400.0, 182000.0, 170500.0, 69200.0, 95600.0, 272800.0, 81300.0, 272400.0, 152600.0, 55900.0, 213500.0, 331300.0, 201800.0, 57100.0, 331800.0, 365900.0, 127500.0, 111800.0, 353700.0, 229300.0, 87500.0, 237500.0, 113300.0, 112500.0, 138500.0, 307400.0, 100900.0, 97800.0, 176700.0, 218000.0, 290600.0, 157700.0, 348000.0, 67200.0, 260400.0, 123600.0, 67500.0, 130700.0, 66000.0, 166600.0, 225600.0, 257100.0, 500001.0, 113900.0, 91000.0, 217400.0, 96000.0, 129200.0, 350200.0, 442100.0, 222900.0, 81300.0, 160600.0, 500001.0, 341200.0, 287900.0, 344700.0, 180000.0, 167800.0, 55000.0, 50800.0, 142600.0, 235800.0, 112700.0, 210200.0, 210700.0, 65400.0, 162500.0, 150300.0, 500001.0, 101400.0, 221800.0, 260300.0, 178800.0, 170400.0, 319400.0, 190600.0, 184100.0, 191100.0, 149600.0, 500001.0, 183400.0, 444100.0, 242700.0, 76200.0, 132900.0, 409800.0, 112500.0, 376600.0, 50500.0, 500001.0, 209500.0, 77800.0, 299700.0, 375000.0, 156500.0, 240000.0, 77200.0, 98500.0, 500001.0, 110400.0, 86400.0, 230400.0, 163900.0, 500001.0, 49500.0, 107400.0, 362500.0, 145000.0, 218500.0, 130100.0, 146000.0, 152500.0, 457200.0, 165200.0, 394700.0, 144400.0, 136600.0, 216400.0, 139000.0, 103800.0, 488500.0, 227100.0, 238000.0, 215600.0, 292300.0, 145900.0, 187300.0, 185400.0, 280000.0, 141100.0, 190900.0, 262500.0, 442000.0, 274800.0, 85500.0, 231800.0, 302000.0, 235800.0, 72200.0, 182400.0, 500001.0, 78700.0, 181300.0, 198000.0, 199600.0, 63300.0, 94000.0, 186800.0, 117000.0, 117800.0, 121000.0, 230900.0, 427300.0, 128100.0, 384700.0, 290400.0, 91300.0, 61900.0, 232200.0, 129600.0, 127500.0, 150500.0, 187500.0, 437900.0, 126500.0, 453400.0, 229400.0, 364900.0, 191900.0, 87500.0, 30000.0, 335700.0, 242100.0, 173700.0, 54100.0, 207800.0, 112500.0, 166700.0, 271800.0, 141100.0, 375000.0, 161600.0, 159400.0, 86300.0, 256300.0, 213200.0, 254100.0, 132600.0, 169300.0, 347700.0, 159700.0, 90900.0, 290500.0, 189900.0, 495600.0, 333300.0, 183800.0, 189000.0, 157500.0, 66600.0, 132400.0, 156000.0, 348100.0, 226400.0, 74200.0, 158300.0, 500001.0, 165500.0, 329500.0, 139600.0, 152900.0, 367300.0, 70000.0, 97400.0, 65900.0, 49300.0, 154100.0, 272800.0, 247100.0, 268800.0, 247600.0, 416800.0, 121600.0, 171700.0, 173800.0, 235600.0, 260100.0, 200000.0, 296600.0, 374600.0, 177800.0, 269500.0, 62000.0, 197600.0, 52700.0, 191400.0, 317700.0, 329400.0, 330700.0, 187400.0, 286500.0, 500001.0, 133900.0, 199800.0, 45000.0, 354600.0, 263800.0, 278400.0, 160400.0, 241300.0, 208300.0, 263600.0, 145000.0, 132500.0, 183800.0, 81100.0, 176500.0, 255500.0, 166100.0, 102000.0, 86100.0, 100600.0, 500000.0, 209900.0, 52500.0, 262900.0, 158800.0, 209500.0, 350000.0, 217100.0, 141400.0, 93400.0, 198200.0, 187200.0, 185300.0, 500001.0, 281300.0, 103600.0, 287900.0, 208300.0, 175000.0, 132700.0, 172000.0, 500001.0, 64000.0, 227900.0, 63100.0, 84100.0, 339200.0, 156300.0, 383600.0, 137100.0, 56800.0, 70000.0, 96300.0, 92600.0, 359100.0, 158700.0, 500001.0, 114600.0, 410200.0, 281900.0, 101700.0, 169300.0, 207800.0, 327200.0, 277900.0, 111400.0, 80600.0, 207500.0, 275300.0, 421000.0, 128800.0, 313900.0, 67600.0, 64400.0, 153900.0, 130700.0, 238500.0, 379600.0, 146500.0, 150300.0, 80300.0, 293300.0, 288000.0, 144100.0, 127000.0, 152100.0, 156800.0, 104900.0, 500001.0, 134400.0, 500001.0, 272800.0, 151600.0, 362600.0, 169200.0, 140400.0, 43700.0, 136000.0, 264400.0, 152200.0, 137500.0, 214700.0, 170900.0, 236200.0, 297800.0, 88500.0, 127600.0, 80200.0, 306000.0, 436400.0, 238900.0, 231700.0, 122900.0, 218200.0, 397000.0, 260300.0, 435700.0, 164000.0, 440500.0, 85400.0, 101900.0, 159400.0, 190300.0, 100000.0, 139600.0, 500001.0, 154500.0, 170500.0, 110600.0, 191200.0, 287200.0, 150100.0, 238300.0, 154200.0, 280500.0, 161900.0, 265600.0, 122700.0, 231200.0, 319100.0, 231300.0, 500001.0, 121200.0, 222500.0, 450000.0, 102100.0, 201200.0, 104200.0, 500001.0, 132000.0, 221100.0, 151600.0, 146900.0, 151200.0, 165100.0, 213600.0, 213500.0, 500001.0, 438000.0, 183800.0, 350000.0, 159300.0, 129100.0, 76600.0, 225000.0, 230800.0, 431800.0, 191000.0, 84700.0, 152500.0, 67600.0, 198200.0, 306300.0, 122100.0, 276100.0, 103000.0, 409100.0, 135200.0, 121600.0, 182800.0, 228000.0, 110000.0, 111200.0, 84700.0, 447300.0, 88300.0, 87100.0, 187500.0, 146900.0, 103100.0, 343700.0, 98200.0, 262500.0, 77400.0, 135100.0, 134700.0, 231300.0, 158600.0, 101600.0, 122000.0, 380000.0, 189400.0, 440000.0, 70000.0, 70000.0, 333500.0, 101800.0, 500001.0, 360500.0, 169500.0, 205600.0, 166300.0, 32500.0, 362700.0, 174500.0, 197600.0, 183000.0, 158300.0, 100200.0, 87500.0, 461100.0, 190200.0, 232300.0, 221600.0, 226900.0, 224200.0, 119800.0, 78200.0, 165100.0, 213900.0, 69700.0, 105800.0, 75000.0, 91700.0, 269500.0, 68200.0, 165800.0, 154600.0, 472700.0, 345900.0, 230700.0, 300000.0, 249400.0, 435700.0, 225800.0, 175000.0, 178400.0, 276000.0, 115900.0, 214300.0, 118300.0, 500001.0, 152100.0, 140400.0, 222600.0, 444500.0, 500000.0, 163300.0, 193800.0, 90500.0, 115200.0, 147000.0, 273900.0, 190900.0, 74800.0, 500001.0, 118500.0, 500001.0, 55000.0, 58400.0, 95800.0, 99200.0, 167400.0, 70500.0, 67500.0, 75700.0, 183000.0, 500001.0, 97300.0, 230000.0, 82900.0, 52200.0, 114800.0, 88000.0, 224200.0, 150000.0, 341700.0, 181700.0, 140600.0, 72700.0, 210900.0, 97700.0, 109700.0, 165600.0, 230600.0, 163800.0, 95800.0, 48100.0, 44400.0, 237900.0, 284800.0, 164800.0, 200000.0, 77800.0, 186000.0, 169700.0, 418800.0, 73300.0, 87000.0, 168200.0, 154300.0, 225000.0, 333000.0, 225900.0, 138100.0, 112700.0, 231600.0, 419100.0, 221100.0, 155400.0, 151700.0, 248900.0, 153200.0, 126500.0, 240000.0, 186100.0, 500001.0, 181600.0, 178100.0, 69200.0, 66800.0, 500001.0, 181300.0, 396400.0, 187500.0, 297900.0, 345400.0, 245100.0, 105500.0, 101100.0, 141700.0, 430900.0, 286300.0, 113000.0, 466700.0, 168600.0, 360500.0, 256400.0, 113900.0, 350400.0, 209100.0, 131500.0, 216700.0, 101300.0, 202800.0, 117600.0, 292600.0, 500001.0, 130300.0, 92400.0, 112500.0, 154200.0, 104000.0, 121600.0, 206300.0, 108300.0, 349400.0, 83300.0, 245800.0, 91500.0, 500001.0, 500001.0, 190500.0, 108300.0, 89600.0, 500001.0, 94600.0, 67500.0, 177500.0, 261300.0, 500001.0, 168400.0, 245300.0, 240000.0, 156500.0, 500001.0, 235600.0, 185600.0, 316700.0, 118800.0, 248500.0, 236500.0, 94600.0, 176800.0, 148600.0, 195300.0, 215900.0, 126600.0, 173900.0, 183000.0, 74300.0, 224700.0, 101600.0, 391000.0, 265000.0, 500001.0, 186500.0, 78000.0, 80800.0, 189600.0, 199200.0, 189600.0, 160000.0, 375300.0, 166700.0, 215600.0, 228600.0, 171300.0, 431000.0, 275100.0, 276800.0, 46300.0, 144000.0, 94300.0, 157600.0, 194500.0, 351100.0, 453400.0, 224600.0, 155600.0, 242000.0, 70000.0, 71300.0, 66800.0, 153100.0, 137500.0, 230400.0, 242200.0, 301900.0, 415800.0, 156500.0, 78600.0, 441400.0, 184300.0, 276500.0, 232800.0, 60400.0, 224100.0, 439000.0, 123100.0, 255700.0, 57600.0, 199800.0, 51300.0, 348200.0, 362800.0, 240300.0, 73600.0, 172600.0, 229000.0, 166300.0, 83300.0, 500001.0, 332900.0, 54300.0, 241700.0, 387500.0, 136400.0, 98300.0, 176000.0, 63000.0, 236900.0, 97200.0, 220000.0, 105800.0, 270900.0, 99400.0, 166300.0, 143800.0, 140600.0, 330900.0, 156900.0, 500001.0, 162500.0, 124800.0, 216100.0, 171400.0, 325600.0, 109800.0, 276200.0, 129900.0, 292300.0, 341500.0, 66800.0, 238800.0, 77400.0, 82400.0, 359900.0, 465700.0, 214000.0, 107100.0, 157800.0, 119300.0, 232900.0, 179500.0, 70100.0, 55000.0, 65900.0, 99600.0, 500001.0, 164100.0, 77000.0, 140300.0, 172900.0, 500001.0, 314300.0, 500001.0, 500001.0, 143000.0, 280600.0, 375000.0, 137500.0, 337100.0, 128000.0, 185400.0, 63000.0, 109500.0, 400000.0, 151900.0, 56300.0, 102500.0, 225000.0, 145500.0, 363100.0, 249000.0, 415300.0, 267400.0, 75000.0, 250000.0, 161800.0, 97500.0, 111500.0, 87300.0, 272900.0, 124400.0, 228700.0, 229500.0, 162500.0, 80000.0, 118800.0, 244200.0, 187500.0, 246000.0, 102600.0, 116700.0, 137500.0, 171900.0, 103100.0, 239100.0, 194000.0, 219900.0, 380000.0, 155700.0, 89900.0, 89300.0, 55000.0, 49800.0, 146400.0, 278000.0, 288700.0, 129200.0, 221600.0, 85600.0, 160400.0, 57600.0, 348500.0, 199400.0, 97100.0, 58100.0, 301000.0, 74200.0, 249400.0, 267000.0, 119900.0, 77700.0, 143400.0, 61200.0, 206800.0, 328200.0, 360600.0, 107800.0, 51500.0, 67500.0, 184100.0, 200000.0, 354000.0, 393800.0, 132100.0, 306500.0, 134900.0, 319300.0, 303900.0, 350000.0, 231200.0, 131300.0, 120800.0, 135200.0, 68900.0, 425000.0, 160500.0, 151000.0, 349500.0, 60200.0, 396400.0, 278500.0, 239300.0, 224900.0, 91300.0, 111400.0, 150800.0, 64700.0, 358800.0, 232800.0, 54400.0, 98200.0, 225800.0, 116100.0, 196400.0, 123200.0, 156400.0, 166800.0, 215900.0, 117300.0, 243200.0, 72900.0, 191700.0, 60000.0, 195400.0, 111600.0, 268500.0, 260000.0, 89400.0, 235200.0, 386100.0, 187500.0, 223400.0, 120300.0, 135800.0, 307400.0, 326800.0, 70300.0, 68200.0, 114600.0, 177200.0, 81900.0, 90600.0, 56800.0, 323800.0, 244400.0, 144300.0, 164200.0, 237600.0, 243000.0, 83300.0, 87500.0, 131700.0, 47000.0, 195300.0, 184100.0, 128800.0, 118200.0, 212800.0, 141300.0, 227100.0, 80800.0, 201300.0, 183300.0, 155000.0, 143800.0, 137500.0, 280100.0, 245900.0, 243600.0, 103000.0, 103800.0, 235900.0, 161900.0, 394400.0, 145800.0, 184800.0, 242300.0, 335500.0, 165500.0, 204800.0, 159700.0, 169100.0, 478600.0, 258900.0, 324000.0, 103100.0, 138100.0, 91600.0, 228900.0, 138800.0, 252200.0, 420300.0, 243600.0, 142100.0, 67500.0, 92800.0, 190800.0, 223900.0, 143400.0, 132700.0, 99000.0, 67700.0, 227400.0, 228600.0, 135800.0, 362100.0, 281300.0, 500001.0, 90600.0, 66300.0, 150200.0, 170300.0, 99300.0, 322900.0, 213200.0, 217000.0, 267900.0, 206300.0, 376800.0, 87500.0, 304700.0, 460200.0, 128500.0, 284600.0, 119600.0, 208600.0, 117500.0, 66900.0, 204800.0, 74600.0, 109100.0, 114300.0, 308300.0, 113000.0, 91700.0, 134200.0, 425000.0, 53900.0, 310600.0, 241700.0, 226800.0, 100800.0, 238000.0, 245500.0, 156500.0, 115600.0, 66400.0, 58800.0, 223600.0, 169300.0, 166700.0, 225000.0, 72600.0, 160300.0, 147500.0, 91200.0, 208300.0, 335300.0, 58000.0, 226500.0, 345200.0, 106800.0, 500001.0, 275000.0, 95800.0, 97200.0, 155000.0, 400000.0, 500001.0, 304300.0, 359200.0, 144700.0, 352800.0, 355600.0, 99100.0, 250400.0, 105600.0, 500001.0, 162000.0, 272200.0, 245900.0, 183300.0, 220700.0, 161000.0, 303900.0, 266200.0, 90100.0, 87500.0, 209400.0, 188700.0, 101400.0, 387500.0, 359100.0, 327300.0, 279200.0, 233600.0, 163500.0, 124200.0, 450000.0, 111900.0, 90800.0, 120600.0, 483800.0, 366700.0, 201000.0, 333600.0, 362500.0, 170100.0, 246700.0, 161200.0, 147000.0, 117900.0, 111300.0, 266500.0, 113500.0, 329100.0, 500001.0, 236500.0, 122200.0, 81900.0, 386400.0, 184800.0, 160700.0, 101600.0, 424000.0, 262500.0, 369400.0, 115100.0, 281700.0, 98100.0, 131100.0, 251800.0, 232700.0, 139200.0, 71500.0, 340500.0, 270800.0, 155600.0, 89200.0, 167000.0, 103100.0, 180500.0, 51200.0, 204600.0, 387200.0, 162500.0, 120400.0, 139700.0, 98200.0, 269400.0, 269100.0, 500001.0, 49600.0, 58000.0, 65900.0, 175400.0, 391800.0, 280800.0, 90700.0, 500001.0, 92300.0, 227100.0, 162500.0, 290900.0, 183100.0, 283200.0, 177400.0, 238700.0, 321300.0, 261500.0, 99300.0, 226100.0, 51700.0, 156900.0, 160900.0, 222400.0, 305200.0, 138800.0, 230700.0, 94300.0, 97200.0, 382100.0, 193200.0, 209500.0, 231400.0, 89300.0, 196100.0, 113500.0, 178400.0, 406500.0, 228200.0, 234800.0, 231300.0, 500001.0, 184100.0, 213700.0, 500001.0, 169200.0, 232400.0, 351700.0, 234600.0, 112500.0, 145200.0, 87200.0, 53500.0, 43800.0, 94200.0, 218800.0, 191900.0, 132200.0, 46800.0, 149700.0, 126300.0, 255900.0, 94500.0, 237100.0, 500001.0, 87500.0, 126600.0, 245100.0, 157400.0, 78400.0, 218100.0, 350000.0, 198400.0, 143900.0, 337900.0, 76300.0, 160100.0, 130600.0, 112500.0, 329200.0, 233300.0, 99200.0, 197900.0, 204100.0, 350000.0, 62100.0, 140400.0, 152100.0, 130500.0, 195100.0, 199500.0, 137500.0, 275000.0, 122900.0, 109000.0, 121700.0, 302000.0, 241700.0, 153200.0, 169300.0, 358500.0, 175000.0, 112500.0, 376000.0, 118800.0, 401000.0, 107900.0, 339700.0, 158000.0, 468800.0, 63100.0, 184600.0, 189700.0, 190900.0, 67500.0, 85300.0, 173600.0, 129700.0, 181000.0, 500001.0, 376200.0, 243000.0, 148200.0, 238100.0, 450000.0, 240000.0, 500001.0, 274100.0, 190100.0, 268400.0, 349300.0, 275700.0, 182800.0, 500001.0, 213200.0, 179500.0, 138500.0, 181300.0, 340500.0, 225000.0, 68300.0, 237900.0, 149700.0, 125800.0, 87600.0, 125000.0, 168800.0, 135000.0, 86300.0, 64900.0, 106300.0, 285700.0, 272400.0, 217700.0, 91800.0, 163000.0, 195100.0, 32500.0, 275300.0, 136900.0, 194100.0, 230200.0, 143600.0, 39600.0, 59800.0, 210700.0, 156300.0, 215600.0, 177500.0, 218900.0, 128400.0, 190600.0, 398300.0, 367100.0, 122500.0, 376100.0, 157600.0, 178100.0, 72400.0, 287600.0, 175000.0, 280800.0, 160500.0, 158600.0, 144300.0, 136300.0, 218200.0, 466400.0, 386100.0, 251200.0, 190400.0, 223100.0, 361000.0, 275000.0, 70800.0, 460000.0, 67500.0, 225000.0, 176100.0, 52400.0, 167600.0, 99700.0, 88900.0, 223700.0, 180500.0, 93200.0, 173800.0, 490800.0, 104200.0, 276100.0, 254700.0, 212300.0, 87500.0, 94200.0, 163500.0, 500001.0, 125000.0, 182300.0, 111700.0, 146000.0, 500001.0, 320500.0, 48000.0, 168800.0, 67500.0, 173100.0, 150000.0, 329200.0, 141000.0, 378000.0, 80200.0, 203300.0, 394900.0, 84500.0, 327300.0, 201200.0, 162500.0, 266000.0, 221200.0, 176500.0, 206300.0, 500001.0, 186700.0, 112500.0, 90500.0, 190800.0, 198800.0, 165600.0, 500001.0, 145700.0, 91300.0, 140400.0, 191700.0, 61100.0, 153000.0, 85500.0, 164500.0, 386200.0, 341300.0, 246400.0, 121800.0, 132500.0, 98000.0, 241400.0, 171300.0, 120100.0, 500001.0, 192700.0, 232800.0, 191800.0, 196300.0, 293900.0, 84600.0, 500001.0, 500001.0, 107300.0, 150000.0, 204200.0, 268300.0, 103500.0, 161500.0, 222400.0, 166900.0, 229200.0, 205900.0, 95500.0, 162500.0, 240700.0, 82800.0, 230200.0, 185900.0, 105800.0, 118800.0, 194400.0, 183300.0, 292500.0, 144200.0, 500001.0, 134200.0, 52800.0, 188700.0, 204000.0, 179500.0, 98900.0, 279900.0, 327700.0, 208000.0, 208300.0, 112500.0, 234700.0, 214500.0, 338500.0, 500001.0, 284100.0, 500001.0, 181300.0, 125000.0, 412500.0, 112500.0, 90300.0, 96000.0, 142500.0, 266300.0, 165000.0, 118000.0, 156400.0, 426800.0, 308600.0, 239200.0, 109400.0, 66600.0, 368500.0, 330500.0, 273600.0, 500001.0, 321100.0, 242600.0, 231900.0, 151400.0, 227800.0, 380000.0, 95200.0, 193900.0, 260700.0, 191000.0, 64900.0, 128300.0, 189800.0, 183300.0, 151800.0, 257300.0, 137500.0, 125000.0, 218100.0, 168100.0, 231800.0, 149000.0, 170300.0, 391300.0, 282300.0, 500001.0, 135400.0, 328400.0, 350000.0, 182300.0, 500001.0, 192000.0, 240800.0, 175000.0, 126400.0, 125900.0, 194700.0, 341800.0, 211900.0, 137500.0, 270600.0, 172300.0, 262100.0, 149100.0, 339100.0, 248600.0, 128700.0, 343900.0, 175000.0, 287500.0, 143600.0, 346200.0, 232200.0, 200000.0, 241500.0, 67500.0, 191700.0, 178300.0, 178200.0, 133200.0, 273800.0, 152200.0, 187100.0, 137500.0, 110400.0, 240600.0, 162500.0, 83800.0, 265600.0, 211500.0, 173400.0, 310000.0, 99500.0, 191400.0, 220100.0, 167300.0, 65000.0, 141800.0, 290600.0, 319200.0, 118800.0, 200000.0, 219500.0, 289400.0, 116400.0, 162300.0, 114100.0, 71300.0, 190500.0, 197300.0, 72200.0, 103300.0, 143000.0, 244900.0, 500001.0, 183300.0, 86100.0, 218400.0, 110800.0, 211300.0, 338800.0, 123100.0, 269500.0, 321400.0, 81900.0, 500001.0, 304600.0, 72900.0, 158000.0, 62200.0, 116300.0, 314100.0, 362500.0, 500001.0, 74100.0, 150000.0, 270000.0, 120800.0, 250000.0, 72200.0, 375000.0, 239600.0, 183300.0, 161200.0, 251000.0, 45500.0, 178100.0, 258900.0, 145800.0, 84700.0, 216700.0, 130400.0, 158500.0, 117800.0, 215000.0, 268600.0, 100000.0, 332700.0, 186700.0, 53000.0, 149700.0, 345800.0, 124500.0, 475800.0, 500001.0, 500001.0, 175900.0, 183300.0, 253100.0, 117800.0, 143500.0, 500001.0, 142300.0, 121000.0, 268800.0, 330200.0, 121800.0, 416900.0, 266700.0, 189400.0, 443600.0, 163000.0, 382500.0, 106300.0, 57800.0, 57500.0, 238000.0, 218900.0, 118600.0, 309100.0, 213200.0, 180200.0, 470800.0, 337200.0, 95300.0, 103900.0, 500001.0, 215000.0, 189400.0, 171400.0, 357000.0, 196200.0, 98500.0, 178800.0, 226600.0, 171400.0, 271400.0, 216800.0, 67900.0, 171300.0, 110900.0, 332500.0, 150000.0, 173400.0, 237500.0, 65800.0, 173100.0, 321200.0, 265000.0, 87500.0, 210300.0, 247800.0, 375700.0, 113700.0, 500001.0, 45600.0, 130600.0, 198600.0, 436700.0, 92600.0, 150000.0, 359900.0, 500001.0, 93800.0, 383300.0, 191700.0, 267200.0, 280200.0, 52100.0, 110200.0, 164600.0, 324800.0, 122700.0, 216700.0, 73600.0, 254100.0, 187500.0, 166000.0, 157900.0, 193800.0, 140800.0, 95300.0, 227000.0, 265600.0, 90200.0, 183200.0, 184600.0, 162500.0, 125000.0, 97200.0, 355300.0, 136200.0, 125000.0, 305600.0, 176600.0, 348600.0, 299200.0, 72100.0, 109500.0, 281100.0, 156300.0, 234200.0, 59700.0, 250000.0, 203300.0, 173100.0, 300300.0, 238000.0, 179000.0, 166000.0, 160700.0, 147500.0, 192100.0, 56400.0, 304800.0, 439800.0, 137500.0, 137500.0, 134600.0, 262500.0, 83400.0, 113500.0, 71400.0, 204500.0, 282400.0, 145700.0, 264700.0, 275000.0, 171600.0, 216700.0, 180700.0, 212500.0, 167700.0, 42500.0, 238400.0, 144000.0, 43600.0, 363500.0, 186200.0, 67500.0, 159600.0, 195600.0, 154800.0, 450700.0, 69900.0, 132200.0, 328000.0, 272800.0, 66300.0, 129300.0, 77100.0, 155500.0, 126000.0, 240300.0, 133000.0, 94900.0, 203900.0, 61000.0, 139200.0, 229200.0, 260600.0, 251100.0, 327600.0, 167900.0, 212000.0, 233300.0, 255400.0, 67500.0, 162000.0, 117200.0, 109700.0, 275000.0, 111800.0, 166000.0, 92700.0, 186000.0, 97300.0, 241300.0, 258500.0, 138200.0, 196100.0, 419200.0, 138800.0, 376600.0, 165100.0, 181800.0, 211800.0, 112500.0, 144300.0, 222000.0, 53600.0, 130800.0, 227600.0, 275000.0, 191900.0, 64100.0, 68100.0, 255200.0, 244100.0, 337000.0, 208300.0, 500001.0, 172100.0, 128900.0, 144900.0, 72000.0, 142900.0, 436100.0, 204200.0, 195700.0, 90500.0, 236100.0, 186900.0, 162500.0, 112500.0, 58000.0, 307400.0, 353800.0, 290900.0, 358600.0, 246200.0, 72100.0, 107500.0, 78600.0, 187600.0, 97900.0, 186600.0, 196900.0, 111500.0, 156300.0, 218200.0, 293500.0, 59000.0, 162800.0, 102900.0, 54300.0, 166300.0, 152500.0, 142600.0, 150000.0, 84400.0, 210000.0, 137500.0, 350000.0, 171900.0, 143100.0, 452300.0, 176000.0, 112700.0, 68400.0, 190700.0, 331800.0, 184000.0, 162500.0, 129400.0, 172800.0, 191100.0, 294900.0, 188600.0, 63800.0, 466100.0, 186800.0, 139300.0, 330300.0, 284800.0, 198800.0, 69300.0, 145500.0, 166200.0, 273800.0, 149000.0, 215400.0, 287800.0, 406300.0, 160300.0, 240000.0, 60900.0, 142300.0, 84800.0, 205400.0, 396800.0, 135400.0, 115400.0, 162500.0, 425000.0, 114300.0, 500001.0, 500001.0, 48700.0, 294700.0, 300500.0, 343200.0, 92000.0, 278100.0, 380900.0, 339800.0, 96800.0, 270000.0, 190000.0, 181300.0, 100600.0, 170800.0, 152700.0, 353600.0, 200000.0, 213400.0, 153100.0, 379700.0, 275000.0, 78600.0, 188300.0, 138000.0, 500001.0, 197400.0, 244600.0, 165300.0, 300400.0, 88200.0, 500001.0, 163100.0, 191900.0, 355300.0, 430300.0, 42700.0, 378100.0, 264000.0, 111900.0, 224500.0, 125000.0, 64100.0, 88400.0, 389200.0, 193800.0, 500001.0, 187500.0, 210300.0, 212800.0, 177500.0, 181300.0, 159500.0, 177500.0, 116100.0, 500001.0, 162500.0, 135500.0, 99600.0, 118500.0, 156900.0, 147200.0, 85800.0, 500001.0, 170900.0, 257900.0, 164300.0, 438900.0, 98000.0, 288700.0, 203200.0, 283600.0, 162500.0, 95300.0, 161700.0, 187500.0, 158000.0, 456100.0, 102900.0, 165400.0, 54400.0, 147200.0, 95000.0, 143000.0, 97200.0, 112900.0, 173300.0, 393100.0, 63000.0, 297300.0, 242100.0, 293900.0, 113100.0, 137200.0, 297100.0, 243500.0, 98800.0, 244800.0, 327800.0, 437500.0, 163500.0, 102400.0, 112200.0, 165900.0, 250000.0, 158100.0, 87500.0, 135000.0, 79500.0, 162100.0, 228400.0, 140600.0, 71300.0, 266300.0, 81300.0, 185000.0, 329300.0, 168800.0, 110400.0, 500001.0, 85700.0, 63300.0, 500001.0, 183800.0, 150700.0, 242900.0, 326700.0, 220400.0, 240700.0, 500001.0, 98400.0, 166900.0, 205400.0, 90100.0, 189800.0, 162500.0, 333700.0, 85100.0, 134400.0, 144600.0, 215000.0, 97500.0, 210000.0, 312000.0, 300000.0, 202400.0, 254100.0, 116000.0, 167000.0, 396900.0, 227000.0, 500001.0, 500001.0, 199000.0, 369100.0, 22500.0, 95700.0, 365900.0, 215800.0, 205500.0, 500001.0, 250800.0, 363600.0, 294200.0, 171400.0, 261300.0, 114900.0, 258400.0, 106300.0, 98900.0, 242000.0, 146100.0, 154600.0, 197500.0, 289600.0, 325700.0, 53300.0, 87800.0, 178300.0, 197100.0, 123400.0, 292900.0, 109800.0, 124200.0, 57300.0, 404700.0, 187500.0, 63700.0, 101200.0, 500000.0, 45500.0, 463500.0, 181300.0, 307400.0, 371800.0, 56000.0, 289300.0, 128200.0, 271400.0, 182100.0, 219400.0, 78400.0, 96100.0, 394700.0, 222500.0, 87500.0, 137500.0, 246100.0, 175700.0, 164100.0, 132800.0, 129200.0, 224100.0, 103900.0, 112800.0, 243800.0, 88600.0, 186100.0, 186100.0, 160900.0, 149200.0, 76400.0, 500001.0, 95600.0, 237500.0, 418300.0, 197500.0, 66400.0, 269000.0, 219000.0, 156900.0, 134200.0, 204200.0, 218800.0, 181800.0, 168500.0, 299200.0, 166000.0, 193500.0, 212500.0, 386200.0, 268400.0, 128100.0, 271200.0, 88400.0, 101500.0, 495500.0, 167300.0, 141300.0, 500001.0, 321300.0, 82100.0, 92900.0, 168000.0, 135000.0, 243100.0, 157100.0, 97900.0, 177700.0, 131800.0, 268800.0, 314300.0, 183600.0, 100000.0, 232200.0, 138100.0, 162500.0, 457300.0, 139200.0, 244500.0, 61600.0, 237000.0, 112500.0, 122300.0, 500001.0, 110100.0, 300900.0, 167500.0, 246400.0, 279300.0, 414000.0, 58700.0, 294900.0, 365200.0, 368300.0, 239200.0, 121400.0, 215000.0, 113900.0, 236400.0, 171700.0, 248500.0, 58200.0, 67800.0, 75700.0, 178000.0, 60400.0, 226100.0, 179500.0, 158200.0, 278600.0, 480800.0, 192300.0, 141700.0, 330800.0, 100000.0, 103200.0, 53500.0, 185700.0, 192900.0, 256000.0, 138500.0, 69600.0, 246800.0, 265900.0, 162500.0, 322700.0, 148900.0, 429000.0, 500001.0, 254100.0, 328100.0, 169100.0, 255400.0, 76400.0, 151400.0, 311100.0, 187500.0, 213200.0, 208300.0, 202800.0, 90100.0, 92400.0, 136500.0, 92200.0, 79400.0, 95500.0, 249200.0, 111700.0, 190600.0, 191800.0, 500001.0, 50800.0, 163500.0, 368900.0, 57000.0, 75000.0, 229000.0, 340900.0, 276600.0, 188400.0, 73900.0, 150000.0, 147100.0, 186300.0, 234900.0, 122500.0, 398900.0, 250000.0, 113600.0, 244800.0, 225000.0, 186900.0, 309700.0, 130600.0, 342300.0, 65000.0, 278900.0, 168800.0, 418400.0, 109000.0, 160100.0, 345000.0, 418800.0, 209100.0, 97500.0, 500001.0, 108600.0, 133300.0, 50900.0, 311600.0, 365500.0, 175000.0, 170300.0, 279500.0, 125900.0, 155700.0, 83300.0, 156300.0, 214800.0, 110300.0, 165000.0, 349500.0, 500001.0, 125700.0, 193100.0, 500001.0, 199600.0, 500001.0, 163400.0, 137500.0, 121500.0, 381200.0, 111900.0, 58000.0, 63800.0, 363200.0, 206400.0, 370800.0, 81800.0, 271500.0, 197000.0, 73400.0, 301700.0, 119600.0, 258100.0, 17500.0, 145700.0, 102000.0, 400000.0, 99200.0, 485400.0, 477100.0, 66900.0, 375400.0, 169600.0, 247600.0, 164700.0, 309400.0, 185300.0, 230200.0, 156100.0, 302500.0, 97800.0, 251300.0, 281300.0, 153100.0, 355600.0, 101300.0, 266000.0, 160700.0, 305800.0, 147500.0, 186300.0, 162600.0, 484700.0, 175000.0, 127200.0, 365100.0, 236500.0, 214000.0, 225800.0, 128900.0, 73500.0, 114700.0, 175000.0, 318100.0, 331200.0, 192500.0, 159500.0, 162700.0, 67300.0, 212900.0, 140600.0, 186500.0, 393200.0, 55300.0, 409800.0, 191800.0, 99500.0, 175000.0, 158000.0, 106900.0, 277200.0, 326700.0, 96000.0, 431800.0, 172200.0, 112500.0, 225000.0, 259500.0, 291500.0, 50400.0, 150000.0, 224600.0, 130600.0, 69700.0, 353000.0, 231200.0, 205100.0, 398100.0, 141300.0, 173300.0, 127900.0, 289500.0, 95900.0, 133400.0, 146800.0, 181300.0, 54600.0, 55500.0, 150000.0, 102800.0, 93300.0, 123100.0, 231800.0, 159500.0, 108300.0, 43100.0, 105600.0, 168300.0, 28300.0, 282900.0, 234300.0, 212500.0, 205600.0, 150000.0, 193000.0, 14999.0, 170000.0, 168300.0, 93500.0, 191800.0, 181500.0, 195400.0, 121900.0, 142600.0, 158300.0, 165300.0, 155000.0, 92100.0, 68100.0, 276300.0, 335200.0, 121100.0, 177100.0, 187500.0, 192000.0, 301200.0, 159100.0, 500001.0, 273700.0, 233900.0, 500001.0, 222800.0, 140200.0, 159800.0, 118800.0, 500001.0, 105500.0, 217800.0, 187500.0, 287300.0, 131000.0, 55800.0, 161900.0, 253600.0, 155000.0, 311500.0, 87800.0, 105800.0, 137000.0, 156300.0, 154700.0, 167400.0, 457800.0, 500001.0, 188300.0, 442900.0, 500001.0, 500001.0, 187500.0, 57400.0, 387500.0, 272000.0, 167600.0, 403700.0, 191700.0, 500001.0, 187100.0, 96400.0, 92400.0, 213900.0, 155000.0, 133000.0, 275000.0, 238500.0, 158300.0, 70500.0, 222300.0, 411900.0, 185100.0, 500001.0, 139800.0, 178100.0, 159300.0, 125000.0, 197100.0, 64000.0, 194600.0, 162500.0, 84400.0, 61300.0, 368200.0, 122100.0, 86100.0, 209900.0, 170800.0, 175000.0, 126600.0, 282200.0, 207700.0, 104200.0, 214300.0, 80300.0, 273100.0, 237500.0, 73800.0, 184400.0, 342000.0, 129700.0, 224000.0, 156900.0, 394900.0, 157700.0, 119900.0, 316900.0, 212500.0, 68300.0, 165100.0, 93600.0, 88800.0, 184700.0, 327100.0, 134300.0, 500001.0, 162100.0, 500001.0, 229200.0, 112500.0, 354200.0, 362100.0, 162500.0, 100500.0, 67700.0, 57100.0, 164800.0, 204200.0, 342400.0, 181500.0, 304500.0, 235300.0, 105300.0, 291400.0, 159600.0, 111800.0, 119600.0, 329700.0, 136700.0, 101400.0, 118600.0, 133300.0, 52500.0, 234600.0, 75000.0, 176300.0, 346800.0, 251800.0, 54200.0, 67500.0, 142500.0, 101600.0, 227300.0, 337200.0, 118800.0, 67500.0, 202000.0, 94200.0, 96200.0, 225000.0, 258700.0, 103100.0, 117200.0, 164800.0, 144000.0, 500001.0, 155400.0, 114700.0, 123100.0, 226800.0, 180400.0, 310900.0, 148800.0, 84700.0, 63700.0, 262000.0, 438100.0, 226500.0, 87600.0, 345500.0, 140100.0, 366700.0, 270800.0, 168800.0, 293800.0, 251800.0, 85100.0, 267500.0, 140900.0, 285500.0, 151300.0, 225000.0, 44600.0, 450000.0, 229300.0, 225000.0, 138000.0, 96900.0, 161200.0, 144300.0, 450000.0, 122500.0, 248700.0, 134200.0, 348100.0, 78300.0, 107800.0, 146900.0, 188300.0, 162500.0, 58600.0, 183700.0, 180400.0, 175000.0, 137200.0, 110000.0, 233400.0, 128300.0, 350000.0, 155200.0, 256700.0, 85900.0, 73200.0, 258300.0, 62800.0, 485000.0, 124000.0, 158500.0, 97300.0, 186700.0, 344100.0, 166700.0, 108900.0, 482900.0, 204400.0, 230700.0, 53000.0, 178500.0, 500001.0, 500001.0, 84900.0, 500001.0, 246800.0, 156300.0, 234600.0, 48800.0, 145800.0, 271500.0, 500001.0, 87500.0, 69100.0, 139300.0, 273400.0, 229700.0, 68200.0, 114300.0, 159900.0, 116600.0, 209900.0, 68900.0, 101400.0, 214000.0, 355300.0, 90300.0, 159300.0, 63900.0, 218200.0, 253600.0, 81300.0, 188600.0, 165400.0, 106300.0, 210100.0, 147600.0, 112500.0, 175000.0, 156600.0, 117300.0, 229200.0, 350000.0, 171900.0, 199300.0, 251600.0, 300000.0, 158900.0, 216800.0, 198000.0, 356100.0, 192300.0, 314500.0, 50000.0, 162500.0, 167100.0, 138800.0, 147600.0, 238500.0, 110700.0, 333800.0, 192100.0, 294000.0, 154500.0, 151900.0, 500001.0, 322900.0, 165600.0, 221200.0, 170400.0, 198700.0, 162500.0, 411200.0, 335500.0, 149100.0, 381500.0, 183900.0, 91200.0, 411500.0, 220300.0, 158100.0, 69600.0, 270500.0, 261600.0, 389500.0, 75000.0, 177600.0, 170400.0, 154200.0, 131900.0, 44400.0, 145000.0, 224100.0, 187500.0, 192900.0, 88600.0, 183900.0, 225000.0, 182800.0, 137600.0, 265300.0, 36600.0, 125500.0, 138600.0, 487100.0, 178600.0, 134500.0, 306700.0, 115800.0, 91400.0, 210900.0, 259200.0, 347300.0, 168400.0, 150900.0, 113500.0, 302600.0, 423300.0, 492200.0, 190600.0, 245000.0, 55700.0, 84000.0, 275000.0, 189600.0, 275900.0, 319800.0, 291700.0, 67900.0, 189000.0, 90000.0, 335000.0, 176700.0, 98500.0, 200600.0, 60200.0, 191900.0, 191100.0, 337300.0, 225000.0, 290600.0, 121500.0, 293200.0, 107000.0, 266400.0, 76900.0, 220300.0, 101100.0, 474600.0, 65300.0, 113700.0, 214200.0, 216700.0, 198400.0, 212200.0, 222700.0, 265900.0, 37500.0, 265000.0, 108700.0, 46700.0, 187500.0, 61600.0, 343000.0, 166000.0, 500001.0, 137500.0, 90600.0, 77000.0, 148100.0, 91600.0, 150900.0, 155100.0, 89200.0, 215400.0, 55100.0, 197400.0, 154400.0, 141700.0, 98400.0, 152600.0, 109600.0, 171300.0, 104100.0, 153900.0, 270000.0, 286500.0, 335000.0, 137700.0, 232000.0, 393800.0, 70300.0, 141700.0, 156300.0, 450000.0, 199800.0, 95300.0, 86900.0, 187500.0, 221800.0, 58800.0, 134400.0, 238600.0, 160900.0, 136400.0, 144000.0, 159300.0, 155300.0, 142600.0, 120700.0, 126200.0, 213400.0, 116900.0, 185800.0, 356000.0, 150000.0, 88900.0, 259100.0, 500001.0, 127600.0, 69900.0, 137000.0, 273700.0, 92000.0, 118300.0, 410800.0, 100500.0, 492900.0, 118500.0, 113500.0, 89900.0, 500001.0, 500001.0, 146300.0, 113500.0, 275000.0, 102500.0, 147100.0, 225000.0, 139400.0, 175800.0, 57000.0, 269600.0, 272900.0, 76200.0, 484100.0, 180600.0, 238000.0, 137500.0, 186300.0, 192900.0, 84500.0, 107600.0, 55500.0, 265300.0, 388300.0, 482700.0, 198100.0, 92700.0, 346200.0, 38800.0, 56700.0, 123700.0, 93800.0, 93200.0, 44000.0, 69200.0, 301800.0, 254200.0, 209800.0, 184500.0, 73400.0, 339000.0, 93100.0, 202300.0, 133300.0, 270700.0, 240200.0, 139300.0, 57000.0, 170700.0, 119200.0, 177300.0, 289600.0, 297600.0, 109900.0, 147500.0, 78700.0, 160300.0, 77700.0, 473500.0, 500001.0, 133100.0, 93500.0, 280100.0, 256700.0, 288000.0, 161100.0, 137000.0, 62000.0, 443800.0, 68300.0, 262100.0, 109400.0, 409300.0, 175200.0, 147700.0, 287500.0, 93200.0, 93800.0, 172400.0, 318600.0, 185200.0, 65200.0, 179700.0, 159200.0, 151900.0, 71700.0, 245200.0, 228300.0, 196400.0, 192400.0, 65900.0, 282300.0, 185300.0, 88600.0, 67500.0, 143400.0, 119400.0, 215800.0, 257400.0, 373400.0, 152300.0, 245700.0, 80000.0, 137200.0, 266900.0, 395300.0, 222100.0, 500001.0, 500001.0, 232900.0, 259700.0, 215700.0, 243200.0, 221400.0, 112500.0, 388500.0, 410000.0, 163000.0, 500000.0, 231300.0, 76100.0, 458600.0, 366300.0, 296800.0, 58600.0, 84800.0, 117300.0, 126600.0, 170800.0, 149300.0, 119000.0, 375000.0, 284900.0, 170100.0, 500001.0, 98700.0, 60800.0, 142800.0, 223900.0, 137500.0, 297800.0, 112700.0, 113300.0, 121400.0, 248400.0, 407800.0, 356600.0, 106300.0, 121400.0, 240900.0, 247100.0, 137900.0, 86300.0, 500001.0, 216300.0, 305600.0, 158300.0, 452100.0, 95000.0, 105700.0, 84600.0, 240100.0, 162500.0, 96600.0, 92200.0, 228200.0, 113700.0, 69000.0, 500001.0, 225000.0, 174000.0, 500001.0, 253000.0, 277600.0, 285200.0, 90300.0, 189900.0, 316600.0, 301900.0, 93100.0, 94200.0, 213800.0, 187500.0, 500001.0, 325700.0, 300000.0, 143900.0, 500001.0, 264100.0, 62300.0, 138800.0, 105400.0, 63500.0, 500001.0, 97800.0, 127400.0, 135300.0, 156100.0, 446800.0, 65000.0, 151800.0, 192200.0, 153100.0, 165800.0, 254200.0, 234200.0, 112500.0, 118700.0, 240900.0, 283300.0, 450000.0, 52100.0, 55900.0, 88100.0, 248900.0, 68600.0, 156300.0, 272700.0, 340400.0, 218800.0, 70100.0, 500001.0, 162500.0, 111800.0, 110200.0, 74200.0, 103200.0, 172100.0, 132000.0, 166300.0, 107300.0, 107900.0, 94600.0, 66100.0, 158200.0, 95800.0, 117000.0, 170900.0, 92900.0, 162500.0, 193800.0, 134600.0, 123100.0, 115700.0, 83500.0, 62200.0, 74400.0, 180100.0, 195800.0, 500001.0, 144300.0, 125400.0, 80800.0, 65900.0, 157900.0, 500001.0, 180800.0, 236200.0, 103000.0, 216900.0, 383300.0, 500001.0, 83500.0, 214400.0, 100000.0, 78800.0, 97600.0, 178400.0, 287100.0, 270100.0, 185500.0, 90600.0, 213600.0, 124300.0, 205000.0, 256700.0, 392700.0, 133300.0, 187100.0, 255400.0, 347400.0, 171700.0, 112500.0, 82600.0, 48600.0, 134100.0, 225800.0, 500001.0, 470000.0, 225800.0, 158000.0, 117100.0, 416300.0, 120800.0, 226300.0, 122200.0, 100000.0, 229500.0, 195800.0, 85000.0, 264700.0, 455500.0, 176000.0, 81100.0, 166400.0, 82600.0, 272200.0, 271100.0, 239400.0, 171800.0, 121800.0, 173600.0, 239300.0, 58800.0, 287500.0, 70700.0, 181700.0, 113700.0, 224100.0, 351300.0, 301300.0, 80700.0, 152600.0, 237400.0, 179400.0, 500001.0, 170200.0, 165300.0, 225900.0, 159700.0, 363500.0, 132100.0, 376800.0, 96900.0, 316200.0, 323800.0, 387500.0, 149100.0, 500001.0, 225000.0, 178800.0, 87500.0, 130100.0, 500001.0, 349000.0, 73000.0, 244700.0, 275400.0, 246200.0, 236200.0, 232200.0, 53300.0, 163100.0, 72400.0, 234500.0, 150000.0, 116100.0, 181300.0, 121000.0, 88700.0, 182500.0, 197400.0, 128100.0, 76500.0, 300000.0, 500001.0, 160300.0, 335600.0, 157600.0, 190600.0, 180800.0, 104200.0, 111800.0, 194100.0, 253800.0, 129500.0, 117600.0, 339800.0, 342900.0, 195500.0, 83800.0, 94200.0, 140600.0, 160900.0, 169300.0, 275900.0, 146200.0, 202300.0, 154000.0, 135500.0, 235900.0, 128800.0, 249600.0, 300000.0, 134100.0, 308600.0, 350000.0, 110800.0, 190800.0, 108800.0, 144400.0, 162900.0, 163900.0, 98000.0, 132700.0, 283100.0, 407200.0, 248200.0, 64500.0, 500001.0, 194400.0, 137500.0, 127300.0, 85300.0, 194900.0, 221100.0, 192200.0, 404500.0, 73500.0, 233700.0, 118800.0, 70000.0, 182800.0, 500001.0, 157700.0, 247900.0, 500001.0, 357900.0, 56900.0, 302400.0, 125400.0, 386400.0, 175600.0, 110500.0, 386700.0, 137500.0, 228700.0, 149400.0, 73700.0, 500001.0, 132100.0, 86500.0, 417900.0, 172600.0, 99700.0, 72500.0, 180800.0, 308400.0, 288300.0, 302200.0, 288800.0, 100000.0, 233000.0, 136900.0, 209400.0, 246600.0, 65200.0, 491200.0, 356700.0, 164300.0, 88200.0, 155900.0, 191700.0, 84400.0, 190100.0, 112500.0, 115200.0, 174600.0, 113500.0, 152400.0, 250300.0, 183700.0, 500001.0, 310900.0, 230600.0, 68500.0, 267400.0, 145300.0, 282000.0, 282100.0, 189800.0, 254400.0, 161700.0, 188800.0, 500001.0, 94400.0, 342800.0, 191500.0, 209600.0, 235000.0, 231400.0, 130200.0, 208200.0, 500001.0, 168600.0, 228100.0, 126900.0, 135500.0, 156700.0, 208600.0, 436700.0, 71000.0, 88800.0, 341600.0, 120200.0, 148200.0, 500001.0, 375000.0, 137500.0, 64800.0, 231800.0, 160700.0, 251000.0, 142500.0, 176500.0, 177100.0, 311800.0, 84600.0, 122600.0, 198200.0, 500000.0, 279800.0, 195000.0, 202800.0, 354100.0, 259500.0, 500001.0, 272400.0, 183900.0, 285800.0, 225000.0, 292600.0, 55200.0, 262000.0, 158900.0, 172100.0, 191700.0, 225000.0, 108300.0, 113600.0, 100000.0, 191700.0, 117200.0, 110600.0, 80200.0, 98100.0, 253800.0, 48100.0, 192800.0, 132800.0, 196300.0, 320800.0, 319400.0, 203700.0, 207100.0, 79900.0, 500001.0, 330000.0, 139000.0, 187500.0, 448300.0, 176300.0, 175900.0, 104200.0, 162200.0, 166800.0, 161200.0, 153100.0, 156900.0, 158100.0, 76900.0, 165400.0, 73500.0, 118400.0, 142400.0, 280300.0, 107200.0, 183300.0, 98800.0, 234500.0, 143500.0, 108000.0, 97800.0, 70500.0, 225900.0, 239800.0, 136400.0, 180600.0, 239600.0, 265700.0, 204200.0, 122500.0, 204000.0, 195300.0, 215800.0, 500001.0, 75800.0, 265400.0, 273700.0, 116400.0, 59400.0, 137000.0, 119200.0, 244200.0, 170000.0, 280300.0, 285000.0, 102600.0, 120500.0, 361600.0, 455300.0, 213400.0, 158000.0, 217000.0, 63700.0, 244300.0, 151100.0, 110800.0, 433800.0, 72900.0, 108500.0, 452600.0, 467600.0, 263300.0, 266800.0, 500001.0, 72300.0, 151500.0]\n",
      "\n",
      "predicho: \n",
      "   [94200.0, 81100.0, 500001.0, 124100.0, 47600.0, 126500.0, 137500.0, 51000.0, 204400.0, 60700.0, 500001.0, 83400.0, 100500.0, 134500.0, 145300.0, 54600.0, 60000.0, 500001.0, 43300.0, 137500.0, 134700.0, 92400.0, 221200.0, 185100.0, 72500.0, 111400.0, 67500.0, 500001.0, 98800.0, 88700.0, 137500.0, 112500.0, 52500.0, 40000.0, 55100.0, 161400.0, 60000.0, 61700.0, 42500.0, 96400.0, 181300.0, 76400.0, 60000.0, 80400.0, 88800.0, 143400.0, 113600.0, 178600.0, 206300.0, 139900.0, 96700.0, 70700.0, 76400.0, 90300.0, 58600.0, 126700.0, 70400.0, 126500.0, 94600.0, 181000.0, 85800.0, 93800.0, 113700.0, 137500.0, 154400.0, 182700.0, 43000.0, 126500.0, 135200.0, 60000.0, 271300.0, 95300.0, 47500.0, 146400.0, 47500.0, 60700.0, 267700.0, 105900.0, 179200.0, 500001.0, 137500.0, 162500.0, 153400.0, 105100.0, 96700.0, 45500.0, 69100.0, 87500.0, 162500.0, 98800.0, 75800.0, 90400.0, 14999.0, 112500.0, 98700.0, 44600.0, 76800.0, 95800.0, 74800.0, 50800.0, 160200.0, 154700.0, 137500.0, 60000.0, 92900.0, 61300.0, 96400.0, 60000.0, 173300.0, 200000.0, 109800.0, 112500.0, 75000.0, 115600.0, 79400.0, 50400.0, 60000.0, 46700.0, 104200.0, 74600.0, 162700.0, 43000.0, 54200.0, 145500.0, 66000.0, 65400.0, 102300.0, 77600.0, 138000.0, 137200.0, 173800.0, 32900.0, 70100.0, 14999.0, 142900.0, 137000.0, 58100.0, 64400.0, 197000.0, 252100.0, 95600.0, 125400.0, 102300.0, 95700.0, 169600.0, 116200.0, 106500.0, 500001.0, 66500.0, 187500.0, 58300.0, 143300.0, 200000.0, 130000.0, 55000.0, 205100.0, 90400.0, 49800.0, 60000.0, 51600.0, 96400.0, 104000.0, 414300.0, 187500.0, 42500.0, 105400.0, 64100.0, 60000.0, 126500.0, 93300.0, 248600.0, 275000.0, 170500.0, 61800.0, 66100.0, 87500.0, 187500.0, 500001.0, 201400.0, 133200.0, 500001.0, 139700.0, 200400.0, 54400.0, 162500.0, 118800.0, 107900.0, 88400.0, 70700.0, 128400.0, 51000.0, 46700.0, 65000.0, 65400.0, 500001.0, 58100.0, 60900.0, 67000.0, 500001.0, 58300.0, 101600.0, 32900.0, 500001.0, 145900.0, 58300.0, 61200.0, 46700.0, 112500.0, 83200.0, 97900.0, 55000.0, 202800.0, 56100.0, 191700.0, 67500.0, 59300.0, 69400.0, 130500.0, 74100.0, 95500.0, 117700.0, 127700.0, 47100.0, 134800.0, 62500.0, 75000.0, 237000.0, 47900.0, 145800.0, 219000.0, 61500.0, 68700.0, 52100.0, 67200.0, 500001.0, 134500.0, 500001.0, 500001.0, 44600.0, 59200.0, 162500.0, 69000.0, 50800.0, 90700.0, 500001.0, 156500.0, 133100.0, 278400.0, 115000.0, 162800.0, 60800.0, 145500.0, 59700.0, 113500.0, 58600.0, 111500.0, 52800.0, 61800.0, 61900.0, 173900.0, 110500.0, 81400.0, 500001.0, 63500.0, 500001.0, 222100.0, 100000.0, 97600.0, 500001.0, 66600.0, 500001.0, 48600.0, 103300.0, 61300.0, 156900.0, 94400.0, 165000.0, 50300.0, 98600.0, 134600.0, 98500.0, 500001.0, 63200.0, 76200.0, 220700.0, 57500.0, 219700.0, 92600.0, 59800.0, 500001.0, 104000.0, 62000.0, 184900.0, 92900.0, 66800.0, 97500.0, 137500.0, 62700.0, 70400.0, 138100.0, 137500.0, 66000.0, 500001.0, 62000.0, 67000.0, 175200.0, 55000.0, 87500.0, 221600.0, 104000.0, 76400.0, 57500.0, 74700.0, 108200.0, 500001.0, 64800.0, 88500.0, 158500.0, 130100.0, 92400.0, 91200.0, 92900.0, 78800.0, 184100.0, 111300.0, 88200.0, 141900.0, 70000.0, 95800.0, 55000.0, 63400.0, 62100.0, 75800.0, 51600.0, 82300.0, 224700.0, 153600.0, 50800.0, 70500.0, 146200.0, 282200.0, 70800.0, 57700.0, 143000.0, 66300.0, 66200.0, 203700.0, 88900.0, 500001.0, 54200.0, 500001.0, 84300.0, 76800.0, 80800.0, 112500.0, 71600.0, 60700.0, 161200.0, 138800.0, 67500.0, 500001.0, 97700.0, 66100.0, 73100.0, 87000.0, 57700.0, 73600.0, 500001.0, 124400.0, 174200.0, 100000.0, 68600.0, 74800.0, 73900.0, 134800.0, 72900.0, 52000.0, 134600.0, 65500.0, 143000.0, 151900.0, 500001.0, 67800.0, 158200.0, 87100.0, 300000.0, 74500.0, 41500.0, 88300.0, 85500.0, 92200.0, 56100.0, 44100.0, 61500.0, 57100.0, 63500.0, 500001.0, 99100.0, 56500.0, 117500.0, 500001.0, 73000.0, 146500.0, 53100.0, 210900.0, 59400.0, 213300.0, 99200.0, 139000.0, 75800.0, 60900.0, 500001.0, 66900.0, 167900.0, 100300.0, 61300.0, 137500.0, 88100.0, 500001.0, 95100.0, 115100.0, 125400.0, 122100.0, 79800.0, 67500.0, 87800.0, 82700.0, 118600.0, 95900.0, 65500.0, 98600.0, 128900.0, 139000.0, 137500.0, 85500.0, 500001.0, 71200.0, 62900.0, 135500.0, 58700.0, 106300.0, 75000.0, 177500.0, 130300.0, 79000.0, 83000.0, 78700.0, 105200.0, 99500.0, 137900.0, 102900.0, 85800.0, 220700.0, 76300.0, 88500.0, 159500.0, 85500.0, 68000.0, 79300.0, 56800.0, 105400.0, 500001.0, 43300.0, 66200.0, 92300.0, 96200.0, 103800.0, 152500.0, 98500.0, 73100.0, 90100.0, 102400.0, 143800.0, 110000.0, 500001.0, 56700.0, 150000.0, 54300.0, 69700.0, 52000.0, 131000.0, 107300.0, 97900.0, 77500.0, 112900.0, 66900.0, 48300.0, 170200.0, 120100.0, 142300.0, 87500.0, 141500.0, 115000.0, 48000.0, 90300.0, 110200.0, 87200.0, 162900.0, 58100.0, 320200.0, 94300.0, 141500.0, 165500.0, 71100.0, 171400.0, 160600.0, 66500.0, 175900.0, 154200.0, 500001.0, 82500.0, 126200.0, 142700.0, 62000.0, 79700.0, 245800.0, 155600.0, 97000.0, 101300.0, 112500.0, 67000.0, 213800.0, 69600.0, 114100.0, 73100.0, 126600.0, 112500.0, 67300.0, 350000.0, 60000.0, 88200.0, 67000.0, 125000.0, 85200.0, 55800.0, 110500.0, 204900.0, 125600.0, 52600.0, 49800.0, 150300.0, 108200.0, 58200.0, 225700.0, 96100.0, 500001.0, 139700.0, 500001.0, 59600.0, 132700.0, 142100.0, 166600.0, 129200.0, 85900.0, 55000.0, 77800.0, 500001.0, 59200.0, 190000.0, 500001.0, 182100.0, 121100.0, 188400.0, 135500.0, 33200.0, 180100.0, 74100.0, 58600.0, 68400.0, 225200.0, 180200.0, 113800.0, 96200.0, 81900.0, 93400.0, 107300.0, 130700.0, 82200.0, 50000.0, 65800.0, 88800.0, 500001.0, 500001.0, 90000.0, 66000.0, 171200.0, 68900.0, 89600.0, 65600.0, 80600.0, 79800.0, 84200.0, 54600.0, 83300.0, 67900.0, 93100.0, 119400.0, 54200.0, 75000.0, 180100.0, 134800.0, 142600.0, 135600.0, 73800.0, 78400.0, 170800.0, 88200.0, 159000.0, 101100.0, 121400.0, 55700.0, 83000.0, 47500.0, 269700.0, 87500.0, 59400.0, 93400.0, 500001.0, 89900.0, 75000.0, 109400.0, 57500.0, 50600.0, 99100.0, 500001.0, 51600.0, 45300.0, 50500.0, 500001.0, 134600.0, 82500.0, 91900.0, 123600.0, 82900.0, 121900.0, 500001.0, 500001.0, 60900.0, 130500.0, 41400.0, 165700.0, 92800.0, 123600.0, 81100.0, 500001.0, 211000.0, 142600.0, 129200.0, 163900.0, 113900.0, 86400.0, 340400.0, 92300.0, 67000.0, 81700.0, 112500.0, 67800.0, 84000.0, 121400.0, 101800.0, 63200.0, 55600.0, 299200.0, 67500.0, 74600.0, 185100.0, 54900.0, 90000.0, 82100.0, 72900.0, 94500.0, 92300.0, 127200.0, 53400.0, 69500.0, 500001.0, 65600.0, 500001.0, 175700.0, 194100.0, 67300.0, 78300.0, 49800.0, 133800.0, 144400.0, 200600.0, 171000.0, 118100.0, 66900.0, 100000.0, 58100.0, 98400.0, 166700.0, 81300.0, 109100.0, 48800.0, 63400.0, 137500.0, 287500.0, 91100.0, 127800.0, 75500.0, 77500.0, 84600.0, 61200.0, 302100.0, 60900.0, 217000.0, 66800.0, 186900.0, 101300.0, 91500.0, 500001.0, 37900.0, 52000.0, 80400.0, 86600.0, 81600.0, 139200.0, 156000.0, 123800.0, 161000.0, 96700.0, 281100.0, 183300.0, 114800.0, 159800.0, 92600.0, 72000.0, 54200.0, 81800.0, 66100.0, 175000.0, 75800.0, 500001.0, 500001.0, 92500.0, 46700.0, 47700.0, 109300.0, 54700.0, 58900.0, 96700.0, 263400.0, 221000.0, 196800.0, 115100.0, 55400.0, 73500.0, 104200.0, 86100.0, 101400.0, 113500.0, 140000.0, 104200.0, 93800.0, 117100.0, 169300.0, 155900.0, 111400.0, 75000.0, 500001.0, 112500.0, 87500.0, 201900.0, 75200.0, 148700.0, 500001.0, 96100.0, 80400.0, 130700.0, 134100.0, 75000.0, 115000.0, 80400.0, 55300.0, 72400.0, 88800.0, 58500.0, 56400.0, 129300.0, 95000.0, 205000.0, 137500.0, 123400.0, 93800.0, 75900.0, 68000.0, 92600.0, 134500.0, 153100.0, 100600.0, 96900.0, 53200.0, 144000.0, 93400.0, 500001.0, 233000.0, 62900.0, 94900.0, 132400.0, 75200.0, 130700.0, 134800.0, 58500.0, 44500.0, 64300.0, 55700.0, 71000.0, 91900.0, 163100.0, 75000.0, 89500.0, 123800.0, 81900.0, 65800.0, 37900.0, 104400.0, 129300.0, 67500.0, 500001.0, 61800.0, 500001.0, 219000.0, 223200.0, 126000.0, 500001.0, 72000.0, 83600.0, 96900.0, 106400.0, 79800.0, 103400.0, 180900.0, 67500.0, 101500.0, 216700.0, 230600.0, 156900.0, 127000.0, 54300.0, 74600.0, 105800.0, 92300.0, 54600.0, 131000.0, 50000.0, 148300.0, 103100.0, 111600.0, 114600.0, 59200.0, 134500.0, 80400.0, 82200.0, 116600.0, 151400.0, 188000.0, 61200.0, 119800.0, 164000.0, 95300.0, 143100.0, 44700.0, 89400.0, 43000.0, 58000.0, 63700.0, 154300.0, 204300.0, 70400.0, 182400.0, 145600.0, 107200.0, 65500.0, 55400.0, 145900.0, 63600.0, 119800.0, 89800.0, 122900.0, 63400.0, 263900.0, 48300.0, 71700.0, 104200.0, 65500.0, 82100.0, 69000.0, 58400.0, 83400.0, 67500.0, 60900.0, 90300.0, 88500.0, 81500.0, 70200.0, 194000.0, 84000.0, 181300.0, 78000.0, 141700.0, 97300.0, 95700.0, 37500.0, 55400.0, 96900.0, 107500.0, 93900.0, 146600.0, 68400.0, 92600.0, 96000.0, 88800.0, 500001.0, 71400.0, 140600.0, 72000.0, 61200.0, 500001.0, 156900.0, 500001.0, 92500.0, 68000.0, 201400.0, 46300.0, 500001.0, 285800.0, 156000.0, 139300.0, 101000.0, 121300.0, 116100.0, 74700.0, 70200.0, 126900.0, 88800.0, 72600.0, 96500.0, 89800.0, 76900.0, 133500.0, 90000.0, 87500.0, 137500.0, 134200.0, 72700.0, 123200.0, 97500.0, 140000.0, 90000.0, 80100.0, 61600.0, 68500.0, 500001.0, 97100.0, 159800.0, 58500.0, 80000.0, 96800.0, 111400.0, 500001.0, 122400.0, 500001.0, 110900.0, 163200.0, 91300.0, 87200.0, 81300.0, 93900.0, 85400.0, 269900.0, 156800.0, 62500.0, 72500.0, 122500.0, 71200.0, 55400.0, 150800.0, 52000.0, 106400.0, 51900.0, 65800.0, 127300.0, 146800.0, 95500.0, 89000.0, 500001.0, 55500.0, 157800.0, 60000.0, 225200.0, 75000.0, 130000.0, 84600.0, 88800.0, 112500.0, 145800.0, 500001.0, 68400.0, 51100.0, 72700.0, 64700.0, 117800.0, 92400.0, 126200.0, 67500.0, 80400.0, 60000.0, 86300.0, 69800.0, 92800.0, 70700.0, 115600.0, 223900.0, 148900.0, 66900.0, 60700.0, 59800.0, 51600.0, 177500.0, 500001.0, 164300.0, 105200.0, 104400.0, 80100.0, 102900.0, 148300.0, 63300.0, 92500.0, 500001.0, 265700.0, 59800.0, 156900.0, 96000.0, 65700.0, 141700.0, 85200.0, 157600.0, 258200.0, 70100.0, 109400.0, 106300.0, 54400.0, 122500.0, 195800.0, 81300.0, 125000.0, 139000.0, 168900.0, 79200.0, 157600.0, 92800.0, 118100.0, 106500.0, 130800.0, 72800.0, 500001.0, 139400.0, 57900.0, 112500.0, 47100.0, 69800.0, 239600.0, 93800.0, 121400.0, 59400.0, 70200.0, 188100.0, 71500.0, 81300.0, 87800.0, 108900.0, 173300.0, 85400.0, 500001.0, 158000.0, 65200.0, 70700.0, 96700.0, 309900.0, 165500.0, 126900.0, 90600.0, 89300.0, 98400.0, 142700.0, 60000.0, 68100.0, 77200.0, 108500.0, 153500.0, 81900.0, 191700.0, 111500.0, 144400.0, 86700.0, 78200.0, 68500.0, 70200.0, 129300.0, 135200.0, 500001.0, 224200.0, 53400.0, 81300.0, 83600.0, 195300.0, 66000.0, 82300.0, 37500.0, 500001.0, 69700.0, 95700.0, 144400.0, 201800.0, 74800.0, 189700.0, 50000.0, 98000.0, 107700.0, 137900.0, 50000.0, 87500.0, 94600.0, 104200.0, 101200.0, 160900.0, 59600.0, 222400.0, 115400.0, 45500.0, 77000.0, 71600.0, 175000.0, 132000.0, 81500.0, 87800.0, 93800.0, 83100.0, 42500.0, 175000.0, 100600.0, 115100.0, 50600.0, 57900.0, 69500.0, 53500.0, 66100.0, 102300.0, 144700.0, 98800.0, 244700.0, 92500.0, 68500.0, 33200.0, 102400.0, 62300.0, 81500.0, 500001.0, 500001.0, 70700.0, 65000.0, 45000.0, 72000.0, 55500.0, 150000.0, 277500.0, 81300.0, 62900.0, 63100.0, 132400.0, 66100.0, 163300.0, 128400.0, 60500.0, 89000.0, 164400.0, 60900.0, 87700.0, 86700.0, 87500.0, 94600.0, 93400.0, 50000.0, 109300.0, 159700.0, 98600.0, 72300.0, 72600.0, 84500.0, 161500.0, 55000.0, 124400.0, 145400.0, 52600.0, 52100.0, 500001.0, 78500.0, 108500.0, 90000.0, 69000.0, 62700.0, 54100.0, 263100.0, 90600.0, 273500.0, 81300.0, 125200.0, 500001.0, 106200.0, 111300.0, 74100.0, 100000.0, 90600.0, 60900.0, 55100.0, 500001.0, 64900.0, 119800.0, 239500.0, 101000.0, 500001.0, 93300.0, 129200.0, 87500.0, 96400.0, 88700.0, 76900.0, 74600.0, 500001.0, 95400.0, 95800.0, 85400.0, 110700.0, 79000.0, 149000.0, 75000.0, 202800.0, 161300.0, 500001.0, 64700.0, 123800.0, 287800.0, 500001.0, 59000.0, 55000.0, 90500.0, 500001.0, 63700.0, 67500.0, 211300.0, 81300.0, 500001.0, 70500.0, 81600.0, 104200.0, 128000.0, 150400.0, 195100.0, 56200.0, 52500.0, 56800.0, 96800.0, 44000.0, 71900.0, 125400.0, 88800.0, 81700.0, 98300.0, 33200.0, 61900.0, 104200.0, 123400.0, 111600.0, 63900.0, 170200.0, 67000.0, 500001.0, 111000.0, 137300.0, 83100.0, 46200.0, 161200.0, 57500.0, 86400.0, 170800.0, 111300.0, 192100.0, 75000.0, 73000.0, 500001.0, 74600.0, 66100.0, 70400.0, 191100.0, 96800.0, 60800.0, 81300.0, 67500.0, 87500.0, 53600.0, 48000.0, 259300.0, 65000.0, 57500.0, 57400.0, 113200.0, 173400.0, 73800.0, 73000.0, 146300.0, 211000.0, 146400.0, 83200.0, 500001.0, 106400.0, 146300.0, 75600.0, 147500.0, 500001.0, 170100.0, 75400.0, 255100.0, 187500.0, 51000.0, 70300.0, 500001.0, 500001.0, 65600.0, 79700.0, 70600.0, 187800.0, 97400.0, 81000.0, 500001.0, 192100.0, 73000.0, 70500.0, 110900.0, 167000.0, 86200.0, 66900.0, 65600.0, 57100.0, 116600.0, 87500.0, 75000.0, 71200.0, 72800.0, 94800.0, 56600.0, 66100.0, 135200.0, 138100.0, 87500.0, 60000.0, 88700.0, 112100.0, 211700.0, 500001.0, 55500.0, 66800.0, 142100.0, 71400.0, 119000.0, 132600.0, 67500.0, 73100.0, 73400.0, 86200.0, 130300.0, 123400.0, 89200.0, 72000.0, 87900.0, 72100.0, 100100.0, 104000.0, 350000.0, 47400.0, 74700.0, 85000.0, 69500.0, 69900.0, 82500.0, 57500.0, 120200.0, 58100.0, 113900.0, 500001.0, 55800.0, 80600.0, 183800.0, 67500.0, 146500.0, 133000.0, 98700.0, 57900.0, 55400.0, 55000.0, 219000.0, 72700.0, 76100.0, 132600.0, 41500.0, 175000.0, 58300.0, 85400.0, 145300.0, 103400.0, 87100.0, 92600.0, 117100.0, 81100.0, 122500.0, 179300.0, 134600.0, 174500.0, 80400.0, 128600.0, 77400.0, 94100.0, 71800.0, 137100.0, 73800.0, 90900.0, 63600.0, 55000.0, 500001.0, 55700.0, 108800.0, 79700.0, 79000.0, 91700.0, 52500.0, 256100.0, 69100.0, 100000.0, 141100.0, 46900.0, 91600.0, 202900.0, 56500.0, 95200.0, 90000.0, 98800.0, 74300.0, 52600.0, 82000.0, 88200.0, 146400.0, 108900.0, 77300.0, 94700.0, 181800.0, 74300.0, 57400.0, 113500.0, 63800.0, 54600.0, 155600.0, 131500.0, 86400.0, 90900.0, 100000.0, 115700.0, 137500.0, 81700.0, 114600.0, 102300.0, 200600.0, 82100.0, 148700.0, 39400.0, 118300.0, 60900.0, 88600.0, 104500.0, 148900.0, 73000.0, 69800.0, 117000.0, 95800.0, 294100.0, 116300.0, 92200.0, 97000.0, 158500.0, 162700.0, 121900.0, 166800.0, 85300.0, 54600.0, 225700.0, 54000.0, 60900.0, 124600.0, 71900.0, 72000.0, 103600.0, 107200.0, 70000.0, 67200.0, 87200.0, 105500.0, 81300.0, 104700.0, 55100.0, 67500.0, 95700.0, 49000.0, 87600.0, 52600.0, 59600.0, 339300.0, 88800.0, 168800.0, 118900.0, 115100.0, 500001.0, 252700.0, 138200.0, 90600.0, 59100.0, 80400.0, 98000.0, 70800.0, 63300.0, 143800.0, 95200.0, 71000.0, 130000.0, 68900.0, 162800.0, 126900.0, 113000.0, 73500.0, 175000.0, 58400.0, 173400.0, 106300.0, 88700.0, 61500.0, 50500.0, 95300.0, 61300.0, 103600.0, 255900.0, 133300.0, 137500.0, 156900.0, 82100.0, 178600.0, 165500.0, 70000.0, 67900.0, 95600.0, 101800.0, 84600.0, 67000.0, 500001.0, 70200.0, 81400.0, 71400.0, 118800.0, 500001.0, 144000.0, 73800.0, 86200.0, 500001.0, 81900.0, 126500.0, 93300.0, 53400.0, 130100.0, 69500.0, 137500.0, 219000.0, 93800.0, 138300.0, 47500.0, 121400.0, 105000.0, 74600.0, 57700.0, 133200.0, 88200.0, 71500.0, 103100.0, 138800.0, 125400.0, 85500.0, 103800.0, 500001.0, 42500.0, 67000.0, 130800.0, 87200.0, 62700.0, 91400.0, 71000.0, 72300.0, 175700.0, 48500.0, 187300.0, 109300.0, 91800.0, 77000.0, 72000.0, 73500.0, 90900.0, 124600.0, 129200.0, 164300.0, 128900.0, 55400.0, 60500.0, 52500.0, 76900.0, 500001.0, 60900.0, 68500.0, 140400.0, 44500.0, 140100.0, 72000.0, 59100.0, 76600.0, 51900.0, 203700.0, 51400.0, 83000.0, 66100.0, 55600.0, 140100.0, 111000.0, 54100.0, 149300.0, 78800.0, 170800.0, 133800.0, 500001.0, 100300.0, 134400.0, 125000.0, 71900.0, 230700.0, 68500.0, 500001.0, 130000.0, 59400.0, 108700.0, 85500.0, 75000.0, 105100.0, 130700.0, 500001.0, 98600.0, 133300.0, 104200.0, 72700.0, 141700.0, 91300.0, 500001.0, 112500.0, 226900.0, 79300.0, 146200.0, 200600.0, 74000.0, 239900.0, 320200.0, 59000.0, 49000.0, 86800.0, 299600.0, 61900.0, 211300.0, 84600.0, 102100.0, 140000.0, 65000.0, 79100.0, 114100.0, 225000.0, 75900.0, 148900.0, 46700.0, 65500.0, 69200.0, 104400.0, 54100.0, 191300.0, 55200.0, 57500.0, 56600.0, 48100.0, 81400.0, 92800.0, 105500.0, 129900.0, 86200.0, 149400.0, 50000.0, 160300.0, 72000.0, 78000.0, 86900.0, 80400.0, 84400.0, 99500.0, 115300.0, 92800.0, 89200.0, 104900.0, 92200.0, 56200.0, 103500.0, 66800.0, 73300.0, 89600.0, 188200.0, 137500.0, 143500.0, 90200.0, 74300.0, 122200.0, 58300.0, 87500.0, 49000.0, 54300.0, 181300.0, 72100.0, 500001.0, 72100.0, 146900.0, 92200.0, 261800.0, 67500.0, 60900.0, 67500.0, 109300.0, 207800.0, 165200.0, 76000.0, 500001.0, 72800.0, 90400.0, 156800.0, 215600.0, 85900.0, 116100.0, 142600.0, 87200.0, 70700.0, 98000.0, 89300.0, 95200.0, 103300.0, 116800.0, 73100.0, 134500.0, 183300.0, 46500.0, 88900.0, 75500.0, 105200.0, 136200.0, 92800.0, 74700.0, 58300.0, 85800.0, 58500.0, 59200.0, 111500.0, 85400.0, 103000.0, 37900.0, 66900.0, 291300.0, 67500.0, 99000.0, 500001.0, 127100.0, 85500.0, 97900.0, 58000.0, 256300.0, 184800.0, 50700.0, 106300.0, 110400.0, 87800.0, 125000.0, 199600.0, 500001.0, 91800.0, 71500.0, 74800.0, 72100.0, 52300.0, 85500.0, 500001.0, 86500.0, 150700.0, 97400.0, 118500.0, 75600.0, 102100.0, 92200.0, 78800.0, 129400.0, 136000.0, 71800.0, 160000.0, 98800.0, 82800.0, 93100.0, 64500.0, 68000.0, 90900.0, 117000.0, 106300.0, 113600.0, 82400.0, 129300.0, 109400.0, 500001.0, 100600.0, 137500.0, 57000.0, 80600.0, 186900.0, 74300.0, 185600.0, 250000.0, 106900.0, 500001.0, 174200.0, 79700.0, 74700.0, 148200.0, 71300.0, 500001.0, 119500.0, 146200.0, 88800.0, 67000.0, 66100.0, 72700.0, 47900.0, 40400.0, 70900.0, 71300.0, 67500.0, 96800.0, 500001.0, 500001.0, 283100.0, 263900.0, 90900.0, 100100.0, 71300.0, 125000.0, 60900.0, 82800.0, 120900.0, 81100.0, 112500.0, 55400.0, 61500.0, 500001.0, 78300.0, 54600.0, 88700.0, 131300.0, 139300.0, 86200.0, 141600.0, 95800.0, 58600.0, 98300.0, 113600.0, 114100.0, 51700.0, 66000.0, 99100.0, 94600.0, 25000.0, 144000.0, 90400.0, 76200.0, 69600.0, 76800.0, 159100.0, 147500.0, 117600.0, 190500.0, 47500.0, 63200.0, 251400.0, 94100.0, 71400.0, 186900.0, 94500.0, 220000.0, 84400.0, 152500.0, 151500.0, 214900.0, 350000.0, 63500.0, 204600.0, 307100.0, 71400.0, 500001.0, 111700.0, 117500.0, 67500.0, 97800.0, 134500.0, 69400.0, 500001.0, 75800.0, 57200.0, 311500.0, 264400.0, 77500.0, 60400.0, 251400.0, 81100.0, 71300.0, 94500.0, 70500.0, 100000.0, 64700.0, 213200.0, 56700.0, 159600.0, 147300.0, 53400.0, 82200.0, 92900.0, 91400.0, 57600.0, 82600.0, 60000.0, 103100.0, 53500.0, 102400.0, 78100.0, 69600.0, 75200.0, 52000.0, 187500.0, 139300.0, 53100.0, 59600.0, 500001.0, 227700.0, 69400.0, 111400.0, 95000.0, 62700.0, 72500.0, 59600.0, 188400.0, 169600.0, 54900.0, 59600.0, 202300.0, 102000.0, 101000.0, 98700.0, 67500.0, 142200.0, 94300.0, 48100.0, 101600.0, 103400.0, 72900.0, 85800.0, 129100.0, 72300.0, 76200.0, 500001.0, 216500.0, 44500.0, 67500.0, 46200.0, 149200.0, 92500.0, 69500.0, 110200.0, 136800.0, 197700.0, 48600.0, 144400.0, 51300.0, 156100.0, 82000.0, 60200.0, 72700.0, 69400.0, 500001.0, 123200.0, 108700.0, 96000.0, 193800.0, 139000.0, 67000.0, 109900.0, 151400.0, 50500.0, 47800.0, 129700.0, 127100.0, 367700.0, 98800.0, 145900.0, 48700.0, 85500.0, 54400.0, 95200.0, 48800.0, 70200.0, 99000.0, 115800.0, 98800.0, 44100.0, 94200.0, 165300.0, 76400.0, 96400.0, 105300.0, 59500.0, 73200.0, 101300.0, 91300.0, 114500.0, 62900.0, 45000.0, 74000.0, 114200.0, 86900.0, 253400.0, 14999.0, 175700.0, 159300.0, 107700.0, 500001.0, 137500.0, 81800.0, 135200.0, 78100.0, 114000.0, 128100.0, 85400.0, 73600.0, 66300.0, 500001.0, 98200.0, 86400.0, 53500.0, 500001.0, 140500.0, 96700.0, 131000.0, 40900.0, 97200.0, 70200.0, 67900.0, 500001.0, 271100.0, 104200.0, 84000.0, 147600.0, 356000.0, 146400.0, 67500.0, 107900.0, 105400.0, 54000.0, 75000.0, 59600.0, 84000.0, 114200.0, 121900.0, 145600.0, 87500.0, 69000.0, 68900.0, 70800.0, 137200.0, 190500.0, 59600.0, 150000.0, 83400.0, 114200.0, 68400.0, 67700.0, 131300.0, 105700.0, 222800.0, 49500.0, 93600.0, 90300.0, 81500.0, 76800.0, 71400.0, 500001.0, 76100.0, 81300.0, 154600.0, 101800.0, 108900.0, 46900.0, 78500.0, 78400.0, 57100.0, 95000.0, 52500.0, 71300.0, 63800.0, 80000.0, 142600.0, 112500.0, 174500.0, 142300.0, 115200.0, 182600.0, 143200.0, 160800.0, 125700.0, 100200.0, 226900.0, 115000.0, 59900.0, 93800.0, 32500.0, 93800.0, 70800.0, 88900.0, 500001.0, 148400.0, 174300.0, 129700.0, 57100.0, 67400.0, 120600.0, 83900.0, 198600.0, 36700.0, 26900.0, 108800.0, 110300.0, 118500.0, 57400.0, 60000.0, 62000.0, 81000.0, 77700.0, 219000.0, 95200.0, 80300.0, 85600.0, 191100.0, 125000.0, 114900.0, 59800.0, 122300.0, 64100.0, 89200.0, 212000.0, 133700.0, 95200.0, 85200.0, 142700.0, 87500.0, 91800.0, 66900.0, 82100.0, 133400.0, 49000.0, 251400.0, 116300.0, 500001.0, 55500.0, 52000.0, 66000.0, 52500.0, 120800.0, 146200.0, 350000.0, 89400.0, 229400.0, 46700.0, 70400.0, 66700.0, 91300.0, 252500.0, 81500.0, 116700.0, 61300.0, 175000.0, 87500.0, 98700.0, 95300.0, 69800.0, 42500.0, 146200.0, 108300.0, 91900.0, 66200.0, 75500.0, 100100.0, 148700.0, 500001.0, 500001.0, 88900.0, 150500.0, 100200.0, 48300.0, 158800.0, 64300.0, 500001.0, 109900.0, 109400.0, 500001.0, 151900.0, 92800.0, 152500.0, 55500.0, 262100.0, 51900.0, 123000.0, 58100.0, 103000.0, 107200.0, 500001.0, 95100.0, 162500.0, 500001.0, 139800.0, 82800.0, 62000.0, 83900.0, 96200.0, 129300.0, 119300.0, 125000.0, 66000.0, 57400.0, 146900.0, 191000.0, 130700.0, 58800.0, 297200.0, 135300.0, 144200.0, 130100.0, 89000.0, 142900.0, 57900.0, 120000.0, 127800.0, 239600.0, 43500.0, 96000.0, 77700.0, 69700.0, 49000.0, 82800.0, 129900.0, 62500.0, 140700.0, 89000.0, 500001.0, 52300.0, 86800.0, 139500.0, 134100.0, 66000.0, 147500.0, 107200.0, 500001.0, 57500.0, 153100.0, 97700.0, 197600.0, 189700.0, 51600.0, 147200.0, 157700.0, 195200.0, 126400.0, 94600.0, 57400.0, 83400.0, 100800.0, 90800.0, 118200.0, 55900.0, 142600.0, 85900.0, 118500.0, 65500.0, 61300.0, 49500.0, 131000.0, 67000.0, 225000.0, 66900.0, 178400.0, 61600.0, 94800.0, 176100.0, 96200.0, 87500.0, 92800.0, 56000.0, 67500.0, 200400.0, 193100.0, 101000.0, 52600.0, 500001.0, 150000.0, 117100.0, 263900.0, 76700.0, 90000.0, 63300.0, 72300.0, 67500.0, 87900.0, 151900.0, 500001.0, 500001.0, 137500.0, 59000.0, 62000.0, 52000.0, 165000.0, 153800.0, 81600.0, 90000.0, 96500.0, 67200.0, 68600.0, 67500.0, 99800.0, 131300.0, 70200.0, 500001.0, 237200.0, 57700.0, 74800.0, 96400.0, 95000.0, 148500.0, 94900.0, 49400.0, 55000.0, 151900.0, 103100.0, 500001.0, 42700.0, 57400.0, 116300.0, 84000.0, 55000.0, 119200.0, 139000.0, 98400.0, 48300.0, 81500.0, 69100.0, 95300.0, 62900.0, 82700.0, 65900.0, 89800.0, 143700.0, 70800.0, 100000.0, 125000.0, 82800.0, 148700.0, 141600.0, 69400.0, 120800.0, 91400.0, 90300.0, 73900.0, 137900.0, 75600.0, 112300.0, 64900.0, 110100.0, 85700.0, 98600.0, 88800.0, 83100.0, 151400.0, 54100.0, 129400.0, 53500.0, 99100.0, 59200.0, 92300.0, 59600.0, 152400.0, 55000.0, 71200.0, 101900.0, 100000.0, 78600.0, 52600.0, 91700.0, 137500.0, 151700.0, 142300.0, 68000.0, 500001.0, 214500.0, 95000.0, 93400.0, 60800.0, 160500.0, 92400.0, 112100.0, 120100.0, 85000.0, 71500.0, 108300.0, 150000.0, 92200.0, 93400.0, 84700.0, 69200.0, 166800.0, 84600.0, 85400.0, 68700.0, 80000.0, 91700.0, 85900.0, 64400.0, 70900.0, 139800.0, 92800.0, 118800.0, 74800.0, 146200.0, 67200.0, 65600.0, 78500.0, 99400.0, 108700.0, 115600.0, 137500.0, 50600.0, 93800.0, 86500.0, 100000.0, 110400.0, 133900.0, 52000.0, 157800.0, 144500.0, 106700.0, 82100.0, 81500.0, 320400.0, 155100.0, 60000.0, 183100.0, 113300.0, 150300.0, 132300.0, 86900.0, 137500.0, 500001.0, 107000.0, 59800.0, 93100.0, 162500.0, 66900.0, 96300.0, 167300.0, 54600.0, 127300.0, 140100.0, 53500.0, 55100.0, 102900.0, 135200.0, 69400.0, 81900.0, 61500.0, 87000.0, 150600.0, 186200.0, 179100.0, 72100.0, 125000.0, 114600.0, 97500.0, 148700.0, 281100.0, 86700.0, 133100.0, 85000.0, 72000.0, 86800.0, 174200.0, 183800.0, 133000.0, 89900.0, 87500.0, 117800.0, 117200.0, 71400.0, 79700.0, 92300.0, 99100.0, 60000.0, 107700.0, 62500.0, 140200.0, 87500.0, 190500.0, 105700.0, 182900.0, 152400.0, 88900.0, 160100.0, 57700.0, 162500.0, 129800.0, 500001.0, 112500.0, 86900.0, 117200.0, 40400.0, 50100.0, 194800.0, 117200.0, 67900.0, 105200.0, 100000.0, 62500.0, 92400.0, 500001.0, 63600.0, 500001.0, 66900.0, 168100.0, 130100.0, 35000.0, 166900.0, 161300.0, 62200.0, 115500.0, 500001.0, 59000.0, 68900.0, 89500.0, 97400.0, 99300.0, 87500.0, 93800.0, 500001.0, 97400.0, 301100.0, 62900.0, 91100.0, 92500.0, 134200.0, 69000.0, 86400.0, 67500.0, 56200.0, 74100.0, 125500.0, 55000.0, 97400.0, 93800.0, 89500.0, 56100.0, 100800.0, 51600.0, 93900.0, 157100.0, 96400.0, 125000.0, 115400.0, 79900.0, 98300.0, 104800.0, 194300.0, 52300.0, 50600.0, 108700.0, 104600.0, 82400.0, 133100.0, 500001.0, 96500.0, 130600.0, 52500.0, 108900.0, 72300.0, 145000.0, 48800.0, 58200.0, 250000.0, 77500.0, 195100.0, 51900.0, 148600.0, 75000.0, 150300.0, 47500.0, 124400.0, 87700.0, 120000.0, 57900.0, 180100.0, 104000.0, 83200.0, 111400.0, 47500.0, 88800.0, 104600.0, 68300.0, 97100.0, 160600.0, 500001.0, 62700.0, 62800.0, 97800.0, 59000.0, 151700.0, 86300.0, 71700.0, 161200.0, 72100.0, 96700.0, 139700.0, 54800.0, 90700.0, 199200.0, 148400.0, 49400.0, 163500.0, 107000.0, 117700.0, 500001.0, 213200.0, 234200.0, 500001.0, 90400.0, 500001.0, 47500.0, 64700.0, 263400.0, 235600.0, 113600.0, 88600.0, 84200.0, 76200.0, 329800.0, 118500.0, 114200.0, 70700.0, 81600.0, 68900.0, 53800.0, 118300.0, 94800.0, 116100.0, 155000.0, 95600.0, 148700.0, 78800.0, 70700.0, 63500.0, 132600.0, 47700.0, 224100.0, 79300.0, 145500.0, 120700.0, 300900.0, 100000.0, 60800.0, 118200.0, 500001.0, 71600.0, 56000.0, 129800.0, 88800.0, 98400.0, 50300.0, 105700.0, 157500.0, 50800.0, 50000.0, 60000.0, 500001.0, 67500.0, 134700.0, 110200.0, 72000.0, 102300.0, 158200.0, 96800.0, 57300.0, 98300.0, 71900.0, 89300.0, 64400.0, 168800.0, 146500.0, 125600.0, 185100.0, 174800.0, 112600.0, 73700.0, 59200.0, 181800.0, 79500.0, 118300.0, 95300.0, 55500.0, 99200.0, 93700.0, 66900.0, 95200.0, 90800.0, 130000.0, 130000.0, 98100.0, 91100.0, 178400.0, 84700.0, 231800.0, 164600.0, 245800.0, 110700.0, 137500.0, 168100.0, 72700.0, 70000.0, 500001.0, 58600.0, 145200.0, 500001.0, 195300.0, 42500.0, 121900.0, 76600.0, 116300.0, 123800.0, 115000.0, 65800.0, 151500.0, 213000.0, 114300.0, 94600.0, 98500.0, 79500.0, 267400.0, 100600.0, 55800.0, 196100.0, 90400.0, 59500.0, 121100.0, 214000.0, 185100.0, 500001.0, 106300.0, 500001.0, 153700.0, 68100.0, 185100.0, 500001.0, 143300.0, 73700.0, 175700.0, 82600.0, 46200.0, 68300.0, 154600.0, 71000.0, 51300.0, 171300.0, 112500.0, 240800.0, 81400.0, 43000.0, 88500.0, 182500.0, 43900.0, 54300.0, 60800.0, 71400.0, 500001.0, 175200.0, 83000.0, 81600.0, 112800.0, 100000.0, 112500.0, 150400.0, 123200.0, 151900.0, 70200.0, 82300.0, 84000.0, 82000.0, 242700.0, 76800.0, 55300.0, 55000.0, 110500.0, 251400.0, 500001.0, 55500.0, 116700.0, 75600.0, 151900.0, 106200.0, 151700.0, 54600.0, 92400.0, 46900.0, 92700.0, 95300.0, 150000.0, 78100.0, 63200.0, 77100.0, 91400.0, 106300.0, 50800.0, 54100.0, 118900.0, 112500.0, 144700.0, 46700.0, 67900.0, 96400.0, 68300.0, 78000.0, 500001.0, 94800.0, 247500.0, 82200.0, 55700.0, 158300.0, 55300.0, 90400.0, 71300.0, 102600.0, 500001.0, 160500.0, 164000.0, 211500.0, 96600.0, 173200.0, 143000.0, 169800.0, 82900.0, 141200.0, 87500.0, 65800.0, 134800.0, 54700.0, 78900.0, 133600.0, 62500.0, 500001.0, 500001.0, 151300.0, 78800.0, 69400.0, 269800.0, 79600.0, 111800.0, 86800.0, 85000.0, 76100.0, 92800.0, 46600.0, 156300.0, 117200.0, 78700.0, 73500.0, 178100.0, 500001.0, 235600.0, 175400.0, 500001.0, 104400.0, 141500.0, 78700.0, 57900.0, 111000.0, 169700.0, 98800.0, 78800.0, 67000.0, 54400.0, 53100.0, 86700.0, 78200.0, 100500.0, 69700.0, 55900.0, 93800.0, 75900.0, 82200.0, 142500.0, 84700.0, 68600.0, 67000.0, 89200.0, 121300.0, 500001.0, 82300.0, 500001.0, 53800.0, 124900.0, 58300.0, 67500.0, 88900.0, 121400.0, 98800.0, 154400.0, 200000.0, 72200.0, 151900.0, 129400.0, 135600.0, 101100.0, 123700.0, 52600.0, 173400.0, 183300.0, 60300.0, 139400.0, 74000.0, 93600.0, 95600.0, 118000.0, 162900.0, 149000.0, 63700.0, 181600.0, 87500.0, 40900.0, 67500.0, 109500.0, 81100.0, 103400.0, 74300.0, 82700.0, 112900.0, 90000.0, 108900.0, 87500.0, 158800.0, 57800.0, 94500.0, 57600.0, 43500.0, 116700.0, 66800.0, 117500.0, 87700.0, 85200.0, 95500.0, 236500.0, 83100.0, 56800.0, 67500.0, 77400.0, 99700.0, 61400.0, 55000.0, 63400.0, 90800.0, 110400.0, 70100.0, 166100.0, 63600.0, 64300.0, 141100.0, 63300.0, 80700.0, 97200.0, 106400.0, 66800.0, 107600.0, 184500.0, 54700.0, 59900.0, 64800.0, 177300.0, 67300.0, 96200.0, 95200.0, 118400.0, 183500.0, 58700.0, 125000.0, 148300.0, 130900.0, 144000.0, 59200.0, 63500.0, 125000.0, 139100.0, 57600.0, 61200.0, 44500.0, 51500.0, 52300.0, 144500.0, 80400.0, 54100.0, 129700.0, 126400.0, 75000.0, 72700.0, 87500.0, 59600.0, 66100.0, 106300.0, 500001.0, 112500.0, 62500.0, 60000.0, 500001.0, 128300.0, 72500.0, 500001.0, 151500.0, 177800.0, 61200.0, 63700.0, 174500.0, 76800.0, 46700.0, 79700.0, 106700.0, 83400.0, 32500.0, 184300.0, 56000.0, 49000.0, 66400.0, 116700.0, 55800.0, 286200.0, 68500.0, 78800.0, 58800.0, 118500.0, 117700.0, 213800.0, 100800.0, 96500.0, 500001.0, 180400.0, 500001.0, 228700.0, 55300.0, 67800.0, 70000.0, 179100.0, 83600.0, 123400.0, 45600.0, 160000.0, 85500.0, 177100.0, 94900.0, 69900.0, 120800.0, 49100.0, 128100.0, 107900.0, 53000.0, 49800.0, 124000.0, 236200.0, 128900.0, 113600.0, 129500.0, 92600.0, 117300.0, 82100.0, 141500.0, 92500.0, 139500.0, 112500.0, 65400.0, 133300.0, 96900.0, 44000.0, 102300.0, 134400.0, 57800.0, 67700.0, 81300.0, 198500.0, 86700.0, 87100.0, 182600.0, 91200.0, 72300.0, 103600.0, 69400.0, 139500.0, 86400.0, 52600.0, 92900.0, 47700.0, 104200.0, 85500.0, 71900.0, 97300.0, 155400.0, 62400.0, 184100.0, 78800.0, 86600.0, 89800.0, 500001.0, 125000.0, 73300.0, 134600.0, 252800.0, 89700.0, 65700.0, 90900.0, 96500.0, 53300.0, 114100.0, 105600.0, 104800.0, 123000.0, 92500.0, 62000.0, 87500.0, 55500.0, 87800.0, 148400.0, 91300.0, 68900.0, 95400.0, 91200.0, 57100.0, 80600.0, 87800.0, 73000.0, 114600.0, 58300.0, 160800.0, 46700.0, 58700.0, 160100.0, 123400.0, 109100.0, 67500.0, 146900.0, 67800.0, 117600.0, 64700.0, 103400.0, 81300.0, 57600.0, 182100.0, 75000.0, 65400.0, 103100.0, 45000.0, 107300.0, 137500.0, 112300.0, 267700.0, 500001.0, 69400.0, 98200.0, 168300.0, 93800.0, 163200.0, 61800.0, 96400.0, 59800.0, 215600.0, 73500.0, 76800.0, 128300.0, 99600.0, 70700.0, 193100.0, 500001.0, 109300.0, 130300.0, 132000.0, 90600.0, 68500.0, 100800.0, 58000.0, 101000.0, 89500.0, 100700.0, 76000.0, 255700.0, 62500.0, 156900.0, 74600.0, 39400.0, 67500.0, 55000.0, 40900.0, 158300.0, 95400.0, 237100.0, 91700.0, 126400.0, 105000.0, 65400.0, 117800.0, 68500.0, 48000.0, 112500.0, 121200.0, 118000.0, 69800.0, 122100.0, 91300.0, 216700.0, 81400.0, 91300.0, 108800.0, 153600.0, 500001.0, 66900.0, 72600.0, 113300.0, 107000.0, 97900.0, 72500.0, 90000.0, 69200.0, 50300.0, 274500.0, 262100.0, 69600.0, 100800.0, 91100.0, 500001.0, 131300.0, 62400.0, 118900.0, 76200.0, 70200.0, 85800.0, 75000.0, 99000.0, 70600.0, 124100.0, 66600.0, 115300.0, 74600.0, 170500.0, 236200.0, 57600.0, 85500.0, 113700.0, 237000.0, 93000.0, 64700.0, 76300.0, 69500.0, 127900.0, 75000.0, 53900.0, 88700.0, 141400.0, 82600.0, 57900.0, 203700.0, 52600.0, 118900.0, 129700.0, 86400.0, 134700.0, 70000.0, 49500.0, 100600.0, 87500.0, 103900.0, 118800.0, 70300.0, 500001.0, 141400.0, 147500.0, 106300.0, 85900.0, 108900.0, 95300.0, 68600.0, 64700.0, 65100.0, 55600.0, 63200.0, 78500.0, 74500.0, 70500.0, 123300.0, 75400.0, 86900.0, 106300.0, 54300.0, 96000.0, 82000.0, 83700.0, 83000.0, 58800.0, 263900.0, 97300.0, 100100.0, 500001.0, 73000.0, 275700.0, 110600.0, 125500.0, 500001.0, 219600.0, 90100.0, 108900.0, 204000.0, 125400.0, 279900.0, 62500.0, 60900.0, 98700.0, 81300.0, 107400.0, 204500.0, 58300.0, 63300.0, 67500.0, 129300.0, 88300.0, 111100.0, 127500.0, 118800.0, 126700.0, 59100.0, 71000.0, 117600.0, 121900.0, 117700.0, 88300.0, 189100.0, 150400.0, 43800.0, 101500.0, 213700.0, 118900.0, 151900.0, 115800.0, 81100.0, 133900.0, 94300.0, 500001.0, 170000.0, 110000.0, 52700.0, 45100.0, 71900.0, 127200.0, 154300.0, 140600.0, 204100.0, 119400.0, 55600.0, 53500.0, 87900.0, 55000.0, 48500.0, 172400.0, 71400.0, 58100.0, 142600.0, 70000.0, 126500.0, 178100.0, 229000.0, 130900.0, 46200.0, 58800.0, 55500.0, 82100.0, 285400.0, 115500.0, 121200.0, 116700.0, 35000.0, 83100.0, 92700.0, 118500.0, 135600.0, 175000.0, 79200.0, 50000.0, 62200.0, 116400.0, 59100.0, 60200.0, 112900.0, 55000.0, 85800.0, 59800.0, 61200.0, 68300.0, 71600.0, 91500.0, 110200.0, 148100.0, 54800.0, 67200.0, 112500.0, 66100.0, 68100.0, 140000.0, 55000.0, 51800.0, 121400.0, 95500.0, 81900.0, 49200.0, 104800.0, 56600.0, 90400.0, 137200.0, 46900.0, 89300.0, 72000.0, 106700.0, 108900.0, 90100.0, 88200.0, 144100.0, 116300.0, 73800.0, 41700.0, 108900.0, 51700.0, 82900.0, 116800.0, 108900.0, 74300.0, 45600.0, 142900.0, 102800.0, 62500.0, 71400.0, 113800.0, 88100.0, 105700.0, 106300.0, 303400.0, 125000.0, 65800.0, 114300.0, 500001.0, 72100.0, 90800.0, 163300.0, 57500.0, 166000.0, 108500.0, 159400.0, 86900.0, 213800.0, 91500.0, 58000.0, 500001.0, 92900.0, 500001.0, 104800.0, 56600.0, 162500.0, 86400.0, 95200.0, 51400.0, 141300.0, 58300.0, 70200.0, 55400.0, 118200.0, 77000.0, 500001.0, 55200.0, 95200.0, 181400.0, 162300.0, 232100.0, 85800.0, 158200.0, 128700.0, 82300.0, 160100.0, 171300.0, 134600.0, 63000.0, 69700.0, 90100.0, 67200.0, 58500.0, 73100.0, 90100.0, 87500.0, 73000.0, 225200.0, 113800.0, 90000.0, 72100.0, 67000.0, 107600.0, 79300.0, 96900.0, 111400.0, 500001.0, 285800.0, 133800.0, 105600.0, 133000.0, 69500.0, 124300.0, 91200.0, 240500.0, 92500.0, 82500.0, 75000.0, 57800.0, 79000.0, 171300.0, 170600.0, 75700.0, 59800.0, 129600.0, 120900.0, 170800.0, 57700.0, 73100.0, 72800.0, 500001.0, 93800.0, 84900.0, 120800.0, 168300.0, 102300.0, 129300.0, 104200.0, 78600.0, 85000.0, 50800.0, 49800.0, 79500.0, 93600.0, 500001.0, 61300.0, 117000.0, 62400.0, 112500.0, 74300.0, 68300.0, 69400.0, 62900.0, 114600.0, 69800.0, 67800.0, 163900.0, 83500.0, 155300.0, 192300.0, 203200.0, 87900.0, 55800.0, 130100.0, 171100.0, 139600.0, 62400.0, 169600.0, 145600.0, 114300.0, 500001.0, 162800.0, 123100.0, 114800.0, 66100.0, 102700.0, 51300.0, 65000.0, 140600.0, 168600.0, 500001.0, 62500.0, 76200.0, 52600.0, 153700.0, 152800.0, 82200.0, 57700.0, 65500.0, 146300.0, 87500.0, 107700.0, 113600.0, 156900.0, 179700.0, 63900.0, 219000.0, 79800.0, 122300.0, 96200.0, 73600.0, 123200.0, 81700.0, 63400.0, 65500.0, 146300.0, 130600.0, 500001.0, 134800.0, 124000.0, 69700.0, 95800.0, 55700.0, 73800.0, 125600.0, 165700.0, 164000.0, 146400.0, 56800.0, 132500.0, 34400.0, 265500.0, 82500.0, 110500.0, 69100.0, 59900.0, 122000.0, 95700.0, 116300.0, 90500.0, 202700.0, 62500.0, 61700.0, 500001.0, 500001.0, 182400.0, 113600.0, 63200.0, 500001.0, 237500.0, 236800.0, 86200.0, 50000.0, 65600.0, 71300.0, 111800.0, 208200.0, 55000.0, 132600.0, 69100.0, 165200.0, 69600.0, 139000.0, 102900.0, 66900.0, 125000.0, 116600.0, 109700.0, 173200.0, 54600.0, 500001.0, 105800.0, 87500.0, 55900.0, 130400.0, 75000.0, 74700.0, 109400.0, 95200.0, 181600.0, 103300.0, 115000.0, 75000.0, 67900.0, 55800.0, 65600.0, 102100.0, 71300.0, 117600.0, 67500.0, 224500.0, 59500.0, 116300.0, 142600.0, 95500.0, 98600.0, 92300.0, 95200.0, 100000.0, 112800.0, 95000.0, 137500.0, 146900.0, 112900.0, 112500.0, 67900.0, 57900.0, 87500.0, 92700.0, 95200.0, 50200.0, 61300.0, 124700.0, 53100.0, 146900.0, 74300.0, 84700.0, 54700.0, 83100.0, 161300.0, 203700.0, 500001.0, 70000.0, 140700.0, 102000.0, 65800.0, 64900.0, 67500.0, 50700.0, 174100.0, 47400.0, 52000.0, 154600.0, 140100.0, 77500.0, 301600.0, 170000.0, 86900.0, 82800.0, 96400.0, 179500.0, 224700.0, 70500.0, 130800.0, 137500.0, 61300.0, 74000.0, 177100.0, 253700.0, 65600.0, 70900.0, 182500.0, 225800.0, 107300.0, 162500.0, 109900.0, 76600.0, 128600.0, 70700.0, 162900.0, 500001.0, 74600.0, 95300.0, 157600.0, 320200.0, 97600.0, 174100.0, 94700.0, 93800.0, 108500.0, 53800.0, 350000.0, 80500.0, 263900.0, 64900.0, 68100.0, 99300.0, 96400.0, 114100.0, 91200.0, 201700.0, 82500.0, 78900.0, 57500.0, 134800.0, 67900.0, 155400.0, 116100.0, 85900.0, 70200.0, 171200.0, 219600.0, 83700.0, 100000.0, 137600.0, 100100.0, 118500.0, 219700.0, 106400.0, 86300.0, 54200.0, 100800.0, 85400.0, 137500.0, 133100.0, 79200.0, 134100.0, 97300.0, 500001.0, 53900.0, 500001.0, 206300.0, 53100.0, 53100.0, 125000.0, 134600.0, 102800.0, 89500.0, 69100.0, 75600.0, 45500.0, 83200.0, 92700.0, 131300.0, 51700.0, 99100.0, 79100.0, 193800.0, 55400.0, 150000.0, 114100.0, 87800.0, 130100.0, 108000.0, 103300.0, 101000.0, 500001.0, 324700.0, 57200.0, 269400.0, 203800.0, 85600.0, 500001.0, 61500.0, 60800.0, 109100.0, 101800.0, 278000.0, 101500.0, 93700.0, 113400.0, 57500.0, 70300.0, 57000.0, 77300.0, 206300.0, 94200.0, 73100.0, 131900.0, 100000.0, 100000.0, 51100.0, 75000.0, 86900.0, 60900.0, 87100.0, 140500.0, 231800.0, 71900.0, 81100.0, 79500.0, 55300.0, 87000.0, 224500.0, 199600.0, 68900.0, 124000.0, 212500.0, 119700.0, 178300.0, 55000.0, 121500.0, 131900.0, 88500.0, 97900.0, 46300.0, 66800.0, 500001.0, 141000.0, 82500.0, 100600.0, 48600.0, 63000.0, 81900.0, 72700.0, 140100.0, 55100.0, 500001.0, 100000.0, 149500.0, 46700.0, 198400.0, 108900.0, 500001.0, 70600.0, 58100.0, 148900.0, 184900.0, 98300.0, 135200.0, 68400.0, 100000.0, 82700.0, 66900.0, 127900.0, 79800.0, 80300.0, 500001.0, 143800.0, 136200.0, 500001.0, 126900.0, 125200.0, 55700.0, 170300.0, 88400.0, 160900.0, 154300.0, 72600.0, 132700.0, 108700.0, 137800.0, 163500.0, 160800.0, 120000.0, 67500.0, 135400.0, 99500.0, 48300.0, 39200.0, 112100.0, 100500.0, 267600.0, 130800.0, 87500.0, 136800.0, 64300.0, 133200.0, 93800.0, 47800.0, 118100.0, 77300.0, 42500.0, 133400.0, 94500.0, 187500.0, 121500.0, 69400.0, 72700.0, 75400.0, 114100.0, 67000.0, 104200.0, 51700.0, 164700.0, 500001.0, 59900.0, 92700.0, 133900.0, 107500.0, 96100.0, 149900.0, 98500.0, 76800.0, 114200.0, 143700.0, 82700.0, 55900.0, 285800.0, 193800.0, 67000.0, 70000.0, 118800.0, 66400.0, 61500.0, 70000.0, 164000.0, 250000.0, 500001.0, 70600.0, 96400.0, 190000.0, 140000.0, 112500.0, 143100.0, 101900.0, 94200.0, 142500.0, 120100.0, 148800.0, 85900.0, 47100.0, 147500.0, 127300.0, 53300.0, 108500.0, 33200.0, 57400.0, 82500.0, 57900.0, 71300.0, 90200.0, 57000.0, 75000.0, 44500.0, 52000.0, 88400.0, 49000.0, 91700.0, 44400.0, 91800.0, 129200.0, 51600.0, 62500.0, 206300.0, 63800.0, 50800.0, 61300.0, 69400.0, 116800.0, 63100.0, 61700.0, 500001.0, 193200.0, 96700.0, 130800.0, 155600.0, 94100.0, 69100.0, 84700.0, 72500.0, 61800.0, 117100.0, 118200.0, 55700.0, 81600.0, 53500.0, 131500.0, 92800.0, 51800.0, 73000.0, 124000.0, 104800.0, 75000.0, 65500.0, 63800.0, 71800.0, 183200.0, 108800.0, 159800.0, 88300.0, 141200.0, 157300.0, 60300.0, 108000.0, 58000.0, 146900.0, 161500.0, 71900.0, 137500.0, 118400.0, 48300.0, 49800.0, 111700.0, 57500.0, 78200.0, 90500.0, 212200.0, 139300.0, 126700.0, 93400.0, 104600.0, 500001.0, 130800.0, 72900.0, 140100.0, 118000.0, 170700.0, 115400.0, 122000.0, 195400.0, 93800.0, 62800.0, 151800.0, 212200.0, 185100.0, 75900.0, 245800.0, 99500.0, 53300.0]\n"
     ]
    }
   ],
   "source": [
    "# metrics\n",
    "\n",
    "from metrics_classification import *\n",
    "from sklearn.metrics import confusion_matrix\n",
    "\n",
    "y_true =  list(Y_test)\n",
    "y_pred = list(reg_knn.predict(X_test))\n",
    "\n",
    "\n",
    "\n",
    "print('Valores:\\n')\n",
    "print('originales:\\n ', y_true)\n",
    "print('\\npredicho: \\n  ', y_pred)"
   ]
  },
  {
   "cell_type": "code",
   "execution_count": 121,
   "metadata": {},
   "outputs": [
    {
     "name": "stdout",
     "output_type": "stream",
     "text": [
      "\n",
      "Matriz de confusion:\n",
      " \n",
      "[[  0   0   0 ...   0   0   1]\n",
      " [  0   0   0 ...   0   0   1]\n",
      " [  0   0   0 ...   0   0   0]\n",
      " ...\n",
      " [  0   0   0 ...   0   0   1]\n",
      " [  0   0   0 ...   0   0   5]\n",
      " [  0   0   0 ...   0   0 175]]\n"
     ]
    }
   ],
   "source": [
    "print('\\nMatriz de confusion:\\n ')\n",
    "print(confusion_matrix(y_true,y_pred))"
   ]
  },
  {
   "cell_type": "code",
   "execution_count": 75,
   "metadata": {},
   "outputs": [
    {
     "name": "stdout",
     "output_type": "stream",
     "text": [
      "\n",
      "Metricas para los regresores:\n",
      "\n"
     ]
    },
    {
     "name": "stderr",
     "output_type": "stream",
     "text": [
      "C:\\Users\\Javiera\\anaconda3\\lib\\site-packages\\sklearn\\metrics\\_classification.py:1245: UndefinedMetricWarning: Recall is ill-defined and being set to 0.0 in labels with no true samples. Use `zero_division` parameter to control this behavior.\n",
      "  _warn_prf(average, modifier, msg_start, len(result))\n",
      "C:\\Users\\Javiera\\anaconda3\\lib\\site-packages\\sklearn\\metrics\\_classification.py:1245: UndefinedMetricWarning: Precision is ill-defined and being set to 0.0 in labels with no predicted samples. Use `zero_division` parameter to control this behavior.\n",
      "  _warn_prf(average, modifier, msg_start, len(result))\n"
     ]
    },
    {
     "data": {
      "text/html": [
       "<div>\n",
       "<style scoped>\n",
       "    .dataframe tbody tr th:only-of-type {\n",
       "        vertical-align: middle;\n",
       "    }\n",
       "\n",
       "    .dataframe tbody tr th {\n",
       "        vertical-align: top;\n",
       "    }\n",
       "\n",
       "    .dataframe thead th {\n",
       "        text-align: right;\n",
       "    }\n",
       "</style>\n",
       "<table border=\"1\" class=\"dataframe\">\n",
       "  <thead>\n",
       "    <tr style=\"text-align: right;\">\n",
       "      <th></th>\n",
       "      <th>accuracy</th>\n",
       "      <th>recall</th>\n",
       "      <th>precision</th>\n",
       "      <th>fscore</th>\n",
       "    </tr>\n",
       "  </thead>\n",
       "  <tbody>\n",
       "    <tr>\n",
       "      <th>0</th>\n",
       "      <td>0.0187</td>\n",
       "      <td>0.0003</td>\n",
       "      <td>0.0006</td>\n",
       "      <td>0.0003</td>\n",
       "    </tr>\n",
       "  </tbody>\n",
       "</table>\n",
       "</div>"
      ],
      "text/plain": [
       "   accuracy  recall  precision  fscore\n",
       "0    0.0187  0.0003     0.0006  0.0003"
      ]
     },
     "execution_count": 75,
     "metadata": {},
     "output_type": "execute_result"
    }
   ],
   "source": [
    "# ejemplo \n",
    "df_temp = pd.DataFrame(\n",
    "    {\n",
    "        'y':y_true,\n",
    "        'yhat':y_pred\n",
    "        }\n",
    ")\n",
    "\n",
    "df_metrics = summary_metrics(df_temp)\n",
    "print(\"\\nMetricas para los regresores:\")\n",
    "print(\"\")\n",
    "df_metrics"
   ]
  },
  {
   "cell_type": "code",
   "execution_count": 106,
   "metadata": {},
   "outputs": [
    {
     "name": "stderr",
     "output_type": "stream",
     "text": [
      "C:\\Users\\Javiera\\anaconda3\\lib\\site-packages\\sklearn\\model_selection\\_split.py:666: UserWarning: The least populated class in y has only 1 members, which is less than n_splits=10.\n",
      "  warnings.warn((\"The least populated class in y has only %d\"\n"
     ]
    },
    {
     "name": "stdout",
     "output_type": "stream",
     "text": [
      "Este modelo se ajustó en 241.00857877731323 segundos.\n"
     ]
    }
   ],
   "source": [
    "import time\n",
    "\n",
    "#Diccionario de Hiperparámetros\n",
    "dicc_knn = {\n",
    "          'n_neighbors' : [3, 6, 15,30],\n",
    "          'weights' : ['uniform', 'distance'],\n",
    "          'metric' : ['euclidean', 'minkowski'],\n",
    "          'algorithm' : ['auto','brute', 'kd_tree']\n",
    "          }\n",
    "\n",
    "\n",
    "grid_knn = GridSearchCV(estimator = reg_knn, param_grid = dicc_knn, cv = 10) \n",
    "\n",
    "start_time = time.time() #Tiempo de inicio \n",
    "\n",
    "grid_result_knn = grid_knn.fit(X_train, Y_train)\n",
    "\n",
    "print(\"Este modelo se ajustó en\",(time.time() - start_time),\"segundos.\") "
   ]
  },
  {
   "cell_type": "code",
   "execution_count": 109,
   "metadata": {},
   "outputs": [
    {
     "name": "stdout",
     "output_type": "stream",
     "text": [
      "El mejor score tuvo un valor de: 0.04045541406411553\n",
      "usando los siguientes parámetros: {'algorithm': 'auto', 'metric': 'euclidean', 'n_neighbors': 30, 'weights': 'uniform'}\n"
     ]
    }
   ],
   "source": [
    "# print best parameter after tuning \n",
    "print(\"El mejor score tuvo un valor de:\", grid_result_knn.best_score_)\n",
    "print(\"usando los siguientes parámetros:\",grid_result_knn.best_params_) \n",
    "grid_predictions = grid_result_knn.predict(X_test) "
   ]
  },
  {
   "cell_type": "markdown",
   "metadata": {},
   "source": [
    "Decision Tree"
   ]
  },
  {
   "cell_type": "code",
   "execution_count": 110,
   "metadata": {},
   "outputs": [
    {
     "data": {
      "text/plain": [
       "DecisionTreeClassifier(max_depth=5)"
      ]
     },
     "execution_count": 110,
     "metadata": {},
     "output_type": "execute_result"
    }
   ],
   "source": [
    "reg_tree = tree.DecisionTreeClassifier(max_depth=5)\n",
    "reg_tree.fit(X_train, Y_train)\n"
   ]
  },
  {
   "cell_type": "code",
   "execution_count": 111,
   "metadata": {},
   "outputs": [
    {
     "name": "stdout",
     "output_type": "stream",
     "text": [
      "Valores:\n",
      "\n",
      "originales:\n",
      "  [47700.0, 45800.0, 500001.0, 218600.0, 278000.0, 158700.0, 198200.0, 157500.0, 340000.0, 446600.0, 123200.0, 253900.0, 215100.0, 220500.0, 219800.0, 136200.0, 178400.0, 187500.0, 139800.0, 137500.0, 425000.0, 405600.0, 138800.0, 500001.0, 162100.0, 51400.0, 151300.0, 94800.0, 204100.0, 361500.0, 85100.0, 138400.0, 137500.0, 465000.0, 271800.0, 239400.0, 340900.0, 150400.0, 128100.0, 156000.0, 258100.0, 90500.0, 71300.0, 219700.0, 151000.0, 290100.0, 142000.0, 291500.0, 255400.0, 98100.0, 251900.0, 162100.0, 129400.0, 89400.0, 150500.0, 133800.0, 80400.0, 211100.0, 255600.0, 214500.0, 500001.0, 202100.0, 81500.0, 98800.0, 281900.0, 184600.0, 254700.0, 143100.0, 162500.0, 142600.0, 85900.0, 186900.0, 71300.0, 174400.0, 225000.0, 146500.0, 405000.0, 189600.0, 164400.0, 337500.0, 72500.0, 143800.0, 160000.0, 118100.0, 374000.0, 202700.0, 96600.0, 65800.0, 167400.0, 179800.0, 96700.0, 266100.0, 91100.0, 49800.0, 90700.0, 115800.0, 278600.0, 250000.0, 85000.0, 177000.0, 99700.0, 357600.0, 475000.0, 273600.0, 182400.0, 157800.0, 193800.0, 333600.0, 264600.0, 58400.0, 173400.0, 214800.0, 200000.0, 422800.0, 93600.0, 122200.0, 167600.0, 303600.0, 269300.0, 264400.0, 191000.0, 153800.0, 275500.0, 208800.0, 142300.0, 63500.0, 95800.0, 231700.0, 221500.0, 89500.0, 226000.0, 500001.0, 270200.0, 59600.0, 193300.0, 133600.0, 161900.0, 357500.0, 276500.0, 410700.0, 375000.0, 135200.0, 167200.0, 252000.0, 308400.0, 172100.0, 500001.0, 193800.0, 105200.0, 90800.0, 168800.0, 162100.0, 161200.0, 137500.0, 289300.0, 278700.0, 161700.0, 231000.0, 87500.0, 95700.0, 240600.0, 214100.0, 428600.0, 125000.0, 76400.0, 263800.0, 120400.0, 109100.0, 170600.0, 257400.0, 320000.0, 289600.0, 307300.0, 325500.0, 58400.0, 48500.0, 216700.0, 97900.0, 158600.0, 69000.0, 322300.0, 467700.0, 163000.0, 287100.0, 54600.0, 90400.0, 155500.0, 175000.0, 411200.0, 332100.0, 141200.0, 247100.0, 153000.0, 155000.0, 390800.0, 90000.0, 196700.0, 68200.0, 500001.0, 92100.0, 297900.0, 500001.0, 332300.0, 171100.0, 152100.0, 232000.0, 127100.0, 87500.0, 203400.0, 228600.0, 116700.0, 416700.0, 227600.0, 267900.0, 97200.0, 137500.0, 198800.0, 68600.0, 352500.0, 103800.0, 107800.0, 131700.0, 271300.0, 97300.0, 95000.0, 67500.0, 326100.0, 65600.0, 225600.0, 263800.0, 348300.0, 325000.0, 108800.0, 400000.0, 138400.0, 61000.0, 453100.0, 500001.0, 120200.0, 329200.0, 196300.0, 150000.0, 152000.0, 169900.0, 137500.0, 283000.0, 404500.0, 193500.0, 205100.0, 145600.0, 225000.0, 215900.0, 158500.0, 124700.0, 65400.0, 280200.0, 180500.0, 105400.0, 100000.0, 166300.0, 158000.0, 243800.0, 362900.0, 201900.0, 52600.0, 500001.0, 112000.0, 225000.0, 439900.0, 88300.0, 500001.0, 276800.0, 179200.0, 199700.0, 132000.0, 61300.0, 171900.0, 123800.0, 135300.0, 137100.0, 129300.0, 227900.0, 94400.0, 103500.0, 320800.0, 125000.0, 332400.0, 159100.0, 236900.0, 461600.0, 156900.0, 148200.0, 166500.0, 196900.0, 167800.0, 126700.0, 500001.0, 57900.0, 238000.0, 142000.0, 86900.0, 56000.0, 500001.0, 112400.0, 63600.0, 431300.0, 265900.0, 58000.0, 194100.0, 142800.0, 178700.0, 187500.0, 225000.0, 313000.0, 500001.0, 153600.0, 62300.0, 194500.0, 163900.0, 398800.0, 204100.0, 199300.0, 176700.0, 500001.0, 248900.0, 150000.0, 231700.0, 58000.0, 126000.0, 163300.0, 113400.0, 300000.0, 310900.0, 218800.0, 70400.0, 237700.0, 118800.0, 73100.0, 75000.0, 450700.0, 240200.0, 65800.0, 64700.0, 175100.0, 223700.0, 96300.0, 405100.0, 376800.0, 500001.0, 350000.0, 162500.0, 177300.0, 98400.0, 138800.0, 175000.0, 260900.0, 104700.0, 159500.0, 295900.0, 137500.0, 500001.0, 227000.0, 263900.0, 160400.0, 142000.0, 162500.0, 230400.0, 500001.0, 217700.0, 183000.0, 245800.0, 129200.0, 60400.0, 67500.0, 295200.0, 192600.0, 150600.0, 125700.0, 63400.0, 151300.0, 245600.0, 500001.0, 165500.0, 113500.0, 322200.0, 362500.0, 69600.0, 156100.0, 87500.0, 193100.0, 218000.0, 101800.0, 129100.0, 156300.0, 183200.0, 148100.0, 500001.0, 222100.0, 167600.0, 184500.0, 370000.0, 239400.0, 166700.0, 233300.0, 240000.0, 91300.0, 483500.0, 150500.0, 99500.0, 240200.0, 95500.0, 500001.0, 251600.0, 120800.0, 135700.0, 225400.0, 500001.0, 85100.0, 500001.0, 164800.0, 111600.0, 161000.0, 213700.0, 116500.0, 350000.0, 159900.0, 438300.0, 171100.0, 271100.0, 500001.0, 68000.0, 191700.0, 255900.0, 112500.0, 182200.0, 347600.0, 332000.0, 110900.0, 211900.0, 262500.0, 237900.0, 90000.0, 427200.0, 370500.0, 116300.0, 170800.0, 285500.0, 111500.0, 83200.0, 248200.0, 395500.0, 218300.0, 500001.0, 88900.0, 181000.0, 280900.0, 345300.0, 181000.0, 192200.0, 78100.0, 75000.0, 433300.0, 160100.0, 109200.0, 96200.0, 191400.0, 360000.0, 185600.0, 118800.0, 122700.0, 206300.0, 195600.0, 75600.0, 104300.0, 385900.0, 113900.0, 79400.0, 81300.0, 129200.0, 73500.0, 175900.0, 142400.0, 234100.0, 286700.0, 92500.0, 170100.0, 161800.0, 225300.0, 170600.0, 319400.0, 95800.0, 73400.0, 93600.0, 51700.0, 358700.0, 64700.0, 344200.0, 314000.0, 185700.0, 279300.0, 119400.0, 280400.0, 187100.0, 83800.0, 309300.0, 229200.0, 245000.0, 227600.0, 500001.0, 320800.0, 147300.0, 162300.0, 265900.0, 500001.0, 189100.0, 316400.0, 181900.0, 261500.0, 69000.0, 181300.0, 293000.0, 111100.0, 218300.0, 147200.0, 243800.0, 223000.0, 137500.0, 60600.0, 275000.0, 350000.0, 171200.0, 83500.0, 225000.0, 165600.0, 152000.0, 192000.0, 254200.0, 150000.0, 212500.0, 80400.0, 206500.0, 331100.0, 201400.0, 188400.0, 195400.0, 442500.0, 152700.0, 500001.0, 239800.0, 159400.0, 91800.0, 240900.0, 136400.0, 103600.0, 132500.0, 292900.0, 62800.0, 112100.0, 89100.0, 120700.0, 471400.0, 314700.0, 226400.0, 409700.0, 149000.0, 171700.0, 235500.0, 322800.0, 244500.0, 162200.0, 340900.0, 57400.0, 198900.0, 109700.0, 137500.0, 85700.0, 98300.0, 178200.0, 137500.0, 275000.0, 381500.0, 500001.0, 500001.0, 179200.0, 204500.0, 394100.0, 184400.0, 174000.0, 80700.0, 189600.0, 60000.0, 126600.0, 262500.0, 139200.0, 51300.0, 229200.0, 101100.0, 97700.0, 158300.0, 349100.0, 85500.0, 214100.0, 227100.0, 155700.0, 66800.0, 207300.0, 222800.0, 354500.0, 340500.0, 52900.0, 140600.0, 150800.0, 56100.0, 259600.0, 318900.0, 148400.0, 289900.0, 161800.0, 255000.0, 87500.0, 245000.0, 305000.0, 215000.0, 249000.0, 500001.0, 320000.0, 174000.0, 292500.0, 500001.0, 289900.0, 438400.0, 182000.0, 170500.0, 69200.0, 95600.0, 272800.0, 81300.0, 272400.0, 152600.0, 55900.0, 213500.0, 331300.0, 201800.0, 57100.0, 331800.0, 365900.0, 127500.0, 111800.0, 353700.0, 229300.0, 87500.0, 237500.0, 113300.0, 112500.0, 138500.0, 307400.0, 100900.0, 97800.0, 176700.0, 218000.0, 290600.0, 157700.0, 348000.0, 67200.0, 260400.0, 123600.0, 67500.0, 130700.0, 66000.0, 166600.0, 225600.0, 257100.0, 500001.0, 113900.0, 91000.0, 217400.0, 96000.0, 129200.0, 350200.0, 442100.0, 222900.0, 81300.0, 160600.0, 500001.0, 341200.0, 287900.0, 344700.0, 180000.0, 167800.0, 55000.0, 50800.0, 142600.0, 235800.0, 112700.0, 210200.0, 210700.0, 65400.0, 162500.0, 150300.0, 500001.0, 101400.0, 221800.0, 260300.0, 178800.0, 170400.0, 319400.0, 190600.0, 184100.0, 191100.0, 149600.0, 500001.0, 183400.0, 444100.0, 242700.0, 76200.0, 132900.0, 409800.0, 112500.0, 376600.0, 50500.0, 500001.0, 209500.0, 77800.0, 299700.0, 375000.0, 156500.0, 240000.0, 77200.0, 98500.0, 500001.0, 110400.0, 86400.0, 230400.0, 163900.0, 500001.0, 49500.0, 107400.0, 362500.0, 145000.0, 218500.0, 130100.0, 146000.0, 152500.0, 457200.0, 165200.0, 394700.0, 144400.0, 136600.0, 216400.0, 139000.0, 103800.0, 488500.0, 227100.0, 238000.0, 215600.0, 292300.0, 145900.0, 187300.0, 185400.0, 280000.0, 141100.0, 190900.0, 262500.0, 442000.0, 274800.0, 85500.0, 231800.0, 302000.0, 235800.0, 72200.0, 182400.0, 500001.0, 78700.0, 181300.0, 198000.0, 199600.0, 63300.0, 94000.0, 186800.0, 117000.0, 117800.0, 121000.0, 230900.0, 427300.0, 128100.0, 384700.0, 290400.0, 91300.0, 61900.0, 232200.0, 129600.0, 127500.0, 150500.0, 187500.0, 437900.0, 126500.0, 453400.0, 229400.0, 364900.0, 191900.0, 87500.0, 30000.0, 335700.0, 242100.0, 173700.0, 54100.0, 207800.0, 112500.0, 166700.0, 271800.0, 141100.0, 375000.0, 161600.0, 159400.0, 86300.0, 256300.0, 213200.0, 254100.0, 132600.0, 169300.0, 347700.0, 159700.0, 90900.0, 290500.0, 189900.0, 495600.0, 333300.0, 183800.0, 189000.0, 157500.0, 66600.0, 132400.0, 156000.0, 348100.0, 226400.0, 74200.0, 158300.0, 500001.0, 165500.0, 329500.0, 139600.0, 152900.0, 367300.0, 70000.0, 97400.0, 65900.0, 49300.0, 154100.0, 272800.0, 247100.0, 268800.0, 247600.0, 416800.0, 121600.0, 171700.0, 173800.0, 235600.0, 260100.0, 200000.0, 296600.0, 374600.0, 177800.0, 269500.0, 62000.0, 197600.0, 52700.0, 191400.0, 317700.0, 329400.0, 330700.0, 187400.0, 286500.0, 500001.0, 133900.0, 199800.0, 45000.0, 354600.0, 263800.0, 278400.0, 160400.0, 241300.0, 208300.0, 263600.0, 145000.0, 132500.0, 183800.0, 81100.0, 176500.0, 255500.0, 166100.0, 102000.0, 86100.0, 100600.0, 500000.0, 209900.0, 52500.0, 262900.0, 158800.0, 209500.0, 350000.0, 217100.0, 141400.0, 93400.0, 198200.0, 187200.0, 185300.0, 500001.0, 281300.0, 103600.0, 287900.0, 208300.0, 175000.0, 132700.0, 172000.0, 500001.0, 64000.0, 227900.0, 63100.0, 84100.0, 339200.0, 156300.0, 383600.0, 137100.0, 56800.0, 70000.0, 96300.0, 92600.0, 359100.0, 158700.0, 500001.0, 114600.0, 410200.0, 281900.0, 101700.0, 169300.0, 207800.0, 327200.0, 277900.0, 111400.0, 80600.0, 207500.0, 275300.0, 421000.0, 128800.0, 313900.0, 67600.0, 64400.0, 153900.0, 130700.0, 238500.0, 379600.0, 146500.0, 150300.0, 80300.0, 293300.0, 288000.0, 144100.0, 127000.0, 152100.0, 156800.0, 104900.0, 500001.0, 134400.0, 500001.0, 272800.0, 151600.0, 362600.0, 169200.0, 140400.0, 43700.0, 136000.0, 264400.0, 152200.0, 137500.0, 214700.0, 170900.0, 236200.0, 297800.0, 88500.0, 127600.0, 80200.0, 306000.0, 436400.0, 238900.0, 231700.0, 122900.0, 218200.0, 397000.0, 260300.0, 435700.0, 164000.0, 440500.0, 85400.0, 101900.0, 159400.0, 190300.0, 100000.0, 139600.0, 500001.0, 154500.0, 170500.0, 110600.0, 191200.0, 287200.0, 150100.0, 238300.0, 154200.0, 280500.0, 161900.0, 265600.0, 122700.0, 231200.0, 319100.0, 231300.0, 500001.0, 121200.0, 222500.0, 450000.0, 102100.0, 201200.0, 104200.0, 500001.0, 132000.0, 221100.0, 151600.0, 146900.0, 151200.0, 165100.0, 213600.0, 213500.0, 500001.0, 438000.0, 183800.0, 350000.0, 159300.0, 129100.0, 76600.0, 225000.0, 230800.0, 431800.0, 191000.0, 84700.0, 152500.0, 67600.0, 198200.0, 306300.0, 122100.0, 276100.0, 103000.0, 409100.0, 135200.0, 121600.0, 182800.0, 228000.0, 110000.0, 111200.0, 84700.0, 447300.0, 88300.0, 87100.0, 187500.0, 146900.0, 103100.0, 343700.0, 98200.0, 262500.0, 77400.0, 135100.0, 134700.0, 231300.0, 158600.0, 101600.0, 122000.0, 380000.0, 189400.0, 440000.0, 70000.0, 70000.0, 333500.0, 101800.0, 500001.0, 360500.0, 169500.0, 205600.0, 166300.0, 32500.0, 362700.0, 174500.0, 197600.0, 183000.0, 158300.0, 100200.0, 87500.0, 461100.0, 190200.0, 232300.0, 221600.0, 226900.0, 224200.0, 119800.0, 78200.0, 165100.0, 213900.0, 69700.0, 105800.0, 75000.0, 91700.0, 269500.0, 68200.0, 165800.0, 154600.0, 472700.0, 345900.0, 230700.0, 300000.0, 249400.0, 435700.0, 225800.0, 175000.0, 178400.0, 276000.0, 115900.0, 214300.0, 118300.0, 500001.0, 152100.0, 140400.0, 222600.0, 444500.0, 500000.0, 163300.0, 193800.0, 90500.0, 115200.0, 147000.0, 273900.0, 190900.0, 74800.0, 500001.0, 118500.0, 500001.0, 55000.0, 58400.0, 95800.0, 99200.0, 167400.0, 70500.0, 67500.0, 75700.0, 183000.0, 500001.0, 97300.0, 230000.0, 82900.0, 52200.0, 114800.0, 88000.0, 224200.0, 150000.0, 341700.0, 181700.0, 140600.0, 72700.0, 210900.0, 97700.0, 109700.0, 165600.0, 230600.0, 163800.0, 95800.0, 48100.0, 44400.0, 237900.0, 284800.0, 164800.0, 200000.0, 77800.0, 186000.0, 169700.0, 418800.0, 73300.0, 87000.0, 168200.0, 154300.0, 225000.0, 333000.0, 225900.0, 138100.0, 112700.0, 231600.0, 419100.0, 221100.0, 155400.0, 151700.0, 248900.0, 153200.0, 126500.0, 240000.0, 186100.0, 500001.0, 181600.0, 178100.0, 69200.0, 66800.0, 500001.0, 181300.0, 396400.0, 187500.0, 297900.0, 345400.0, 245100.0, 105500.0, 101100.0, 141700.0, 430900.0, 286300.0, 113000.0, 466700.0, 168600.0, 360500.0, 256400.0, 113900.0, 350400.0, 209100.0, 131500.0, 216700.0, 101300.0, 202800.0, 117600.0, 292600.0, 500001.0, 130300.0, 92400.0, 112500.0, 154200.0, 104000.0, 121600.0, 206300.0, 108300.0, 349400.0, 83300.0, 245800.0, 91500.0, 500001.0, 500001.0, 190500.0, 108300.0, 89600.0, 500001.0, 94600.0, 67500.0, 177500.0, 261300.0, 500001.0, 168400.0, 245300.0, 240000.0, 156500.0, 500001.0, 235600.0, 185600.0, 316700.0, 118800.0, 248500.0, 236500.0, 94600.0, 176800.0, 148600.0, 195300.0, 215900.0, 126600.0, 173900.0, 183000.0, 74300.0, 224700.0, 101600.0, 391000.0, 265000.0, 500001.0, 186500.0, 78000.0, 80800.0, 189600.0, 199200.0, 189600.0, 160000.0, 375300.0, 166700.0, 215600.0, 228600.0, 171300.0, 431000.0, 275100.0, 276800.0, 46300.0, 144000.0, 94300.0, 157600.0, 194500.0, 351100.0, 453400.0, 224600.0, 155600.0, 242000.0, 70000.0, 71300.0, 66800.0, 153100.0, 137500.0, 230400.0, 242200.0, 301900.0, 415800.0, 156500.0, 78600.0, 441400.0, 184300.0, 276500.0, 232800.0, 60400.0, 224100.0, 439000.0, 123100.0, 255700.0, 57600.0, 199800.0, 51300.0, 348200.0, 362800.0, 240300.0, 73600.0, 172600.0, 229000.0, 166300.0, 83300.0, 500001.0, 332900.0, 54300.0, 241700.0, 387500.0, 136400.0, 98300.0, 176000.0, 63000.0, 236900.0, 97200.0, 220000.0, 105800.0, 270900.0, 99400.0, 166300.0, 143800.0, 140600.0, 330900.0, 156900.0, 500001.0, 162500.0, 124800.0, 216100.0, 171400.0, 325600.0, 109800.0, 276200.0, 129900.0, 292300.0, 341500.0, 66800.0, 238800.0, 77400.0, 82400.0, 359900.0, 465700.0, 214000.0, 107100.0, 157800.0, 119300.0, 232900.0, 179500.0, 70100.0, 55000.0, 65900.0, 99600.0, 500001.0, 164100.0, 77000.0, 140300.0, 172900.0, 500001.0, 314300.0, 500001.0, 500001.0, 143000.0, 280600.0, 375000.0, 137500.0, 337100.0, 128000.0, 185400.0, 63000.0, 109500.0, 400000.0, 151900.0, 56300.0, 102500.0, 225000.0, 145500.0, 363100.0, 249000.0, 415300.0, 267400.0, 75000.0, 250000.0, 161800.0, 97500.0, 111500.0, 87300.0, 272900.0, 124400.0, 228700.0, 229500.0, 162500.0, 80000.0, 118800.0, 244200.0, 187500.0, 246000.0, 102600.0, 116700.0, 137500.0, 171900.0, 103100.0, 239100.0, 194000.0, 219900.0, 380000.0, 155700.0, 89900.0, 89300.0, 55000.0, 49800.0, 146400.0, 278000.0, 288700.0, 129200.0, 221600.0, 85600.0, 160400.0, 57600.0, 348500.0, 199400.0, 97100.0, 58100.0, 301000.0, 74200.0, 249400.0, 267000.0, 119900.0, 77700.0, 143400.0, 61200.0, 206800.0, 328200.0, 360600.0, 107800.0, 51500.0, 67500.0, 184100.0, 200000.0, 354000.0, 393800.0, 132100.0, 306500.0, 134900.0, 319300.0, 303900.0, 350000.0, 231200.0, 131300.0, 120800.0, 135200.0, 68900.0, 425000.0, 160500.0, 151000.0, 349500.0, 60200.0, 396400.0, 278500.0, 239300.0, 224900.0, 91300.0, 111400.0, 150800.0, 64700.0, 358800.0, 232800.0, 54400.0, 98200.0, 225800.0, 116100.0, 196400.0, 123200.0, 156400.0, 166800.0, 215900.0, 117300.0, 243200.0, 72900.0, 191700.0, 60000.0, 195400.0, 111600.0, 268500.0, 260000.0, 89400.0, 235200.0, 386100.0, 187500.0, 223400.0, 120300.0, 135800.0, 307400.0, 326800.0, 70300.0, 68200.0, 114600.0, 177200.0, 81900.0, 90600.0, 56800.0, 323800.0, 244400.0, 144300.0, 164200.0, 237600.0, 243000.0, 83300.0, 87500.0, 131700.0, 47000.0, 195300.0, 184100.0, 128800.0, 118200.0, 212800.0, 141300.0, 227100.0, 80800.0, 201300.0, 183300.0, 155000.0, 143800.0, 137500.0, 280100.0, 245900.0, 243600.0, 103000.0, 103800.0, 235900.0, 161900.0, 394400.0, 145800.0, 184800.0, 242300.0, 335500.0, 165500.0, 204800.0, 159700.0, 169100.0, 478600.0, 258900.0, 324000.0, 103100.0, 138100.0, 91600.0, 228900.0, 138800.0, 252200.0, 420300.0, 243600.0, 142100.0, 67500.0, 92800.0, 190800.0, 223900.0, 143400.0, 132700.0, 99000.0, 67700.0, 227400.0, 228600.0, 135800.0, 362100.0, 281300.0, 500001.0, 90600.0, 66300.0, 150200.0, 170300.0, 99300.0, 322900.0, 213200.0, 217000.0, 267900.0, 206300.0, 376800.0, 87500.0, 304700.0, 460200.0, 128500.0, 284600.0, 119600.0, 208600.0, 117500.0, 66900.0, 204800.0, 74600.0, 109100.0, 114300.0, 308300.0, 113000.0, 91700.0, 134200.0, 425000.0, 53900.0, 310600.0, 241700.0, 226800.0, 100800.0, 238000.0, 245500.0, 156500.0, 115600.0, 66400.0, 58800.0, 223600.0, 169300.0, 166700.0, 225000.0, 72600.0, 160300.0, 147500.0, 91200.0, 208300.0, 335300.0, 58000.0, 226500.0, 345200.0, 106800.0, 500001.0, 275000.0, 95800.0, 97200.0, 155000.0, 400000.0, 500001.0, 304300.0, 359200.0, 144700.0, 352800.0, 355600.0, 99100.0, 250400.0, 105600.0, 500001.0, 162000.0, 272200.0, 245900.0, 183300.0, 220700.0, 161000.0, 303900.0, 266200.0, 90100.0, 87500.0, 209400.0, 188700.0, 101400.0, 387500.0, 359100.0, 327300.0, 279200.0, 233600.0, 163500.0, 124200.0, 450000.0, 111900.0, 90800.0, 120600.0, 483800.0, 366700.0, 201000.0, 333600.0, 362500.0, 170100.0, 246700.0, 161200.0, 147000.0, 117900.0, 111300.0, 266500.0, 113500.0, 329100.0, 500001.0, 236500.0, 122200.0, 81900.0, 386400.0, 184800.0, 160700.0, 101600.0, 424000.0, 262500.0, 369400.0, 115100.0, 281700.0, 98100.0, 131100.0, 251800.0, 232700.0, 139200.0, 71500.0, 340500.0, 270800.0, 155600.0, 89200.0, 167000.0, 103100.0, 180500.0, 51200.0, 204600.0, 387200.0, 162500.0, 120400.0, 139700.0, 98200.0, 269400.0, 269100.0, 500001.0, 49600.0, 58000.0, 65900.0, 175400.0, 391800.0, 280800.0, 90700.0, 500001.0, 92300.0, 227100.0, 162500.0, 290900.0, 183100.0, 283200.0, 177400.0, 238700.0, 321300.0, 261500.0, 99300.0, 226100.0, 51700.0, 156900.0, 160900.0, 222400.0, 305200.0, 138800.0, 230700.0, 94300.0, 97200.0, 382100.0, 193200.0, 209500.0, 231400.0, 89300.0, 196100.0, 113500.0, 178400.0, 406500.0, 228200.0, 234800.0, 231300.0, 500001.0, 184100.0, 213700.0, 500001.0, 169200.0, 232400.0, 351700.0, 234600.0, 112500.0, 145200.0, 87200.0, 53500.0, 43800.0, 94200.0, 218800.0, 191900.0, 132200.0, 46800.0, 149700.0, 126300.0, 255900.0, 94500.0, 237100.0, 500001.0, 87500.0, 126600.0, 245100.0, 157400.0, 78400.0, 218100.0, 350000.0, 198400.0, 143900.0, 337900.0, 76300.0, 160100.0, 130600.0, 112500.0, 329200.0, 233300.0, 99200.0, 197900.0, 204100.0, 350000.0, 62100.0, 140400.0, 152100.0, 130500.0, 195100.0, 199500.0, 137500.0, 275000.0, 122900.0, 109000.0, 121700.0, 302000.0, 241700.0, 153200.0, 169300.0, 358500.0, 175000.0, 112500.0, 376000.0, 118800.0, 401000.0, 107900.0, 339700.0, 158000.0, 468800.0, 63100.0, 184600.0, 189700.0, 190900.0, 67500.0, 85300.0, 173600.0, 129700.0, 181000.0, 500001.0, 376200.0, 243000.0, 148200.0, 238100.0, 450000.0, 240000.0, 500001.0, 274100.0, 190100.0, 268400.0, 349300.0, 275700.0, 182800.0, 500001.0, 213200.0, 179500.0, 138500.0, 181300.0, 340500.0, 225000.0, 68300.0, 237900.0, 149700.0, 125800.0, 87600.0, 125000.0, 168800.0, 135000.0, 86300.0, 64900.0, 106300.0, 285700.0, 272400.0, 217700.0, 91800.0, 163000.0, 195100.0, 32500.0, 275300.0, 136900.0, 194100.0, 230200.0, 143600.0, 39600.0, 59800.0, 210700.0, 156300.0, 215600.0, 177500.0, 218900.0, 128400.0, 190600.0, 398300.0, 367100.0, 122500.0, 376100.0, 157600.0, 178100.0, 72400.0, 287600.0, 175000.0, 280800.0, 160500.0, 158600.0, 144300.0, 136300.0, 218200.0, 466400.0, 386100.0, 251200.0, 190400.0, 223100.0, 361000.0, 275000.0, 70800.0, 460000.0, 67500.0, 225000.0, 176100.0, 52400.0, 167600.0, 99700.0, 88900.0, 223700.0, 180500.0, 93200.0, 173800.0, 490800.0, 104200.0, 276100.0, 254700.0, 212300.0, 87500.0, 94200.0, 163500.0, 500001.0, 125000.0, 182300.0, 111700.0, 146000.0, 500001.0, 320500.0, 48000.0, 168800.0, 67500.0, 173100.0, 150000.0, 329200.0, 141000.0, 378000.0, 80200.0, 203300.0, 394900.0, 84500.0, 327300.0, 201200.0, 162500.0, 266000.0, 221200.0, 176500.0, 206300.0, 500001.0, 186700.0, 112500.0, 90500.0, 190800.0, 198800.0, 165600.0, 500001.0, 145700.0, 91300.0, 140400.0, 191700.0, 61100.0, 153000.0, 85500.0, 164500.0, 386200.0, 341300.0, 246400.0, 121800.0, 132500.0, 98000.0, 241400.0, 171300.0, 120100.0, 500001.0, 192700.0, 232800.0, 191800.0, 196300.0, 293900.0, 84600.0, 500001.0, 500001.0, 107300.0, 150000.0, 204200.0, 268300.0, 103500.0, 161500.0, 222400.0, 166900.0, 229200.0, 205900.0, 95500.0, 162500.0, 240700.0, 82800.0, 230200.0, 185900.0, 105800.0, 118800.0, 194400.0, 183300.0, 292500.0, 144200.0, 500001.0, 134200.0, 52800.0, 188700.0, 204000.0, 179500.0, 98900.0, 279900.0, 327700.0, 208000.0, 208300.0, 112500.0, 234700.0, 214500.0, 338500.0, 500001.0, 284100.0, 500001.0, 181300.0, 125000.0, 412500.0, 112500.0, 90300.0, 96000.0, 142500.0, 266300.0, 165000.0, 118000.0, 156400.0, 426800.0, 308600.0, 239200.0, 109400.0, 66600.0, 368500.0, 330500.0, 273600.0, 500001.0, 321100.0, 242600.0, 231900.0, 151400.0, 227800.0, 380000.0, 95200.0, 193900.0, 260700.0, 191000.0, 64900.0, 128300.0, 189800.0, 183300.0, 151800.0, 257300.0, 137500.0, 125000.0, 218100.0, 168100.0, 231800.0, 149000.0, 170300.0, 391300.0, 282300.0, 500001.0, 135400.0, 328400.0, 350000.0, 182300.0, 500001.0, 192000.0, 240800.0, 175000.0, 126400.0, 125900.0, 194700.0, 341800.0, 211900.0, 137500.0, 270600.0, 172300.0, 262100.0, 149100.0, 339100.0, 248600.0, 128700.0, 343900.0, 175000.0, 287500.0, 143600.0, 346200.0, 232200.0, 200000.0, 241500.0, 67500.0, 191700.0, 178300.0, 178200.0, 133200.0, 273800.0, 152200.0, 187100.0, 137500.0, 110400.0, 240600.0, 162500.0, 83800.0, 265600.0, 211500.0, 173400.0, 310000.0, 99500.0, 191400.0, 220100.0, 167300.0, 65000.0, 141800.0, 290600.0, 319200.0, 118800.0, 200000.0, 219500.0, 289400.0, 116400.0, 162300.0, 114100.0, 71300.0, 190500.0, 197300.0, 72200.0, 103300.0, 143000.0, 244900.0, 500001.0, 183300.0, 86100.0, 218400.0, 110800.0, 211300.0, 338800.0, 123100.0, 269500.0, 321400.0, 81900.0, 500001.0, 304600.0, 72900.0, 158000.0, 62200.0, 116300.0, 314100.0, 362500.0, 500001.0, 74100.0, 150000.0, 270000.0, 120800.0, 250000.0, 72200.0, 375000.0, 239600.0, 183300.0, 161200.0, 251000.0, 45500.0, 178100.0, 258900.0, 145800.0, 84700.0, 216700.0, 130400.0, 158500.0, 117800.0, 215000.0, 268600.0, 100000.0, 332700.0, 186700.0, 53000.0, 149700.0, 345800.0, 124500.0, 475800.0, 500001.0, 500001.0, 175900.0, 183300.0, 253100.0, 117800.0, 143500.0, 500001.0, 142300.0, 121000.0, 268800.0, 330200.0, 121800.0, 416900.0, 266700.0, 189400.0, 443600.0, 163000.0, 382500.0, 106300.0, 57800.0, 57500.0, 238000.0, 218900.0, 118600.0, 309100.0, 213200.0, 180200.0, 470800.0, 337200.0, 95300.0, 103900.0, 500001.0, 215000.0, 189400.0, 171400.0, 357000.0, 196200.0, 98500.0, 178800.0, 226600.0, 171400.0, 271400.0, 216800.0, 67900.0, 171300.0, 110900.0, 332500.0, 150000.0, 173400.0, 237500.0, 65800.0, 173100.0, 321200.0, 265000.0, 87500.0, 210300.0, 247800.0, 375700.0, 113700.0, 500001.0, 45600.0, 130600.0, 198600.0, 436700.0, 92600.0, 150000.0, 359900.0, 500001.0, 93800.0, 383300.0, 191700.0, 267200.0, 280200.0, 52100.0, 110200.0, 164600.0, 324800.0, 122700.0, 216700.0, 73600.0, 254100.0, 187500.0, 166000.0, 157900.0, 193800.0, 140800.0, 95300.0, 227000.0, 265600.0, 90200.0, 183200.0, 184600.0, 162500.0, 125000.0, 97200.0, 355300.0, 136200.0, 125000.0, 305600.0, 176600.0, 348600.0, 299200.0, 72100.0, 109500.0, 281100.0, 156300.0, 234200.0, 59700.0, 250000.0, 203300.0, 173100.0, 300300.0, 238000.0, 179000.0, 166000.0, 160700.0, 147500.0, 192100.0, 56400.0, 304800.0, 439800.0, 137500.0, 137500.0, 134600.0, 262500.0, 83400.0, 113500.0, 71400.0, 204500.0, 282400.0, 145700.0, 264700.0, 275000.0, 171600.0, 216700.0, 180700.0, 212500.0, 167700.0, 42500.0, 238400.0, 144000.0, 43600.0, 363500.0, 186200.0, 67500.0, 159600.0, 195600.0, 154800.0, 450700.0, 69900.0, 132200.0, 328000.0, 272800.0, 66300.0, 129300.0, 77100.0, 155500.0, 126000.0, 240300.0, 133000.0, 94900.0, 203900.0, 61000.0, 139200.0, 229200.0, 260600.0, 251100.0, 327600.0, 167900.0, 212000.0, 233300.0, 255400.0, 67500.0, 162000.0, 117200.0, 109700.0, 275000.0, 111800.0, 166000.0, 92700.0, 186000.0, 97300.0, 241300.0, 258500.0, 138200.0, 196100.0, 419200.0, 138800.0, 376600.0, 165100.0, 181800.0, 211800.0, 112500.0, 144300.0, 222000.0, 53600.0, 130800.0, 227600.0, 275000.0, 191900.0, 64100.0, 68100.0, 255200.0, 244100.0, 337000.0, 208300.0, 500001.0, 172100.0, 128900.0, 144900.0, 72000.0, 142900.0, 436100.0, 204200.0, 195700.0, 90500.0, 236100.0, 186900.0, 162500.0, 112500.0, 58000.0, 307400.0, 353800.0, 290900.0, 358600.0, 246200.0, 72100.0, 107500.0, 78600.0, 187600.0, 97900.0, 186600.0, 196900.0, 111500.0, 156300.0, 218200.0, 293500.0, 59000.0, 162800.0, 102900.0, 54300.0, 166300.0, 152500.0, 142600.0, 150000.0, 84400.0, 210000.0, 137500.0, 350000.0, 171900.0, 143100.0, 452300.0, 176000.0, 112700.0, 68400.0, 190700.0, 331800.0, 184000.0, 162500.0, 129400.0, 172800.0, 191100.0, 294900.0, 188600.0, 63800.0, 466100.0, 186800.0, 139300.0, 330300.0, 284800.0, 198800.0, 69300.0, 145500.0, 166200.0, 273800.0, 149000.0, 215400.0, 287800.0, 406300.0, 160300.0, 240000.0, 60900.0, 142300.0, 84800.0, 205400.0, 396800.0, 135400.0, 115400.0, 162500.0, 425000.0, 114300.0, 500001.0, 500001.0, 48700.0, 294700.0, 300500.0, 343200.0, 92000.0, 278100.0, 380900.0, 339800.0, 96800.0, 270000.0, 190000.0, 181300.0, 100600.0, 170800.0, 152700.0, 353600.0, 200000.0, 213400.0, 153100.0, 379700.0, 275000.0, 78600.0, 188300.0, 138000.0, 500001.0, 197400.0, 244600.0, 165300.0, 300400.0, 88200.0, 500001.0, 163100.0, 191900.0, 355300.0, 430300.0, 42700.0, 378100.0, 264000.0, 111900.0, 224500.0, 125000.0, 64100.0, 88400.0, 389200.0, 193800.0, 500001.0, 187500.0, 210300.0, 212800.0, 177500.0, 181300.0, 159500.0, 177500.0, 116100.0, 500001.0, 162500.0, 135500.0, 99600.0, 118500.0, 156900.0, 147200.0, 85800.0, 500001.0, 170900.0, 257900.0, 164300.0, 438900.0, 98000.0, 288700.0, 203200.0, 283600.0, 162500.0, 95300.0, 161700.0, 187500.0, 158000.0, 456100.0, 102900.0, 165400.0, 54400.0, 147200.0, 95000.0, 143000.0, 97200.0, 112900.0, 173300.0, 393100.0, 63000.0, 297300.0, 242100.0, 293900.0, 113100.0, 137200.0, 297100.0, 243500.0, 98800.0, 244800.0, 327800.0, 437500.0, 163500.0, 102400.0, 112200.0, 165900.0, 250000.0, 158100.0, 87500.0, 135000.0, 79500.0, 162100.0, 228400.0, 140600.0, 71300.0, 266300.0, 81300.0, 185000.0, 329300.0, 168800.0, 110400.0, 500001.0, 85700.0, 63300.0, 500001.0, 183800.0, 150700.0, 242900.0, 326700.0, 220400.0, 240700.0, 500001.0, 98400.0, 166900.0, 205400.0, 90100.0, 189800.0, 162500.0, 333700.0, 85100.0, 134400.0, 144600.0, 215000.0, 97500.0, 210000.0, 312000.0, 300000.0, 202400.0, 254100.0, 116000.0, 167000.0, 396900.0, 227000.0, 500001.0, 500001.0, 199000.0, 369100.0, 22500.0, 95700.0, 365900.0, 215800.0, 205500.0, 500001.0, 250800.0, 363600.0, 294200.0, 171400.0, 261300.0, 114900.0, 258400.0, 106300.0, 98900.0, 242000.0, 146100.0, 154600.0, 197500.0, 289600.0, 325700.0, 53300.0, 87800.0, 178300.0, 197100.0, 123400.0, 292900.0, 109800.0, 124200.0, 57300.0, 404700.0, 187500.0, 63700.0, 101200.0, 500000.0, 45500.0, 463500.0, 181300.0, 307400.0, 371800.0, 56000.0, 289300.0, 128200.0, 271400.0, 182100.0, 219400.0, 78400.0, 96100.0, 394700.0, 222500.0, 87500.0, 137500.0, 246100.0, 175700.0, 164100.0, 132800.0, 129200.0, 224100.0, 103900.0, 112800.0, 243800.0, 88600.0, 186100.0, 186100.0, 160900.0, 149200.0, 76400.0, 500001.0, 95600.0, 237500.0, 418300.0, 197500.0, 66400.0, 269000.0, 219000.0, 156900.0, 134200.0, 204200.0, 218800.0, 181800.0, 168500.0, 299200.0, 166000.0, 193500.0, 212500.0, 386200.0, 268400.0, 128100.0, 271200.0, 88400.0, 101500.0, 495500.0, 167300.0, 141300.0, 500001.0, 321300.0, 82100.0, 92900.0, 168000.0, 135000.0, 243100.0, 157100.0, 97900.0, 177700.0, 131800.0, 268800.0, 314300.0, 183600.0, 100000.0, 232200.0, 138100.0, 162500.0, 457300.0, 139200.0, 244500.0, 61600.0, 237000.0, 112500.0, 122300.0, 500001.0, 110100.0, 300900.0, 167500.0, 246400.0, 279300.0, 414000.0, 58700.0, 294900.0, 365200.0, 368300.0, 239200.0, 121400.0, 215000.0, 113900.0, 236400.0, 171700.0, 248500.0, 58200.0, 67800.0, 75700.0, 178000.0, 60400.0, 226100.0, 179500.0, 158200.0, 278600.0, 480800.0, 192300.0, 141700.0, 330800.0, 100000.0, 103200.0, 53500.0, 185700.0, 192900.0, 256000.0, 138500.0, 69600.0, 246800.0, 265900.0, 162500.0, 322700.0, 148900.0, 429000.0, 500001.0, 254100.0, 328100.0, 169100.0, 255400.0, 76400.0, 151400.0, 311100.0, 187500.0, 213200.0, 208300.0, 202800.0, 90100.0, 92400.0, 136500.0, 92200.0, 79400.0, 95500.0, 249200.0, 111700.0, 190600.0, 191800.0, 500001.0, 50800.0, 163500.0, 368900.0, 57000.0, 75000.0, 229000.0, 340900.0, 276600.0, 188400.0, 73900.0, 150000.0, 147100.0, 186300.0, 234900.0, 122500.0, 398900.0, 250000.0, 113600.0, 244800.0, 225000.0, 186900.0, 309700.0, 130600.0, 342300.0, 65000.0, 278900.0, 168800.0, 418400.0, 109000.0, 160100.0, 345000.0, 418800.0, 209100.0, 97500.0, 500001.0, 108600.0, 133300.0, 50900.0, 311600.0, 365500.0, 175000.0, 170300.0, 279500.0, 125900.0, 155700.0, 83300.0, 156300.0, 214800.0, 110300.0, 165000.0, 349500.0, 500001.0, 125700.0, 193100.0, 500001.0, 199600.0, 500001.0, 163400.0, 137500.0, 121500.0, 381200.0, 111900.0, 58000.0, 63800.0, 363200.0, 206400.0, 370800.0, 81800.0, 271500.0, 197000.0, 73400.0, 301700.0, 119600.0, 258100.0, 17500.0, 145700.0, 102000.0, 400000.0, 99200.0, 485400.0, 477100.0, 66900.0, 375400.0, 169600.0, 247600.0, 164700.0, 309400.0, 185300.0, 230200.0, 156100.0, 302500.0, 97800.0, 251300.0, 281300.0, 153100.0, 355600.0, 101300.0, 266000.0, 160700.0, 305800.0, 147500.0, 186300.0, 162600.0, 484700.0, 175000.0, 127200.0, 365100.0, 236500.0, 214000.0, 225800.0, 128900.0, 73500.0, 114700.0, 175000.0, 318100.0, 331200.0, 192500.0, 159500.0, 162700.0, 67300.0, 212900.0, 140600.0, 186500.0, 393200.0, 55300.0, 409800.0, 191800.0, 99500.0, 175000.0, 158000.0, 106900.0, 277200.0, 326700.0, 96000.0, 431800.0, 172200.0, 112500.0, 225000.0, 259500.0, 291500.0, 50400.0, 150000.0, 224600.0, 130600.0, 69700.0, 353000.0, 231200.0, 205100.0, 398100.0, 141300.0, 173300.0, 127900.0, 289500.0, 95900.0, 133400.0, 146800.0, 181300.0, 54600.0, 55500.0, 150000.0, 102800.0, 93300.0, 123100.0, 231800.0, 159500.0, 108300.0, 43100.0, 105600.0, 168300.0, 28300.0, 282900.0, 234300.0, 212500.0, 205600.0, 150000.0, 193000.0, 14999.0, 170000.0, 168300.0, 93500.0, 191800.0, 181500.0, 195400.0, 121900.0, 142600.0, 158300.0, 165300.0, 155000.0, 92100.0, 68100.0, 276300.0, 335200.0, 121100.0, 177100.0, 187500.0, 192000.0, 301200.0, 159100.0, 500001.0, 273700.0, 233900.0, 500001.0, 222800.0, 140200.0, 159800.0, 118800.0, 500001.0, 105500.0, 217800.0, 187500.0, 287300.0, 131000.0, 55800.0, 161900.0, 253600.0, 155000.0, 311500.0, 87800.0, 105800.0, 137000.0, 156300.0, 154700.0, 167400.0, 457800.0, 500001.0, 188300.0, 442900.0, 500001.0, 500001.0, 187500.0, 57400.0, 387500.0, 272000.0, 167600.0, 403700.0, 191700.0, 500001.0, 187100.0, 96400.0, 92400.0, 213900.0, 155000.0, 133000.0, 275000.0, 238500.0, 158300.0, 70500.0, 222300.0, 411900.0, 185100.0, 500001.0, 139800.0, 178100.0, 159300.0, 125000.0, 197100.0, 64000.0, 194600.0, 162500.0, 84400.0, 61300.0, 368200.0, 122100.0, 86100.0, 209900.0, 170800.0, 175000.0, 126600.0, 282200.0, 207700.0, 104200.0, 214300.0, 80300.0, 273100.0, 237500.0, 73800.0, 184400.0, 342000.0, 129700.0, 224000.0, 156900.0, 394900.0, 157700.0, 119900.0, 316900.0, 212500.0, 68300.0, 165100.0, 93600.0, 88800.0, 184700.0, 327100.0, 134300.0, 500001.0, 162100.0, 500001.0, 229200.0, 112500.0, 354200.0, 362100.0, 162500.0, 100500.0, 67700.0, 57100.0, 164800.0, 204200.0, 342400.0, 181500.0, 304500.0, 235300.0, 105300.0, 291400.0, 159600.0, 111800.0, 119600.0, 329700.0, 136700.0, 101400.0, 118600.0, 133300.0, 52500.0, 234600.0, 75000.0, 176300.0, 346800.0, 251800.0, 54200.0, 67500.0, 142500.0, 101600.0, 227300.0, 337200.0, 118800.0, 67500.0, 202000.0, 94200.0, 96200.0, 225000.0, 258700.0, 103100.0, 117200.0, 164800.0, 144000.0, 500001.0, 155400.0, 114700.0, 123100.0, 226800.0, 180400.0, 310900.0, 148800.0, 84700.0, 63700.0, 262000.0, 438100.0, 226500.0, 87600.0, 345500.0, 140100.0, 366700.0, 270800.0, 168800.0, 293800.0, 251800.0, 85100.0, 267500.0, 140900.0, 285500.0, 151300.0, 225000.0, 44600.0, 450000.0, 229300.0, 225000.0, 138000.0, 96900.0, 161200.0, 144300.0, 450000.0, 122500.0, 248700.0, 134200.0, 348100.0, 78300.0, 107800.0, 146900.0, 188300.0, 162500.0, 58600.0, 183700.0, 180400.0, 175000.0, 137200.0, 110000.0, 233400.0, 128300.0, 350000.0, 155200.0, 256700.0, 85900.0, 73200.0, 258300.0, 62800.0, 485000.0, 124000.0, 158500.0, 97300.0, 186700.0, 344100.0, 166700.0, 108900.0, 482900.0, 204400.0, 230700.0, 53000.0, 178500.0, 500001.0, 500001.0, 84900.0, 500001.0, 246800.0, 156300.0, 234600.0, 48800.0, 145800.0, 271500.0, 500001.0, 87500.0, 69100.0, 139300.0, 273400.0, 229700.0, 68200.0, 114300.0, 159900.0, 116600.0, 209900.0, 68900.0, 101400.0, 214000.0, 355300.0, 90300.0, 159300.0, 63900.0, 218200.0, 253600.0, 81300.0, 188600.0, 165400.0, 106300.0, 210100.0, 147600.0, 112500.0, 175000.0, 156600.0, 117300.0, 229200.0, 350000.0, 171900.0, 199300.0, 251600.0, 300000.0, 158900.0, 216800.0, 198000.0, 356100.0, 192300.0, 314500.0, 50000.0, 162500.0, 167100.0, 138800.0, 147600.0, 238500.0, 110700.0, 333800.0, 192100.0, 294000.0, 154500.0, 151900.0, 500001.0, 322900.0, 165600.0, 221200.0, 170400.0, 198700.0, 162500.0, 411200.0, 335500.0, 149100.0, 381500.0, 183900.0, 91200.0, 411500.0, 220300.0, 158100.0, 69600.0, 270500.0, 261600.0, 389500.0, 75000.0, 177600.0, 170400.0, 154200.0, 131900.0, 44400.0, 145000.0, 224100.0, 187500.0, 192900.0, 88600.0, 183900.0, 225000.0, 182800.0, 137600.0, 265300.0, 36600.0, 125500.0, 138600.0, 487100.0, 178600.0, 134500.0, 306700.0, 115800.0, 91400.0, 210900.0, 259200.0, 347300.0, 168400.0, 150900.0, 113500.0, 302600.0, 423300.0, 492200.0, 190600.0, 245000.0, 55700.0, 84000.0, 275000.0, 189600.0, 275900.0, 319800.0, 291700.0, 67900.0, 189000.0, 90000.0, 335000.0, 176700.0, 98500.0, 200600.0, 60200.0, 191900.0, 191100.0, 337300.0, 225000.0, 290600.0, 121500.0, 293200.0, 107000.0, 266400.0, 76900.0, 220300.0, 101100.0, 474600.0, 65300.0, 113700.0, 214200.0, 216700.0, 198400.0, 212200.0, 222700.0, 265900.0, 37500.0, 265000.0, 108700.0, 46700.0, 187500.0, 61600.0, 343000.0, 166000.0, 500001.0, 137500.0, 90600.0, 77000.0, 148100.0, 91600.0, 150900.0, 155100.0, 89200.0, 215400.0, 55100.0, 197400.0, 154400.0, 141700.0, 98400.0, 152600.0, 109600.0, 171300.0, 104100.0, 153900.0, 270000.0, 286500.0, 335000.0, 137700.0, 232000.0, 393800.0, 70300.0, 141700.0, 156300.0, 450000.0, 199800.0, 95300.0, 86900.0, 187500.0, 221800.0, 58800.0, 134400.0, 238600.0, 160900.0, 136400.0, 144000.0, 159300.0, 155300.0, 142600.0, 120700.0, 126200.0, 213400.0, 116900.0, 185800.0, 356000.0, 150000.0, 88900.0, 259100.0, 500001.0, 127600.0, 69900.0, 137000.0, 273700.0, 92000.0, 118300.0, 410800.0, 100500.0, 492900.0, 118500.0, 113500.0, 89900.0, 500001.0, 500001.0, 146300.0, 113500.0, 275000.0, 102500.0, 147100.0, 225000.0, 139400.0, 175800.0, 57000.0, 269600.0, 272900.0, 76200.0, 484100.0, 180600.0, 238000.0, 137500.0, 186300.0, 192900.0, 84500.0, 107600.0, 55500.0, 265300.0, 388300.0, 482700.0, 198100.0, 92700.0, 346200.0, 38800.0, 56700.0, 123700.0, 93800.0, 93200.0, 44000.0, 69200.0, 301800.0, 254200.0, 209800.0, 184500.0, 73400.0, 339000.0, 93100.0, 202300.0, 133300.0, 270700.0, 240200.0, 139300.0, 57000.0, 170700.0, 119200.0, 177300.0, 289600.0, 297600.0, 109900.0, 147500.0, 78700.0, 160300.0, 77700.0, 473500.0, 500001.0, 133100.0, 93500.0, 280100.0, 256700.0, 288000.0, 161100.0, 137000.0, 62000.0, 443800.0, 68300.0, 262100.0, 109400.0, 409300.0, 175200.0, 147700.0, 287500.0, 93200.0, 93800.0, 172400.0, 318600.0, 185200.0, 65200.0, 179700.0, 159200.0, 151900.0, 71700.0, 245200.0, 228300.0, 196400.0, 192400.0, 65900.0, 282300.0, 185300.0, 88600.0, 67500.0, 143400.0, 119400.0, 215800.0, 257400.0, 373400.0, 152300.0, 245700.0, 80000.0, 137200.0, 266900.0, 395300.0, 222100.0, 500001.0, 500001.0, 232900.0, 259700.0, 215700.0, 243200.0, 221400.0, 112500.0, 388500.0, 410000.0, 163000.0, 500000.0, 231300.0, 76100.0, 458600.0, 366300.0, 296800.0, 58600.0, 84800.0, 117300.0, 126600.0, 170800.0, 149300.0, 119000.0, 375000.0, 284900.0, 170100.0, 500001.0, 98700.0, 60800.0, 142800.0, 223900.0, 137500.0, 297800.0, 112700.0, 113300.0, 121400.0, 248400.0, 407800.0, 356600.0, 106300.0, 121400.0, 240900.0, 247100.0, 137900.0, 86300.0, 500001.0, 216300.0, 305600.0, 158300.0, 452100.0, 95000.0, 105700.0, 84600.0, 240100.0, 162500.0, 96600.0, 92200.0, 228200.0, 113700.0, 69000.0, 500001.0, 225000.0, 174000.0, 500001.0, 253000.0, 277600.0, 285200.0, 90300.0, 189900.0, 316600.0, 301900.0, 93100.0, 94200.0, 213800.0, 187500.0, 500001.0, 325700.0, 300000.0, 143900.0, 500001.0, 264100.0, 62300.0, 138800.0, 105400.0, 63500.0, 500001.0, 97800.0, 127400.0, 135300.0, 156100.0, 446800.0, 65000.0, 151800.0, 192200.0, 153100.0, 165800.0, 254200.0, 234200.0, 112500.0, 118700.0, 240900.0, 283300.0, 450000.0, 52100.0, 55900.0, 88100.0, 248900.0, 68600.0, 156300.0, 272700.0, 340400.0, 218800.0, 70100.0, 500001.0, 162500.0, 111800.0, 110200.0, 74200.0, 103200.0, 172100.0, 132000.0, 166300.0, 107300.0, 107900.0, 94600.0, 66100.0, 158200.0, 95800.0, 117000.0, 170900.0, 92900.0, 162500.0, 193800.0, 134600.0, 123100.0, 115700.0, 83500.0, 62200.0, 74400.0, 180100.0, 195800.0, 500001.0, 144300.0, 125400.0, 80800.0, 65900.0, 157900.0, 500001.0, 180800.0, 236200.0, 103000.0, 216900.0, 383300.0, 500001.0, 83500.0, 214400.0, 100000.0, 78800.0, 97600.0, 178400.0, 287100.0, 270100.0, 185500.0, 90600.0, 213600.0, 124300.0, 205000.0, 256700.0, 392700.0, 133300.0, 187100.0, 255400.0, 347400.0, 171700.0, 112500.0, 82600.0, 48600.0, 134100.0, 225800.0, 500001.0, 470000.0, 225800.0, 158000.0, 117100.0, 416300.0, 120800.0, 226300.0, 122200.0, 100000.0, 229500.0, 195800.0, 85000.0, 264700.0, 455500.0, 176000.0, 81100.0, 166400.0, 82600.0, 272200.0, 271100.0, 239400.0, 171800.0, 121800.0, 173600.0, 239300.0, 58800.0, 287500.0, 70700.0, 181700.0, 113700.0, 224100.0, 351300.0, 301300.0, 80700.0, 152600.0, 237400.0, 179400.0, 500001.0, 170200.0, 165300.0, 225900.0, 159700.0, 363500.0, 132100.0, 376800.0, 96900.0, 316200.0, 323800.0, 387500.0, 149100.0, 500001.0, 225000.0, 178800.0, 87500.0, 130100.0, 500001.0, 349000.0, 73000.0, 244700.0, 275400.0, 246200.0, 236200.0, 232200.0, 53300.0, 163100.0, 72400.0, 234500.0, 150000.0, 116100.0, 181300.0, 121000.0, 88700.0, 182500.0, 197400.0, 128100.0, 76500.0, 300000.0, 500001.0, 160300.0, 335600.0, 157600.0, 190600.0, 180800.0, 104200.0, 111800.0, 194100.0, 253800.0, 129500.0, 117600.0, 339800.0, 342900.0, 195500.0, 83800.0, 94200.0, 140600.0, 160900.0, 169300.0, 275900.0, 146200.0, 202300.0, 154000.0, 135500.0, 235900.0, 128800.0, 249600.0, 300000.0, 134100.0, 308600.0, 350000.0, 110800.0, 190800.0, 108800.0, 144400.0, 162900.0, 163900.0, 98000.0, 132700.0, 283100.0, 407200.0, 248200.0, 64500.0, 500001.0, 194400.0, 137500.0, 127300.0, 85300.0, 194900.0, 221100.0, 192200.0, 404500.0, 73500.0, 233700.0, 118800.0, 70000.0, 182800.0, 500001.0, 157700.0, 247900.0, 500001.0, 357900.0, 56900.0, 302400.0, 125400.0, 386400.0, 175600.0, 110500.0, 386700.0, 137500.0, 228700.0, 149400.0, 73700.0, 500001.0, 132100.0, 86500.0, 417900.0, 172600.0, 99700.0, 72500.0, 180800.0, 308400.0, 288300.0, 302200.0, 288800.0, 100000.0, 233000.0, 136900.0, 209400.0, 246600.0, 65200.0, 491200.0, 356700.0, 164300.0, 88200.0, 155900.0, 191700.0, 84400.0, 190100.0, 112500.0, 115200.0, 174600.0, 113500.0, 152400.0, 250300.0, 183700.0, 500001.0, 310900.0, 230600.0, 68500.0, 267400.0, 145300.0, 282000.0, 282100.0, 189800.0, 254400.0, 161700.0, 188800.0, 500001.0, 94400.0, 342800.0, 191500.0, 209600.0, 235000.0, 231400.0, 130200.0, 208200.0, 500001.0, 168600.0, 228100.0, 126900.0, 135500.0, 156700.0, 208600.0, 436700.0, 71000.0, 88800.0, 341600.0, 120200.0, 148200.0, 500001.0, 375000.0, 137500.0, 64800.0, 231800.0, 160700.0, 251000.0, 142500.0, 176500.0, 177100.0, 311800.0, 84600.0, 122600.0, 198200.0, 500000.0, 279800.0, 195000.0, 202800.0, 354100.0, 259500.0, 500001.0, 272400.0, 183900.0, 285800.0, 225000.0, 292600.0, 55200.0, 262000.0, 158900.0, 172100.0, 191700.0, 225000.0, 108300.0, 113600.0, 100000.0, 191700.0, 117200.0, 110600.0, 80200.0, 98100.0, 253800.0, 48100.0, 192800.0, 132800.0, 196300.0, 320800.0, 319400.0, 203700.0, 207100.0, 79900.0, 500001.0, 330000.0, 139000.0, 187500.0, 448300.0, 176300.0, 175900.0, 104200.0, 162200.0, 166800.0, 161200.0, 153100.0, 156900.0, 158100.0, 76900.0, 165400.0, 73500.0, 118400.0, 142400.0, 280300.0, 107200.0, 183300.0, 98800.0, 234500.0, 143500.0, 108000.0, 97800.0, 70500.0, 225900.0, 239800.0, 136400.0, 180600.0, 239600.0, 265700.0, 204200.0, 122500.0, 204000.0, 195300.0, 215800.0, 500001.0, 75800.0, 265400.0, 273700.0, 116400.0, 59400.0, 137000.0, 119200.0, 244200.0, 170000.0, 280300.0, 285000.0, 102600.0, 120500.0, 361600.0, 455300.0, 213400.0, 158000.0, 217000.0, 63700.0, 244300.0, 151100.0, 110800.0, 433800.0, 72900.0, 108500.0, 452600.0, 467600.0, 263300.0, 266800.0, 500001.0, 72300.0, 151500.0]\n",
      "\n",
      "predicho: \n",
      "   [112500.0, 500001.0, 500001.0, 500001.0, 500001.0, 500001.0, 500001.0, 500001.0, 500001.0, 500001.0, 137500.0, 500001.0, 500001.0, 500001.0, 500001.0, 500001.0, 500001.0, 137500.0, 500001.0, 112500.0, 500001.0, 500001.0, 500001.0, 500001.0, 500001.0, 112500.0, 500001.0, 500001.0, 500001.0, 500001.0, 112500.0, 112500.0, 500001.0, 500001.0, 500001.0, 500001.0, 500001.0, 500001.0, 500001.0, 500001.0, 500001.0, 500001.0, 137500.0, 500001.0, 500001.0, 500001.0, 500001.0, 500001.0, 500001.0, 500001.0, 500001.0, 500001.0, 500001.0, 112500.0, 500001.0, 500001.0, 112500.0, 500001.0, 500001.0, 500001.0, 500001.0, 500001.0, 500001.0, 500001.0, 500001.0, 500001.0, 500001.0, 500001.0, 112500.0, 137500.0, 500001.0, 500001.0, 500001.0, 500001.0, 500001.0, 500001.0, 500001.0, 500001.0, 500001.0, 112500.0, 500001.0, 500001.0, 112500.0, 112500.0, 500001.0, 500001.0, 112500.0, 112500.0, 112500.0, 500001.0, 500001.0, 500001.0, 112500.0, 112500.0, 500001.0, 500001.0, 500001.0, 112500.0, 500001.0, 500001.0, 500001.0, 500001.0, 500001.0, 500001.0, 500001.0, 500001.0, 112500.0, 500001.0, 500001.0, 112500.0, 500001.0, 500001.0, 500001.0, 500001.0, 500001.0, 500001.0, 500001.0, 500001.0, 500001.0, 500001.0, 500001.0, 500001.0, 500001.0, 112500.0, 500001.0, 500001.0, 112500.0, 500001.0, 500001.0, 500001.0, 500001.0, 500001.0, 500001.0, 500001.0, 500001.0, 500001.0, 500001.0, 500001.0, 500001.0, 500001.0, 112500.0, 500001.0, 500001.0, 500001.0, 500001.0, 112500.0, 350000.0, 112500.0, 112500.0, 137500.0, 112500.0, 500001.0, 500001.0, 112500.0, 500001.0, 500001.0, 500001.0, 500001.0, 112500.0, 112500.0, 500001.0, 500001.0, 500001.0, 137500.0, 112500.0, 500001.0, 500001.0, 500001.0, 500001.0, 500001.0, 500001.0, 500001.0, 500001.0, 500001.0, 112500.0, 112500.0, 137500.0, 500001.0, 500001.0, 112500.0, 285400.0, 500001.0, 500001.0, 500001.0, 112500.0, 112500.0, 500001.0, 112500.0, 500001.0, 500001.0, 500001.0, 500001.0, 500001.0, 500001.0, 500001.0, 500001.0, 500001.0, 500001.0, 500001.0, 500001.0, 500001.0, 500001.0, 500001.0, 500001.0, 500001.0, 500001.0, 112500.0, 137500.0, 500001.0, 500001.0, 112500.0, 500001.0, 500001.0, 500001.0, 112500.0, 500001.0, 500001.0, 112500.0, 500001.0, 112500.0, 500001.0, 500001.0, 500001.0, 500001.0, 112500.0, 112500.0, 500001.0, 500001.0, 500001.0, 500001.0, 500001.0, 500001.0, 112500.0, 500001.0, 500001.0, 112500.0, 285400.0, 500001.0, 500001.0, 500001.0, 500001.0, 500001.0, 500001.0, 112500.0, 112500.0, 500001.0, 500001.0, 500001.0, 500001.0, 500001.0, 500001.0, 500001.0, 500001.0, 500001.0, 112500.0, 500001.0, 500001.0, 500001.0, 112500.0, 500001.0, 500001.0, 500001.0, 228700.0, 500001.0, 500001.0, 500001.0, 112500.0, 500001.0, 500001.0, 500001.0, 500001.0, 500001.0, 500001.0, 500001.0, 112500.0, 112500.0, 500001.0, 500001.0, 112500.0, 500001.0, 500001.0, 500001.0, 500001.0, 500001.0, 500001.0, 500001.0, 285400.0, 500001.0, 500001.0, 500001.0, 500001.0, 500001.0, 500001.0, 112500.0, 500001.0, 112500.0, 500001.0, 112500.0, 500001.0, 500001.0, 112500.0, 112500.0, 500001.0, 500001.0, 500001.0, 500001.0, 112500.0, 112500.0, 500001.0, 500001.0, 500001.0, 112500.0, 500001.0, 500001.0, 500001.0, 500001.0, 500001.0, 500001.0, 500001.0, 285400.0, 500001.0, 500001.0, 112500.0, 500001.0, 500001.0, 500001.0, 500001.0, 500001.0, 500001.0, 500001.0, 500001.0, 500001.0, 500001.0, 500001.0, 500001.0, 285400.0, 112500.0, 112500.0, 112500.0, 500001.0, 500001.0, 112500.0, 112500.0, 500001.0, 500001.0, 500001.0, 500001.0, 500001.0, 500001.0, 500001.0, 112500.0, 500001.0, 112500.0, 500001.0, 112500.0, 500001.0, 112500.0, 500001.0, 500001.0, 112500.0, 500001.0, 500001.0, 500001.0, 500001.0, 500001.0, 500001.0, 500001.0, 500001.0, 500001.0, 500001.0, 500001.0, 112500.0, 112500.0, 137500.0, 500001.0, 500001.0, 500001.0, 500001.0, 112500.0, 500001.0, 500001.0, 367400.0, 500001.0, 500001.0, 500001.0, 500001.0, 500001.0, 500001.0, 112500.0, 500001.0, 500001.0, 112500.0, 112500.0, 500001.0, 500001.0, 500001.0, 500001.0, 500001.0, 500001.0, 500001.0, 500001.0, 500001.0, 500001.0, 500001.0, 500001.0, 500001.0, 500001.0, 500001.0, 112500.0, 500001.0, 500001.0, 500001.0, 500001.0, 112500.0, 500001.0, 500001.0, 500001.0, 500001.0, 500001.0, 500001.0, 500001.0, 500001.0, 500001.0, 500001.0, 500001.0, 500001.0, 500001.0, 500001.0, 500001.0, 500001.0, 500001.0, 500001.0, 500001.0, 137500.0, 500001.0, 500001.0, 500001.0, 500001.0, 500001.0, 500001.0, 500001.0, 137500.0, 500001.0, 500001.0, 500001.0, 500001.0, 500001.0, 500001.0, 500001.0, 500001.0, 500001.0, 500001.0, 500001.0, 500001.0, 500001.0, 500001.0, 500001.0, 500001.0, 500001.0, 112500.0, 137500.0, 338700.0, 500001.0, 500001.0, 500001.0, 500001.0, 500001.0, 500001.0, 500001.0, 112500.0, 500001.0, 500001.0, 112500.0, 500001.0, 500001.0, 500001.0, 137500.0, 112500.0, 500001.0, 112500.0, 500001.0, 500001.0, 500001.0, 500001.0, 500001.0, 500001.0, 500001.0, 500001.0, 500001.0, 500001.0, 500001.0, 112500.0, 500001.0, 112500.0, 500001.0, 112500.0, 500001.0, 500001.0, 500001.0, 500001.0, 500001.0, 500001.0, 500001.0, 112500.0, 500001.0, 285400.0, 500001.0, 500001.0, 500001.0, 500001.0, 500001.0, 500001.0, 500001.0, 500001.0, 500001.0, 500001.0, 500001.0, 500001.0, 112500.0, 112500.0, 500001.0, 500001.0, 500001.0, 112500.0, 137500.0, 500001.0, 112500.0, 112500.0, 112500.0, 137500.0, 500001.0, 500001.0, 500001.0, 500001.0, 500001.0, 500001.0, 500001.0, 500001.0, 500001.0, 112500.0, 500001.0, 500001.0, 500001.0, 500001.0, 500001.0, 500001.0, 500001.0, 500001.0, 500001.0, 500001.0, 500001.0, 500001.0, 500001.0, 112500.0, 500001.0, 500001.0, 500001.0, 500001.0, 500001.0, 500001.0, 500001.0, 500001.0, 500001.0, 500001.0, 112500.0, 500001.0, 350000.0, 500001.0, 500001.0, 500001.0, 228700.0, 112500.0, 500001.0, 500001.0, 112500.0, 500001.0, 500001.0, 500001.0, 112500.0, 500001.0, 500001.0, 500001.0, 500001.0, 500001.0, 500001.0, 500001.0, 500001.0, 500001.0, 500001.0, 500001.0, 500001.0, 112500.0, 500001.0, 500001.0, 112500.0, 500001.0, 500001.0, 500001.0, 112500.0, 285400.0, 500001.0, 500001.0, 500001.0, 500001.0, 112500.0, 500001.0, 500001.0, 500001.0, 500001.0, 500001.0, 500001.0, 112500.0, 112500.0, 500001.0, 500001.0, 500001.0, 500001.0, 500001.0, 500001.0, 500001.0, 500001.0, 500001.0, 500001.0, 500001.0, 500001.0, 500001.0, 500001.0, 500001.0, 500001.0, 500001.0, 500001.0, 500001.0, 112500.0, 500001.0, 112500.0, 500001.0, 500001.0, 500001.0, 500001.0, 500001.0, 500001.0, 500001.0, 500001.0, 500001.0, 500001.0, 500001.0, 500001.0, 500001.0, 500001.0, 500001.0, 112500.0, 500001.0, 500001.0, 500001.0, 500001.0, 500001.0, 500001.0, 112500.0, 500001.0, 500001.0, 500001.0, 500001.0, 500001.0, 112500.0, 500001.0, 500001.0, 112500.0, 500001.0, 500001.0, 500001.0, 500001.0, 500001.0, 500001.0, 500001.0, 500001.0, 500001.0, 500001.0, 500001.0, 500001.0, 500001.0, 500001.0, 112500.0, 500001.0, 500001.0, 500001.0, 500001.0, 500001.0, 500001.0, 500001.0, 112500.0, 112500.0, 500001.0, 500001.0, 500001.0, 500001.0, 112500.0, 112500.0, 500001.0, 500001.0, 500001.0, 500001.0, 500001.0, 500001.0, 500001.0, 500001.0, 500001.0, 500001.0, 500001.0, 500001.0, 500001.0, 500001.0, 500001.0, 500001.0, 500001.0, 112500.0, 500001.0, 500001.0, 500001.0, 500001.0, 500001.0, 500001.0, 500001.0, 500001.0, 500001.0, 500001.0, 500001.0, 500001.0, 500001.0, 500001.0, 500001.0, 500001.0, 500001.0, 112500.0, 500001.0, 500001.0, 112500.0, 500001.0, 500001.0, 500001.0, 500001.0, 500001.0, 500001.0, 112500.0, 500001.0, 500001.0, 500001.0, 500001.0, 500001.0, 500001.0, 500001.0, 500001.0, 500001.0, 500001.0, 500001.0, 500001.0, 500001.0, 500001.0, 500001.0, 500001.0, 500001.0, 500001.0, 500001.0, 112500.0, 500001.0, 500001.0, 112500.0, 500001.0, 500001.0, 500001.0, 500001.0, 500001.0, 500001.0, 112500.0, 112500.0, 500001.0, 500001.0, 500001.0, 500001.0, 500001.0, 500001.0, 500001.0, 500001.0, 500001.0, 500001.0, 500001.0, 500001.0, 500001.0, 112500.0, 112500.0, 500001.0, 500001.0, 500001.0, 500001.0, 500001.0, 500001.0, 500001.0, 500001.0, 500001.0, 500001.0, 500001.0, 112500.0, 500001.0, 500001.0, 500001.0, 500001.0, 112500.0, 500001.0, 137500.0, 500001.0, 500001.0, 500001.0, 112500.0, 112500.0, 500001.0, 500001.0, 500001.0, 500001.0, 500001.0, 500001.0, 112500.0, 500001.0, 500001.0, 500001.0, 500001.0, 500001.0, 500001.0, 228700.0, 500001.0, 500001.0, 112500.0, 112500.0, 500001.0, 500001.0, 500001.0, 500001.0, 112500.0, 500001.0, 500001.0, 500001.0, 500001.0, 500001.0, 500001.0, 500001.0, 500001.0, 500001.0, 500001.0, 112500.0, 500001.0, 500001.0, 500001.0, 112500.0, 500001.0, 500001.0, 500001.0, 500001.0, 500001.0, 500001.0, 500001.0, 500001.0, 500001.0, 500001.0, 500001.0, 500001.0, 112500.0, 500001.0, 112500.0, 500001.0, 500001.0, 500001.0, 500001.0, 500001.0, 500001.0, 500001.0, 500001.0, 500001.0, 112500.0, 500001.0, 500001.0, 500001.0, 112500.0, 500001.0, 500001.0, 500001.0, 500001.0, 500001.0, 500001.0, 500001.0, 500001.0, 500001.0, 500001.0, 500001.0, 500001.0, 500001.0, 500001.0, 500001.0, 112500.0, 500001.0, 500001.0, 500001.0, 112500.0, 500001.0, 500001.0, 500001.0, 112500.0, 500001.0, 112500.0, 500001.0, 137500.0, 500001.0, 500001.0, 500001.0, 500001.0, 112500.0, 500001.0, 367400.0, 112500.0, 500001.0, 500001.0, 112500.0, 500001.0, 500001.0, 500001.0, 500001.0, 500001.0, 500001.0, 112500.0, 500001.0, 500001.0, 500001.0, 500001.0, 500001.0, 500001.0, 500001.0, 500001.0, 500001.0, 500001.0, 500001.0, 500001.0, 500001.0, 112500.0, 500001.0, 500001.0, 500001.0, 500001.0, 500001.0, 500001.0, 112500.0, 112500.0, 500001.0, 500001.0, 500001.0, 500001.0, 500001.0, 500001.0, 500001.0, 500001.0, 500001.0, 500001.0, 500001.0, 500001.0, 500001.0, 500001.0, 500001.0, 500001.0, 500001.0, 500001.0, 500001.0, 500001.0, 500001.0, 112500.0, 137500.0, 500001.0, 500001.0, 112500.0, 112500.0, 500001.0, 500001.0, 500001.0, 500001.0, 500001.0, 500001.0, 500001.0, 500001.0, 500001.0, 500001.0, 500001.0, 500001.0, 500001.0, 500001.0, 500001.0, 500001.0, 500001.0, 500001.0, 500001.0, 500001.0, 500001.0, 500001.0, 112500.0, 500001.0, 500001.0, 500001.0, 500001.0, 500001.0, 500001.0, 500001.0, 500001.0, 112500.0, 500001.0, 500001.0, 500001.0, 137500.0, 500001.0, 500001.0, 500001.0, 500001.0, 500001.0, 500001.0, 500001.0, 112500.0, 500001.0, 112500.0, 500001.0, 112500.0, 500001.0, 500001.0, 112500.0, 500001.0, 500001.0, 500001.0, 500001.0, 500001.0, 228700.0, 500001.0, 500001.0, 500001.0, 500001.0, 112500.0, 500001.0, 500001.0, 367400.0, 500001.0, 112500.0, 112500.0, 112500.0, 500001.0, 500001.0, 500001.0, 500001.0, 500001.0, 500001.0, 500001.0, 500001.0, 500001.0, 500001.0, 500001.0, 500001.0, 112500.0, 500001.0, 112500.0, 112500.0, 137500.0, 500001.0, 500001.0, 500001.0, 500001.0, 112500.0, 500001.0, 500001.0, 500001.0, 500001.0, 500001.0, 500001.0, 500001.0, 500001.0, 500001.0, 500001.0, 500001.0, 112500.0, 500001.0, 112500.0, 500001.0, 500001.0, 500001.0, 500001.0, 500001.0, 112500.0, 500001.0, 112500.0, 500001.0, 500001.0, 112500.0, 500001.0, 112500.0, 500001.0, 500001.0, 500001.0, 500001.0, 500001.0, 500001.0, 112500.0, 500001.0, 112500.0, 500001.0, 112500.0, 112500.0, 137500.0, 500001.0, 500001.0, 500001.0, 500001.0, 500001.0, 500001.0, 500001.0, 500001.0, 112500.0, 500001.0, 500001.0, 500001.0, 112500.0, 112500.0, 500001.0, 500001.0, 137500.0, 112500.0, 500001.0, 500001.0, 500001.0, 500001.0, 500001.0, 500001.0, 500001.0, 500001.0, 500001.0, 112500.0, 500001.0, 500001.0, 500001.0, 112500.0, 112500.0, 112500.0, 137500.0, 137500.0, 500001.0, 112500.0, 112500.0, 137500.0, 500001.0, 500001.0, 500001.0, 500001.0, 500001.0, 500001.0, 285400.0, 112500.0, 112500.0, 500001.0, 500001.0, 500001.0, 500001.0, 500001.0, 500001.0, 500001.0, 112500.0, 500001.0, 500001.0, 500001.0, 500001.0, 500001.0, 500001.0, 112500.0, 112500.0, 112500.0, 500001.0, 285400.0, 112500.0, 500001.0, 112500.0, 500001.0, 500001.0, 500001.0, 112500.0, 112500.0, 500001.0, 500001.0, 500001.0, 500001.0, 500001.0, 500001.0, 500001.0, 500001.0, 500001.0, 500001.0, 500001.0, 500001.0, 500001.0, 500001.0, 500001.0, 500001.0, 500001.0, 500001.0, 500001.0, 500001.0, 112500.0, 112500.0, 500001.0, 500001.0, 500001.0, 137500.0, 500001.0, 500001.0, 500001.0, 500001.0, 112500.0, 500001.0, 500001.0, 500001.0, 112500.0, 500001.0, 500001.0, 500001.0, 500001.0, 500001.0, 500001.0, 500001.0, 500001.0, 137500.0, 112500.0, 500001.0, 500001.0, 500001.0, 500001.0, 500001.0, 500001.0, 112500.0, 137500.0, 112500.0, 500001.0, 500001.0, 500001.0, 500001.0, 112500.0, 500001.0, 500001.0, 500001.0, 500001.0, 500001.0, 112500.0, 500001.0, 500001.0, 500001.0, 500001.0, 500001.0, 500001.0, 500001.0, 500001.0, 500001.0, 500001.0, 500001.0, 500001.0, 500001.0, 500001.0, 112500.0, 500001.0, 500001.0, 500001.0, 112500.0, 500001.0, 500001.0, 500001.0, 500001.0, 500001.0, 500001.0, 500001.0, 500001.0, 500001.0, 500001.0, 500001.0, 500001.0, 500001.0, 500001.0, 500001.0, 500001.0, 500001.0, 500001.0, 500001.0, 500001.0, 500001.0, 500001.0, 500001.0, 500001.0, 500001.0, 500001.0, 500001.0, 500001.0, 112500.0, 500001.0, 112500.0, 112500.0, 500001.0, 500001.0, 500001.0, 500001.0, 500001.0, 500001.0, 500001.0, 137500.0, 112500.0, 500001.0, 500001.0, 500001.0, 500001.0, 500001.0, 500001.0, 500001.0, 112500.0, 500001.0, 500001.0, 500001.0, 500001.0, 112500.0, 500001.0, 500001.0, 500001.0, 500001.0, 112500.0, 500001.0, 112500.0, 500001.0, 228700.0, 500001.0, 500001.0, 500001.0, 500001.0, 500001.0, 112500.0, 500001.0, 500001.0, 112500.0, 500001.0, 500001.0, 500001.0, 500001.0, 500001.0, 112500.0, 500001.0, 500001.0, 112500.0, 500001.0, 500001.0, 500001.0, 112500.0, 500001.0, 500001.0, 285400.0, 500001.0, 500001.0, 112500.0, 500001.0, 500001.0, 500001.0, 500001.0, 112500.0, 500001.0, 500001.0, 500001.0, 285400.0, 112500.0, 500001.0, 500001.0, 500001.0, 500001.0, 500001.0, 500001.0, 500001.0, 500001.0, 500001.0, 500001.0, 500001.0, 112500.0, 112500.0, 112500.0, 500001.0, 500001.0, 500001.0, 112500.0, 500001.0, 500001.0, 500001.0, 500001.0, 500001.0, 500001.0, 112500.0, 500001.0, 500001.0, 137500.0, 500001.0, 500001.0, 500001.0, 112500.0, 500001.0, 112500.0, 500001.0, 112500.0, 137500.0, 500001.0, 500001.0, 500001.0, 112500.0, 500001.0, 500001.0, 112500.0, 112500.0, 112500.0, 112500.0, 500001.0, 112500.0, 500001.0, 500001.0, 500001.0, 500001.0, 112500.0, 500001.0, 112500.0, 500001.0, 500001.0, 500001.0, 112500.0, 112500.0, 112500.0, 500001.0, 500001.0, 500001.0, 500001.0, 500001.0, 500001.0, 500001.0, 112500.0, 500001.0, 112500.0, 112500.0, 500001.0, 500001.0, 500001.0, 500001.0, 500001.0, 500001.0, 500001.0, 112500.0, 500001.0, 500001.0, 112500.0, 500001.0, 500001.0, 137500.0, 500001.0, 500001.0, 500001.0, 112500.0, 500001.0, 112500.0, 500001.0, 500001.0, 500001.0, 112500.0, 112500.0, 112500.0, 500001.0, 112500.0, 500001.0, 500001.0, 500001.0, 500001.0, 112500.0, 500001.0, 500001.0, 112500.0, 500001.0, 500001.0, 500001.0, 500001.0, 500001.0, 500001.0, 112500.0, 500001.0, 500001.0, 112500.0, 500001.0, 500001.0, 500001.0, 500001.0, 112500.0, 500001.0, 112500.0, 112500.0, 285400.0, 500001.0, 112500.0, 500001.0, 500001.0, 500001.0, 112500.0, 112500.0, 500001.0, 500001.0, 500001.0, 500001.0, 500001.0, 500001.0, 500001.0, 112500.0, 500001.0, 500001.0, 500001.0, 500001.0, 500001.0, 500001.0, 500001.0, 112500.0, 500001.0, 500001.0, 500001.0, 500001.0, 500001.0, 137500.0, 112500.0, 500001.0, 500001.0, 500001.0, 500001.0, 112500.0, 500001.0, 500001.0, 500001.0, 500001.0, 500001.0, 500001.0, 500001.0, 137500.0, 500001.0, 112500.0, 112500.0, 500001.0, 500001.0, 112500.0, 500001.0, 500001.0, 500001.0, 500001.0, 500001.0, 500001.0, 500001.0, 500001.0, 500001.0, 500001.0, 500001.0, 500001.0, 500001.0, 500001.0, 500001.0, 500001.0, 500001.0, 112500.0, 500001.0, 500001.0, 500001.0, 500001.0, 500001.0, 500001.0, 500001.0, 500001.0, 500001.0, 500001.0, 112500.0, 500001.0, 112500.0, 500001.0, 500001.0, 500001.0, 500001.0, 500001.0, 500001.0, 112500.0, 500001.0, 500001.0, 500001.0, 500001.0, 112500.0, 112500.0, 112500.0, 500001.0, 500001.0, 500001.0, 500001.0, 500001.0, 500001.0, 137500.0, 500001.0, 500001.0, 500001.0, 112500.0, 500001.0, 500001.0, 500001.0, 500001.0, 500001.0, 500001.0, 112500.0, 500001.0, 500001.0, 112500.0, 500001.0, 112500.0, 500001.0, 500001.0, 112500.0, 500001.0, 500001.0, 112500.0, 500001.0, 500001.0, 500001.0, 500001.0, 500001.0, 500001.0, 112500.0, 500001.0, 112500.0, 500001.0, 500001.0, 500001.0, 500001.0, 500001.0, 500001.0, 500001.0, 112500.0, 500001.0, 500001.0, 112500.0, 500001.0, 112500.0, 500001.0, 112500.0, 500001.0, 500001.0, 500001.0, 112500.0, 500001.0, 500001.0, 500001.0, 137500.0, 500001.0, 112500.0, 500001.0, 500001.0, 285400.0, 500001.0, 500001.0, 500001.0, 500001.0, 500001.0, 500001.0, 500001.0, 500001.0, 500001.0, 500001.0, 500001.0, 500001.0, 500001.0, 500001.0, 500001.0, 500001.0, 500001.0, 500001.0, 112500.0, 500001.0, 500001.0, 500001.0, 112500.0, 500001.0, 500001.0, 500001.0, 500001.0, 500001.0, 500001.0, 500001.0, 500001.0, 500001.0, 500001.0, 500001.0, 500001.0, 500001.0, 500001.0, 500001.0, 500001.0, 500001.0, 500001.0, 500001.0, 500001.0, 500001.0, 500001.0, 500001.0, 500001.0, 500001.0, 500001.0, 500001.0, 500001.0, 500001.0, 500001.0, 500001.0, 500001.0, 500001.0, 500001.0, 500001.0, 500001.0, 500001.0, 500001.0, 500001.0, 500001.0, 500001.0, 500001.0, 500001.0, 112500.0, 500001.0, 500001.0, 500001.0, 500001.0, 500001.0, 500001.0, 500001.0, 112500.0, 500001.0, 500001.0, 500001.0, 500001.0, 500001.0, 112500.0, 500001.0, 500001.0, 500001.0, 112500.0, 500001.0, 112500.0, 500001.0, 500001.0, 500001.0, 500001.0, 500001.0, 112500.0, 500001.0, 112500.0, 500001.0, 500001.0, 500001.0, 500001.0, 500001.0, 500001.0, 500001.0, 112500.0, 500001.0, 112500.0, 500001.0, 500001.0, 500001.0, 500001.0, 500001.0, 500001.0, 112500.0, 112500.0, 500001.0, 500001.0, 500001.0, 500001.0, 500001.0, 500001.0, 112500.0, 500001.0, 500001.0, 500001.0, 500001.0, 500001.0, 500001.0, 500001.0, 500001.0, 500001.0, 500001.0, 500001.0, 500001.0, 500001.0, 137500.0, 500001.0, 112500.0, 112500.0, 112500.0, 500001.0, 112500.0, 500001.0, 500001.0, 112500.0, 500001.0, 500001.0, 500001.0, 112500.0, 500001.0, 500001.0, 137500.0, 500001.0, 500001.0, 500001.0, 112500.0, 500001.0, 500001.0, 500001.0, 500001.0, 500001.0, 500001.0, 500001.0, 112500.0, 112500.0, 500001.0, 500001.0, 112500.0, 500001.0, 500001.0, 137500.0, 500001.0, 112500.0, 500001.0, 112500.0, 500001.0, 500001.0, 137500.0, 500001.0, 500001.0, 500001.0, 112500.0, 500001.0, 500001.0, 500001.0, 500001.0, 500001.0, 500001.0, 500001.0, 285400.0, 500001.0, 500001.0, 500001.0, 500001.0, 500001.0, 500001.0, 112500.0, 500001.0, 500001.0, 500001.0, 500001.0, 112500.0, 500001.0, 112500.0, 500001.0, 500001.0, 500001.0, 500001.0, 500001.0, 500001.0, 500001.0, 500001.0, 112500.0, 500001.0, 500001.0, 500001.0, 500001.0, 500001.0, 500001.0, 500001.0, 500001.0, 500001.0, 112500.0, 112500.0, 500001.0, 500001.0, 500001.0, 500001.0, 500001.0, 500001.0, 500001.0, 112500.0, 112500.0, 500001.0, 112500.0, 112500.0, 112500.0, 500001.0, 500001.0, 500001.0, 500001.0, 500001.0, 500001.0, 112500.0, 500001.0, 500001.0, 500001.0, 500001.0, 500001.0, 112500.0, 112500.0, 500001.0, 112500.0, 500001.0, 500001.0, 500001.0, 500001.0, 500001.0, 500001.0, 500001.0, 500001.0, 112500.0, 500001.0, 137500.0, 112500.0, 500001.0, 500001.0, 500001.0, 500001.0, 500001.0, 500001.0, 500001.0, 500001.0, 500001.0, 367400.0, 500001.0, 500001.0, 500001.0, 500001.0, 112500.0, 500001.0, 500001.0, 137500.0, 500001.0, 500001.0, 112500.0, 500001.0, 500001.0, 112500.0, 500001.0, 500001.0, 112500.0, 500001.0, 500001.0, 112500.0, 500001.0, 500001.0, 500001.0, 500001.0, 500001.0, 500001.0, 500001.0, 500001.0, 112500.0, 112500.0, 500001.0, 500001.0, 500001.0, 112500.0, 500001.0, 112500.0, 500001.0, 500001.0, 500001.0, 500001.0, 500001.0, 112500.0, 500001.0, 500001.0, 500001.0, 500001.0, 500001.0, 112500.0, 500001.0, 500001.0, 500001.0, 500001.0, 500001.0, 500001.0, 500001.0, 112500.0, 500001.0, 500001.0, 500001.0, 500001.0, 500001.0, 500001.0, 500001.0, 500001.0, 112500.0, 500001.0, 500001.0, 500001.0, 500001.0, 500001.0, 500001.0, 500001.0, 500001.0, 500001.0, 500001.0, 500001.0, 500001.0, 500001.0, 500001.0, 500001.0, 500001.0, 500001.0, 500001.0, 112500.0, 500001.0, 500001.0, 500001.0, 500001.0, 137500.0, 500001.0, 112500.0, 500001.0, 500001.0, 500001.0, 500001.0, 500001.0, 112500.0, 500001.0, 500001.0, 500001.0, 500001.0, 112500.0, 112500.0, 112500.0, 500001.0, 500001.0, 500001.0, 500001.0, 500001.0, 500001.0, 112500.0, 500001.0, 500001.0, 500001.0, 137500.0, 500001.0, 500001.0, 500001.0, 500001.0, 67500.0, 500001.0, 500001.0, 500001.0, 500001.0, 137500.0, 500001.0, 112500.0, 500001.0, 500001.0, 500001.0, 112500.0, 500001.0, 112500.0, 500001.0, 112500.0, 500001.0, 500001.0, 500001.0, 500001.0, 500001.0, 500001.0, 112500.0, 500001.0, 500001.0, 500001.0, 500001.0, 500001.0, 500001.0, 500001.0, 500001.0, 500001.0, 500001.0, 500001.0, 500001.0, 500001.0, 500001.0, 112500.0, 500001.0, 500001.0, 500001.0, 112500.0, 500001.0, 112500.0, 112500.0, 500001.0, 500001.0, 500001.0, 500001.0, 500001.0, 500001.0, 500001.0, 500001.0, 112500.0, 500001.0, 500001.0, 500001.0, 500001.0, 112500.0, 500001.0, 500001.0, 112500.0, 112500.0, 500001.0, 285400.0, 500001.0, 112500.0, 500001.0, 500001.0, 500001.0, 500001.0, 500001.0, 500001.0, 500001.0, 500001.0, 112500.0, 500001.0, 500001.0, 500001.0, 500001.0, 112500.0, 500001.0, 112500.0, 500001.0, 500001.0, 500001.0, 500001.0, 500001.0, 500001.0, 500001.0, 112500.0, 500001.0, 112500.0, 112500.0, 112500.0, 500001.0, 500001.0, 500001.0, 112500.0, 500001.0, 500001.0, 500001.0, 500001.0, 500001.0, 500001.0, 500001.0, 500001.0, 500001.0, 500001.0, 500001.0, 500001.0, 112500.0, 500001.0, 500001.0, 500001.0, 500001.0, 500001.0, 500001.0, 500001.0, 500001.0, 500001.0, 500001.0, 500001.0, 500001.0, 500001.0, 112500.0, 500001.0, 500001.0, 500001.0, 500001.0, 500001.0, 500001.0, 500001.0, 500001.0, 112500.0, 500001.0, 112500.0, 112500.0, 500001.0, 500001.0, 500001.0, 112500.0, 500001.0, 500001.0, 137500.0, 112500.0, 500001.0, 112500.0, 500001.0, 500001.0, 500001.0, 500001.0, 112500.0, 112500.0, 500001.0, 500001.0, 112500.0, 500001.0, 500001.0, 500001.0, 500001.0, 500001.0, 500001.0, 137500.0, 500001.0, 500001.0, 112500.0, 500001.0, 500001.0, 500001.0, 500001.0, 500001.0, 500001.0, 500001.0, 500001.0, 500001.0, 500001.0, 500001.0, 500001.0, 500001.0, 500001.0, 500001.0, 500001.0, 112500.0, 500001.0, 500001.0, 500001.0, 500001.0, 500001.0, 500001.0, 112500.0, 112500.0, 500001.0, 500001.0, 500001.0, 112500.0, 500001.0, 500001.0, 500001.0, 500001.0, 500001.0, 500001.0, 500001.0, 500001.0, 500001.0, 500001.0, 500001.0, 500001.0, 500001.0, 112500.0, 500001.0, 500001.0, 500001.0, 112500.0, 285400.0, 500001.0, 500001.0, 112500.0, 500001.0, 112500.0, 500001.0, 500001.0, 500001.0, 500001.0, 500001.0, 500001.0, 500001.0, 500001.0, 500001.0, 500001.0, 500001.0, 500001.0, 112500.0, 112500.0, 500001.0, 500001.0, 500001.0, 112500.0, 500001.0, 500001.0, 137500.0, 338700.0, 500001.0, 500001.0, 500001.0, 112500.0, 500001.0, 500001.0, 500001.0, 500001.0, 500001.0, 500001.0, 500001.0, 500001.0, 500001.0, 500001.0, 500001.0, 500001.0, 500001.0, 500001.0, 500001.0, 112500.0, 500001.0, 500001.0, 112500.0, 500001.0, 112500.0, 500001.0, 500001.0, 137500.0, 500001.0, 112500.0, 500001.0, 500001.0, 500001.0, 500001.0, 500001.0, 500001.0, 500001.0, 500001.0, 500001.0, 112500.0, 500001.0, 500001.0, 500001.0, 500001.0, 500001.0, 500001.0, 500001.0, 500001.0, 112500.0, 500001.0, 500001.0, 137500.0, 112500.0, 112500.0, 500001.0, 500001.0, 500001.0, 500001.0, 500001.0, 500001.0, 500001.0, 500001.0, 112500.0, 500001.0, 137500.0, 500001.0, 112500.0, 500001.0, 112500.0, 500001.0, 112500.0, 112500.0, 500001.0, 500001.0, 112500.0, 500001.0, 112500.0, 500001.0, 500001.0, 112500.0, 500001.0, 500001.0, 500001.0, 500001.0, 500001.0, 112500.0, 112500.0, 112500.0, 500001.0, 112500.0, 500001.0, 500001.0, 112500.0, 500001.0, 112500.0, 500001.0, 500001.0, 500001.0, 500001.0, 500001.0, 500001.0, 500001.0, 137500.0, 500001.0, 137500.0, 500001.0, 137500.0, 500001.0, 500001.0, 500001.0, 500001.0, 500001.0, 500001.0, 500001.0, 500001.0, 500001.0, 500001.0, 500001.0, 500001.0, 500001.0, 500001.0, 500001.0, 500001.0, 500001.0, 500001.0, 112500.0, 500001.0, 500001.0, 500001.0, 500001.0, 112500.0, 137500.0, 500001.0, 500001.0, 500001.0, 112500.0, 500001.0, 500001.0, 500001.0, 112500.0, 112500.0, 500001.0, 500001.0, 500001.0, 500001.0, 500001.0, 500001.0, 500001.0, 112500.0, 500001.0, 112500.0, 500001.0, 500001.0, 500001.0, 500001.0, 500001.0, 500001.0, 500001.0, 500001.0, 500001.0, 500001.0, 500001.0, 500001.0, 500001.0, 500001.0, 500001.0, 500001.0, 500001.0, 500001.0, 112500.0, 112500.0, 500001.0, 112500.0, 500001.0, 112500.0, 112500.0, 112500.0, 500001.0, 500001.0, 500001.0, 500001.0, 500001.0, 500001.0, 500001.0, 500001.0, 500001.0, 500001.0, 500001.0, 500001.0, 500001.0, 500001.0, 500001.0, 500001.0, 500001.0, 137500.0, 500001.0, 500001.0, 500001.0, 500001.0, 500001.0, 500001.0, 500001.0, 112500.0, 500001.0, 500001.0, 500001.0, 500001.0, 500001.0, 500001.0, 112500.0, 500001.0, 500001.0, 500001.0, 500001.0, 500001.0, 500001.0, 112500.0, 500001.0, 137500.0, 500001.0, 112500.0, 500001.0, 500001.0, 112500.0, 500001.0, 500001.0, 500001.0, 500001.0, 500001.0, 500001.0, 500001.0, 500001.0, 112500.0, 500001.0, 500001.0, 500001.0, 500001.0, 500001.0, 500001.0, 112500.0, 500001.0, 500001.0, 500001.0, 500001.0, 500001.0, 500001.0, 500001.0, 500001.0, 500001.0, 500001.0, 500001.0, 285400.0, 500001.0, 500001.0, 500001.0, 500001.0, 500001.0, 500001.0, 112500.0, 500001.0, 500001.0, 500001.0, 500001.0, 137500.0, 500001.0, 112500.0, 500001.0, 112500.0, 500001.0, 500001.0, 500001.0, 500001.0, 112500.0, 500001.0, 500001.0, 500001.0, 112500.0, 500001.0, 500001.0, 500001.0, 500001.0, 500001.0, 500001.0, 500001.0, 112500.0, 500001.0, 500001.0, 500001.0, 500001.0, 500001.0, 500001.0, 500001.0, 500001.0, 500001.0, 112500.0, 112500.0, 500001.0, 500001.0, 500001.0, 500001.0, 500001.0, 500001.0, 112500.0, 112500.0, 112500.0, 500001.0, 500001.0, 500001.0, 500001.0, 500001.0, 112500.0, 500001.0, 500001.0, 500001.0, 500001.0, 112500.0, 500001.0, 500001.0, 112500.0, 500001.0, 285400.0, 500001.0, 500001.0, 500001.0, 500001.0, 500001.0, 500001.0, 500001.0, 500001.0, 112500.0, 500001.0, 500001.0, 500001.0, 500001.0, 112500.0, 500001.0, 112500.0, 500001.0, 500001.0, 112500.0, 500001.0, 500001.0, 500001.0, 112500.0, 500001.0, 112500.0, 112500.0, 500001.0, 137500.0, 500001.0, 500001.0, 500001.0, 112500.0, 500001.0, 500001.0, 112500.0, 500001.0, 112500.0, 500001.0, 500001.0, 112500.0, 500001.0, 500001.0, 112500.0, 500001.0, 500001.0, 112500.0, 500001.0, 500001.0, 500001.0, 500001.0, 500001.0, 500001.0, 500001.0, 367400.0, 500001.0, 500001.0, 112500.0, 112500.0, 338700.0, 500001.0, 500001.0, 500001.0, 500001.0, 500001.0, 500001.0, 500001.0, 500001.0, 112500.0, 500001.0, 112500.0, 112500.0, 500001.0, 500001.0, 500001.0, 137500.0, 500001.0, 500001.0, 112500.0, 500001.0, 500001.0, 500001.0, 500001.0, 500001.0, 500001.0, 500001.0, 112500.0, 500001.0, 500001.0, 112500.0, 500001.0, 500001.0, 112500.0, 500001.0, 500001.0, 500001.0, 500001.0, 500001.0, 500001.0, 500001.0, 500001.0, 500001.0, 500001.0, 500001.0, 112500.0, 500001.0, 500001.0, 500001.0, 500001.0, 500001.0, 500001.0, 500001.0, 500001.0, 500001.0, 500001.0, 500001.0, 500001.0, 112500.0, 500001.0, 500001.0, 500001.0, 500001.0, 112500.0, 112500.0, 500001.0, 500001.0, 500001.0, 500001.0, 500001.0, 112500.0, 500001.0, 500001.0, 500001.0, 500001.0, 500001.0, 500001.0, 500001.0, 500001.0, 500001.0, 112500.0, 500001.0, 112500.0, 500001.0, 500001.0, 500001.0, 500001.0, 500001.0, 112500.0, 500001.0, 112500.0, 500001.0, 500001.0, 500001.0, 137500.0, 112500.0, 500001.0, 500001.0, 500001.0, 500001.0, 112500.0, 500001.0, 500001.0, 500001.0, 112500.0, 500001.0, 112500.0, 500001.0, 500001.0, 112500.0, 500001.0, 500001.0, 500001.0, 112500.0, 500001.0, 112500.0, 500001.0, 500001.0, 500001.0, 500001.0, 500001.0, 500001.0, 500001.0, 500001.0, 112500.0, 500001.0, 500001.0, 500001.0, 500001.0, 500001.0, 500001.0, 500001.0, 500001.0, 500001.0, 500001.0, 112500.0, 112500.0, 112500.0, 500001.0, 112500.0, 500001.0, 500001.0, 500001.0, 500001.0, 285400.0, 500001.0, 500001.0, 500001.0, 112500.0, 112500.0, 112500.0, 112500.0, 500001.0, 500001.0, 112500.0, 500001.0, 500001.0, 285400.0, 112500.0, 500001.0, 500001.0, 500001.0, 500001.0, 500001.0, 500001.0, 500001.0, 500001.0, 112500.0, 500001.0, 500001.0, 500001.0, 500001.0, 500001.0, 500001.0, 500001.0, 112500.0, 112500.0, 112500.0, 112500.0, 112500.0, 500001.0, 500001.0, 112500.0, 500001.0, 500001.0, 500001.0, 500001.0, 500001.0, 112500.0, 137500.0, 500001.0, 285400.0, 500001.0, 500001.0, 112500.0, 500001.0, 500001.0, 500001.0, 500001.0, 112500.0, 500001.0, 285400.0, 500001.0, 500001.0, 112500.0, 500001.0, 500001.0, 500001.0, 500001.0, 112500.0, 500001.0, 112500.0, 500001.0, 500001.0, 500001.0, 500001.0, 500001.0, 500001.0, 500001.0, 500001.0, 112500.0, 137500.0, 112500.0, 500001.0, 500001.0, 112500.0, 112500.0, 500001.0, 500001.0, 500001.0, 112500.0, 500001.0, 500001.0, 500001.0, 500001.0, 500001.0, 500001.0, 500001.0, 500001.0, 500001.0, 500001.0, 500001.0, 500001.0, 137500.0, 500001.0, 500001.0, 500001.0, 112500.0, 500001.0, 500001.0, 500001.0, 500001.0, 112500.0, 500001.0, 500001.0, 500001.0, 500001.0, 500001.0, 500001.0, 500001.0, 500001.0, 112500.0, 500001.0, 500001.0, 500001.0, 367400.0, 112500.0, 500001.0, 500001.0, 500001.0, 500001.0, 500001.0, 500001.0, 500001.0, 500001.0, 500001.0, 500001.0, 500001.0, 500001.0, 112500.0, 500001.0, 500001.0, 500001.0, 500001.0, 500001.0, 500001.0, 500001.0, 500001.0, 500001.0, 500001.0, 500001.0, 500001.0, 500001.0, 500001.0, 500001.0, 500001.0, 500001.0, 500001.0, 137500.0, 500001.0, 500001.0, 500001.0, 500001.0, 500001.0, 500001.0, 500001.0, 500001.0, 500001.0, 500001.0, 112500.0, 500001.0, 500001.0, 500001.0, 112500.0, 500001.0, 112500.0, 500001.0, 500001.0, 112500.0, 500001.0, 500001.0, 500001.0, 112500.0, 500001.0, 500001.0, 112500.0, 500001.0, 500001.0, 500001.0, 500001.0, 500001.0, 500001.0, 500001.0, 500001.0, 500001.0, 500001.0, 500001.0, 500001.0, 500001.0, 500001.0, 500001.0, 500001.0, 112500.0, 112500.0, 500001.0, 112500.0, 112500.0, 500001.0, 500001.0, 500001.0, 112500.0, 112500.0, 500001.0, 500001.0, 500001.0, 500001.0, 500001.0, 500001.0, 112500.0, 500001.0, 500001.0, 500001.0, 500001.0, 500001.0, 500001.0, 500001.0, 500001.0, 500001.0, 500001.0, 500001.0, 137500.0, 112500.0, 112500.0, 500001.0, 112500.0, 500001.0, 276600.0, 112500.0, 500001.0, 137500.0, 500001.0, 500001.0, 500001.0, 500001.0, 500001.0, 500001.0, 500001.0, 500001.0, 500001.0, 500001.0, 112500.0, 500001.0, 500001.0, 500001.0, 112500.0, 285400.0, 500001.0, 112500.0, 500001.0, 112500.0, 500001.0, 285400.0, 112500.0, 500001.0, 500001.0, 500001.0, 500001.0, 500001.0, 500001.0, 500001.0, 500001.0, 500001.0, 500001.0, 500001.0, 112500.0, 112500.0, 500001.0, 500001.0, 500001.0, 500001.0, 112500.0, 500001.0, 500001.0, 500001.0, 500001.0, 500001.0, 500001.0, 500001.0, 112500.0, 500001.0, 137500.0, 112500.0, 500001.0, 500001.0, 500001.0, 500001.0, 112500.0, 500001.0, 500001.0, 112500.0, 500001.0, 112500.0, 500001.0, 137500.0, 112500.0, 112500.0, 500001.0, 500001.0, 112500.0, 500001.0, 500001.0, 500001.0, 112500.0, 500001.0, 500001.0, 500001.0, 500001.0, 500001.0, 500001.0, 500001.0, 137500.0, 500001.0, 500001.0, 500001.0, 500001.0, 500001.0, 500001.0, 500001.0, 500001.0, 500001.0, 500001.0, 112500.0, 500001.0, 112500.0, 500001.0, 500001.0, 500001.0, 500001.0, 500001.0, 500001.0, 500001.0, 500001.0, 500001.0, 500001.0, 500001.0, 112500.0, 112500.0, 112500.0, 112500.0, 500001.0, 500001.0, 500001.0, 112500.0, 500001.0, 500001.0, 500001.0, 500001.0, 500001.0, 112500.0, 500001.0, 500001.0, 500001.0, 112500.0, 112500.0, 112500.0, 112500.0, 500001.0, 112500.0, 500001.0, 500001.0, 500001.0, 112500.0, 112500.0, 500001.0, 500001.0, 500001.0, 500001.0, 500001.0, 500001.0, 500001.0, 112500.0, 500001.0, 500001.0, 500001.0, 137500.0, 112500.0, 137500.0, 500001.0, 500001.0, 500001.0, 500001.0, 500001.0, 500001.0, 500001.0, 500001.0, 500001.0, 500001.0, 112500.0, 500001.0, 500001.0, 500001.0, 112500.0, 500001.0, 500001.0, 500001.0, 500001.0, 500001.0, 500001.0, 500001.0, 112500.0, 500001.0, 500001.0, 500001.0, 500001.0, 112500.0, 112500.0, 112500.0, 285400.0, 112500.0, 500001.0, 500001.0, 500001.0, 500001.0, 112500.0, 112500.0, 500001.0, 500001.0, 500001.0, 500001.0, 112500.0, 500001.0, 500001.0, 137500.0, 112500.0, 500001.0, 500001.0, 500001.0, 500001.0, 137500.0, 500001.0, 500001.0, 112500.0, 500001.0, 500001.0, 112500.0, 112500.0, 500001.0, 112500.0, 500001.0, 112500.0, 500001.0, 112500.0, 500001.0, 500001.0, 500001.0, 500001.0, 500001.0, 500001.0, 500001.0, 112500.0, 500001.0, 500001.0, 350000.0, 500001.0, 500001.0, 500001.0, 112500.0, 500001.0, 137500.0, 500001.0, 500001.0, 500001.0, 500001.0, 112500.0, 500001.0, 500001.0, 500001.0, 112500.0, 500001.0, 500001.0, 500001.0, 500001.0, 112500.0, 500001.0, 500001.0, 500001.0, 500001.0, 500001.0, 112500.0, 500001.0, 500001.0, 137500.0, 500001.0, 500001.0, 500001.0, 500001.0, 500001.0, 500001.0, 500001.0, 500001.0, 500001.0, 112500.0, 500001.0, 112500.0, 500001.0, 285400.0, 500001.0, 112500.0, 500001.0, 500001.0, 500001.0, 500001.0, 500001.0, 112500.0, 500001.0, 500001.0, 500001.0, 500001.0, 500001.0, 500001.0, 500001.0, 500001.0, 500001.0, 500001.0, 500001.0, 500001.0, 500001.0, 500001.0, 500001.0, 500001.0, 500001.0, 112500.0, 500001.0, 500001.0, 500001.0, 500001.0, 112500.0, 500001.0, 228700.0, 500001.0, 500001.0, 112500.0, 500001.0, 500001.0, 500001.0, 137500.0, 500001.0, 500001.0, 500001.0, 500001.0, 112500.0, 500001.0, 500001.0, 500001.0, 500001.0, 112500.0, 500001.0, 500001.0, 500001.0, 500001.0, 500001.0, 112500.0, 500001.0, 500001.0, 500001.0, 500001.0, 500001.0, 500001.0, 137500.0, 112500.0, 500001.0, 500001.0, 500001.0, 500001.0, 500001.0, 500001.0, 500001.0, 500001.0, 500001.0, 500001.0, 500001.0, 112500.0, 500001.0, 500001.0, 500001.0, 500001.0, 500001.0, 500001.0, 112500.0, 500001.0, 500001.0, 137500.0, 112500.0, 500001.0, 500001.0, 112500.0, 500001.0, 500001.0, 500001.0, 500001.0, 500001.0, 500001.0, 500001.0, 500001.0, 500001.0, 500001.0, 500001.0, 112500.0, 500001.0, 112500.0, 112500.0, 500001.0, 500001.0, 500001.0, 500001.0, 500001.0, 500001.0, 137500.0, 500001.0, 500001.0, 112500.0, 500001.0, 112500.0, 500001.0, 500001.0, 500001.0, 500001.0, 137500.0, 500001.0, 500001.0, 500001.0, 500001.0, 500001.0, 500001.0, 112500.0, 112500.0, 500001.0, 500001.0, 500001.0, 500001.0, 500001.0, 112500.0, 500001.0, 500001.0, 500001.0, 500001.0, 500001.0, 500001.0, 500001.0, 500001.0, 500001.0, 112500.0, 112500.0, 500001.0, 500001.0, 500001.0, 500001.0, 500001.0, 500001.0, 500001.0, 112500.0, 112500.0, 500001.0, 500001.0, 500001.0, 500001.0, 500001.0, 500001.0, 500001.0, 500001.0, 500001.0, 500001.0, 500001.0, 500001.0, 500001.0, 500001.0, 500001.0, 112500.0, 500001.0, 500001.0, 112500.0, 500001.0, 500001.0, 500001.0, 500001.0, 500001.0, 500001.0, 500001.0, 500001.0, 500001.0, 500001.0, 500001.0, 500001.0, 500001.0, 500001.0, 112500.0, 112500.0, 500001.0, 500001.0, 500001.0, 500001.0, 500001.0, 500001.0, 500001.0, 500001.0, 500001.0, 500001.0, 500001.0, 112500.0, 500001.0, 500001.0, 112500.0, 500001.0, 112500.0, 500001.0, 500001.0, 500001.0, 500001.0, 112500.0, 500001.0, 112500.0, 112500.0, 500001.0, 112500.0, 112500.0, 112500.0, 500001.0, 500001.0, 500001.0, 500001.0, 500001.0, 112500.0, 500001.0, 500001.0, 500001.0, 500001.0, 500001.0, 500001.0, 500001.0, 112500.0, 500001.0, 112500.0, 500001.0, 500001.0, 500001.0, 500001.0, 500001.0, 500001.0, 500001.0, 500001.0, 500001.0, 367400.0, 500001.0, 500001.0, 500001.0, 500001.0, 500001.0, 500001.0, 500001.0, 112500.0, 500001.0, 112500.0, 500001.0, 112500.0, 500001.0, 500001.0, 500001.0, 500001.0, 500001.0, 500001.0, 500001.0, 500001.0, 500001.0, 112500.0, 500001.0, 500001.0, 112500.0, 500001.0, 500001.0, 500001.0, 137500.0, 500001.0, 112500.0, 500001.0, 500001.0, 112500.0, 112500.0, 112500.0, 500001.0, 500001.0, 500001.0, 500001.0, 112500.0, 500001.0, 500001.0, 112500.0, 500001.0, 500001.0, 500001.0, 500001.0, 500001.0, 500001.0, 500001.0, 500001.0, 500001.0, 500001.0, 137500.0, 500001.0, 500001.0, 500001.0, 500001.0, 500001.0, 500001.0, 500001.0, 500001.0, 500001.0, 112500.0, 112500.0, 500001.0, 500001.0, 500001.0, 500001.0, 500001.0, 500001.0, 500001.0, 500001.0, 500001.0, 500001.0, 112500.0, 112500.0, 500001.0, 112500.0, 500001.0, 500001.0, 112500.0, 500001.0, 500001.0, 500001.0, 500001.0, 500001.0, 500001.0, 500001.0, 500001.0, 500001.0, 112500.0, 500001.0, 500001.0, 500001.0, 500001.0, 500001.0, 137500.0, 112500.0, 500001.0, 500001.0, 500001.0, 500001.0, 112500.0, 500001.0, 500001.0, 112500.0, 500001.0, 112500.0, 500001.0, 500001.0, 500001.0, 500001.0, 500001.0, 500001.0, 500001.0, 500001.0, 500001.0, 500001.0, 112500.0, 500001.0, 500001.0, 500001.0, 500001.0, 500001.0, 500001.0, 500001.0, 500001.0, 500001.0, 500001.0, 500001.0, 112500.0, 500001.0, 500001.0, 500001.0, 500001.0, 500001.0, 500001.0, 500001.0, 500001.0, 500001.0, 500001.0, 500001.0, 500001.0, 500001.0, 112500.0, 500001.0, 500001.0, 500001.0, 112500.0, 112500.0, 112500.0, 500001.0, 500001.0, 137500.0, 500001.0, 500001.0, 500001.0, 500001.0, 500001.0, 500001.0, 500001.0, 500001.0, 500001.0, 112500.0, 112500.0, 500001.0, 500001.0, 137500.0, 500001.0, 112500.0, 112500.0, 500001.0, 500001.0, 137500.0, 500001.0, 500001.0, 500001.0, 500001.0, 500001.0, 112500.0, 112500.0, 500001.0, 500001.0, 112500.0, 500001.0, 500001.0, 500001.0, 500001.0, 500001.0, 500001.0, 500001.0, 500001.0, 500001.0, 500001.0, 500001.0, 500001.0, 500001.0, 500001.0, 500001.0, 500001.0, 500001.0, 500001.0, 500001.0, 500001.0, 500001.0, 500001.0, 500001.0, 500001.0, 500001.0, 500001.0, 112500.0, 500001.0, 112500.0, 500001.0, 500001.0, 112500.0, 500001.0, 500001.0, 500001.0, 500001.0, 112500.0, 500001.0, 112500.0, 500001.0, 500001.0, 500001.0, 500001.0, 500001.0, 112500.0, 500001.0, 500001.0, 500001.0, 500001.0, 500001.0, 112500.0, 500001.0, 112500.0, 112500.0, 500001.0, 500001.0, 500001.0, 500001.0, 500001.0, 500001.0, 500001.0, 500001.0, 500001.0, 500001.0, 500001.0, 500001.0, 500001.0, 500001.0, 500001.0, 500001.0, 500001.0, 500001.0, 500001.0, 276600.0, 500001.0, 137500.0, 500001.0, 500001.0, 500001.0, 500001.0, 500001.0, 500001.0, 500001.0, 112500.0, 500001.0, 137500.0, 500001.0, 112500.0, 500001.0, 500001.0, 500001.0, 500001.0, 500001.0, 112500.0, 500001.0, 112500.0, 500001.0, 500001.0, 500001.0, 500001.0, 500001.0, 500001.0, 500001.0, 500001.0, 500001.0, 500001.0, 112500.0, 112500.0, 500001.0, 137500.0, 112500.0, 112500.0, 500001.0, 112500.0, 500001.0, 500001.0, 500001.0, 500001.0, 500001.0, 500001.0, 500001.0, 500001.0, 112500.0, 500001.0, 500001.0, 137500.0, 500001.0, 500001.0, 137500.0, 500001.0, 500001.0, 500001.0, 500001.0, 500001.0, 112500.0, 500001.0, 500001.0, 500001.0, 500001.0, 500001.0, 112500.0, 112500.0, 500001.0, 500001.0, 500001.0, 500001.0, 500001.0, 500001.0, 500001.0, 500001.0, 500001.0, 500001.0, 500001.0, 112500.0, 500001.0, 500001.0, 500001.0, 112500.0, 112500.0, 500001.0, 500001.0, 500001.0, 500001.0, 500001.0, 500001.0, 112500.0, 500001.0, 500001.0, 500001.0, 500001.0, 500001.0, 500001.0, 112500.0, 500001.0, 500001.0, 112500.0, 500001.0, 500001.0, 500001.0, 500001.0, 500001.0, 500001.0, 112500.0, 500001.0, 500001.0, 500001.0, 500001.0, 500001.0, 500001.0, 500001.0, 500001.0, 500001.0, 500001.0, 500001.0, 500001.0, 500001.0, 500001.0, 500001.0, 112500.0, 500001.0, 500001.0, 500001.0, 500001.0, 500001.0, 500001.0, 137500.0, 500001.0, 500001.0, 500001.0, 500001.0, 112500.0, 500001.0, 500001.0, 500001.0, 500001.0, 500001.0, 500001.0, 112500.0, 500001.0, 500001.0, 500001.0, 500001.0, 500001.0, 500001.0, 500001.0, 500001.0, 112500.0, 500001.0, 500001.0, 112500.0, 500001.0, 500001.0, 500001.0, 137500.0, 137500.0, 500001.0, 500001.0, 112500.0, 500001.0, 112500.0, 500001.0, 500001.0, 112500.0, 500001.0, 500001.0, 500001.0, 500001.0, 500001.0, 500001.0, 500001.0, 500001.0, 500001.0, 500001.0, 500001.0, 500001.0, 112500.0, 112500.0, 285400.0, 112500.0, 112500.0, 500001.0, 112500.0, 112500.0, 137500.0, 500001.0, 500001.0, 500001.0, 500001.0, 500001.0, 500001.0, 500001.0, 500001.0, 500001.0, 500001.0, 500001.0, 500001.0, 500001.0, 500001.0, 500001.0, 500001.0, 500001.0, 500001.0, 500001.0, 500001.0, 500001.0, 500001.0, 112500.0, 500001.0, 500001.0, 500001.0, 500001.0, 500001.0, 137500.0, 112500.0, 500001.0, 500001.0, 500001.0, 112500.0, 500001.0, 500001.0, 500001.0, 112500.0, 500001.0, 112500.0, 500001.0, 500001.0, 500001.0, 500001.0, 500001.0, 112500.0, 500001.0, 500001.0, 500001.0, 500001.0, 228700.0, 500001.0, 112500.0, 500001.0, 500001.0, 500001.0, 500001.0, 500001.0, 112500.0, 500001.0, 112500.0, 500001.0, 500001.0, 500001.0, 500001.0, 500001.0, 500001.0, 112500.0, 112500.0, 112500.0, 500001.0, 500001.0, 112500.0, 500001.0, 500001.0, 500001.0, 500001.0, 500001.0, 500001.0, 500001.0, 500001.0, 500001.0, 500001.0, 500001.0, 500001.0, 500001.0, 112500.0, 500001.0, 228700.0, 112500.0, 112500.0, 112500.0, 112500.0, 500001.0, 500001.0, 500001.0, 137500.0, 500001.0, 500001.0, 500001.0, 338700.0, 500001.0, 500001.0, 500001.0, 112500.0, 285400.0, 112500.0, 500001.0, 500001.0, 112500.0, 500001.0, 500001.0, 367400.0, 500001.0, 500001.0, 500001.0, 500001.0, 500001.0]\n"
     ]
    }
   ],
   "source": [
    "# metrics\n",
    "\n",
    "from metrics_classification import *\n",
    "from sklearn.metrics import confusion_matrix\n",
    "\n",
    "y_true =  list(Y_test)\n",
    "y_pred = list(reg_tree.predict(X_test))\n",
    "\n",
    "\n",
    "\n",
    "print('Valores:\\n')\n",
    "print('originales:\\n ', y_true)\n",
    "print('\\npredicho: \\n  ', y_pred)"
   ]
  },
  {
   "cell_type": "code",
   "execution_count": 120,
   "metadata": {},
   "outputs": [
    {
     "name": "stdout",
     "output_type": "stream",
     "text": [
      "\n",
      "Matriz de confusion:\n",
      " \n",
      "[[  0   0   0 ...   0   0   1]\n",
      " [  0   0   0 ...   0   0   1]\n",
      " [  0   0   0 ...   0   0   0]\n",
      " ...\n",
      " [  0   0   0 ...   0   0   1]\n",
      " [  0   0   0 ...   0   0   5]\n",
      " [  0   0   0 ...   0   0 175]]\n"
     ]
    }
   ],
   "source": [
    "print('\\nMatriz de confusion:\\n ')\n",
    "print(confusion_matrix(y_true,y_pred))"
   ]
  },
  {
   "cell_type": "code",
   "execution_count": 112,
   "metadata": {},
   "outputs": [
    {
     "name": "stdout",
     "output_type": "stream",
     "text": [
      "\n",
      "Metricas para los regresores:\n",
      "\n"
     ]
    },
    {
     "name": "stderr",
     "output_type": "stream",
     "text": [
      "C:\\Users\\Javiera\\anaconda3\\lib\\site-packages\\sklearn\\metrics\\_classification.py:1245: UndefinedMetricWarning: Recall is ill-defined and being set to 0.0 in labels with no true samples. Use `zero_division` parameter to control this behavior.\n",
      "  _warn_prf(average, modifier, msg_start, len(result))\n",
      "C:\\Users\\Javiera\\anaconda3\\lib\\site-packages\\sklearn\\metrics\\_classification.py:1245: UndefinedMetricWarning: Precision is ill-defined and being set to 0.0 in labels with no predicted samples. Use `zero_division` parameter to control this behavior.\n",
      "  _warn_prf(average, modifier, msg_start, len(result))\n"
     ]
    },
    {
     "data": {
      "text/html": [
       "<div>\n",
       "<style scoped>\n",
       "    .dataframe tbody tr th:only-of-type {\n",
       "        vertical-align: middle;\n",
       "    }\n",
       "\n",
       "    .dataframe tbody tr th {\n",
       "        vertical-align: top;\n",
       "    }\n",
       "\n",
       "    .dataframe thead th {\n",
       "        text-align: right;\n",
       "    }\n",
       "</style>\n",
       "<table border=\"1\" class=\"dataframe\">\n",
       "  <thead>\n",
       "    <tr style=\"text-align: right;\">\n",
       "      <th></th>\n",
       "      <th>accuracy</th>\n",
       "      <th>recall</th>\n",
       "      <th>precision</th>\n",
       "      <th>fscore</th>\n",
       "    </tr>\n",
       "  </thead>\n",
       "  <tbody>\n",
       "    <tr>\n",
       "      <th>0</th>\n",
       "      <td>0.0429</td>\n",
       "      <td>0.0006</td>\n",
       "      <td>0.0</td>\n",
       "      <td>0.0001</td>\n",
       "    </tr>\n",
       "  </tbody>\n",
       "</table>\n",
       "</div>"
      ],
      "text/plain": [
       "   accuracy  recall  precision  fscore\n",
       "0    0.0429  0.0006        0.0  0.0001"
      ]
     },
     "execution_count": 112,
     "metadata": {},
     "output_type": "execute_result"
    }
   ],
   "source": [
    "# ejemplo \n",
    "df_temp = pd.DataFrame(\n",
    "    {\n",
    "        'y':y_true,\n",
    "        'yhat':y_pred\n",
    "        }\n",
    ")\n",
    "\n",
    "df_metrics = summary_metrics(df_temp)\n",
    "print(\"\\nMetricas para los regresores:\")\n",
    "print(\"\")\n",
    "df_metrics"
   ]
  },
  {
   "cell_type": "code",
   "execution_count": 115,
   "metadata": {},
   "outputs": [
    {
     "data": {
      "text/plain": [
       "'import time\\n#Diccionario de Hiperparámetros\\ndicc_tree = {\\n    \\'criterion\\' : [\\'gini\\', \\'entropy\\'],\\n    \\'splitter\\' : [\\'best\\', \\'random\\'],\\n    \\'max_features\\' : [\\'auto\\', \\'sqrt\\', \\'log2\\'],\\n    \\'max_depth\\': [6,10,15,20,30]\\n    }\\n\\n#grid_rlog = GridSearchCV(estimator = rlog, param_grid = dicc, refit = True, cv = 10)\\ngrid_tree = GridSearchCV(estimator = reg_tree, param_grid = dicc_tree, cv = 10) \\n\\nstart_time = time.time() #Tiempo de inicio \\n\\ngrid_result_tree = grid_tree.fit(X_train, Y_train)\\n\\nprint(\"Este modelo se ajustó en\",(time.time() - start_time),\"segundos.\") '"
      ]
     },
     "execution_count": 115,
     "metadata": {},
     "output_type": "execute_result"
    }
   ],
   "source": [
    "\n",
    "#NO PUDE HACER CORRER EL SIGUIENTE CÓDIGO TAMPOCO (se tarda demasiado):\n",
    "\n",
    "\"\"\"import time\n",
    "#Diccionario de Hiperparámetros\n",
    "dicc_tree = {\n",
    "    'criterion' : ['gini', 'entropy'],\n",
    "    'splitter' : ['best', 'random'],\n",
    "    'max_features' : ['auto', 'sqrt', 'log2'],\n",
    "    'max_depth': [6,10,15,20,30]\n",
    "    }\n",
    "\n",
    "#grid_rlog = GridSearchCV(estimator = rlog, param_grid = dicc, refit = True, cv = 10)\n",
    "grid_tree = GridSearchCV(estimator = reg_tree, param_grid = dicc_tree, cv = 10) \n",
    "\n",
    "start_time = time.time() #Tiempo de inicio \n",
    "\n",
    "grid_result_tree = grid_tree.fit(X_train, Y_train)\n",
    "\n",
    "print(\"Este modelo se ajustó en\",(time.time() - start_time),\"segundos.\") \"\"\""
   ]
  },
  {
   "cell_type": "code",
   "execution_count": 116,
   "metadata": {},
   "outputs": [
    {
     "data": {
      "text/plain": [
       "'# print best parameter after tuning \\nprint(\"El mejor score tuvo un valor de:\", grid_result_tree.best_score_)\\nprint(\"usando los siguientes parámetros:\",grid_result_tree.best_params_) \\ngrid_predictions = grid_result_tree.predict(X_test) '"
      ]
     },
     "execution_count": 116,
     "metadata": {},
     "output_type": "execute_result"
    }
   ],
   "source": [
    "\"\"\"# print best parameter after tuning \n",
    "print(\"El mejor score tuvo un valor de:\", grid_result_tree.best_score_)\n",
    "print(\"usando los siguientes parámetros:\",grid_result_tree.best_params_) \n",
    "grid_predictions = grid_result_tree.predict(X_test) \"\"\""
   ]
  },
  {
   "cell_type": "markdown",
   "metadata": {},
   "source": [
    "Random Forest Classifier:"
   ]
  },
  {
   "cell_type": "code",
   "execution_count": 123,
   "metadata": {},
   "outputs": [
    {
     "data": {
      "text/plain": [
       "RandomForestClassifier(max_depth=5, max_features=1, n_estimators=10)"
      ]
     },
     "execution_count": 123,
     "metadata": {},
     "output_type": "execute_result"
    }
   ],
   "source": [
    "random_forest = RandomForestClassifier(max_depth=5, n_estimators=10, max_features=1)\n",
    "random_forest.fit(X_train, Y_train)"
   ]
  },
  {
   "cell_type": "code",
   "execution_count": 124,
   "metadata": {},
   "outputs": [
    {
     "name": "stdout",
     "output_type": "stream",
     "text": [
      "Valores:\n",
      "\n",
      "originales:\n",
      "  [47700.0, 45800.0, 500001.0, 218600.0, 278000.0, 158700.0, 198200.0, 157500.0, 340000.0, 446600.0, 123200.0, 253900.0, 215100.0, 220500.0, 219800.0, 136200.0, 178400.0, 187500.0, 139800.0, 137500.0, 425000.0, 405600.0, 138800.0, 500001.0, 162100.0, 51400.0, 151300.0, 94800.0, 204100.0, 361500.0, 85100.0, 138400.0, 137500.0, 465000.0, 271800.0, 239400.0, 340900.0, 150400.0, 128100.0, 156000.0, 258100.0, 90500.0, 71300.0, 219700.0, 151000.0, 290100.0, 142000.0, 291500.0, 255400.0, 98100.0, 251900.0, 162100.0, 129400.0, 89400.0, 150500.0, 133800.0, 80400.0, 211100.0, 255600.0, 214500.0, 500001.0, 202100.0, 81500.0, 98800.0, 281900.0, 184600.0, 254700.0, 143100.0, 162500.0, 142600.0, 85900.0, 186900.0, 71300.0, 174400.0, 225000.0, 146500.0, 405000.0, 189600.0, 164400.0, 337500.0, 72500.0, 143800.0, 160000.0, 118100.0, 374000.0, 202700.0, 96600.0, 65800.0, 167400.0, 179800.0, 96700.0, 266100.0, 91100.0, 49800.0, 90700.0, 115800.0, 278600.0, 250000.0, 85000.0, 177000.0, 99700.0, 357600.0, 475000.0, 273600.0, 182400.0, 157800.0, 193800.0, 333600.0, 264600.0, 58400.0, 173400.0, 214800.0, 200000.0, 422800.0, 93600.0, 122200.0, 167600.0, 303600.0, 269300.0, 264400.0, 191000.0, 153800.0, 275500.0, 208800.0, 142300.0, 63500.0, 95800.0, 231700.0, 221500.0, 89500.0, 226000.0, 500001.0, 270200.0, 59600.0, 193300.0, 133600.0, 161900.0, 357500.0, 276500.0, 410700.0, 375000.0, 135200.0, 167200.0, 252000.0, 308400.0, 172100.0, 500001.0, 193800.0, 105200.0, 90800.0, 168800.0, 162100.0, 161200.0, 137500.0, 289300.0, 278700.0, 161700.0, 231000.0, 87500.0, 95700.0, 240600.0, 214100.0, 428600.0, 125000.0, 76400.0, 263800.0, 120400.0, 109100.0, 170600.0, 257400.0, 320000.0, 289600.0, 307300.0, 325500.0, 58400.0, 48500.0, 216700.0, 97900.0, 158600.0, 69000.0, 322300.0, 467700.0, 163000.0, 287100.0, 54600.0, 90400.0, 155500.0, 175000.0, 411200.0, 332100.0, 141200.0, 247100.0, 153000.0, 155000.0, 390800.0, 90000.0, 196700.0, 68200.0, 500001.0, 92100.0, 297900.0, 500001.0, 332300.0, 171100.0, 152100.0, 232000.0, 127100.0, 87500.0, 203400.0, 228600.0, 116700.0, 416700.0, 227600.0, 267900.0, 97200.0, 137500.0, 198800.0, 68600.0, 352500.0, 103800.0, 107800.0, 131700.0, 271300.0, 97300.0, 95000.0, 67500.0, 326100.0, 65600.0, 225600.0, 263800.0, 348300.0, 325000.0, 108800.0, 400000.0, 138400.0, 61000.0, 453100.0, 500001.0, 120200.0, 329200.0, 196300.0, 150000.0, 152000.0, 169900.0, 137500.0, 283000.0, 404500.0, 193500.0, 205100.0, 145600.0, 225000.0, 215900.0, 158500.0, 124700.0, 65400.0, 280200.0, 180500.0, 105400.0, 100000.0, 166300.0, 158000.0, 243800.0, 362900.0, 201900.0, 52600.0, 500001.0, 112000.0, 225000.0, 439900.0, 88300.0, 500001.0, 276800.0, 179200.0, 199700.0, 132000.0, 61300.0, 171900.0, 123800.0, 135300.0, 137100.0, 129300.0, 227900.0, 94400.0, 103500.0, 320800.0, 125000.0, 332400.0, 159100.0, 236900.0, 461600.0, 156900.0, 148200.0, 166500.0, 196900.0, 167800.0, 126700.0, 500001.0, 57900.0, 238000.0, 142000.0, 86900.0, 56000.0, 500001.0, 112400.0, 63600.0, 431300.0, 265900.0, 58000.0, 194100.0, 142800.0, 178700.0, 187500.0, 225000.0, 313000.0, 500001.0, 153600.0, 62300.0, 194500.0, 163900.0, 398800.0, 204100.0, 199300.0, 176700.0, 500001.0, 248900.0, 150000.0, 231700.0, 58000.0, 126000.0, 163300.0, 113400.0, 300000.0, 310900.0, 218800.0, 70400.0, 237700.0, 118800.0, 73100.0, 75000.0, 450700.0, 240200.0, 65800.0, 64700.0, 175100.0, 223700.0, 96300.0, 405100.0, 376800.0, 500001.0, 350000.0, 162500.0, 177300.0, 98400.0, 138800.0, 175000.0, 260900.0, 104700.0, 159500.0, 295900.0, 137500.0, 500001.0, 227000.0, 263900.0, 160400.0, 142000.0, 162500.0, 230400.0, 500001.0, 217700.0, 183000.0, 245800.0, 129200.0, 60400.0, 67500.0, 295200.0, 192600.0, 150600.0, 125700.0, 63400.0, 151300.0, 245600.0, 500001.0, 165500.0, 113500.0, 322200.0, 362500.0, 69600.0, 156100.0, 87500.0, 193100.0, 218000.0, 101800.0, 129100.0, 156300.0, 183200.0, 148100.0, 500001.0, 222100.0, 167600.0, 184500.0, 370000.0, 239400.0, 166700.0, 233300.0, 240000.0, 91300.0, 483500.0, 150500.0, 99500.0, 240200.0, 95500.0, 500001.0, 251600.0, 120800.0, 135700.0, 225400.0, 500001.0, 85100.0, 500001.0, 164800.0, 111600.0, 161000.0, 213700.0, 116500.0, 350000.0, 159900.0, 438300.0, 171100.0, 271100.0, 500001.0, 68000.0, 191700.0, 255900.0, 112500.0, 182200.0, 347600.0, 332000.0, 110900.0, 211900.0, 262500.0, 237900.0, 90000.0, 427200.0, 370500.0, 116300.0, 170800.0, 285500.0, 111500.0, 83200.0, 248200.0, 395500.0, 218300.0, 500001.0, 88900.0, 181000.0, 280900.0, 345300.0, 181000.0, 192200.0, 78100.0, 75000.0, 433300.0, 160100.0, 109200.0, 96200.0, 191400.0, 360000.0, 185600.0, 118800.0, 122700.0, 206300.0, 195600.0, 75600.0, 104300.0, 385900.0, 113900.0, 79400.0, 81300.0, 129200.0, 73500.0, 175900.0, 142400.0, 234100.0, 286700.0, 92500.0, 170100.0, 161800.0, 225300.0, 170600.0, 319400.0, 95800.0, 73400.0, 93600.0, 51700.0, 358700.0, 64700.0, 344200.0, 314000.0, 185700.0, 279300.0, 119400.0, 280400.0, 187100.0, 83800.0, 309300.0, 229200.0, 245000.0, 227600.0, 500001.0, 320800.0, 147300.0, 162300.0, 265900.0, 500001.0, 189100.0, 316400.0, 181900.0, 261500.0, 69000.0, 181300.0, 293000.0, 111100.0, 218300.0, 147200.0, 243800.0, 223000.0, 137500.0, 60600.0, 275000.0, 350000.0, 171200.0, 83500.0, 225000.0, 165600.0, 152000.0, 192000.0, 254200.0, 150000.0, 212500.0, 80400.0, 206500.0, 331100.0, 201400.0, 188400.0, 195400.0, 442500.0, 152700.0, 500001.0, 239800.0, 159400.0, 91800.0, 240900.0, 136400.0, 103600.0, 132500.0, 292900.0, 62800.0, 112100.0, 89100.0, 120700.0, 471400.0, 314700.0, 226400.0, 409700.0, 149000.0, 171700.0, 235500.0, 322800.0, 244500.0, 162200.0, 340900.0, 57400.0, 198900.0, 109700.0, 137500.0, 85700.0, 98300.0, 178200.0, 137500.0, 275000.0, 381500.0, 500001.0, 500001.0, 179200.0, 204500.0, 394100.0, 184400.0, 174000.0, 80700.0, 189600.0, 60000.0, 126600.0, 262500.0, 139200.0, 51300.0, 229200.0, 101100.0, 97700.0, 158300.0, 349100.0, 85500.0, 214100.0, 227100.0, 155700.0, 66800.0, 207300.0, 222800.0, 354500.0, 340500.0, 52900.0, 140600.0, 150800.0, 56100.0, 259600.0, 318900.0, 148400.0, 289900.0, 161800.0, 255000.0, 87500.0, 245000.0, 305000.0, 215000.0, 249000.0, 500001.0, 320000.0, 174000.0, 292500.0, 500001.0, 289900.0, 438400.0, 182000.0, 170500.0, 69200.0, 95600.0, 272800.0, 81300.0, 272400.0, 152600.0, 55900.0, 213500.0, 331300.0, 201800.0, 57100.0, 331800.0, 365900.0, 127500.0, 111800.0, 353700.0, 229300.0, 87500.0, 237500.0, 113300.0, 112500.0, 138500.0, 307400.0, 100900.0, 97800.0, 176700.0, 218000.0, 290600.0, 157700.0, 348000.0, 67200.0, 260400.0, 123600.0, 67500.0, 130700.0, 66000.0, 166600.0, 225600.0, 257100.0, 500001.0, 113900.0, 91000.0, 217400.0, 96000.0, 129200.0, 350200.0, 442100.0, 222900.0, 81300.0, 160600.0, 500001.0, 341200.0, 287900.0, 344700.0, 180000.0, 167800.0, 55000.0, 50800.0, 142600.0, 235800.0, 112700.0, 210200.0, 210700.0, 65400.0, 162500.0, 150300.0, 500001.0, 101400.0, 221800.0, 260300.0, 178800.0, 170400.0, 319400.0, 190600.0, 184100.0, 191100.0, 149600.0, 500001.0, 183400.0, 444100.0, 242700.0, 76200.0, 132900.0, 409800.0, 112500.0, 376600.0, 50500.0, 500001.0, 209500.0, 77800.0, 299700.0, 375000.0, 156500.0, 240000.0, 77200.0, 98500.0, 500001.0, 110400.0, 86400.0, 230400.0, 163900.0, 500001.0, 49500.0, 107400.0, 362500.0, 145000.0, 218500.0, 130100.0, 146000.0, 152500.0, 457200.0, 165200.0, 394700.0, 144400.0, 136600.0, 216400.0, 139000.0, 103800.0, 488500.0, 227100.0, 238000.0, 215600.0, 292300.0, 145900.0, 187300.0, 185400.0, 280000.0, 141100.0, 190900.0, 262500.0, 442000.0, 274800.0, 85500.0, 231800.0, 302000.0, 235800.0, 72200.0, 182400.0, 500001.0, 78700.0, 181300.0, 198000.0, 199600.0, 63300.0, 94000.0, 186800.0, 117000.0, 117800.0, 121000.0, 230900.0, 427300.0, 128100.0, 384700.0, 290400.0, 91300.0, 61900.0, 232200.0, 129600.0, 127500.0, 150500.0, 187500.0, 437900.0, 126500.0, 453400.0, 229400.0, 364900.0, 191900.0, 87500.0, 30000.0, 335700.0, 242100.0, 173700.0, 54100.0, 207800.0, 112500.0, 166700.0, 271800.0, 141100.0, 375000.0, 161600.0, 159400.0, 86300.0, 256300.0, 213200.0, 254100.0, 132600.0, 169300.0, 347700.0, 159700.0, 90900.0, 290500.0, 189900.0, 495600.0, 333300.0, 183800.0, 189000.0, 157500.0, 66600.0, 132400.0, 156000.0, 348100.0, 226400.0, 74200.0, 158300.0, 500001.0, 165500.0, 329500.0, 139600.0, 152900.0, 367300.0, 70000.0, 97400.0, 65900.0, 49300.0, 154100.0, 272800.0, 247100.0, 268800.0, 247600.0, 416800.0, 121600.0, 171700.0, 173800.0, 235600.0, 260100.0, 200000.0, 296600.0, 374600.0, 177800.0, 269500.0, 62000.0, 197600.0, 52700.0, 191400.0, 317700.0, 329400.0, 330700.0, 187400.0, 286500.0, 500001.0, 133900.0, 199800.0, 45000.0, 354600.0, 263800.0, 278400.0, 160400.0, 241300.0, 208300.0, 263600.0, 145000.0, 132500.0, 183800.0, 81100.0, 176500.0, 255500.0, 166100.0, 102000.0, 86100.0, 100600.0, 500000.0, 209900.0, 52500.0, 262900.0, 158800.0, 209500.0, 350000.0, 217100.0, 141400.0, 93400.0, 198200.0, 187200.0, 185300.0, 500001.0, 281300.0, 103600.0, 287900.0, 208300.0, 175000.0, 132700.0, 172000.0, 500001.0, 64000.0, 227900.0, 63100.0, 84100.0, 339200.0, 156300.0, 383600.0, 137100.0, 56800.0, 70000.0, 96300.0, 92600.0, 359100.0, 158700.0, 500001.0, 114600.0, 410200.0, 281900.0, 101700.0, 169300.0, 207800.0, 327200.0, 277900.0, 111400.0, 80600.0, 207500.0, 275300.0, 421000.0, 128800.0, 313900.0, 67600.0, 64400.0, 153900.0, 130700.0, 238500.0, 379600.0, 146500.0, 150300.0, 80300.0, 293300.0, 288000.0, 144100.0, 127000.0, 152100.0, 156800.0, 104900.0, 500001.0, 134400.0, 500001.0, 272800.0, 151600.0, 362600.0, 169200.0, 140400.0, 43700.0, 136000.0, 264400.0, 152200.0, 137500.0, 214700.0, 170900.0, 236200.0, 297800.0, 88500.0, 127600.0, 80200.0, 306000.0, 436400.0, 238900.0, 231700.0, 122900.0, 218200.0, 397000.0, 260300.0, 435700.0, 164000.0, 440500.0, 85400.0, 101900.0, 159400.0, 190300.0, 100000.0, 139600.0, 500001.0, 154500.0, 170500.0, 110600.0, 191200.0, 287200.0, 150100.0, 238300.0, 154200.0, 280500.0, 161900.0, 265600.0, 122700.0, 231200.0, 319100.0, 231300.0, 500001.0, 121200.0, 222500.0, 450000.0, 102100.0, 201200.0, 104200.0, 500001.0, 132000.0, 221100.0, 151600.0, 146900.0, 151200.0, 165100.0, 213600.0, 213500.0, 500001.0, 438000.0, 183800.0, 350000.0, 159300.0, 129100.0, 76600.0, 225000.0, 230800.0, 431800.0, 191000.0, 84700.0, 152500.0, 67600.0, 198200.0, 306300.0, 122100.0, 276100.0, 103000.0, 409100.0, 135200.0, 121600.0, 182800.0, 228000.0, 110000.0, 111200.0, 84700.0, 447300.0, 88300.0, 87100.0, 187500.0, 146900.0, 103100.0, 343700.0, 98200.0, 262500.0, 77400.0, 135100.0, 134700.0, 231300.0, 158600.0, 101600.0, 122000.0, 380000.0, 189400.0, 440000.0, 70000.0, 70000.0, 333500.0, 101800.0, 500001.0, 360500.0, 169500.0, 205600.0, 166300.0, 32500.0, 362700.0, 174500.0, 197600.0, 183000.0, 158300.0, 100200.0, 87500.0, 461100.0, 190200.0, 232300.0, 221600.0, 226900.0, 224200.0, 119800.0, 78200.0, 165100.0, 213900.0, 69700.0, 105800.0, 75000.0, 91700.0, 269500.0, 68200.0, 165800.0, 154600.0, 472700.0, 345900.0, 230700.0, 300000.0, 249400.0, 435700.0, 225800.0, 175000.0, 178400.0, 276000.0, 115900.0, 214300.0, 118300.0, 500001.0, 152100.0, 140400.0, 222600.0, 444500.0, 500000.0, 163300.0, 193800.0, 90500.0, 115200.0, 147000.0, 273900.0, 190900.0, 74800.0, 500001.0, 118500.0, 500001.0, 55000.0, 58400.0, 95800.0, 99200.0, 167400.0, 70500.0, 67500.0, 75700.0, 183000.0, 500001.0, 97300.0, 230000.0, 82900.0, 52200.0, 114800.0, 88000.0, 224200.0, 150000.0, 341700.0, 181700.0, 140600.0, 72700.0, 210900.0, 97700.0, 109700.0, 165600.0, 230600.0, 163800.0, 95800.0, 48100.0, 44400.0, 237900.0, 284800.0, 164800.0, 200000.0, 77800.0, 186000.0, 169700.0, 418800.0, 73300.0, 87000.0, 168200.0, 154300.0, 225000.0, 333000.0, 225900.0, 138100.0, 112700.0, 231600.0, 419100.0, 221100.0, 155400.0, 151700.0, 248900.0, 153200.0, 126500.0, 240000.0, 186100.0, 500001.0, 181600.0, 178100.0, 69200.0, 66800.0, 500001.0, 181300.0, 396400.0, 187500.0, 297900.0, 345400.0, 245100.0, 105500.0, 101100.0, 141700.0, 430900.0, 286300.0, 113000.0, 466700.0, 168600.0, 360500.0, 256400.0, 113900.0, 350400.0, 209100.0, 131500.0, 216700.0, 101300.0, 202800.0, 117600.0, 292600.0, 500001.0, 130300.0, 92400.0, 112500.0, 154200.0, 104000.0, 121600.0, 206300.0, 108300.0, 349400.0, 83300.0, 245800.0, 91500.0, 500001.0, 500001.0, 190500.0, 108300.0, 89600.0, 500001.0, 94600.0, 67500.0, 177500.0, 261300.0, 500001.0, 168400.0, 245300.0, 240000.0, 156500.0, 500001.0, 235600.0, 185600.0, 316700.0, 118800.0, 248500.0, 236500.0, 94600.0, 176800.0, 148600.0, 195300.0, 215900.0, 126600.0, 173900.0, 183000.0, 74300.0, 224700.0, 101600.0, 391000.0, 265000.0, 500001.0, 186500.0, 78000.0, 80800.0, 189600.0, 199200.0, 189600.0, 160000.0, 375300.0, 166700.0, 215600.0, 228600.0, 171300.0, 431000.0, 275100.0, 276800.0, 46300.0, 144000.0, 94300.0, 157600.0, 194500.0, 351100.0, 453400.0, 224600.0, 155600.0, 242000.0, 70000.0, 71300.0, 66800.0, 153100.0, 137500.0, 230400.0, 242200.0, 301900.0, 415800.0, 156500.0, 78600.0, 441400.0, 184300.0, 276500.0, 232800.0, 60400.0, 224100.0, 439000.0, 123100.0, 255700.0, 57600.0, 199800.0, 51300.0, 348200.0, 362800.0, 240300.0, 73600.0, 172600.0, 229000.0, 166300.0, 83300.0, 500001.0, 332900.0, 54300.0, 241700.0, 387500.0, 136400.0, 98300.0, 176000.0, 63000.0, 236900.0, 97200.0, 220000.0, 105800.0, 270900.0, 99400.0, 166300.0, 143800.0, 140600.0, 330900.0, 156900.0, 500001.0, 162500.0, 124800.0, 216100.0, 171400.0, 325600.0, 109800.0, 276200.0, 129900.0, 292300.0, 341500.0, 66800.0, 238800.0, 77400.0, 82400.0, 359900.0, 465700.0, 214000.0, 107100.0, 157800.0, 119300.0, 232900.0, 179500.0, 70100.0, 55000.0, 65900.0, 99600.0, 500001.0, 164100.0, 77000.0, 140300.0, 172900.0, 500001.0, 314300.0, 500001.0, 500001.0, 143000.0, 280600.0, 375000.0, 137500.0, 337100.0, 128000.0, 185400.0, 63000.0, 109500.0, 400000.0, 151900.0, 56300.0, 102500.0, 225000.0, 145500.0, 363100.0, 249000.0, 415300.0, 267400.0, 75000.0, 250000.0, 161800.0, 97500.0, 111500.0, 87300.0, 272900.0, 124400.0, 228700.0, 229500.0, 162500.0, 80000.0, 118800.0, 244200.0, 187500.0, 246000.0, 102600.0, 116700.0, 137500.0, 171900.0, 103100.0, 239100.0, 194000.0, 219900.0, 380000.0, 155700.0, 89900.0, 89300.0, 55000.0, 49800.0, 146400.0, 278000.0, 288700.0, 129200.0, 221600.0, 85600.0, 160400.0, 57600.0, 348500.0, 199400.0, 97100.0, 58100.0, 301000.0, 74200.0, 249400.0, 267000.0, 119900.0, 77700.0, 143400.0, 61200.0, 206800.0, 328200.0, 360600.0, 107800.0, 51500.0, 67500.0, 184100.0, 200000.0, 354000.0, 393800.0, 132100.0, 306500.0, 134900.0, 319300.0, 303900.0, 350000.0, 231200.0, 131300.0, 120800.0, 135200.0, 68900.0, 425000.0, 160500.0, 151000.0, 349500.0, 60200.0, 396400.0, 278500.0, 239300.0, 224900.0, 91300.0, 111400.0, 150800.0, 64700.0, 358800.0, 232800.0, 54400.0, 98200.0, 225800.0, 116100.0, 196400.0, 123200.0, 156400.0, 166800.0, 215900.0, 117300.0, 243200.0, 72900.0, 191700.0, 60000.0, 195400.0, 111600.0, 268500.0, 260000.0, 89400.0, 235200.0, 386100.0, 187500.0, 223400.0, 120300.0, 135800.0, 307400.0, 326800.0, 70300.0, 68200.0, 114600.0, 177200.0, 81900.0, 90600.0, 56800.0, 323800.0, 244400.0, 144300.0, 164200.0, 237600.0, 243000.0, 83300.0, 87500.0, 131700.0, 47000.0, 195300.0, 184100.0, 128800.0, 118200.0, 212800.0, 141300.0, 227100.0, 80800.0, 201300.0, 183300.0, 155000.0, 143800.0, 137500.0, 280100.0, 245900.0, 243600.0, 103000.0, 103800.0, 235900.0, 161900.0, 394400.0, 145800.0, 184800.0, 242300.0, 335500.0, 165500.0, 204800.0, 159700.0, 169100.0, 478600.0, 258900.0, 324000.0, 103100.0, 138100.0, 91600.0, 228900.0, 138800.0, 252200.0, 420300.0, 243600.0, 142100.0, 67500.0, 92800.0, 190800.0, 223900.0, 143400.0, 132700.0, 99000.0, 67700.0, 227400.0, 228600.0, 135800.0, 362100.0, 281300.0, 500001.0, 90600.0, 66300.0, 150200.0, 170300.0, 99300.0, 322900.0, 213200.0, 217000.0, 267900.0, 206300.0, 376800.0, 87500.0, 304700.0, 460200.0, 128500.0, 284600.0, 119600.0, 208600.0, 117500.0, 66900.0, 204800.0, 74600.0, 109100.0, 114300.0, 308300.0, 113000.0, 91700.0, 134200.0, 425000.0, 53900.0, 310600.0, 241700.0, 226800.0, 100800.0, 238000.0, 245500.0, 156500.0, 115600.0, 66400.0, 58800.0, 223600.0, 169300.0, 166700.0, 225000.0, 72600.0, 160300.0, 147500.0, 91200.0, 208300.0, 335300.0, 58000.0, 226500.0, 345200.0, 106800.0, 500001.0, 275000.0, 95800.0, 97200.0, 155000.0, 400000.0, 500001.0, 304300.0, 359200.0, 144700.0, 352800.0, 355600.0, 99100.0, 250400.0, 105600.0, 500001.0, 162000.0, 272200.0, 245900.0, 183300.0, 220700.0, 161000.0, 303900.0, 266200.0, 90100.0, 87500.0, 209400.0, 188700.0, 101400.0, 387500.0, 359100.0, 327300.0, 279200.0, 233600.0, 163500.0, 124200.0, 450000.0, 111900.0, 90800.0, 120600.0, 483800.0, 366700.0, 201000.0, 333600.0, 362500.0, 170100.0, 246700.0, 161200.0, 147000.0, 117900.0, 111300.0, 266500.0, 113500.0, 329100.0, 500001.0, 236500.0, 122200.0, 81900.0, 386400.0, 184800.0, 160700.0, 101600.0, 424000.0, 262500.0, 369400.0, 115100.0, 281700.0, 98100.0, 131100.0, 251800.0, 232700.0, 139200.0, 71500.0, 340500.0, 270800.0, 155600.0, 89200.0, 167000.0, 103100.0, 180500.0, 51200.0, 204600.0, 387200.0, 162500.0, 120400.0, 139700.0, 98200.0, 269400.0, 269100.0, 500001.0, 49600.0, 58000.0, 65900.0, 175400.0, 391800.0, 280800.0, 90700.0, 500001.0, 92300.0, 227100.0, 162500.0, 290900.0, 183100.0, 283200.0, 177400.0, 238700.0, 321300.0, 261500.0, 99300.0, 226100.0, 51700.0, 156900.0, 160900.0, 222400.0, 305200.0, 138800.0, 230700.0, 94300.0, 97200.0, 382100.0, 193200.0, 209500.0, 231400.0, 89300.0, 196100.0, 113500.0, 178400.0, 406500.0, 228200.0, 234800.0, 231300.0, 500001.0, 184100.0, 213700.0, 500001.0, 169200.0, 232400.0, 351700.0, 234600.0, 112500.0, 145200.0, 87200.0, 53500.0, 43800.0, 94200.0, 218800.0, 191900.0, 132200.0, 46800.0, 149700.0, 126300.0, 255900.0, 94500.0, 237100.0, 500001.0, 87500.0, 126600.0, 245100.0, 157400.0, 78400.0, 218100.0, 350000.0, 198400.0, 143900.0, 337900.0, 76300.0, 160100.0, 130600.0, 112500.0, 329200.0, 233300.0, 99200.0, 197900.0, 204100.0, 350000.0, 62100.0, 140400.0, 152100.0, 130500.0, 195100.0, 199500.0, 137500.0, 275000.0, 122900.0, 109000.0, 121700.0, 302000.0, 241700.0, 153200.0, 169300.0, 358500.0, 175000.0, 112500.0, 376000.0, 118800.0, 401000.0, 107900.0, 339700.0, 158000.0, 468800.0, 63100.0, 184600.0, 189700.0, 190900.0, 67500.0, 85300.0, 173600.0, 129700.0, 181000.0, 500001.0, 376200.0, 243000.0, 148200.0, 238100.0, 450000.0, 240000.0, 500001.0, 274100.0, 190100.0, 268400.0, 349300.0, 275700.0, 182800.0, 500001.0, 213200.0, 179500.0, 138500.0, 181300.0, 340500.0, 225000.0, 68300.0, 237900.0, 149700.0, 125800.0, 87600.0, 125000.0, 168800.0, 135000.0, 86300.0, 64900.0, 106300.0, 285700.0, 272400.0, 217700.0, 91800.0, 163000.0, 195100.0, 32500.0, 275300.0, 136900.0, 194100.0, 230200.0, 143600.0, 39600.0, 59800.0, 210700.0, 156300.0, 215600.0, 177500.0, 218900.0, 128400.0, 190600.0, 398300.0, 367100.0, 122500.0, 376100.0, 157600.0, 178100.0, 72400.0, 287600.0, 175000.0, 280800.0, 160500.0, 158600.0, 144300.0, 136300.0, 218200.0, 466400.0, 386100.0, 251200.0, 190400.0, 223100.0, 361000.0, 275000.0, 70800.0, 460000.0, 67500.0, 225000.0, 176100.0, 52400.0, 167600.0, 99700.0, 88900.0, 223700.0, 180500.0, 93200.0, 173800.0, 490800.0, 104200.0, 276100.0, 254700.0, 212300.0, 87500.0, 94200.0, 163500.0, 500001.0, 125000.0, 182300.0, 111700.0, 146000.0, 500001.0, 320500.0, 48000.0, 168800.0, 67500.0, 173100.0, 150000.0, 329200.0, 141000.0, 378000.0, 80200.0, 203300.0, 394900.0, 84500.0, 327300.0, 201200.0, 162500.0, 266000.0, 221200.0, 176500.0, 206300.0, 500001.0, 186700.0, 112500.0, 90500.0, 190800.0, 198800.0, 165600.0, 500001.0, 145700.0, 91300.0, 140400.0, 191700.0, 61100.0, 153000.0, 85500.0, 164500.0, 386200.0, 341300.0, 246400.0, 121800.0, 132500.0, 98000.0, 241400.0, 171300.0, 120100.0, 500001.0, 192700.0, 232800.0, 191800.0, 196300.0, 293900.0, 84600.0, 500001.0, 500001.0, 107300.0, 150000.0, 204200.0, 268300.0, 103500.0, 161500.0, 222400.0, 166900.0, 229200.0, 205900.0, 95500.0, 162500.0, 240700.0, 82800.0, 230200.0, 185900.0, 105800.0, 118800.0, 194400.0, 183300.0, 292500.0, 144200.0, 500001.0, 134200.0, 52800.0, 188700.0, 204000.0, 179500.0, 98900.0, 279900.0, 327700.0, 208000.0, 208300.0, 112500.0, 234700.0, 214500.0, 338500.0, 500001.0, 284100.0, 500001.0, 181300.0, 125000.0, 412500.0, 112500.0, 90300.0, 96000.0, 142500.0, 266300.0, 165000.0, 118000.0, 156400.0, 426800.0, 308600.0, 239200.0, 109400.0, 66600.0, 368500.0, 330500.0, 273600.0, 500001.0, 321100.0, 242600.0, 231900.0, 151400.0, 227800.0, 380000.0, 95200.0, 193900.0, 260700.0, 191000.0, 64900.0, 128300.0, 189800.0, 183300.0, 151800.0, 257300.0, 137500.0, 125000.0, 218100.0, 168100.0, 231800.0, 149000.0, 170300.0, 391300.0, 282300.0, 500001.0, 135400.0, 328400.0, 350000.0, 182300.0, 500001.0, 192000.0, 240800.0, 175000.0, 126400.0, 125900.0, 194700.0, 341800.0, 211900.0, 137500.0, 270600.0, 172300.0, 262100.0, 149100.0, 339100.0, 248600.0, 128700.0, 343900.0, 175000.0, 287500.0, 143600.0, 346200.0, 232200.0, 200000.0, 241500.0, 67500.0, 191700.0, 178300.0, 178200.0, 133200.0, 273800.0, 152200.0, 187100.0, 137500.0, 110400.0, 240600.0, 162500.0, 83800.0, 265600.0, 211500.0, 173400.0, 310000.0, 99500.0, 191400.0, 220100.0, 167300.0, 65000.0, 141800.0, 290600.0, 319200.0, 118800.0, 200000.0, 219500.0, 289400.0, 116400.0, 162300.0, 114100.0, 71300.0, 190500.0, 197300.0, 72200.0, 103300.0, 143000.0, 244900.0, 500001.0, 183300.0, 86100.0, 218400.0, 110800.0, 211300.0, 338800.0, 123100.0, 269500.0, 321400.0, 81900.0, 500001.0, 304600.0, 72900.0, 158000.0, 62200.0, 116300.0, 314100.0, 362500.0, 500001.0, 74100.0, 150000.0, 270000.0, 120800.0, 250000.0, 72200.0, 375000.0, 239600.0, 183300.0, 161200.0, 251000.0, 45500.0, 178100.0, 258900.0, 145800.0, 84700.0, 216700.0, 130400.0, 158500.0, 117800.0, 215000.0, 268600.0, 100000.0, 332700.0, 186700.0, 53000.0, 149700.0, 345800.0, 124500.0, 475800.0, 500001.0, 500001.0, 175900.0, 183300.0, 253100.0, 117800.0, 143500.0, 500001.0, 142300.0, 121000.0, 268800.0, 330200.0, 121800.0, 416900.0, 266700.0, 189400.0, 443600.0, 163000.0, 382500.0, 106300.0, 57800.0, 57500.0, 238000.0, 218900.0, 118600.0, 309100.0, 213200.0, 180200.0, 470800.0, 337200.0, 95300.0, 103900.0, 500001.0, 215000.0, 189400.0, 171400.0, 357000.0, 196200.0, 98500.0, 178800.0, 226600.0, 171400.0, 271400.0, 216800.0, 67900.0, 171300.0, 110900.0, 332500.0, 150000.0, 173400.0, 237500.0, 65800.0, 173100.0, 321200.0, 265000.0, 87500.0, 210300.0, 247800.0, 375700.0, 113700.0, 500001.0, 45600.0, 130600.0, 198600.0, 436700.0, 92600.0, 150000.0, 359900.0, 500001.0, 93800.0, 383300.0, 191700.0, 267200.0, 280200.0, 52100.0, 110200.0, 164600.0, 324800.0, 122700.0, 216700.0, 73600.0, 254100.0, 187500.0, 166000.0, 157900.0, 193800.0, 140800.0, 95300.0, 227000.0, 265600.0, 90200.0, 183200.0, 184600.0, 162500.0, 125000.0, 97200.0, 355300.0, 136200.0, 125000.0, 305600.0, 176600.0, 348600.0, 299200.0, 72100.0, 109500.0, 281100.0, 156300.0, 234200.0, 59700.0, 250000.0, 203300.0, 173100.0, 300300.0, 238000.0, 179000.0, 166000.0, 160700.0, 147500.0, 192100.0, 56400.0, 304800.0, 439800.0, 137500.0, 137500.0, 134600.0, 262500.0, 83400.0, 113500.0, 71400.0, 204500.0, 282400.0, 145700.0, 264700.0, 275000.0, 171600.0, 216700.0, 180700.0, 212500.0, 167700.0, 42500.0, 238400.0, 144000.0, 43600.0, 363500.0, 186200.0, 67500.0, 159600.0, 195600.0, 154800.0, 450700.0, 69900.0, 132200.0, 328000.0, 272800.0, 66300.0, 129300.0, 77100.0, 155500.0, 126000.0, 240300.0, 133000.0, 94900.0, 203900.0, 61000.0, 139200.0, 229200.0, 260600.0, 251100.0, 327600.0, 167900.0, 212000.0, 233300.0, 255400.0, 67500.0, 162000.0, 117200.0, 109700.0, 275000.0, 111800.0, 166000.0, 92700.0, 186000.0, 97300.0, 241300.0, 258500.0, 138200.0, 196100.0, 419200.0, 138800.0, 376600.0, 165100.0, 181800.0, 211800.0, 112500.0, 144300.0, 222000.0, 53600.0, 130800.0, 227600.0, 275000.0, 191900.0, 64100.0, 68100.0, 255200.0, 244100.0, 337000.0, 208300.0, 500001.0, 172100.0, 128900.0, 144900.0, 72000.0, 142900.0, 436100.0, 204200.0, 195700.0, 90500.0, 236100.0, 186900.0, 162500.0, 112500.0, 58000.0, 307400.0, 353800.0, 290900.0, 358600.0, 246200.0, 72100.0, 107500.0, 78600.0, 187600.0, 97900.0, 186600.0, 196900.0, 111500.0, 156300.0, 218200.0, 293500.0, 59000.0, 162800.0, 102900.0, 54300.0, 166300.0, 152500.0, 142600.0, 150000.0, 84400.0, 210000.0, 137500.0, 350000.0, 171900.0, 143100.0, 452300.0, 176000.0, 112700.0, 68400.0, 190700.0, 331800.0, 184000.0, 162500.0, 129400.0, 172800.0, 191100.0, 294900.0, 188600.0, 63800.0, 466100.0, 186800.0, 139300.0, 330300.0, 284800.0, 198800.0, 69300.0, 145500.0, 166200.0, 273800.0, 149000.0, 215400.0, 287800.0, 406300.0, 160300.0, 240000.0, 60900.0, 142300.0, 84800.0, 205400.0, 396800.0, 135400.0, 115400.0, 162500.0, 425000.0, 114300.0, 500001.0, 500001.0, 48700.0, 294700.0, 300500.0, 343200.0, 92000.0, 278100.0, 380900.0, 339800.0, 96800.0, 270000.0, 190000.0, 181300.0, 100600.0, 170800.0, 152700.0, 353600.0, 200000.0, 213400.0, 153100.0, 379700.0, 275000.0, 78600.0, 188300.0, 138000.0, 500001.0, 197400.0, 244600.0, 165300.0, 300400.0, 88200.0, 500001.0, 163100.0, 191900.0, 355300.0, 430300.0, 42700.0, 378100.0, 264000.0, 111900.0, 224500.0, 125000.0, 64100.0, 88400.0, 389200.0, 193800.0, 500001.0, 187500.0, 210300.0, 212800.0, 177500.0, 181300.0, 159500.0, 177500.0, 116100.0, 500001.0, 162500.0, 135500.0, 99600.0, 118500.0, 156900.0, 147200.0, 85800.0, 500001.0, 170900.0, 257900.0, 164300.0, 438900.0, 98000.0, 288700.0, 203200.0, 283600.0, 162500.0, 95300.0, 161700.0, 187500.0, 158000.0, 456100.0, 102900.0, 165400.0, 54400.0, 147200.0, 95000.0, 143000.0, 97200.0, 112900.0, 173300.0, 393100.0, 63000.0, 297300.0, 242100.0, 293900.0, 113100.0, 137200.0, 297100.0, 243500.0, 98800.0, 244800.0, 327800.0, 437500.0, 163500.0, 102400.0, 112200.0, 165900.0, 250000.0, 158100.0, 87500.0, 135000.0, 79500.0, 162100.0, 228400.0, 140600.0, 71300.0, 266300.0, 81300.0, 185000.0, 329300.0, 168800.0, 110400.0, 500001.0, 85700.0, 63300.0, 500001.0, 183800.0, 150700.0, 242900.0, 326700.0, 220400.0, 240700.0, 500001.0, 98400.0, 166900.0, 205400.0, 90100.0, 189800.0, 162500.0, 333700.0, 85100.0, 134400.0, 144600.0, 215000.0, 97500.0, 210000.0, 312000.0, 300000.0, 202400.0, 254100.0, 116000.0, 167000.0, 396900.0, 227000.0, 500001.0, 500001.0, 199000.0, 369100.0, 22500.0, 95700.0, 365900.0, 215800.0, 205500.0, 500001.0, 250800.0, 363600.0, 294200.0, 171400.0, 261300.0, 114900.0, 258400.0, 106300.0, 98900.0, 242000.0, 146100.0, 154600.0, 197500.0, 289600.0, 325700.0, 53300.0, 87800.0, 178300.0, 197100.0, 123400.0, 292900.0, 109800.0, 124200.0, 57300.0, 404700.0, 187500.0, 63700.0, 101200.0, 500000.0, 45500.0, 463500.0, 181300.0, 307400.0, 371800.0, 56000.0, 289300.0, 128200.0, 271400.0, 182100.0, 219400.0, 78400.0, 96100.0, 394700.0, 222500.0, 87500.0, 137500.0, 246100.0, 175700.0, 164100.0, 132800.0, 129200.0, 224100.0, 103900.0, 112800.0, 243800.0, 88600.0, 186100.0, 186100.0, 160900.0, 149200.0, 76400.0, 500001.0, 95600.0, 237500.0, 418300.0, 197500.0, 66400.0, 269000.0, 219000.0, 156900.0, 134200.0, 204200.0, 218800.0, 181800.0, 168500.0, 299200.0, 166000.0, 193500.0, 212500.0, 386200.0, 268400.0, 128100.0, 271200.0, 88400.0, 101500.0, 495500.0, 167300.0, 141300.0, 500001.0, 321300.0, 82100.0, 92900.0, 168000.0, 135000.0, 243100.0, 157100.0, 97900.0, 177700.0, 131800.0, 268800.0, 314300.0, 183600.0, 100000.0, 232200.0, 138100.0, 162500.0, 457300.0, 139200.0, 244500.0, 61600.0, 237000.0, 112500.0, 122300.0, 500001.0, 110100.0, 300900.0, 167500.0, 246400.0, 279300.0, 414000.0, 58700.0, 294900.0, 365200.0, 368300.0, 239200.0, 121400.0, 215000.0, 113900.0, 236400.0, 171700.0, 248500.0, 58200.0, 67800.0, 75700.0, 178000.0, 60400.0, 226100.0, 179500.0, 158200.0, 278600.0, 480800.0, 192300.0, 141700.0, 330800.0, 100000.0, 103200.0, 53500.0, 185700.0, 192900.0, 256000.0, 138500.0, 69600.0, 246800.0, 265900.0, 162500.0, 322700.0, 148900.0, 429000.0, 500001.0, 254100.0, 328100.0, 169100.0, 255400.0, 76400.0, 151400.0, 311100.0, 187500.0, 213200.0, 208300.0, 202800.0, 90100.0, 92400.0, 136500.0, 92200.0, 79400.0, 95500.0, 249200.0, 111700.0, 190600.0, 191800.0, 500001.0, 50800.0, 163500.0, 368900.0, 57000.0, 75000.0, 229000.0, 340900.0, 276600.0, 188400.0, 73900.0, 150000.0, 147100.0, 186300.0, 234900.0, 122500.0, 398900.0, 250000.0, 113600.0, 244800.0, 225000.0, 186900.0, 309700.0, 130600.0, 342300.0, 65000.0, 278900.0, 168800.0, 418400.0, 109000.0, 160100.0, 345000.0, 418800.0, 209100.0, 97500.0, 500001.0, 108600.0, 133300.0, 50900.0, 311600.0, 365500.0, 175000.0, 170300.0, 279500.0, 125900.0, 155700.0, 83300.0, 156300.0, 214800.0, 110300.0, 165000.0, 349500.0, 500001.0, 125700.0, 193100.0, 500001.0, 199600.0, 500001.0, 163400.0, 137500.0, 121500.0, 381200.0, 111900.0, 58000.0, 63800.0, 363200.0, 206400.0, 370800.0, 81800.0, 271500.0, 197000.0, 73400.0, 301700.0, 119600.0, 258100.0, 17500.0, 145700.0, 102000.0, 400000.0, 99200.0, 485400.0, 477100.0, 66900.0, 375400.0, 169600.0, 247600.0, 164700.0, 309400.0, 185300.0, 230200.0, 156100.0, 302500.0, 97800.0, 251300.0, 281300.0, 153100.0, 355600.0, 101300.0, 266000.0, 160700.0, 305800.0, 147500.0, 186300.0, 162600.0, 484700.0, 175000.0, 127200.0, 365100.0, 236500.0, 214000.0, 225800.0, 128900.0, 73500.0, 114700.0, 175000.0, 318100.0, 331200.0, 192500.0, 159500.0, 162700.0, 67300.0, 212900.0, 140600.0, 186500.0, 393200.0, 55300.0, 409800.0, 191800.0, 99500.0, 175000.0, 158000.0, 106900.0, 277200.0, 326700.0, 96000.0, 431800.0, 172200.0, 112500.0, 225000.0, 259500.0, 291500.0, 50400.0, 150000.0, 224600.0, 130600.0, 69700.0, 353000.0, 231200.0, 205100.0, 398100.0, 141300.0, 173300.0, 127900.0, 289500.0, 95900.0, 133400.0, 146800.0, 181300.0, 54600.0, 55500.0, 150000.0, 102800.0, 93300.0, 123100.0, 231800.0, 159500.0, 108300.0, 43100.0, 105600.0, 168300.0, 28300.0, 282900.0, 234300.0, 212500.0, 205600.0, 150000.0, 193000.0, 14999.0, 170000.0, 168300.0, 93500.0, 191800.0, 181500.0, 195400.0, 121900.0, 142600.0, 158300.0, 165300.0, 155000.0, 92100.0, 68100.0, 276300.0, 335200.0, 121100.0, 177100.0, 187500.0, 192000.0, 301200.0, 159100.0, 500001.0, 273700.0, 233900.0, 500001.0, 222800.0, 140200.0, 159800.0, 118800.0, 500001.0, 105500.0, 217800.0, 187500.0, 287300.0, 131000.0, 55800.0, 161900.0, 253600.0, 155000.0, 311500.0, 87800.0, 105800.0, 137000.0, 156300.0, 154700.0, 167400.0, 457800.0, 500001.0, 188300.0, 442900.0, 500001.0, 500001.0, 187500.0, 57400.0, 387500.0, 272000.0, 167600.0, 403700.0, 191700.0, 500001.0, 187100.0, 96400.0, 92400.0, 213900.0, 155000.0, 133000.0, 275000.0, 238500.0, 158300.0, 70500.0, 222300.0, 411900.0, 185100.0, 500001.0, 139800.0, 178100.0, 159300.0, 125000.0, 197100.0, 64000.0, 194600.0, 162500.0, 84400.0, 61300.0, 368200.0, 122100.0, 86100.0, 209900.0, 170800.0, 175000.0, 126600.0, 282200.0, 207700.0, 104200.0, 214300.0, 80300.0, 273100.0, 237500.0, 73800.0, 184400.0, 342000.0, 129700.0, 224000.0, 156900.0, 394900.0, 157700.0, 119900.0, 316900.0, 212500.0, 68300.0, 165100.0, 93600.0, 88800.0, 184700.0, 327100.0, 134300.0, 500001.0, 162100.0, 500001.0, 229200.0, 112500.0, 354200.0, 362100.0, 162500.0, 100500.0, 67700.0, 57100.0, 164800.0, 204200.0, 342400.0, 181500.0, 304500.0, 235300.0, 105300.0, 291400.0, 159600.0, 111800.0, 119600.0, 329700.0, 136700.0, 101400.0, 118600.0, 133300.0, 52500.0, 234600.0, 75000.0, 176300.0, 346800.0, 251800.0, 54200.0, 67500.0, 142500.0, 101600.0, 227300.0, 337200.0, 118800.0, 67500.0, 202000.0, 94200.0, 96200.0, 225000.0, 258700.0, 103100.0, 117200.0, 164800.0, 144000.0, 500001.0, 155400.0, 114700.0, 123100.0, 226800.0, 180400.0, 310900.0, 148800.0, 84700.0, 63700.0, 262000.0, 438100.0, 226500.0, 87600.0, 345500.0, 140100.0, 366700.0, 270800.0, 168800.0, 293800.0, 251800.0, 85100.0, 267500.0, 140900.0, 285500.0, 151300.0, 225000.0, 44600.0, 450000.0, 229300.0, 225000.0, 138000.0, 96900.0, 161200.0, 144300.0, 450000.0, 122500.0, 248700.0, 134200.0, 348100.0, 78300.0, 107800.0, 146900.0, 188300.0, 162500.0, 58600.0, 183700.0, 180400.0, 175000.0, 137200.0, 110000.0, 233400.0, 128300.0, 350000.0, 155200.0, 256700.0, 85900.0, 73200.0, 258300.0, 62800.0, 485000.0, 124000.0, 158500.0, 97300.0, 186700.0, 344100.0, 166700.0, 108900.0, 482900.0, 204400.0, 230700.0, 53000.0, 178500.0, 500001.0, 500001.0, 84900.0, 500001.0, 246800.0, 156300.0, 234600.0, 48800.0, 145800.0, 271500.0, 500001.0, 87500.0, 69100.0, 139300.0, 273400.0, 229700.0, 68200.0, 114300.0, 159900.0, 116600.0, 209900.0, 68900.0, 101400.0, 214000.0, 355300.0, 90300.0, 159300.0, 63900.0, 218200.0, 253600.0, 81300.0, 188600.0, 165400.0, 106300.0, 210100.0, 147600.0, 112500.0, 175000.0, 156600.0, 117300.0, 229200.0, 350000.0, 171900.0, 199300.0, 251600.0, 300000.0, 158900.0, 216800.0, 198000.0, 356100.0, 192300.0, 314500.0, 50000.0, 162500.0, 167100.0, 138800.0, 147600.0, 238500.0, 110700.0, 333800.0, 192100.0, 294000.0, 154500.0, 151900.0, 500001.0, 322900.0, 165600.0, 221200.0, 170400.0, 198700.0, 162500.0, 411200.0, 335500.0, 149100.0, 381500.0, 183900.0, 91200.0, 411500.0, 220300.0, 158100.0, 69600.0, 270500.0, 261600.0, 389500.0, 75000.0, 177600.0, 170400.0, 154200.0, 131900.0, 44400.0, 145000.0, 224100.0, 187500.0, 192900.0, 88600.0, 183900.0, 225000.0, 182800.0, 137600.0, 265300.0, 36600.0, 125500.0, 138600.0, 487100.0, 178600.0, 134500.0, 306700.0, 115800.0, 91400.0, 210900.0, 259200.0, 347300.0, 168400.0, 150900.0, 113500.0, 302600.0, 423300.0, 492200.0, 190600.0, 245000.0, 55700.0, 84000.0, 275000.0, 189600.0, 275900.0, 319800.0, 291700.0, 67900.0, 189000.0, 90000.0, 335000.0, 176700.0, 98500.0, 200600.0, 60200.0, 191900.0, 191100.0, 337300.0, 225000.0, 290600.0, 121500.0, 293200.0, 107000.0, 266400.0, 76900.0, 220300.0, 101100.0, 474600.0, 65300.0, 113700.0, 214200.0, 216700.0, 198400.0, 212200.0, 222700.0, 265900.0, 37500.0, 265000.0, 108700.0, 46700.0, 187500.0, 61600.0, 343000.0, 166000.0, 500001.0, 137500.0, 90600.0, 77000.0, 148100.0, 91600.0, 150900.0, 155100.0, 89200.0, 215400.0, 55100.0, 197400.0, 154400.0, 141700.0, 98400.0, 152600.0, 109600.0, 171300.0, 104100.0, 153900.0, 270000.0, 286500.0, 335000.0, 137700.0, 232000.0, 393800.0, 70300.0, 141700.0, 156300.0, 450000.0, 199800.0, 95300.0, 86900.0, 187500.0, 221800.0, 58800.0, 134400.0, 238600.0, 160900.0, 136400.0, 144000.0, 159300.0, 155300.0, 142600.0, 120700.0, 126200.0, 213400.0, 116900.0, 185800.0, 356000.0, 150000.0, 88900.0, 259100.0, 500001.0, 127600.0, 69900.0, 137000.0, 273700.0, 92000.0, 118300.0, 410800.0, 100500.0, 492900.0, 118500.0, 113500.0, 89900.0, 500001.0, 500001.0, 146300.0, 113500.0, 275000.0, 102500.0, 147100.0, 225000.0, 139400.0, 175800.0, 57000.0, 269600.0, 272900.0, 76200.0, 484100.0, 180600.0, 238000.0, 137500.0, 186300.0, 192900.0, 84500.0, 107600.0, 55500.0, 265300.0, 388300.0, 482700.0, 198100.0, 92700.0, 346200.0, 38800.0, 56700.0, 123700.0, 93800.0, 93200.0, 44000.0, 69200.0, 301800.0, 254200.0, 209800.0, 184500.0, 73400.0, 339000.0, 93100.0, 202300.0, 133300.0, 270700.0, 240200.0, 139300.0, 57000.0, 170700.0, 119200.0, 177300.0, 289600.0, 297600.0, 109900.0, 147500.0, 78700.0, 160300.0, 77700.0, 473500.0, 500001.0, 133100.0, 93500.0, 280100.0, 256700.0, 288000.0, 161100.0, 137000.0, 62000.0, 443800.0, 68300.0, 262100.0, 109400.0, 409300.0, 175200.0, 147700.0, 287500.0, 93200.0, 93800.0, 172400.0, 318600.0, 185200.0, 65200.0, 179700.0, 159200.0, 151900.0, 71700.0, 245200.0, 228300.0, 196400.0, 192400.0, 65900.0, 282300.0, 185300.0, 88600.0, 67500.0, 143400.0, 119400.0, 215800.0, 257400.0, 373400.0, 152300.0, 245700.0, 80000.0, 137200.0, 266900.0, 395300.0, 222100.0, 500001.0, 500001.0, 232900.0, 259700.0, 215700.0, 243200.0, 221400.0, 112500.0, 388500.0, 410000.0, 163000.0, 500000.0, 231300.0, 76100.0, 458600.0, 366300.0, 296800.0, 58600.0, 84800.0, 117300.0, 126600.0, 170800.0, 149300.0, 119000.0, 375000.0, 284900.0, 170100.0, 500001.0, 98700.0, 60800.0, 142800.0, 223900.0, 137500.0, 297800.0, 112700.0, 113300.0, 121400.0, 248400.0, 407800.0, 356600.0, 106300.0, 121400.0, 240900.0, 247100.0, 137900.0, 86300.0, 500001.0, 216300.0, 305600.0, 158300.0, 452100.0, 95000.0, 105700.0, 84600.0, 240100.0, 162500.0, 96600.0, 92200.0, 228200.0, 113700.0, 69000.0, 500001.0, 225000.0, 174000.0, 500001.0, 253000.0, 277600.0, 285200.0, 90300.0, 189900.0, 316600.0, 301900.0, 93100.0, 94200.0, 213800.0, 187500.0, 500001.0, 325700.0, 300000.0, 143900.0, 500001.0, 264100.0, 62300.0, 138800.0, 105400.0, 63500.0, 500001.0, 97800.0, 127400.0, 135300.0, 156100.0, 446800.0, 65000.0, 151800.0, 192200.0, 153100.0, 165800.0, 254200.0, 234200.0, 112500.0, 118700.0, 240900.0, 283300.0, 450000.0, 52100.0, 55900.0, 88100.0, 248900.0, 68600.0, 156300.0, 272700.0, 340400.0, 218800.0, 70100.0, 500001.0, 162500.0, 111800.0, 110200.0, 74200.0, 103200.0, 172100.0, 132000.0, 166300.0, 107300.0, 107900.0, 94600.0, 66100.0, 158200.0, 95800.0, 117000.0, 170900.0, 92900.0, 162500.0, 193800.0, 134600.0, 123100.0, 115700.0, 83500.0, 62200.0, 74400.0, 180100.0, 195800.0, 500001.0, 144300.0, 125400.0, 80800.0, 65900.0, 157900.0, 500001.0, 180800.0, 236200.0, 103000.0, 216900.0, 383300.0, 500001.0, 83500.0, 214400.0, 100000.0, 78800.0, 97600.0, 178400.0, 287100.0, 270100.0, 185500.0, 90600.0, 213600.0, 124300.0, 205000.0, 256700.0, 392700.0, 133300.0, 187100.0, 255400.0, 347400.0, 171700.0, 112500.0, 82600.0, 48600.0, 134100.0, 225800.0, 500001.0, 470000.0, 225800.0, 158000.0, 117100.0, 416300.0, 120800.0, 226300.0, 122200.0, 100000.0, 229500.0, 195800.0, 85000.0, 264700.0, 455500.0, 176000.0, 81100.0, 166400.0, 82600.0, 272200.0, 271100.0, 239400.0, 171800.0, 121800.0, 173600.0, 239300.0, 58800.0, 287500.0, 70700.0, 181700.0, 113700.0, 224100.0, 351300.0, 301300.0, 80700.0, 152600.0, 237400.0, 179400.0, 500001.0, 170200.0, 165300.0, 225900.0, 159700.0, 363500.0, 132100.0, 376800.0, 96900.0, 316200.0, 323800.0, 387500.0, 149100.0, 500001.0, 225000.0, 178800.0, 87500.0, 130100.0, 500001.0, 349000.0, 73000.0, 244700.0, 275400.0, 246200.0, 236200.0, 232200.0, 53300.0, 163100.0, 72400.0, 234500.0, 150000.0, 116100.0, 181300.0, 121000.0, 88700.0, 182500.0, 197400.0, 128100.0, 76500.0, 300000.0, 500001.0, 160300.0, 335600.0, 157600.0, 190600.0, 180800.0, 104200.0, 111800.0, 194100.0, 253800.0, 129500.0, 117600.0, 339800.0, 342900.0, 195500.0, 83800.0, 94200.0, 140600.0, 160900.0, 169300.0, 275900.0, 146200.0, 202300.0, 154000.0, 135500.0, 235900.0, 128800.0, 249600.0, 300000.0, 134100.0, 308600.0, 350000.0, 110800.0, 190800.0, 108800.0, 144400.0, 162900.0, 163900.0, 98000.0, 132700.0, 283100.0, 407200.0, 248200.0, 64500.0, 500001.0, 194400.0, 137500.0, 127300.0, 85300.0, 194900.0, 221100.0, 192200.0, 404500.0, 73500.0, 233700.0, 118800.0, 70000.0, 182800.0, 500001.0, 157700.0, 247900.0, 500001.0, 357900.0, 56900.0, 302400.0, 125400.0, 386400.0, 175600.0, 110500.0, 386700.0, 137500.0, 228700.0, 149400.0, 73700.0, 500001.0, 132100.0, 86500.0, 417900.0, 172600.0, 99700.0, 72500.0, 180800.0, 308400.0, 288300.0, 302200.0, 288800.0, 100000.0, 233000.0, 136900.0, 209400.0, 246600.0, 65200.0, 491200.0, 356700.0, 164300.0, 88200.0, 155900.0, 191700.0, 84400.0, 190100.0, 112500.0, 115200.0, 174600.0, 113500.0, 152400.0, 250300.0, 183700.0, 500001.0, 310900.0, 230600.0, 68500.0, 267400.0, 145300.0, 282000.0, 282100.0, 189800.0, 254400.0, 161700.0, 188800.0, 500001.0, 94400.0, 342800.0, 191500.0, 209600.0, 235000.0, 231400.0, 130200.0, 208200.0, 500001.0, 168600.0, 228100.0, 126900.0, 135500.0, 156700.0, 208600.0, 436700.0, 71000.0, 88800.0, 341600.0, 120200.0, 148200.0, 500001.0, 375000.0, 137500.0, 64800.0, 231800.0, 160700.0, 251000.0, 142500.0, 176500.0, 177100.0, 311800.0, 84600.0, 122600.0, 198200.0, 500000.0, 279800.0, 195000.0, 202800.0, 354100.0, 259500.0, 500001.0, 272400.0, 183900.0, 285800.0, 225000.0, 292600.0, 55200.0, 262000.0, 158900.0, 172100.0, 191700.0, 225000.0, 108300.0, 113600.0, 100000.0, 191700.0, 117200.0, 110600.0, 80200.0, 98100.0, 253800.0, 48100.0, 192800.0, 132800.0, 196300.0, 320800.0, 319400.0, 203700.0, 207100.0, 79900.0, 500001.0, 330000.0, 139000.0, 187500.0, 448300.0, 176300.0, 175900.0, 104200.0, 162200.0, 166800.0, 161200.0, 153100.0, 156900.0, 158100.0, 76900.0, 165400.0, 73500.0, 118400.0, 142400.0, 280300.0, 107200.0, 183300.0, 98800.0, 234500.0, 143500.0, 108000.0, 97800.0, 70500.0, 225900.0, 239800.0, 136400.0, 180600.0, 239600.0, 265700.0, 204200.0, 122500.0, 204000.0, 195300.0, 215800.0, 500001.0, 75800.0, 265400.0, 273700.0, 116400.0, 59400.0, 137000.0, 119200.0, 244200.0, 170000.0, 280300.0, 285000.0, 102600.0, 120500.0, 361600.0, 455300.0, 213400.0, 158000.0, 217000.0, 63700.0, 244300.0, 151100.0, 110800.0, 433800.0, 72900.0, 108500.0, 452600.0, 467600.0, 263300.0, 266800.0, 500001.0, 72300.0, 151500.0]\n",
      "\n",
      "predicho: \n",
      "   [500001.0, 500001.0, 500001.0, 500001.0, 500001.0, 500001.0, 500001.0, 500001.0, 500001.0, 500001.0, 500001.0, 500001.0, 500001.0, 500001.0, 500001.0, 500001.0, 500001.0, 500001.0, 500001.0, 500001.0, 500001.0, 500001.0, 500001.0, 500001.0, 500001.0, 500001.0, 500001.0, 79600.0, 500001.0, 500001.0, 500001.0, 500001.0, 500001.0, 500001.0, 500001.0, 500001.0, 500001.0, 500001.0, 500001.0, 500001.0, 500001.0, 500001.0, 500001.0, 500001.0, 500001.0, 500001.0, 500001.0, 500001.0, 500001.0, 500001.0, 500001.0, 500001.0, 500001.0, 500001.0, 500001.0, 500001.0, 500001.0, 500001.0, 500001.0, 500001.0, 500001.0, 500001.0, 500001.0, 500001.0, 500001.0, 500001.0, 500001.0, 500001.0, 500001.0, 187500.0, 500001.0, 500001.0, 500001.0, 500001.0, 500001.0, 500001.0, 500001.0, 500001.0, 500001.0, 500001.0, 500001.0, 500001.0, 500001.0, 500001.0, 500001.0, 500001.0, 500001.0, 500001.0, 500001.0, 500001.0, 500001.0, 500001.0, 500001.0, 500001.0, 500001.0, 500001.0, 500001.0, 500001.0, 500001.0, 500001.0, 500001.0, 500001.0, 500001.0, 500001.0, 500001.0, 500001.0, 500001.0, 500001.0, 500001.0, 500001.0, 500001.0, 500001.0, 500001.0, 500001.0, 500001.0, 500001.0, 500001.0, 500001.0, 500001.0, 500001.0, 500001.0, 500001.0, 500001.0, 500001.0, 500001.0, 500001.0, 500001.0, 500001.0, 500001.0, 500001.0, 500001.0, 500001.0, 500001.0, 500001.0, 500001.0, 500001.0, 500001.0, 500001.0, 500001.0, 500001.0, 500001.0, 500001.0, 500001.0, 500001.0, 500001.0, 500001.0, 500001.0, 500001.0, 500001.0, 500001.0, 500001.0, 500001.0, 500001.0, 500001.0, 500001.0, 500001.0, 500001.0, 500001.0, 500001.0, 500001.0, 500001.0, 500001.0, 500001.0, 500001.0, 500001.0, 500001.0, 500001.0, 500001.0, 500001.0, 500001.0, 500001.0, 500001.0, 500001.0, 500001.0, 500001.0, 500001.0, 500001.0, 500001.0, 500001.0, 500001.0, 500001.0, 500001.0, 500001.0, 500001.0, 500001.0, 500001.0, 500001.0, 187500.0, 500001.0, 500001.0, 500001.0, 500001.0, 500001.0, 500001.0, 500001.0, 500001.0, 500001.0, 500001.0, 500001.0, 500001.0, 187500.0, 500001.0, 500001.0, 500001.0, 500001.0, 500001.0, 500001.0, 71300.0, 500001.0, 500001.0, 500001.0, 500001.0, 500001.0, 500001.0, 500001.0, 500001.0, 500001.0, 500001.0, 500001.0, 500001.0, 500001.0, 500001.0, 500001.0, 500001.0, 500001.0, 500001.0, 500001.0, 500001.0, 500001.0, 500001.0, 500001.0, 500001.0, 500001.0, 500001.0, 500001.0, 500001.0, 500001.0, 500001.0, 500001.0, 500001.0, 500001.0, 500001.0, 500001.0, 500001.0, 500001.0, 500001.0, 500001.0, 500001.0, 500001.0, 500001.0, 500001.0, 500001.0, 500001.0, 500001.0, 500001.0, 500001.0, 500001.0, 500001.0, 500001.0, 500001.0, 500001.0, 500001.0, 500001.0, 500001.0, 500001.0, 500001.0, 500001.0, 500001.0, 500001.0, 500001.0, 500001.0, 500001.0, 500001.0, 500001.0, 500001.0, 500001.0, 500001.0, 500001.0, 500001.0, 500001.0, 500001.0, 500001.0, 500001.0, 500001.0, 500001.0, 112500.0, 500001.0, 500001.0, 500001.0, 500001.0, 500001.0, 500001.0, 500001.0, 500001.0, 500001.0, 500001.0, 500001.0, 500001.0, 500001.0, 500001.0, 500001.0, 500001.0, 500001.0, 500001.0, 500001.0, 500001.0, 500001.0, 500001.0, 500001.0, 500001.0, 500001.0, 500001.0, 500001.0, 500001.0, 500001.0, 500001.0, 500001.0, 500001.0, 500001.0, 500001.0, 500001.0, 500001.0, 500001.0, 500001.0, 500001.0, 500001.0, 500001.0, 500001.0, 500001.0, 500001.0, 500001.0, 500001.0, 500001.0, 500001.0, 500001.0, 500001.0, 500001.0, 500001.0, 500001.0, 500001.0, 214700.0, 500001.0, 500001.0, 500001.0, 500001.0, 500001.0, 500001.0, 500001.0, 500001.0, 500001.0, 500001.0, 500001.0, 500001.0, 500001.0, 500001.0, 500001.0, 500001.0, 500001.0, 500001.0, 500001.0, 500001.0, 500001.0, 500001.0, 500001.0, 500001.0, 500001.0, 500001.0, 500001.0, 500001.0, 500001.0, 500001.0, 500001.0, 500001.0, 63200.0, 500001.0, 500001.0, 500001.0, 500001.0, 500001.0, 500001.0, 500001.0, 500001.0, 500001.0, 500001.0, 500001.0, 500001.0, 500001.0, 500001.0, 500001.0, 500001.0, 500001.0, 500001.0, 500001.0, 500001.0, 500001.0, 500001.0, 500001.0, 500001.0, 500001.0, 500001.0, 500001.0, 500001.0, 500001.0, 500001.0, 500001.0, 500001.0, 500001.0, 500001.0, 500001.0, 500001.0, 500001.0, 500001.0, 500001.0, 500001.0, 500001.0, 500001.0, 500001.0, 500001.0, 500001.0, 500001.0, 500001.0, 500001.0, 500001.0, 500001.0, 500001.0, 500001.0, 500001.0, 500001.0, 500001.0, 500001.0, 500001.0, 500001.0, 500001.0, 500001.0, 500001.0, 500001.0, 500001.0, 500001.0, 500001.0, 500001.0, 500001.0, 500001.0, 500001.0, 500001.0, 500001.0, 500001.0, 500001.0, 500001.0, 500001.0, 500001.0, 500001.0, 500001.0, 500001.0, 500001.0, 500001.0, 500001.0, 500001.0, 500001.0, 500001.0, 500001.0, 112500.0, 500001.0, 500001.0, 500001.0, 500001.0, 500001.0, 500001.0, 500001.0, 500001.0, 500001.0, 500001.0, 500001.0, 500001.0, 500001.0, 500001.0, 500001.0, 500001.0, 500001.0, 500001.0, 500001.0, 500001.0, 500001.0, 500001.0, 500001.0, 500001.0, 500001.0, 500001.0, 500001.0, 500001.0, 500001.0, 500001.0, 500001.0, 500001.0, 500001.0, 500001.0, 500001.0, 500001.0, 500001.0, 500001.0, 500001.0, 500001.0, 500001.0, 500001.0, 500001.0, 500001.0, 500001.0, 500001.0, 500001.0, 500001.0, 500001.0, 500001.0, 500001.0, 500001.0, 500001.0, 500001.0, 500001.0, 500001.0, 500001.0, 500001.0, 500001.0, 500001.0, 500001.0, 500001.0, 500001.0, 500001.0, 500001.0, 112500.0, 500001.0, 137500.0, 500001.0, 500001.0, 500001.0, 500001.0, 500001.0, 500001.0, 500001.0, 500001.0, 500001.0, 500001.0, 500001.0, 500001.0, 500001.0, 500001.0, 500001.0, 500001.0, 500001.0, 500001.0, 500001.0, 500001.0, 500001.0, 500001.0, 500001.0, 500001.0, 500001.0, 500001.0, 500001.0, 500001.0, 500001.0, 500001.0, 500001.0, 500001.0, 500001.0, 500001.0, 500001.0, 500001.0, 500001.0, 500001.0, 500001.0, 500001.0, 500001.0, 500001.0, 500001.0, 500001.0, 500001.0, 500001.0, 500001.0, 500001.0, 500001.0, 400000.0, 500001.0, 500001.0, 500001.0, 500001.0, 500001.0, 500001.0, 500001.0, 500001.0, 500001.0, 500001.0, 500001.0, 500001.0, 500001.0, 500001.0, 500001.0, 500001.0, 500001.0, 500001.0, 500001.0, 500001.0, 500001.0, 500001.0, 500001.0, 500001.0, 500001.0, 500001.0, 500001.0, 500001.0, 500001.0, 500001.0, 500001.0, 500001.0, 500001.0, 500001.0, 500001.0, 500001.0, 500001.0, 500001.0, 500001.0, 500001.0, 500001.0, 500001.0, 500001.0, 500001.0, 500001.0, 500001.0, 500001.0, 500001.0, 500001.0, 500001.0, 500001.0, 500001.0, 500001.0, 500001.0, 500001.0, 500001.0, 500001.0, 500001.0, 500001.0, 500001.0, 500001.0, 500001.0, 500001.0, 500001.0, 500001.0, 500001.0, 500001.0, 500001.0, 500001.0, 500001.0, 500001.0, 500001.0, 500001.0, 500001.0, 500001.0, 500001.0, 500001.0, 500001.0, 500001.0, 500001.0, 500001.0, 500001.0, 500001.0, 500001.0, 500001.0, 500001.0, 500001.0, 500001.0, 500001.0, 500001.0, 500001.0, 500001.0, 500001.0, 500001.0, 500001.0, 500001.0, 500001.0, 500001.0, 500001.0, 500001.0, 500001.0, 500001.0, 500001.0, 500001.0, 500001.0, 500001.0, 500001.0, 500001.0, 500001.0, 500001.0, 500001.0, 500001.0, 500001.0, 500001.0, 500001.0, 500001.0, 500001.0, 500001.0, 500001.0, 500001.0, 500001.0, 500001.0, 500001.0, 500001.0, 500001.0, 500001.0, 500001.0, 500001.0, 500001.0, 500001.0, 500001.0, 500001.0, 500001.0, 500001.0, 500001.0, 500001.0, 500001.0, 500001.0, 500001.0, 500001.0, 500001.0, 500001.0, 500001.0, 500001.0, 500001.0, 500001.0, 500001.0, 300000.0, 500001.0, 500001.0, 500001.0, 500001.0, 500001.0, 500001.0, 500001.0, 500001.0, 87700.0, 500001.0, 500001.0, 500001.0, 500001.0, 500001.0, 500001.0, 500001.0, 500001.0, 500001.0, 500001.0, 125000.0, 500001.0, 500001.0, 500001.0, 500001.0, 500001.0, 500001.0, 500001.0, 500001.0, 500001.0, 500001.0, 500001.0, 500001.0, 500001.0, 500001.0, 500001.0, 112500.0, 500001.0, 500001.0, 500001.0, 500001.0, 500001.0, 500001.0, 500001.0, 500001.0, 500001.0, 500001.0, 500001.0, 500001.0, 500001.0, 500001.0, 500001.0, 500001.0, 500001.0, 500001.0, 500001.0, 500001.0, 500001.0, 500001.0, 500001.0, 500001.0, 500001.0, 500001.0, 500001.0, 500001.0, 500001.0, 500001.0, 500001.0, 500001.0, 500001.0, 500001.0, 500001.0, 500001.0, 500001.0, 500001.0, 500001.0, 500001.0, 500001.0, 500001.0, 500001.0, 500001.0, 500001.0, 500001.0, 500001.0, 500001.0, 350000.0, 500001.0, 500001.0, 500001.0, 500001.0, 500001.0, 500001.0, 500001.0, 500001.0, 500001.0, 500001.0, 500001.0, 500001.0, 500001.0, 500001.0, 500001.0, 500001.0, 500001.0, 500001.0, 500001.0, 500001.0, 500001.0, 500001.0, 500001.0, 500001.0, 500001.0, 500001.0, 500001.0, 500001.0, 500001.0, 500001.0, 500001.0, 500001.0, 500001.0, 500001.0, 500001.0, 500001.0, 500001.0, 500001.0, 500001.0, 500001.0, 500001.0, 500001.0, 500001.0, 500001.0, 500001.0, 500001.0, 500001.0, 500001.0, 500001.0, 500001.0, 500001.0, 500001.0, 500001.0, 500001.0, 500001.0, 500001.0, 500001.0, 500001.0, 500001.0, 500001.0, 500001.0, 500001.0, 500001.0, 500001.0, 500001.0, 500001.0, 500001.0, 500001.0, 500001.0, 500001.0, 500001.0, 500001.0, 500001.0, 500001.0, 500001.0, 500001.0, 500001.0, 500001.0, 500001.0, 500001.0, 500001.0, 500001.0, 500001.0, 500001.0, 500001.0, 500001.0, 500001.0, 500001.0, 500001.0, 500001.0, 500001.0, 500001.0, 500001.0, 500001.0, 500001.0, 500001.0, 500001.0, 500001.0, 500001.0, 500001.0, 500001.0, 500001.0, 500001.0, 61200.0, 500001.0, 500001.0, 500001.0, 500001.0, 500001.0, 500001.0, 500001.0, 500001.0, 500001.0, 500001.0, 500001.0, 500001.0, 500001.0, 500001.0, 500001.0, 500001.0, 500001.0, 500001.0, 500001.0, 500001.0, 500001.0, 500001.0, 500001.0, 500001.0, 500001.0, 500001.0, 500001.0, 500001.0, 500001.0, 500001.0, 500001.0, 500001.0, 500001.0, 500001.0, 500001.0, 500001.0, 500001.0, 500001.0, 500001.0, 500001.0, 500001.0, 500001.0, 500001.0, 500001.0, 500001.0, 500001.0, 500001.0, 500001.0, 500001.0, 500001.0, 500001.0, 500001.0, 500001.0, 500001.0, 500001.0, 500001.0, 500001.0, 500001.0, 500001.0, 500001.0, 500001.0, 500001.0, 500001.0, 500001.0, 500001.0, 500001.0, 500001.0, 500001.0, 500001.0, 500001.0, 500001.0, 500001.0, 500001.0, 500001.0, 500001.0, 500001.0, 500001.0, 500001.0, 500001.0, 500001.0, 500001.0, 500001.0, 500001.0, 500001.0, 500001.0, 500001.0, 500001.0, 500001.0, 500001.0, 500001.0, 112500.0, 500001.0, 500001.0, 500001.0, 500001.0, 500001.0, 500001.0, 500001.0, 500001.0, 500001.0, 500001.0, 500001.0, 500001.0, 500001.0, 500001.0, 500001.0, 500001.0, 500001.0, 500001.0, 500001.0, 500001.0, 500001.0, 500001.0, 500001.0, 500001.0, 500001.0, 500001.0, 500001.0, 500001.0, 500001.0, 500001.0, 500001.0, 500001.0, 500001.0, 500001.0, 500001.0, 500001.0, 500001.0, 500001.0, 500001.0, 500001.0, 500001.0, 500001.0, 500001.0, 500001.0, 500001.0, 500001.0, 500001.0, 500001.0, 500001.0, 500001.0, 500001.0, 500001.0, 500001.0, 500001.0, 500001.0, 500001.0, 500001.0, 500001.0, 500001.0, 500001.0, 500001.0, 500001.0, 500001.0, 500001.0, 500001.0, 500001.0, 500001.0, 500001.0, 500001.0, 500001.0, 74100.0, 500001.0, 500001.0, 500001.0, 500001.0, 500001.0, 500001.0, 500001.0, 500001.0, 500001.0, 500001.0, 500001.0, 500001.0, 500001.0, 500001.0, 500001.0, 500001.0, 500001.0, 500001.0, 500001.0, 500001.0, 500001.0, 500001.0, 500001.0, 500001.0, 500001.0, 500001.0, 500001.0, 112500.0, 500001.0, 500001.0, 500001.0, 500001.0, 350000.0, 500001.0, 500001.0, 500001.0, 500001.0, 500001.0, 500001.0, 500001.0, 162500.0, 500001.0, 500001.0, 500001.0, 137500.0, 500001.0, 500001.0, 500001.0, 500001.0, 500001.0, 500001.0, 500001.0, 500001.0, 500001.0, 500001.0, 500001.0, 500001.0, 500001.0, 500001.0, 500001.0, 500001.0, 500001.0, 500001.0, 500001.0, 500001.0, 500001.0, 500001.0, 500001.0, 500001.0, 500001.0, 500001.0, 500001.0, 500001.0, 500001.0, 500001.0, 500001.0, 500001.0, 500001.0, 500001.0, 500001.0, 500001.0, 500001.0, 500001.0, 500001.0, 500001.0, 500001.0, 500001.0, 500001.0, 500001.0, 500001.0, 500001.0, 243500.0, 500001.0, 500001.0, 500001.0, 500001.0, 500001.0, 500001.0, 500001.0, 500001.0, 500001.0, 500001.0, 500001.0, 500001.0, 500001.0, 500001.0, 500001.0, 500001.0, 500001.0, 500001.0, 500001.0, 500001.0, 500001.0, 500001.0, 500001.0, 500001.0, 500001.0, 500001.0, 500001.0, 500001.0, 500001.0, 500001.0, 500001.0, 500001.0, 500001.0, 500001.0, 500001.0, 500001.0, 500001.0, 67500.0, 500001.0, 500001.0, 500001.0, 500001.0, 500001.0, 500001.0, 500001.0, 500001.0, 500001.0, 500001.0, 500001.0, 500001.0, 500001.0, 500001.0, 500001.0, 500001.0, 500001.0, 500001.0, 500001.0, 500001.0, 500001.0, 500001.0, 500001.0, 500001.0, 500001.0, 500001.0, 500001.0, 500001.0, 500001.0, 500001.0, 500001.0, 500001.0, 500001.0, 500001.0, 500001.0, 500001.0, 500001.0, 500001.0, 500001.0, 500001.0, 500001.0, 500001.0, 67500.0, 500001.0, 500001.0, 500001.0, 500001.0, 500001.0, 500001.0, 500001.0, 500001.0, 500001.0, 500001.0, 500001.0, 500001.0, 500001.0, 500001.0, 500001.0, 500001.0, 500001.0, 500001.0, 500001.0, 500001.0, 500001.0, 500001.0, 500001.0, 500001.0, 500001.0, 500001.0, 500001.0, 500001.0, 500001.0, 500001.0, 500001.0, 500001.0, 500001.0, 500001.0, 500001.0, 500001.0, 500001.0, 500001.0, 500001.0, 500001.0, 500001.0, 500001.0, 500001.0, 500001.0, 500001.0, 500001.0, 500001.0, 500001.0, 500001.0, 500001.0, 500001.0, 500001.0, 500001.0, 500001.0, 137500.0, 500001.0, 500001.0, 500001.0, 500001.0, 500001.0, 500001.0, 500001.0, 500001.0, 500001.0, 500001.0, 500001.0, 500001.0, 500001.0, 500001.0, 500001.0, 500001.0, 500001.0, 500001.0, 500001.0, 500001.0, 500001.0, 500001.0, 500001.0, 500001.0, 500001.0, 500001.0, 500001.0, 500001.0, 500001.0, 500001.0, 500001.0, 500001.0, 500001.0, 500001.0, 500001.0, 500001.0, 500001.0, 500001.0, 500001.0, 500001.0, 500001.0, 500001.0, 500001.0, 500001.0, 500001.0, 500001.0, 500001.0, 500001.0, 500001.0, 500001.0, 350000.0, 500001.0, 500001.0, 500001.0, 500001.0, 500001.0, 500001.0, 500001.0, 500001.0, 500001.0, 500001.0, 500001.0, 500001.0, 500001.0, 500001.0, 500001.0, 500001.0, 500001.0, 500001.0, 500001.0, 500001.0, 500001.0, 500001.0, 137500.0, 500001.0, 500001.0, 500001.0, 500001.0, 500001.0, 500001.0, 500001.0, 500001.0, 500001.0, 500001.0, 500001.0, 500001.0, 500001.0, 500001.0, 500001.0, 500001.0, 500001.0, 500001.0, 500001.0, 500001.0, 500001.0, 500001.0, 500001.0, 500001.0, 500001.0, 500001.0, 500001.0, 500001.0, 500001.0, 500001.0, 500001.0, 500001.0, 500001.0, 500001.0, 500001.0, 500001.0, 500001.0, 500001.0, 500001.0, 500001.0, 500001.0, 500001.0, 500001.0, 500001.0, 500001.0, 500001.0, 500001.0, 500001.0, 500001.0, 500001.0, 500001.0, 500001.0, 500001.0, 500001.0, 500001.0, 500001.0, 500001.0, 500001.0, 500001.0, 500001.0, 500001.0, 500001.0, 500001.0, 500001.0, 500001.0, 500001.0, 500001.0, 500001.0, 500001.0, 500001.0, 500001.0, 500001.0, 500001.0, 500001.0, 500001.0, 500001.0, 500001.0, 500001.0, 79600.0, 500001.0, 500001.0, 500001.0, 500001.0, 500001.0, 500001.0, 500001.0, 500001.0, 500001.0, 500001.0, 500001.0, 500001.0, 500001.0, 500001.0, 500001.0, 500001.0, 500001.0, 500001.0, 500001.0, 500001.0, 500001.0, 500001.0, 500001.0, 500001.0, 500001.0, 500001.0, 500001.0, 500001.0, 500001.0, 500001.0, 500001.0, 500001.0, 500001.0, 500001.0, 500001.0, 500001.0, 500001.0, 500001.0, 500001.0, 500001.0, 500001.0, 500001.0, 500001.0, 500001.0, 500001.0, 500001.0, 500001.0, 500001.0, 500001.0, 500001.0, 500001.0, 500001.0, 500001.0, 500001.0, 500001.0, 500001.0, 500001.0, 500001.0, 187500.0, 500001.0, 500001.0, 500001.0, 500001.0, 500001.0, 500001.0, 500001.0, 500001.0, 500001.0, 500001.0, 500001.0, 500001.0, 500001.0, 89000.0, 500001.0, 500001.0, 500001.0, 500001.0, 500001.0, 187500.0, 500001.0, 500001.0, 500001.0, 500001.0, 500001.0, 500001.0, 500001.0, 500001.0, 500001.0, 500001.0, 500001.0, 500001.0, 500001.0, 500001.0, 500001.0, 500001.0, 500001.0, 500001.0, 500001.0, 500001.0, 500001.0, 500001.0, 500001.0, 500001.0, 500001.0, 500001.0, 500001.0, 500001.0, 500001.0, 500001.0, 500001.0, 500001.0, 500001.0, 500001.0, 500001.0, 500001.0, 500001.0, 500001.0, 500001.0, 500001.0, 500001.0, 500001.0, 500001.0, 112500.0, 500001.0, 500001.0, 500001.0, 500001.0, 500001.0, 500001.0, 500001.0, 500001.0, 500001.0, 500001.0, 500001.0, 500001.0, 500001.0, 500001.0, 500001.0, 500001.0, 500001.0, 500001.0, 500001.0, 500001.0, 500001.0, 500001.0, 500001.0, 500001.0, 500001.0, 500001.0, 500001.0, 500001.0, 500001.0, 500001.0, 500001.0, 500001.0, 500001.0, 500001.0, 500001.0, 500001.0, 500001.0, 500001.0, 500001.0, 500001.0, 500001.0, 500001.0, 500001.0, 500001.0, 500001.0, 500001.0, 500001.0, 500001.0, 500001.0, 500001.0, 67500.0, 500001.0, 500001.0, 500001.0, 500001.0, 500001.0, 500001.0, 500001.0, 500001.0, 500001.0, 500001.0, 500001.0, 500001.0, 500001.0, 500001.0, 500001.0, 500001.0, 100000.0, 500001.0, 500001.0, 500001.0, 500001.0, 500001.0, 500001.0, 500001.0, 500001.0, 500001.0, 500001.0, 500001.0, 500001.0, 500001.0, 500001.0, 500001.0, 500001.0, 500001.0, 500001.0, 500001.0, 500001.0, 500001.0, 500001.0, 500001.0, 500001.0, 500001.0, 500001.0, 500001.0, 500001.0, 500001.0, 500001.0, 500001.0, 500001.0, 500001.0, 500001.0, 500001.0, 500001.0, 500001.0, 500001.0, 500001.0, 500001.0, 500001.0, 500001.0, 500001.0, 500001.0, 500001.0, 500001.0, 500001.0, 500001.0, 500001.0, 500001.0, 500001.0, 500001.0, 500001.0, 500001.0, 500001.0, 500001.0, 500001.0, 500001.0, 500001.0, 500001.0, 500001.0, 500001.0, 500001.0, 500001.0, 500001.0, 500001.0, 500001.0, 500001.0, 500001.0, 500001.0, 500001.0, 500001.0, 500001.0, 500001.0, 500001.0, 500001.0, 500001.0, 500001.0, 500001.0, 500001.0, 500001.0, 500001.0, 500001.0, 500001.0, 500001.0, 500001.0, 500001.0, 500001.0, 500001.0, 500001.0, 500001.0, 500001.0, 500001.0, 500001.0, 500001.0, 500001.0, 500001.0, 500001.0, 500001.0, 500001.0, 500001.0, 500001.0, 500001.0, 500001.0, 500001.0, 500001.0, 500001.0, 500001.0, 500001.0, 500001.0, 500001.0, 500001.0, 500001.0, 500001.0, 500001.0, 500001.0, 500001.0, 500001.0, 500001.0, 500001.0, 500001.0, 500001.0, 500001.0, 500001.0, 500001.0, 500001.0, 500001.0, 500001.0, 500001.0, 500001.0, 500001.0, 500001.0, 500001.0, 500001.0, 500001.0, 500001.0, 500001.0, 500001.0, 500001.0, 500001.0, 500001.0, 500001.0, 500001.0, 500001.0, 500001.0, 500001.0, 500001.0, 500001.0, 500001.0, 500001.0, 500001.0, 500001.0, 500001.0, 500001.0, 500001.0, 500001.0, 500001.0, 500001.0, 500001.0, 500001.0, 500001.0, 500001.0, 500001.0, 500001.0, 500001.0, 500001.0, 500001.0, 500001.0, 500001.0, 500001.0, 500001.0, 500001.0, 500001.0, 500001.0, 500001.0, 500001.0, 500001.0, 500001.0, 500001.0, 500001.0, 112500.0, 500001.0, 500001.0, 500001.0, 500001.0, 500001.0, 500001.0, 500001.0, 500001.0, 500001.0, 500001.0, 500001.0, 500001.0, 500001.0, 500001.0, 500001.0, 500001.0, 500001.0, 500001.0, 500001.0, 500001.0, 500001.0, 500001.0, 500001.0, 500001.0, 500001.0, 500001.0, 500001.0, 500001.0, 500001.0, 500001.0, 500001.0, 500001.0, 500001.0, 500001.0, 500001.0, 500001.0, 500001.0, 500001.0, 500001.0, 500001.0, 500001.0, 500001.0, 500001.0, 500001.0, 500001.0, 500001.0, 500001.0, 500001.0, 500001.0, 500001.0, 500001.0, 500001.0, 500001.0, 500001.0, 500001.0, 500001.0, 500001.0, 500001.0, 112500.0, 500001.0, 500001.0, 500001.0, 500001.0, 500001.0, 500001.0, 500001.0, 500001.0, 500001.0, 500001.0, 500001.0, 500001.0, 500001.0, 500001.0, 500001.0, 500001.0, 500001.0, 500001.0, 500001.0, 500001.0, 500001.0, 500001.0, 500001.0, 500001.0, 500001.0, 500001.0, 500001.0, 500001.0, 500001.0, 67500.0, 265100.0, 500001.0, 500001.0, 500001.0, 500001.0, 500001.0, 500001.0, 500001.0, 500001.0, 500001.0, 500001.0, 500001.0, 500001.0, 500001.0, 500001.0, 500001.0, 500001.0, 500001.0, 500001.0, 500001.0, 500001.0, 500001.0, 500001.0, 500001.0, 500001.0, 500001.0, 500001.0, 500001.0, 500001.0, 500001.0, 500001.0, 500001.0, 500001.0, 500001.0, 500001.0, 500001.0, 500001.0, 500001.0, 500001.0, 500001.0, 500001.0, 500001.0, 500001.0, 500001.0, 500001.0, 500001.0, 500001.0, 500001.0, 500001.0, 500001.0, 500001.0, 500001.0, 500001.0, 500001.0, 500001.0, 500001.0, 500001.0, 500001.0, 500001.0, 500001.0, 500001.0, 500001.0, 500001.0, 500001.0, 500001.0, 500001.0, 500001.0, 500001.0, 500001.0, 500001.0, 500001.0, 500001.0, 500001.0, 500001.0, 500001.0, 500001.0, 500001.0, 500001.0, 500001.0, 500001.0, 500001.0, 500001.0, 500001.0, 500001.0, 500001.0, 500001.0, 500001.0, 500001.0, 500001.0, 500001.0, 500001.0, 500001.0, 500001.0, 500001.0, 500001.0, 500001.0, 500001.0, 500001.0, 500001.0, 500001.0, 500001.0, 500001.0, 500001.0, 500001.0, 500001.0, 500001.0, 500001.0, 500001.0, 500001.0, 500001.0, 500001.0, 500001.0, 500001.0, 500001.0, 500001.0, 500001.0, 500001.0, 500001.0, 500001.0, 500001.0, 500001.0, 500001.0, 500001.0, 500001.0, 500001.0, 500001.0, 500001.0, 72500.0, 500001.0, 500001.0, 500001.0, 500001.0, 500001.0, 500001.0, 500001.0, 112500.0, 500001.0, 500001.0, 500001.0, 500001.0, 500001.0, 500001.0, 500001.0, 500001.0, 500001.0, 500001.0, 500001.0, 500001.0, 500001.0, 500001.0, 500001.0, 500001.0, 500001.0, 500001.0, 500001.0, 500001.0, 500001.0, 500001.0, 500001.0, 500001.0, 500001.0, 500001.0, 500001.0, 500001.0, 500001.0, 500001.0, 500001.0, 500001.0, 500001.0, 500001.0, 112500.0, 500001.0, 500001.0, 500001.0, 500001.0, 500001.0, 500001.0, 500001.0, 500001.0, 500001.0, 500001.0, 500001.0, 500001.0, 500001.0, 500001.0, 500001.0, 500001.0, 500001.0, 500001.0, 500001.0, 500001.0, 500001.0, 500001.0, 500001.0, 500001.0, 500001.0, 500001.0, 500001.0, 500001.0, 500001.0, 500001.0, 500001.0, 500001.0, 500001.0, 500001.0, 500001.0, 500001.0, 112500.0, 500001.0, 500001.0, 500001.0, 500001.0, 500001.0, 500001.0, 500001.0, 500001.0, 500001.0, 500001.0, 500001.0, 500001.0, 500001.0, 500001.0, 500001.0, 500001.0, 500001.0, 500001.0, 500001.0, 500001.0, 500001.0, 500001.0, 500001.0, 500001.0, 500001.0, 500001.0, 500001.0, 500001.0, 500001.0, 500001.0, 500001.0, 500001.0, 500001.0, 500001.0, 500001.0, 500001.0, 500001.0, 500001.0, 500001.0, 265100.0, 500001.0, 500001.0, 500001.0, 500001.0, 500001.0, 500001.0, 500001.0, 500001.0, 500001.0, 500001.0, 500001.0, 500001.0, 500001.0, 500001.0, 500001.0, 500001.0, 500001.0, 500001.0, 500001.0, 500001.0, 500001.0, 500001.0, 500001.0, 500001.0, 500001.0, 74100.0, 400000.0, 500001.0, 500001.0, 500001.0, 500001.0, 500001.0, 500001.0, 500001.0, 500001.0, 500001.0, 500001.0, 500001.0, 500001.0, 500001.0, 500001.0, 500001.0, 500001.0, 500001.0, 500001.0, 500001.0, 500001.0, 500001.0, 500001.0, 500001.0, 500001.0, 500001.0, 500001.0, 500001.0, 500001.0, 500001.0, 500001.0, 500001.0, 500001.0, 500001.0, 500001.0, 500001.0, 500001.0, 500001.0, 500001.0, 500001.0, 500001.0, 500001.0, 500001.0, 500001.0, 500001.0, 500001.0, 500001.0, 500001.0, 500001.0, 500001.0, 500001.0, 500001.0, 500001.0, 500001.0, 500001.0, 500001.0, 500001.0, 500001.0, 500001.0, 500001.0, 500001.0, 500001.0, 500001.0, 500001.0, 500001.0, 500001.0, 500001.0, 500001.0, 500001.0, 500001.0, 500001.0, 500001.0, 500001.0, 500001.0, 500001.0, 500001.0, 500001.0, 500001.0, 500001.0, 500001.0, 500001.0, 500001.0, 500001.0, 500001.0, 500001.0, 500001.0, 500001.0, 500001.0, 500001.0, 500001.0, 500001.0, 500001.0, 500001.0, 137500.0, 500001.0, 500001.0, 500001.0, 500001.0, 500001.0, 500001.0, 500001.0, 500001.0, 500001.0, 500001.0, 500001.0, 500001.0, 500001.0, 500001.0, 500001.0, 500001.0, 500001.0, 500001.0, 500001.0, 500001.0, 500001.0, 500001.0, 500001.0, 500001.0, 500001.0, 500001.0, 500001.0, 500001.0, 187500.0, 500001.0, 500001.0, 500001.0, 500001.0, 500001.0, 500001.0, 500001.0, 500001.0, 500001.0, 234800.0, 500001.0, 500001.0, 500001.0, 500001.0, 500001.0, 500001.0, 500001.0, 500001.0, 500001.0, 500001.0, 500001.0, 500001.0, 500001.0, 87500.0, 500001.0, 500001.0, 500001.0, 500001.0, 500001.0, 500001.0, 500001.0, 500001.0, 500001.0, 500001.0, 112500.0, 500001.0, 112500.0, 500001.0, 500001.0, 500001.0, 500001.0, 500001.0, 500001.0, 500001.0, 500001.0, 500001.0, 500001.0, 500001.0, 500001.0, 500001.0, 500001.0, 500001.0, 500001.0, 500001.0, 500001.0, 500001.0, 500001.0, 500001.0, 500001.0, 500001.0, 500001.0, 500001.0, 500001.0, 500001.0, 500001.0, 500001.0, 500001.0, 500001.0, 500001.0, 500001.0, 500001.0, 500001.0, 500001.0, 500001.0, 112500.0, 500001.0, 500001.0, 500001.0, 500001.0, 500001.0, 500001.0, 500001.0, 500001.0, 500001.0, 500001.0, 500001.0, 500001.0, 500001.0, 500001.0, 234800.0, 500001.0, 500001.0, 500001.0, 500001.0, 500001.0, 500001.0, 500001.0, 500001.0, 500001.0, 500001.0, 500001.0, 500001.0, 500001.0, 500001.0, 500001.0, 500001.0, 500001.0, 500001.0, 500001.0, 500001.0, 500001.0, 500001.0, 500001.0, 500001.0, 500001.0, 500001.0, 500001.0, 500001.0, 500001.0, 500001.0, 500001.0, 500001.0, 500001.0, 500001.0, 500001.0, 500001.0, 500001.0, 500001.0, 500001.0, 500001.0, 500001.0, 500001.0, 500001.0, 500001.0, 500001.0, 500001.0, 500001.0, 500001.0, 500001.0, 500001.0, 500001.0, 500001.0, 500001.0, 500001.0, 500001.0, 500001.0, 500001.0, 500001.0, 500001.0, 500001.0, 500001.0, 500001.0, 500001.0, 500001.0, 500001.0, 500001.0, 500001.0, 500001.0, 500001.0, 500001.0, 500001.0, 500001.0, 500001.0, 500001.0, 500001.0, 500001.0, 500001.0, 500001.0, 500001.0, 500001.0, 500001.0, 500001.0, 500001.0, 500001.0, 500001.0, 500001.0, 500001.0, 500001.0, 500001.0, 500001.0, 500001.0, 500001.0, 500001.0, 500001.0, 500001.0, 500001.0, 500001.0, 500001.0, 500001.0, 500001.0, 500001.0, 500001.0, 500001.0, 500001.0, 500001.0, 500001.0, 500001.0, 500001.0, 500001.0, 500001.0, 500001.0, 500001.0, 500001.0, 500001.0, 500001.0, 500001.0, 500001.0, 500001.0, 500001.0, 500001.0, 500001.0, 500001.0, 500001.0, 500001.0, 500001.0, 500001.0, 500001.0, 500001.0, 500001.0, 500001.0, 500001.0, 500001.0, 500001.0, 500001.0, 500001.0, 500001.0, 500001.0, 500001.0, 500001.0, 500001.0, 500001.0, 500001.0, 500001.0, 500001.0, 500001.0, 500001.0, 500001.0, 500001.0, 500001.0, 500001.0, 500001.0, 500001.0, 500001.0, 500001.0, 500001.0, 500001.0, 500001.0, 500001.0, 500001.0, 500001.0, 500001.0, 500001.0, 500001.0, 500001.0, 500001.0, 500001.0, 500001.0, 500001.0, 500001.0, 500001.0, 500001.0, 500001.0, 500001.0, 500001.0, 500001.0, 500001.0, 500001.0, 500001.0, 500001.0, 500001.0, 500001.0, 500001.0, 500001.0, 500001.0, 500001.0, 500001.0, 225000.0, 500001.0, 500001.0, 500001.0, 500001.0, 500001.0, 500001.0, 500001.0, 500001.0, 500001.0, 500001.0, 500001.0, 500001.0, 500001.0, 500001.0, 500001.0, 500001.0, 500001.0, 500001.0, 500001.0, 500001.0, 500001.0, 500001.0, 500001.0, 500001.0, 500001.0, 500001.0, 500001.0, 500001.0, 500001.0, 350000.0, 500001.0, 500001.0, 500001.0, 500001.0, 500001.0, 500001.0, 500001.0, 500001.0, 500001.0, 500001.0, 500001.0, 500001.0, 500001.0, 500001.0, 500001.0, 500001.0, 500001.0, 500001.0, 500001.0, 500001.0, 500001.0, 500001.0, 137500.0, 500001.0, 74100.0, 500001.0, 500001.0, 500001.0, 500001.0, 500001.0, 500001.0, 500001.0, 500001.0, 500001.0, 500001.0, 500001.0, 500001.0, 500001.0, 500001.0, 500001.0, 500001.0, 500001.0, 112500.0, 500001.0, 500001.0, 500001.0, 500001.0, 500001.0, 500001.0, 500001.0, 500001.0, 500001.0, 500001.0, 500001.0, 500001.0, 500001.0, 500001.0, 500001.0, 500001.0, 500001.0, 500001.0, 500001.0, 500001.0, 500001.0, 500001.0, 500001.0, 500001.0, 500001.0, 500001.0, 500001.0, 500001.0, 500001.0, 500001.0, 500001.0, 500001.0, 500001.0, 500001.0, 500001.0, 500001.0, 500001.0, 500001.0, 500001.0, 500001.0, 500001.0, 500001.0, 500001.0, 500001.0, 500001.0, 500001.0, 500001.0, 500001.0, 500001.0, 500001.0, 500001.0, 500001.0, 500001.0, 500001.0, 500001.0, 500001.0, 500001.0, 500001.0, 500001.0, 500001.0, 500001.0, 500001.0, 500001.0, 500001.0, 500001.0, 500001.0, 500001.0, 500001.0, 500001.0, 500001.0, 500001.0, 500001.0, 500001.0, 500001.0, 500001.0, 500001.0, 500001.0, 500001.0, 500001.0, 500001.0, 500001.0, 500001.0, 500001.0, 500001.0, 500001.0, 500001.0, 500001.0, 500001.0, 500001.0, 500001.0, 500001.0, 500001.0, 500001.0, 500001.0, 500001.0, 500001.0, 500001.0, 500001.0, 500001.0, 500001.0, 500001.0, 500001.0, 500001.0, 500001.0, 500001.0, 500001.0, 500001.0, 243500.0, 500001.0, 500001.0, 500001.0, 500001.0, 500001.0, 500001.0, 500001.0, 500001.0, 500001.0, 500001.0, 500001.0, 500001.0, 500001.0, 500001.0, 500001.0, 500001.0, 500001.0, 500001.0, 500001.0, 500001.0, 500001.0, 500001.0, 500001.0, 500001.0, 500001.0, 500001.0, 500001.0, 500001.0, 500001.0, 500001.0, 500001.0, 500001.0, 500001.0, 500001.0, 500001.0, 500001.0, 500001.0, 500001.0, 500001.0, 500001.0, 500001.0, 500001.0, 500001.0, 500001.0, 500001.0, 500001.0, 500001.0, 500001.0, 500001.0, 500001.0, 500001.0, 500001.0, 500001.0, 500001.0, 500001.0, 500001.0, 500001.0, 500001.0, 500001.0, 500001.0, 500001.0, 500001.0, 500001.0, 500001.0, 500001.0, 500001.0, 500001.0, 500001.0, 500001.0, 500001.0, 500001.0, 500001.0, 500001.0, 500001.0, 500001.0, 500001.0, 500001.0, 500001.0, 500001.0, 500001.0, 500001.0, 500001.0, 500001.0, 500001.0, 500001.0, 500001.0, 500001.0, 500001.0, 500001.0, 500001.0, 500001.0, 500001.0, 500001.0, 500001.0, 500001.0, 500001.0, 500001.0, 500001.0, 500001.0, 500001.0, 195300.0, 500001.0, 500001.0, 500001.0, 500001.0, 500001.0, 500001.0, 500001.0, 500001.0, 500001.0, 500001.0, 500001.0, 500001.0, 500001.0, 500001.0, 500001.0, 500001.0, 500001.0, 225000.0, 500001.0, 500001.0, 500001.0, 500001.0, 500001.0, 500001.0, 500001.0, 500001.0, 500001.0, 500001.0, 500001.0, 500001.0, 500001.0, 500001.0, 500001.0, 500001.0, 500001.0, 500001.0, 500001.0, 500001.0, 500001.0, 500001.0, 500001.0, 500001.0, 500001.0, 500001.0, 500001.0, 500001.0, 500001.0, 500001.0, 500001.0, 500001.0, 500001.0, 500001.0, 500001.0, 500001.0, 500001.0, 500001.0, 500001.0, 500001.0, 500001.0, 500001.0, 500001.0, 500001.0, 500001.0, 500001.0, 500001.0, 500001.0, 500001.0, 500001.0, 500001.0, 500001.0, 500001.0, 500001.0, 500001.0, 500001.0, 500001.0, 500001.0, 500001.0, 500001.0, 500001.0, 500001.0, 500001.0, 500001.0, 500001.0, 500001.0, 500001.0, 500001.0, 500001.0, 500001.0, 500001.0, 500001.0, 500001.0, 500001.0, 500001.0, 500001.0, 500001.0, 500001.0, 500001.0, 500001.0, 500001.0, 500001.0, 500001.0, 500001.0, 500001.0, 500001.0, 500001.0, 500001.0, 500001.0, 500001.0, 500001.0, 500001.0, 500001.0, 500001.0, 500001.0, 500001.0, 500001.0, 500001.0, 500001.0, 500001.0, 500001.0, 500001.0, 500001.0, 500001.0, 500001.0, 500001.0, 500001.0, 500001.0, 500001.0, 500001.0, 500001.0, 500001.0, 500001.0, 500001.0, 500001.0, 500001.0, 500001.0, 500001.0, 500001.0, 500001.0, 500001.0, 500001.0, 500001.0, 500001.0, 500001.0, 500001.0, 500001.0, 500001.0, 81300.0, 500001.0, 500001.0, 500001.0, 500001.0, 500001.0, 500001.0, 500001.0, 500001.0, 500001.0, 500001.0, 500001.0, 500001.0, 500001.0, 500001.0, 500001.0, 500001.0, 500001.0, 500001.0, 500001.0, 500001.0, 500001.0, 500001.0, 500001.0, 500001.0, 500001.0, 500001.0, 500001.0, 500001.0, 500001.0, 500001.0, 500001.0, 500001.0, 500001.0, 500001.0, 500001.0, 500001.0, 500001.0, 500001.0, 500001.0, 500001.0, 500001.0, 500001.0, 500001.0, 500001.0, 500001.0, 500001.0, 500001.0, 500001.0, 500001.0, 500001.0, 500001.0, 500001.0, 500001.0, 500001.0, 500001.0, 500001.0, 500001.0, 500001.0, 500001.0, 500001.0, 500001.0, 500001.0, 500001.0, 500001.0, 500001.0, 500001.0, 500001.0, 500001.0, 500001.0, 500001.0, 500001.0, 500001.0, 500001.0, 122500.0, 500001.0, 500001.0, 500001.0, 500001.0, 500001.0, 500001.0, 500001.0, 500001.0, 500001.0, 500001.0, 500001.0, 500001.0, 500001.0, 500001.0, 87500.0, 500001.0, 500001.0, 500001.0, 500001.0, 500001.0, 500001.0, 500001.0, 500001.0, 500001.0, 500001.0, 500001.0, 500001.0, 500001.0, 500001.0, 500001.0, 500001.0, 500001.0, 500001.0, 500001.0, 500001.0, 500001.0, 500001.0, 500001.0, 500001.0, 500001.0, 500001.0, 500001.0, 500001.0, 500001.0, 500001.0, 500001.0, 500001.0, 500001.0, 500001.0, 500001.0, 500001.0, 500001.0, 500001.0, 500001.0, 500001.0, 500001.0, 500001.0, 500001.0, 500001.0, 500001.0, 500001.0, 500001.0, 500001.0, 500001.0, 500001.0, 500001.0, 500001.0, 500001.0, 500001.0, 500001.0, 500001.0, 500001.0, 500001.0, 500001.0, 500001.0, 500001.0, 500001.0, 500001.0, 500001.0, 500001.0, 500001.0, 500001.0, 500001.0, 112500.0, 500001.0, 500001.0, 500001.0, 500001.0, 500001.0, 500001.0, 500001.0, 500001.0, 500001.0, 500001.0, 500001.0, 500001.0, 500001.0, 500001.0, 500001.0, 500001.0, 500001.0, 500001.0, 500001.0, 500001.0, 500001.0, 500001.0, 500001.0, 500001.0, 500001.0, 500001.0, 500001.0, 500001.0, 500001.0, 500001.0, 500001.0, 500001.0, 500001.0, 500001.0, 500001.0, 500001.0, 500001.0, 500001.0, 500001.0, 500001.0, 500001.0, 500001.0, 500001.0, 500001.0, 500001.0, 500001.0, 500001.0, 500001.0, 500001.0, 500001.0, 500001.0, 500001.0, 500001.0, 500001.0, 500001.0, 500001.0, 500001.0, 500001.0, 500001.0, 500001.0, 500001.0, 500001.0, 500001.0, 500001.0, 500001.0, 500001.0, 500001.0, 500001.0, 400000.0, 500001.0, 500001.0, 500001.0, 500001.0, 500001.0, 500001.0, 500001.0, 500001.0, 500001.0, 500001.0, 500001.0, 500001.0, 500001.0, 500001.0, 500001.0, 500001.0, 500001.0, 500001.0, 500001.0, 500001.0, 500001.0, 500001.0, 500001.0, 500001.0, 500001.0, 500001.0, 500001.0, 500001.0, 500001.0, 500001.0, 89000.0, 500001.0, 500001.0, 500001.0, 500001.0, 500001.0, 500001.0, 500001.0, 500001.0, 500001.0, 500001.0, 500001.0, 500001.0, 500001.0, 500001.0, 500001.0, 500001.0, 500001.0, 500001.0, 500001.0, 500001.0, 500001.0, 500001.0, 500001.0, 500001.0, 500001.0, 500001.0, 500001.0, 500001.0, 500001.0, 500001.0, 500001.0, 500001.0, 500001.0, 500001.0, 500001.0, 500001.0, 500001.0, 500001.0, 500001.0, 500001.0, 500001.0, 500001.0, 500001.0, 500001.0, 500001.0, 500001.0, 500001.0, 500001.0, 500001.0, 500001.0, 500001.0, 500001.0, 500001.0, 500001.0, 500001.0, 500001.0, 500001.0, 500001.0, 500001.0, 500001.0, 500001.0, 500001.0, 500001.0, 500001.0, 500001.0, 500001.0, 500001.0, 500001.0, 500001.0, 500001.0, 500001.0, 500001.0, 500001.0, 500001.0, 500001.0, 500001.0, 500001.0, 500001.0, 500001.0, 500001.0, 206300.0, 500001.0, 500001.0, 500001.0, 500001.0, 500001.0, 500001.0, 500001.0, 500001.0, 500001.0, 500001.0, 500001.0, 500001.0, 500001.0, 500001.0, 500001.0, 500001.0, 500001.0, 500001.0, 500001.0, 500001.0, 500001.0, 500001.0, 500001.0, 500001.0, 500001.0, 500001.0, 500001.0, 500001.0, 500001.0, 500001.0, 500001.0, 500001.0, 500001.0, 500001.0, 500001.0, 500001.0, 500001.0, 500001.0, 500001.0, 500001.0, 500001.0, 500001.0, 500001.0, 500001.0, 500001.0, 500001.0, 500001.0, 500001.0, 500001.0, 500001.0, 500001.0, 500001.0, 500001.0, 500001.0, 500001.0, 500001.0, 500001.0, 500001.0, 500001.0, 500001.0, 500001.0, 500001.0, 500001.0, 500001.0, 500001.0, 500001.0, 500001.0, 500001.0, 500001.0, 500001.0, 500001.0, 500001.0, 500001.0, 500001.0, 500001.0, 500001.0, 500001.0, 500001.0, 500001.0, 500001.0, 500001.0, 500001.0, 500001.0, 500001.0, 500001.0, 500001.0, 500001.0, 500001.0, 500001.0, 500001.0, 500001.0, 500001.0, 500001.0, 500001.0, 500001.0, 500001.0, 500001.0, 500001.0, 500001.0, 500001.0, 500001.0, 500001.0, 500001.0, 500001.0, 500001.0, 500001.0, 500001.0, 500001.0, 500001.0, 500001.0, 500001.0, 500001.0, 500001.0, 500001.0, 500001.0, 500001.0, 500001.0, 500001.0, 500001.0, 500001.0, 500001.0, 500001.0, 500001.0, 500001.0, 500001.0, 500001.0, 500001.0, 500001.0, 500001.0, 500001.0, 500001.0, 500001.0, 500001.0, 500001.0, 500001.0, 500001.0, 500001.0, 500001.0, 500001.0, 500001.0, 500001.0, 500001.0, 500001.0, 500001.0, 500001.0, 500001.0, 500001.0, 500001.0, 500001.0, 500001.0, 500001.0, 500001.0, 500001.0, 500001.0, 500001.0, 500001.0, 500001.0, 500001.0, 125000.0, 500001.0, 500001.0, 500001.0, 500001.0, 500001.0, 500001.0, 500001.0, 500001.0, 500001.0, 500001.0, 500001.0, 125000.0, 500001.0, 500001.0, 500001.0, 500001.0, 500001.0, 500001.0, 500001.0, 500001.0, 500001.0, 500001.0, 500001.0, 500001.0, 500001.0, 500001.0, 500001.0, 500001.0, 500001.0, 500001.0, 500001.0, 500001.0, 500001.0, 500001.0, 500001.0, 500001.0, 500001.0, 500001.0, 500001.0, 500001.0, 500001.0, 500001.0, 500001.0, 500001.0, 500001.0, 500001.0, 500001.0, 500001.0, 500001.0, 500001.0, 500001.0, 500001.0, 500001.0, 500001.0, 500001.0, 500001.0, 500001.0, 500001.0, 500001.0, 500001.0, 500001.0, 500001.0, 500001.0, 500001.0, 500001.0, 500001.0, 500001.0, 500001.0, 500001.0, 500001.0, 500001.0, 500001.0, 500001.0, 500001.0, 500001.0, 500001.0, 500001.0, 500001.0, 500001.0, 500001.0, 500001.0, 500001.0, 500001.0, 500001.0, 500001.0, 500001.0, 500001.0, 500001.0, 500001.0, 500001.0, 500001.0, 500001.0, 500001.0, 71300.0, 500001.0, 500001.0, 500001.0, 500001.0, 500001.0, 500001.0, 500001.0, 500001.0, 500001.0, 500001.0, 500001.0, 500001.0, 500001.0, 265500.0, 500001.0, 500001.0, 350000.0, 500001.0, 500001.0, 500001.0, 500001.0, 500001.0, 500001.0, 500001.0, 500001.0, 500001.0, 500001.0, 500001.0, 500001.0, 500001.0, 500001.0, 500001.0, 500001.0, 500001.0, 500001.0, 500001.0, 500001.0, 500001.0, 500001.0, 500001.0, 500001.0, 500001.0, 500001.0, 500001.0, 500001.0, 500001.0, 500001.0, 500001.0, 500001.0, 500001.0, 500001.0, 500001.0, 500001.0, 500001.0, 500001.0, 500001.0, 500001.0, 500001.0, 500001.0, 500001.0, 500001.0, 500001.0, 500001.0, 500001.0, 500001.0, 500001.0, 500001.0, 500001.0, 500001.0, 500001.0, 500001.0, 500001.0, 500001.0, 500001.0, 500001.0, 500001.0, 500001.0, 500001.0, 500001.0, 500001.0, 500001.0, 500001.0, 500001.0, 500001.0, 500001.0, 500001.0, 500001.0, 500001.0, 500001.0, 500001.0, 500001.0, 500001.0, 500001.0, 500001.0, 500001.0, 500001.0, 500001.0, 500001.0, 500001.0, 500001.0, 112500.0, 500001.0, 500001.0, 500001.0, 500001.0, 500001.0, 500001.0, 500001.0, 500001.0, 500001.0, 500001.0, 500001.0, 500001.0, 500001.0, 500001.0, 500001.0, 500001.0, 500001.0, 500001.0, 500001.0, 500001.0, 500001.0, 500001.0, 500001.0, 500001.0, 500001.0, 234800.0, 500001.0, 500001.0, 500001.0, 500001.0, 500001.0, 500001.0, 500001.0, 500001.0, 500001.0, 500001.0, 500001.0, 500001.0, 500001.0, 500001.0, 500001.0, 500001.0, 500001.0, 500001.0, 500001.0, 500001.0, 500001.0, 500001.0, 500001.0, 500001.0, 500001.0, 500001.0, 500001.0, 500001.0, 500001.0, 500001.0, 500001.0, 500001.0, 500001.0, 500001.0, 500001.0, 500001.0, 500001.0, 500001.0, 500001.0, 500001.0, 500001.0, 500001.0, 500001.0, 500001.0, 500001.0, 500001.0, 500001.0, 500001.0, 500001.0, 500001.0, 500001.0, 500001.0, 500001.0, 500001.0, 500001.0, 500001.0, 500001.0, 400000.0, 500001.0, 500001.0, 500001.0, 500001.0, 500001.0, 500001.0, 500001.0, 500001.0, 500001.0, 500001.0, 500001.0, 500001.0, 500001.0, 500001.0, 500001.0, 500001.0, 500001.0, 500001.0, 500001.0, 500001.0, 500001.0, 500001.0, 500001.0, 500001.0, 500001.0, 500001.0, 500001.0, 500001.0, 500001.0, 500001.0, 500001.0, 500001.0, 500001.0, 500001.0, 500001.0, 500001.0, 500001.0, 500001.0, 500001.0, 500001.0, 500001.0, 500001.0, 500001.0, 500001.0, 500001.0, 500001.0, 500001.0, 500001.0, 500001.0, 500001.0, 500001.0, 500001.0, 500001.0, 500001.0, 500001.0, 500001.0, 500001.0, 500001.0, 500001.0, 500001.0, 500001.0, 500001.0, 500001.0, 500001.0, 500001.0, 500001.0, 500001.0, 500001.0, 500001.0, 500001.0, 500001.0, 500001.0, 500001.0, 500001.0, 500001.0, 500001.0, 500001.0, 500001.0, 500001.0, 500001.0, 500001.0, 500001.0, 500001.0, 500001.0, 500001.0, 500001.0, 500001.0, 500001.0, 500001.0, 500001.0, 500001.0, 500001.0, 500001.0, 500001.0, 500001.0, 500001.0, 500001.0, 500001.0, 500001.0, 500001.0, 500001.0, 500001.0, 500001.0, 500001.0, 500001.0, 500001.0, 500001.0, 500001.0, 500001.0, 500001.0, 500001.0, 500001.0, 500001.0, 500001.0, 500001.0, 500001.0, 500001.0, 500001.0, 500001.0, 500001.0, 500001.0, 500001.0, 500001.0, 500001.0, 500001.0, 500001.0, 500001.0, 500001.0, 500001.0, 500001.0, 500001.0, 500001.0, 500001.0, 500001.0, 500001.0, 500001.0, 500001.0, 500001.0, 500001.0, 500001.0, 500001.0, 500001.0, 500001.0, 500001.0, 500001.0, 500001.0, 500001.0, 500001.0, 500001.0, 500001.0, 500001.0, 500001.0, 500001.0, 500001.0, 500001.0, 500001.0, 500001.0, 500001.0, 500001.0, 500001.0, 500001.0, 500001.0, 500001.0, 112500.0, 500001.0, 500001.0, 500001.0, 500001.0, 500001.0, 500001.0, 500001.0, 500001.0, 500001.0, 500001.0, 500001.0, 500001.0, 500001.0, 500001.0, 500001.0, 500001.0, 500001.0, 500001.0, 500001.0, 500001.0, 500001.0, 500001.0, 500001.0, 500001.0, 500001.0, 500001.0, 500001.0, 500001.0, 500001.0, 500001.0, 500001.0, 500001.0, 500001.0, 500001.0, 500001.0, 500001.0, 500001.0, 500001.0, 500001.0, 500001.0, 500001.0, 500001.0, 500001.0, 500001.0, 500001.0, 500001.0, 500001.0, 500001.0, 500001.0, 500001.0, 500001.0, 300000.0, 500001.0, 500001.0, 500001.0, 500001.0, 500001.0, 500001.0, 500001.0, 500001.0, 500001.0, 500001.0, 500001.0, 500001.0, 500001.0, 500001.0, 500001.0, 500001.0, 500001.0, 500001.0, 500001.0, 500001.0, 500001.0, 500001.0, 500001.0, 500001.0, 500001.0, 500001.0, 500001.0, 500001.0, 500001.0, 500001.0, 500001.0, 500001.0, 500001.0, 500001.0, 500001.0, 500001.0, 500001.0, 500001.0, 500001.0, 500001.0, 500001.0, 500001.0, 500001.0, 500001.0, 500001.0, 500001.0, 500001.0, 500001.0, 500001.0, 500001.0, 500001.0, 500001.0, 500001.0, 500001.0, 60000.0, 500001.0, 500001.0, 500001.0, 500001.0, 500001.0, 500001.0, 500001.0, 500001.0, 500001.0, 500001.0, 500001.0, 500001.0, 500001.0, 500001.0, 500001.0, 500001.0, 500001.0, 500001.0, 500001.0, 500001.0, 500001.0, 500001.0, 500001.0, 500001.0, 500001.0, 500001.0, 500001.0, 500001.0, 500001.0, 500001.0, 500001.0, 500001.0, 500001.0, 500001.0, 500001.0, 500001.0, 500001.0, 500001.0, 500001.0, 500001.0, 500001.0, 500001.0, 500001.0, 500001.0, 500001.0, 500001.0, 500001.0, 500001.0, 500001.0, 500001.0, 500001.0, 500001.0, 500001.0, 500001.0, 500001.0, 500001.0, 500001.0]\n"
     ]
    }
   ],
   "source": [
    "# metrics\n",
    "\n",
    "y_true =  list(Y_test)\n",
    "y_pred = list(random_forest.predict(X_test))\n",
    "\n",
    "\n",
    "\n",
    "print('Valores:\\n')\n",
    "print('originales:\\n ', y_true)\n",
    "print('\\npredicho: \\n  ', y_pred)"
   ]
  },
  {
   "cell_type": "code",
   "execution_count": 119,
   "metadata": {},
   "outputs": [
    {
     "name": "stdout",
     "output_type": "stream",
     "text": [
      "\n",
      "Matriz de confusion:\n",
      " \n",
      "[[  0   0   0 ...   0   0   1]\n",
      " [  0   0   0 ...   0   0   1]\n",
      " [  0   0   0 ...   0   0   0]\n",
      " ...\n",
      " [  0   0   0 ...   0   0   1]\n",
      " [  0   0   0 ...   0   0   5]\n",
      " [  0   0   0 ...   0   0 175]]\n"
     ]
    }
   ],
   "source": [
    "print('\\nMatriz de confusion:\\n ')\n",
    "print(confusion_matrix(y_true,y_pred))"
   ]
  },
  {
   "cell_type": "code",
   "execution_count": 125,
   "metadata": {},
   "outputs": [
    {
     "name": "stdout",
     "output_type": "stream",
     "text": [
      "\n",
      "Metricas para los regresores:\n",
      "\n"
     ]
    },
    {
     "name": "stderr",
     "output_type": "stream",
     "text": [
      "C:\\Users\\Javiera\\anaconda3\\lib\\site-packages\\sklearn\\metrics\\_classification.py:1245: UndefinedMetricWarning: Recall is ill-defined and being set to 0.0 in labels with no true samples. Use `zero_division` parameter to control this behavior.\n",
      "  _warn_prf(average, modifier, msg_start, len(result))\n",
      "C:\\Users\\Javiera\\anaconda3\\lib\\site-packages\\sklearn\\metrics\\_classification.py:1245: UndefinedMetricWarning: Precision is ill-defined and being set to 0.0 in labels with no predicted samples. Use `zero_division` parameter to control this behavior.\n",
      "  _warn_prf(average, modifier, msg_start, len(result))\n"
     ]
    },
    {
     "data": {
      "text/html": [
       "<div>\n",
       "<style scoped>\n",
       "    .dataframe tbody tr th:only-of-type {\n",
       "        vertical-align: middle;\n",
       "    }\n",
       "\n",
       "    .dataframe tbody tr th {\n",
       "        vertical-align: top;\n",
       "    }\n",
       "\n",
       "    .dataframe thead th {\n",
       "        text-align: right;\n",
       "    }\n",
       "</style>\n",
       "<table border=\"1\" class=\"dataframe\">\n",
       "  <thead>\n",
       "    <tr style=\"text-align: right;\">\n",
       "      <th></th>\n",
       "      <th>accuracy</th>\n",
       "      <th>recall</th>\n",
       "      <th>precision</th>\n",
       "      <th>fscore</th>\n",
       "    </tr>\n",
       "  </thead>\n",
       "  <tbody>\n",
       "    <tr>\n",
       "      <th>0</th>\n",
       "      <td>0.0436</td>\n",
       "      <td>0.0005</td>\n",
       "      <td>0.0002</td>\n",
       "      <td>0.0001</td>\n",
       "    </tr>\n",
       "  </tbody>\n",
       "</table>\n",
       "</div>"
      ],
      "text/plain": [
       "   accuracy  recall  precision  fscore\n",
       "0    0.0436  0.0005     0.0002  0.0001"
      ]
     },
     "execution_count": 125,
     "metadata": {},
     "output_type": "execute_result"
    }
   ],
   "source": [
    "# ejemplo \n",
    "df_temp = pd.DataFrame(\n",
    "    {\n",
    "        'y':y_true,\n",
    "        'yhat':y_pred\n",
    "        }\n",
    ")\n",
    "\n",
    "df_metrics = summary_metrics(df_temp)\n",
    "print(\"\\nMetricas para los regresores:\")\n",
    "print(\"\")\n",
    "df_metrics"
   ]
  },
  {
   "cell_type": "markdown",
   "metadata": {},
   "source": [
    "Conclusiones: por alguna razón que no comprendo, las métricas que dan son muy malas por lo que me cuesta concluir algo. "
   ]
  }
 ],
 "metadata": {
  "kernelspec": {
   "display_name": "Python 3",
   "language": "python",
   "name": "python3"
  },
  "language_info": {
   "codemirror_mode": {
    "name": "ipython",
    "version": 3
   },
   "file_extension": ".py",
   "mimetype": "text/x-python",
   "name": "python",
   "nbconvert_exporter": "python",
   "pygments_lexer": "ipython3",
   "version": "3.8.8"
  },
  "latex_envs": {
   "LaTeX_envs_menu_present": true,
   "autoclose": false,
   "autocomplete": true,
   "bibliofile": "biblio.bib",
   "cite_by": "apalike",
   "current_citInitial": 1,
   "eqLabelWithNumbers": true,
   "eqNumInitial": 1,
   "hotkeys": {
    "equation": "Ctrl-E",
    "itemize": "Ctrl-I"
   },
   "labels_anchors": false,
   "latex_user_defs": false,
   "report_style_numbering": false,
   "user_envs_cfg": false
  }
 },
 "nbformat": 4,
 "nbformat_minor": 4
}
